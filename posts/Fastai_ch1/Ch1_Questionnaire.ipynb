{
 "cells": [
  {
   "cell_type": "raw",
   "id": "54eb6015-2530-45e5-9a22-8fb77bfc04d1",
   "metadata": {},
   "source": [
    "---\n",
    "title: \"Chapter 1: Questionnaire and Further Research\"\n",
    "author: \"Ismail TG\"\n",
    "date: \"10/25/2022\"\n",
    "categories: [Fastai, Pytorch, Deep Learning]\n",
    "image: \"fastai-book-2.jpg\"\n",
    "---"
   ]
  },
  {
   "cell_type": "markdown",
   "id": "fff0979f",
   "metadata": {},
   "source": [
    "## Questionnaire"
   ]
  },
  {
   "cell_type": "markdown",
   "id": "4a9e6f51",
   "metadata": {},
   "source": [
    "### Q1"
   ]
  },
  {
   "cell_type": "markdown",
   "id": "6eb0bc39",
   "metadata": {},
   "source": [
    "**Do you need these for deep learning?**\n",
    "\n",
    "   - Lots of math \n",
    "       * False\n",
    "   - Lots of data  \n",
    "       * False\n",
    "   - Lots of expensive computers  \n",
    "       * False\n",
    "   - A PhD  \n",
    "       * False\n"
   ]
  },
  {
   "cell_type": "markdown",
   "id": "5043f6ee",
   "metadata": {},
   "source": [
    "### Q2"
   ]
  },
  {
   "cell_type": "markdown",
   "id": "da9468bc",
   "metadata": {},
   "source": [
    "**Name five areas where deep learning is now the best in the world.**  \n",
    "\n",
    "* Medical research\n",
    "* Robotics\n",
    "* Assurance \n",
    "* Linguistics/ Natural Lunguage Processing\n",
    "* Biology"
   ]
  },
  {
   "cell_type": "markdown",
   "id": "6f0f8cdc",
   "metadata": {},
   "source": [
    "### Q3"
   ]
  },
  {
   "cell_type": "markdown",
   "id": "d00853ea",
   "metadata": {},
   "source": [
    "**What was the name of the first device that was based on the principle of the artificial neuron?**\n",
    "\n",
    "   - Percepton"
   ]
  },
  {
   "cell_type": "markdown",
   "id": "46589a27",
   "metadata": {},
   "source": [
    "### Q4  \n",
    "**Based on the book of the same name, what are the requirements for parallel distributed processing (PDP)?**  \n",
    "\n",
    "   - Set of processing units  \n",
    "   - A state of activation  \n",
    "   - An output function for each unit  \n",
    "   - Pattern of connectivity among units  \n",
    "   - Propagation rule for propagating patterns of activities through the network of connectivities  \n",
    "   - An activation rule for combining the inputs impinging on a unit with the current state of that unit to produce an output for the unit  \n",
    "   - Learning rule whereby patterns of connectivity are modified by experience  \n",
    "   - An environment within which the system must operate\n",
    "\n"
   ]
  },
  {
   "cell_type": "markdown",
   "id": "7096c751",
   "metadata": {},
   "source": [
    "### Q5\n",
    "**What were the two theoretical misunderstandings that held back the field of neural networks?**  \n",
    "\n",
    "Minsky in his book Perceptons shows the limitation of the device \"perceptons\" and how it cannot solve any comlex problem, the ai community did agreed with Minsky, but the did not pay attention to the solution he suggested, which is a 2 layer model.  \n",
    "In 80's the 2 layer models were usual in ai labs. In theory a 2 layer model can solve any problem, but in practice the layers were too big and consum a lot of computation power, the solution to this is to add more layers, but this insight was not acknowledged, what leat to the 2 winter of NN."
   ]
  },
  {
   "cell_type": "markdown",
   "id": "a5dc15a4",
   "metadata": {},
   "source": [
    "### Q6  \n",
    "**What is a GPU?**  \n",
    "\n",
    "It's a Graphic Prossessing Unit, which is used to do many computation tasks in parallel, which help to accelerate to compution of big tasks by cutting them into small tasks and compute them in parallel"
   ]
  },
  {
   "cell_type": "markdown",
   "id": "54e4c53c",
   "metadata": {},
   "source": [
    "### Q7 \n",
    "**Why is it hard to use a traditional computer program to recognize images in a photo?**  \n",
    "\n",
    "to write a programm that recognize images in a photo we need to write a long set of rules that resume any possible photo and image, tell the computer exactly how to deal with any of them, which is way more complicated that what we can do. That's way we use machine learning to solve those kinfd of problems, just by showing the model data and help it to learn from it.\n"
   ]
  },
  {
   "attachments": {
    "701d716d473b29722bb281c77e661cb1f63e94b8.jpeg": {
     "image/jpeg": "[encoded data removed]"
    }
   },
   "cell_type": "markdown",
   "id": "a96e7312",
   "metadata": {},
   "source": [
    "### Q8-9-10\n",
    "**What did Samuel mean by “Weight Assignment”?**  \n",
    "\n",
    "**What term do we normally use in deep learning for what Samuel called “Weights”?**  \n",
    "\n",
    "**Draw a picture that summarizes Arthur Samuel’s view of a machine learning model**  \n",
    "\n",
    "\n",
    "\n",
    "weight Assignment is refer to the parameters of the model, these are what we call today weights and bias.\n",
    "they are set of value we assign to each data point, what make the optimization of the loss possible.![701d716d473b29722bb281c77e661cb1f63e94b8.jpeg](3.png)\n",
    "\n"
   ]
  },
  {
   "cell_type": "markdown",
   "id": "dbfedd94",
   "metadata": {},
   "source": [
    "### Q11\n",
    "\n",
    "**Why is it hard to understand why a deep learning model makes a particular prediction?**  \n",
    "\n",
    "This is a highly-researched topic known as **interpretability of deep learning models**. the natur of deep learning \"deep\" make it hard to really understand the way the model solve each problem, specially if the model has many layers, what makes it even hard to know exactly which layer is responsable of the procces of learning which part.\n"
   ]
  },
  {
   "cell_type": "markdown",
   "id": "c6b9f367",
   "metadata": {},
   "source": [
    "### Q12\n",
    "**What is the name of the theorem that shows that a neural network can solve any mathematical problem to any level of accuracy?**  \n",
    "Universal approximation theorem \n"
   ]
  },
  {
   "cell_type": "markdown",
   "id": "b4da47a3",
   "metadata": {},
   "source": [
    "### Q13\n",
    "**What do you need in order to train a model?**  \n",
    "\n",
    "In order to train a model, we need architecture for the given problem, we first need data(+labels), then we need set of values (paramaters), then we need some kind of metric  to know if our model did good or bad (loss function), and we need a way to updates these parameters in order to optimize the loss function."
   ]
  },
  {
   "cell_type": "markdown",
   "id": "ff2283e4",
   "metadata": {},
   "source": [
    "### Q14\n",
    "**How could a feedback loop impact the rollout of a predictive policing model?**  \n",
    "\n",
    "In a predictive policing model, we might end up with a positive feedback loop, leading to a highly biased model with little predictive power. For example, we may want a model that would predict crimes, but we use information on arrests as a proxy . However, this data itself is slightly biased due to the biases in existing policing processes. Training with this data leads to a biased model. Law enforcement might use the model to determine where to focus police activity, increasing arrests in those areas. These additional arrests would be used in training future iterations of models, leading to an even more biased model. This cycle continues as a positive feedback loop"
   ]
  },
  {
   "cell_type": "markdown",
   "id": "0b2876c7",
   "metadata": {},
   "source": [
    "### Q15\n",
    "\n",
    "**Do we always have to use 224x224 pixel images with the cat recognition model?**  \n",
    "No.\n"
   ]
  },
  {
   "cell_type": "markdown",
   "id": "5b375a5c",
   "metadata": {},
   "source": [
    "### Q16\n",
    "\n",
    "**What is the difference between classification and regression?**  \n",
    "Classification problem is when we need to decide between 2(or more) classes, the prediction in this problem isn't quantity, where regression problem is focused on predecting numeric quantity.\n"
   ]
  },
  {
   "cell_type": "markdown",
   "id": "aaa0ca8d",
   "metadata": {},
   "source": [
    "### Q17\n",
    "**What is a validation set? What is a test set? Why do we need them?**  \n",
    "Validation set is small portion of the data set that we preserve from the training fase in order to prevent the model from memorizing the data instead of learning from it. The validation set allow us to measure the performance of the model on data that the model didn't see before. Same we can say about test set, which is another preserved protion of data that we use in the final fase of the training in order to have a real idea of model performance."
   ]
  },
  {
   "cell_type": "markdown",
   "id": "2feede2e",
   "metadata": {},
   "source": [
    "### Q18\n",
    "\n",
    "**What will fastai do if you don’t provide a validation set?**  \n",
    "it will automatically create a validation set of 20% of our dataset.  \n",
    "`valid_pct=0.2`\n"
   ]
  },
  {
   "cell_type": "markdown",
   "id": "b516f2b0",
   "metadata": {},
   "source": [
    "### Q19\n",
    "\n",
    "**What is overfitting?**  \n",
    "\n",
    "is when the model is memorizing answears instead of learning from data.\n"
   ]
  },
  {
   "cell_type": "markdown",
   "id": "258c138f",
   "metadata": {},
   "source": [
    "### Q20\n",
    "\n",
    "**What is a metric? How does it differ to “loss”?**\n",
    "\n",
    "Metric is what tells us how the model perform, in other way the loss is what we should minimize in order to optimize the model perfromance.as we will see later, sometimes, we could use the metric as loss.\n"
   ]
  },
  {
   "cell_type": "markdown",
   "id": "626bfb17",
   "metadata": {},
   "source": [
    "### Q21\n",
    "**How can pretrained models help?**  \n",
    "pertrained model can be used again, we just need to fin it in our probem.  \n",
    "a pretrained model is a model that learned many lesson from the prior problem, and already has good set of paramters, these parameters(weights+biases) are what we seek in the proccess of using a pretrained model. this procces is called fine-tunning, which mean less money and time consuming."
   ]
  },
  {
   "cell_type": "markdown",
   "id": "c7cd5c3f",
   "metadata": {},
   "source": [
    "### Q22 \n",
    "\n",
    "**What is the “head” of a model?**  \n",
    "\n",
    "When using a pretrained model, the later layers of the model, which were useful for the task that the model was originally trained on, are replaced with one or more new layers with randomized weights, of an appropriate size for the dataset you are working with. These new layers are called the “head” of the model.\n"
   ]
  },
  {
   "cell_type": "markdown",
   "id": "00873cbe",
   "metadata": {},
   "source": [
    "### Q23\n",
    "\n",
    "**What is an “architecture”?**\n",
    "\n",
    "\n",
    "The architecture is the template or structure of the model we are trying to fit. It defines the mathematical model we are trying to fit.\n",
    "\n"
   ]
  },
  {
   "cell_type": "markdown",
   "id": "e7f6d4c0",
   "metadata": {},
   "source": [
    "### Q24\n",
    "\n",
    "\n",
    "**What are “hyperparameters”?**  \n",
    "\n",
    "\n",
    "Training models requires various other parameters that define how the model is trained. For example, we need to define how long we train for, or what learning rate (how fast the model parameters are allowed to change) is used. These sorts of parameters are hyperparameters.\n",
    "\n"
   ]
  },
  {
   "cell_type": "markdown",
   "id": "e36111c4-8a9a-45cd-aab5-f546525ed34d",
   "metadata": {},
   "source": [
    "## Further Research"
   ]
  },
  {
   "cell_type": "markdown",
   "id": "aed9672f-3bf7-4391-b1ec-dfc508f4ab3e",
   "metadata": {},
   "source": [
    "1. Why is a GPU useful for deep learning? How is a CPU different, and why is it less effective for deep learning?\n"
   ]
  },
  {
   "cell_type": "markdown",
   "id": "c814d1a6-5dbe-4c4f-927f-1006ab016e2a",
   "metadata": {},
   "source": [
    "## What is a GPU? What make it different from CPU? and Why do we need it to do Deep Learning tasks:"
   ]
  },
  {
   "cell_type": "markdown",
   "id": "985911e8-91c1-4490-b7b9-1cedb5cd7e04",
   "metadata": {},
   "source": [
    "* GPU stands for Graphic Processing Unit, is a specialized processor with dedicated memory that conventionally perform floating point operations required for rendering graphics.\n",
    "* In other words, it's a single-chip processor used for extensive graphical and mathematical computations which help the CPU to achieve other tasks.\n",
    "* While CPU is designed to handel the complex logic in code once at a time, GPU can do many small operations at the same time, which make it very convenient to deep learning where we need to do many milions of calculations in order to train a model\n"
   ]
  },
  {
   "cell_type": "markdown",
   "id": "163b6d50-5884-4dec-b243-fdc3b5d90380",
   "metadata": {},
   "source": [
    "### Why do Deep Learning needs GPU?"
   ]
  },
  {
   "cell_type": "markdown",
   "id": "7d2b9264-545c-4d93-95a1-2f7b427cecb8",
   "metadata": {},
   "source": [
    "* GPUs are optimized for training neural networks models as they can process multiple computations simultaneously.\n",
    "* For example the model we've fine-tuned in chapter one **resnet18** which the smaller version of **resnet** models with only 18 hidden layers,though it has more than 11 millions parameters, in order to do one epoch and calculate all these parameter (wights + biases) and multiply them by the input variables (images) then do the **Back-probagation** and update them after calculating the loss ... all this multiplications will take a large amount of time if we did it on CPU."
   ]
  },
  {
   "cell_type": "code",
   "execution_count": null,
   "id": "fd08bb00-a6fa-4011-aff8-d7786bbf46ea",
   "metadata": {},
   "outputs": [],
   "source": []
  }
 ],
 "metadata": {
  "kernelspec": {
   "display_name": "Python 3 (ipykernel)",
   "language": "python",
   "name": "python3"
  },
  "language_info": {
   "codemirror_mode": {
    "name": "ipython",
    "version": 3
   },
   "file_extension": ".py",
   "mimetype": "text/x-python",
   "name": "python",
   "nbconvert_exporter": "python",
   "pygments_lexer": "ipython3",
   "version": "3.12.7"
  }
 },
 "nbformat": 4,
 "nbformat_minor": 5
}

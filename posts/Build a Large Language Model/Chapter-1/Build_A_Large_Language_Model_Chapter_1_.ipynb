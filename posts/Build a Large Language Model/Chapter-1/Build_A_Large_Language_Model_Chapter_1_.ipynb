{
 "cells": [
  {
   "cell_type": "raw",
   "metadata": {},
   "source": [
    "---\n",
    "title: \"Chapter 1: Build a Large Language Model \"\n",
    "author: \"Ismail TG\"\n",
    "date: \"11/14/2024\"\n",
    "categories: [LLM, Deep Learning, ]\n",
    "image: \"book_cover.jpg\"\n",
    "---"
   ]
  },
  {
   "cell_type": "markdown",
   "metadata": {
    "id": "G4l41m48EiG0"
   },
   "source": [
    "# Introduction:\n",
    "In this series on notebooks I will share my learning/note-taking of the book [**Build a Large Lunguage Model(From Scratch)**](https://www.amazon.com/Build-Large-Language-Model-Scratch/dp/1633437167) by the Author [**Sebastian Raschka**](https://x.com/rasbt)."
   ]
  },
  {
   "cell_type": "markdown",
   "metadata": {
    "id": "DvudVxpYM9YO"
   },
   "source": [
    "## Structure of the Book:\n",
    "\n",
    "```\n",
    "\n",
    "\n",
    "├── chapters  \n",
    "│   ├── chapter1_understanding_LLMs: high-level introduction to the fundamental concepts behind LLMs.  \n",
    "│   ├── chapter2_text_data: It covers the process ofpreparing text for LLM training, including splitting text into word and subword tokens.  \n",
    "│   ├── chapter3_attention_mechanisms:  It introduces a basicself-attention framework and progresses to an enhanced self-attention mechanism.  \n",
    "│   ├── chapter4_GPT_model: focuses on coding a GPT-like LLM that can be trained to generatehuman-like text.  \n",
    "│   ├── chapter5_pretraining: implements the pretraining process of LLMs.  \n",
    "│   ├── chapter6_text_classification:  introduces different LLM fine-tuning approaches.  \n",
    "│   ├── chapter7_instruction_following:  explores the instruction fine-tuning process of LLMs.  \n",
    "└──  \n",
    "```"
   ]
  },
  {
   "cell_type": "markdown",
   "metadata": {
    "id": "_-3aj7ZjEibI"
   },
   "source": [
    "\n",
    "* The aim of this chapter is to introduce the foundational concepts of large language models (LLMs) and the advancements in deep learning that made them possible\n",
    "  - this chapter doesn't contain any code.\n",
    "* Large language models (LLMs), like OpenAI's ChatGPT, are deep neural networks that revolutionized natural language processing (NLP) in recent years.\n",
    "* Traditional NLP methods excelled in tasks like spam classification and simple pattern recognition but struggled with complex tasks requiring advanced understanding and generation abilities.\n",
    "* Contemporary LLMs can handle sophisticated language tasks, such as writing an email from keywords, which was challenging for earlier models.\n",
    "\n",
    "* When we say language models \"understand,\" we mean they can produce text that seems coherent and contextually appropriate, not that they have human-like awareness or true comprehension.\n",
    "\n",
    "* The transformer architecture and large datasets have driven the shift in NLP, enabling more advanced language understanding and interaction.\n",
    "\n",
    "\n",
    "### What's an LLM:\n",
    "\n",
    "* LLM's are neural network designed to understand and produce huma-like text.\n",
    "* Large in LLM refer to the size of the datasets those model trained on, but also on the size of parameters ( 100's of billions)\n",
    "  - Parameters are adjusted weights during training to predict next word in sentence.\n",
    "* The architecture of an LLM is called `transformers` which apply the `attention mechanism` to different parts of the input while performing the next word prediction.\n",
    "### Applications of LLM's:\n",
    "* LLM's can be used in many contexts to perform different tasks:\n",
    "  - machine translation\n",
    "  - sentiments analysis\n",
    "  - text generation  \n",
    "  ..\n",
    "\n",
    "  "
   ]
  },
  {
   "cell_type": "markdown",
   "metadata": {
    "id": "NHMsK4o9EieN"
   },
   "source": [
    "### Stages of building and using LLMs:\n",
    "\n",
    "* Building LLM form scratch allow us to understand the **mechanics** and **limitations** of language models, and provide us with skills set required for pretraining or fine-tuning phase.\n",
    "* Custom-built LLM outperform general purpose one.\n",
    "   - Many companies prefer to build their own domain-specific llm to keep their private data in-home and not share it with third party.\n",
    "   - developing small lm open the door for deployment on devices like laptops or even mobiles rather than huge servers.\n",
    "* creating LLM is a process where pre-training and fine-tuning takes place.\n",
    "    - `pre` indicates that it is the first phase, model is trained on huge chunk of data where it learns basic knowledge and broad pattern of the language.\n",
    "    - the `fine-tuning` phase is where the model get further training but on very specific task and get its knowledge narrowed.\n",
    "* Fine-tuning can be devised in 2 category:\n",
    "    - **Instruction fine-tuning**: where the model get trained one pair of **instruction => output** dataset.\n",
    "    - Where **classification tuning** the data consist of text and associated class label.\n",
    "\n",
    "### Introducing the Transformer architecture:\n",
    "\n",
    "* All modern LLM rely on **Transformer** architecture which was presented for the first time in [this](https://arxiv.org/abs/1706.03762) famous paper: **Attention is all you need**.\n",
    "* Transformer consist of two submodal: 1-encoder and 2-decoder.\n",
    "      - encoder module process the input text into some numerical representation that capture meaning.  \n",
    "      - decoder uses the numerical values and generate text  \n",
    "* the key component of the transformer architecture is attention mechanism, we will talk about it later.\n",
    "* **Transformer Variants**:  \n",
    "      - Models like BERT and GPT are based on the original transformer architecture but adapt it for different tasks.  \n",
    "      - **BERT’s Training Strategy**: BERT uses a masked word prediction approach, where it predicts missing words in a sentence, making it suitable for tasks like text classification and sentiment analysis.  \n",
    "      - **GPT vs. BERT**: GPT is designed for generative tasks, whereas BERT excels in tasks requiring understanding of context, like sentiment prediction and document categorization.  \n",
    "      - **BERT’s Real-world Application**: Platforms like X (formerly Twitter) use BERT for tasks such as detecting toxic content.\n",
    "* **GPT Focus**: GPT utilizes the *Decoder* portion of the transformer architecture and is designed for text generation tasks.\n",
    "* **Zero-shot and Few-shot Learning**: GPT models excel in zero-shot learning, meaning they can handle tasks without specific prior examples. They also perform well in few-shot learning, where they learn from a small number of provided examples.\n",
    "\n",
    "* **Versatility**: While GPT models are optimized for text completion, they exhibit broad adaptability and can tackle a wide range of tasks, showcasing their flexibility in natural language processing.\n",
    "\n",
    "\n",
    "\n",
    "\n",
    "\n",
    "\n",
    "  \n",
    "\n",
    "\n",
    "\n",
    "\n",
    "\n",
    "\n",
    "\n",
    "\n",
    "\n",
    "\n",
    "\n",
    "\n",
    "\n",
    "      "
   ]
  },
  {
   "cell_type": "markdown",
   "metadata": {
    "id": "BdlAukq0Eihg"
   },
   "source": [
    "### Utilizing large datasets:\n",
    "\n",
    "* Diverse Training Data: Large datasets used for training GPT- and BERT-like models contain billions of words, covering a broad range of topics and languages (both natural and programming).\n",
    "\n",
    "* Comprehensive Corpus: These datasets are designed to ensure comprehensive exposure to diverse linguistic and contextual patterns.\n",
    "\n",
    "### A closer look at the GPT architecture:\n",
    "\n",
    "* GPT Origin: GPT was introduced in the paper [Improving Language Understanding](https://mng.bz/x2qg) by Generative Pre-Training by Radford et al. from OpenAI.\n",
    "\n",
    "* GPT-3: A scaled-up version of the original GPT with more parameters and a larger training dataset.\n",
    "\n",
    "* ChatGPT’s Base Model: The initial ChatGPT model was derived by fine-tuning GPT-3 on a large instruction dataset, using methods from OpenAI’s InstructGPT paper.\n",
    "\n",
    "* Model Versatility: Despite being trained on a simple next-word prediction task, GPT models excel in various tasks like text completion, spelling correction, classification, and language translation.\n",
    "\n",
    "* Self-Supervised Learning: The next-word prediction task is a type of self-supervised learning, where the model uses the structure of the data itself for training.\n",
    "\n",
    "* Label Creation: Labels are generated dynamically, with the next word in a sentence or document serving as the prediction target.\n",
    "\n",
    "* Training on Massive Datasets: This approach enables the use of large, unlabeled text datasets for training, as explicit labeling of data is unnecessary.\n",
    "\n",
    "\n",
    "\n",
    "\n",
    "\n",
    "\n",
    "\n",
    "\n",
    "\n",
    "\n",
    "\n",
    "\n",
    "\n",
    "\n",
    "\n",
    "\n",
    "\n",
    "\n",
    "\n"
   ]
  },
  {
   "cell_type": "markdown",
   "metadata": {
    "id": "Gm4eNkBPEik4"
   },
   "source": [
    "### Building a large language model:\n",
    "\n",
    "* Now we understand the basic theory behind LLM and how they were introduced, its time to build them from scratch.\n",
    "\n"
   ]
  },
  {
   "cell_type": "markdown",
   "metadata": {},
   "source": [
    "![Three main phases of coding an LLM](pic-1.png)\n",
    ">Source: Book: Build A Large Language Model by *Sebastian Raschka*"
   ]
  },
  {
   "cell_type": "code",
   "execution_count": null,
   "metadata": {},
   "outputs": [],
   "source": []
  }
 ],
 "metadata": {
  "colab": {
   "provenance": []
  },
  "kernelspec": {
   "display_name": "Python 3 (ipykernel)",
   "language": "python",
   "name": "python3"
  },
  "language_info": {
   "codemirror_mode": {
    "name": "ipython",
    "version": 3
   },
   "file_extension": ".py",
   "mimetype": "text/x-python",
   "name": "python",
   "nbconvert_exporter": "python",
   "pygments_lexer": "ipython3",
   "version": "3.12.7"
  }
 },
 "nbformat": 4,
 "nbformat_minor": 4
}

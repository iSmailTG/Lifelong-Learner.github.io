{
 "cells": [
  {
   "cell_type": "raw",
   "id": "9c843146-434c-476d-a772-9f51d2dcfe71",
   "metadata": {},
   "source": [
    "---\n",
    "title: \"Chapter 3: Build a Large Language Model \"\n",
    "author: \"Ismail TG\"\n",
    "date: \"12/05/2024\"\n",
    "categories: [LLM, Deep Learning, ]\n",
    "image: \"book_cover.jpg\"\n",
    "---"
   ]
  },
  {
   "cell_type": "code",
   "execution_count": null,
   "id": "8cd9384e-8bf8-4781-8918-b0cfe3e1e939",
   "metadata": {},
   "outputs": [],
   "source": []
  }
 ],
 "metadata": {
  "kernelspec": {
   "display_name": "Python 3 (ipykernel)",
   "language": "python",
   "name": "python3"
  },
  "language_info": {
   "codemirror_mode": {
    "name": "ipython",
    "version": 3
   },
   "file_extension": ".py",
   "mimetype": "text/x-python",
   "name": "python",
   "nbconvert_exporter": "python",
   "pygments_lexer": "ipython3",
   "version": "3.12.7"
  }
 },
 "nbformat": 4,
 "nbformat_minor": 5
}

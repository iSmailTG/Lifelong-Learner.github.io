{
 "cells": [
  {
   "cell_type": "raw",
   "metadata": {},
   "source": [
    "---\n",
    "title: \"Kaggling Tutorial #0: Download A Dataset from Kaggle Using API-Key\"\n",
    "author: \"Ismail TG\"\n",
    "date: \"10/18/2023\"\n",
    "categories: [Kaggle, Colab]\n",
    "image: \"kaggle.png\"\n",
    "---"
   ]
  },
  {
   "cell_type": "markdown",
   "metadata": {
    "id": "jDA1ethPhetH"
   },
   "source": [
    "# How To Download Dataset From Kaggle into Colab NoteBook:\n",
    "\n",
    "\n",
    "* In this mini tutorial we will create a **colab notebook** and download a **Kaggle dataset** using Kaggle API-key.\n",
    "* Having the possibility to work on different Free computing platform, gives us a wide choices to do multiple prototyping in parallel."
   ]
  },
  {
   "cell_type": "markdown",
   "metadata": {
    "id": "fbhGyCs_jNJ8"
   },
   "source": [
    "# Getting the API-Key:\n",
    "\n",
    "* First we need to get **API-Key** form Kaggle website: `settings`:\n",
    "   - [Link](https://www.kaggle.com/settings)\n",
    "\n",
    "* Click on  **`Create New Token`**, it will download a **json** file: `kaggle.json`  \n",
    "![API_Key](pic0.png)\n",
    "* Then we need to upload this file into colab notebook where we will work with the dataset\n",
    "* Here we create a new directory `kaggle` and copy the `kaggle.json` inside:"
   ]
  },
  {
   "cell_type": "code",
   "execution_count": 1,
   "metadata": {
    "id": "iS6G_0Gjiyp0"
   },
   "outputs": [],
   "source": [
    "!mkdir ~/.kaggle"
   ]
  },
  {
   "cell_type": "code",
   "execution_count": 2,
   "metadata": {
    "id": "miz0YfOGliDs"
   },
   "outputs": [],
   "source": [
    "!cp kaggle.json ~/.kaggle"
   ]
  },
  {
   "cell_type": "markdown",
   "metadata": {
    "id": "q4Rz6E37l5-4"
   },
   "source": [
    "* Now we need to modify the permissions and access mode of `kaggle.json`:"
   ]
  },
  {
   "cell_type": "code",
   "execution_count": 3,
   "metadata": {
    "id": "dHFHFVMwl41x"
   },
   "outputs": [],
   "source": [
    "!chmod 600 ~/.kaggle/kaggle.json"
   ]
  },
  {
   "cell_type": "markdown",
   "metadata": {
    "id": "ocgLZj7wmYNA"
   },
   "source": [
    "# Downloading the Dataset:\n",
    "\n",
    "* Since we have all ingredients, we can now download our dataset from kaggle:"
   ]
  },
  {
   "cell_type": "code",
   "execution_count": 4,
   "metadata": {
    "colab": {
     "base_uri": "https://localhost:8080/"
    },
    "id": "LFDJYQbXmVgt",
    "outputId": "8bdfc3bf-8361-4a2f-a243-dee78efe7300"
   },
   "outputs": [
    {
     "name": "stdout",
     "output_type": "stream",
     "text": [
      "Downloading linking-writing-processes-to-writing-quality.zip to /content\n",
      " 90% 97.0M/108M [00:00<00:00, 137MB/s]\n",
      "100% 108M/108M [00:00<00:00, 135MB/s] \n"
     ]
    }
   ],
   "source": [
    "! kaggle competitions download linking-writing-processes-to-writing-quality"
   ]
  },
  {
   "cell_type": "markdown",
   "metadata": {
    "id": "KTNjbJiEmwiM"
   },
   "source": [
    "* The file we get after this command is `.zip` file, which contains all files and datasets we will work with\n",
    "* In order to unzip this file we will use `zipfile`:"
   ]
  },
  {
   "cell_type": "code",
   "execution_count": 5,
   "metadata": {
    "colab": {
     "base_uri": "https://localhost:8080/"
    },
    "id": "OnWmJJu-mrFZ",
    "outputId": "706ef04a-0b58-40b9-aefe-1c01cd4b7a9a"
   },
   "outputs": [
    {
     "name": "stdout",
     "output_type": "stream",
     "text": [
      "File Name                                             Modified             Size\n",
      "sample_submission.csv                          2023-10-02 17:22:24           48\n",
      "test_logs.csv                                  2023-10-02 17:22:24          398\n",
      "train_logs.csv                                 2023-10-02 17:22:30    485679766\n",
      "train_scores.csv                               2023-10-02 17:23:10        32132\n",
      "extraction...\n",
      "Done!\n"
     ]
    }
   ],
   "source": [
    "from zipfile import ZipFile\n",
    "file = 'linking-writing-processes-to-writing-quality.zip'\n",
    "with ZipFile(file, 'r') as zip:\n",
    "\n",
    "    # list all the contents of the zip file\n",
    "    zip.printdir()\n",
    "\n",
    "    # extract all files\n",
    "    print('extraction...')\n",
    "    zip.extractall()\n",
    "    print('Done!')"
   ]
  },
  {
   "cell_type": "markdown",
   "metadata": {
    "id": "JryLVPi7nvQo"
   },
   "source": [
    "# Conclusion:\n",
    "\n",
    "* We succefully download a dataset from Kaggle using API-Key\n",
    "* We can take it from here and apply all kind of data manipulation, EDA, training model on it ..."
   ]
  },
  {
   "cell_type": "code",
   "execution_count": null,
   "metadata": {
    "id": "xbmyEY6snrRa"
   },
   "outputs": [],
   "source": []
  }
 ],
 "metadata": {
  "colab": {
   "provenance": []
  },
  "kernelspec": {
   "display_name": "Python 3 (ipykernel)",
   "language": "python",
   "name": "python3"
  },
  "language_info": {
   "codemirror_mode": {
    "name": "ipython",
    "version": 3
   },
   "file_extension": ".py",
   "mimetype": "text/x-python",
   "name": "python",
   "nbconvert_exporter": "python",
   "pygments_lexer": "ipython3",
   "version": "3.10.12"
  }
 },
 "nbformat": 4,
 "nbformat_minor": 4
}

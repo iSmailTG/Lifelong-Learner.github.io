{
 "cells": [
  {
   "cell_type": "raw",
   "id": "efbc4255-bddd-4f10-8fd8-8827946ecb77",
   "metadata": {},
   "source": [
    "---\n",
    "title: \"Chapter 6: Questionnaire \"\n",
    "author: \"Ismail TG\"\n",
    "date: \"10/29/2022\"\n",
    "categories: [Fastai, Pytorch, Pandas, Deep Learning]\n",
    "image: \"fastai-book-2.jpg\"\n",
    "---"
   ]
  },
  {
   "cell_type": "markdown",
   "id": "ab63419c-e253-41d3-8241-77bad94739c4",
   "metadata": {},
   "source": [
    "Q1:  \n",
    "**How could multi-label classification improve the usability of the bear classifier?**  \n",
    "```\n",
    "Multi-label classfication gives the models in production the ability to return 0 prediction if the user inputs an image that doesn't contains any of the classes we trained the model to predict. In the case of bear classification inference, if we upload an image that doesn't contains any bear, our model still predict  a class.\n",
    "```"
   ]
  },
  {
   "cell_type": "markdown",
   "id": "436a2586-c58f-42c8-92a8-8b61a2a25a11",
   "metadata": {},
   "source": [
    "Q2:  \n",
    "**How do we encode the dependent variable in a multi-label classification problem?**  \n",
    "```\n",
    "In multi-label classification we use One-Hot encoders, which is represented as an list with zeros and ones, where one(s) represent the label of that particular image.\n",
    "```"
   ]
  },
  {
   "cell_type": "markdown",
   "id": "d57ddc8a-18e9-47f8-9893-616df3545aa3",
   "metadata": {},
   "source": [
    "Q3:  \n",
    "**How do you access the rows and columns of a DataFrame as if it was a matrix?**  \n",
    "```\n",
    "We could use .iloc or loc to access any row or colum of a DataFrame\n",
    "```"
   ]
  },
  {
   "cell_type": "markdown",
   "id": "f4789fa9-7e99-4ce1-95bc-035d8006d2c9",
   "metadata": {},
   "source": [
    "Q4:  \n",
    "**How do you get a column by name from a DataFrame?**  \n",
    "\n"
   ]
  },
  {
   "cell_type": "code",
   "execution_count": 1,
   "id": "982269ce-0020-4bed-8130-215776789781",
   "metadata": {},
   "outputs": [],
   "source": [
    "import pandas as pd"
   ]
  },
  {
   "cell_type": "code",
   "execution_count": 2,
   "id": "fb437160-6ce4-4749-a7f0-26454d94b8ba",
   "metadata": {},
   "outputs": [],
   "source": [
    "dic = {'col1':[1, 2, 3], 'col2':[4, 5, 6]}"
   ]
  },
  {
   "cell_type": "code",
   "execution_count": 5,
   "id": "a5124a6f-a9f1-4a9b-b26a-3e7453698901",
   "metadata": {},
   "outputs": [
    {
     "data": {
      "text/html": [
       "<div>\n",
       "<style scoped>\n",
       "    .dataframe tbody tr th:only-of-type {\n",
       "        vertical-align: middle;\n",
       "    }\n",
       "\n",
       "    .dataframe tbody tr th {\n",
       "        vertical-align: top;\n",
       "    }\n",
       "\n",
       "    .dataframe thead th {\n",
       "        text-align: right;\n",
       "    }\n",
       "</style>\n",
       "<table border=\"1\" class=\"dataframe\">\n",
       "  <thead>\n",
       "    <tr style=\"text-align: right;\">\n",
       "      <th></th>\n",
       "      <th>col1</th>\n",
       "      <th>col2</th>\n",
       "    </tr>\n",
       "  </thead>\n",
       "  <tbody>\n",
       "    <tr>\n",
       "      <th>0</th>\n",
       "      <td>1</td>\n",
       "      <td>4</td>\n",
       "    </tr>\n",
       "    <tr>\n",
       "      <th>1</th>\n",
       "      <td>2</td>\n",
       "      <td>5</td>\n",
       "    </tr>\n",
       "    <tr>\n",
       "      <th>2</th>\n",
       "      <td>3</td>\n",
       "      <td>6</td>\n",
       "    </tr>\n",
       "  </tbody>\n",
       "</table>\n",
       "</div>"
      ],
      "text/plain": [
       "   col1  col2\n",
       "0     1     4\n",
       "1     2     5\n",
       "2     3     6"
      ]
     },
     "execution_count": 5,
     "metadata": {},
     "output_type": "execute_result"
    }
   ],
   "source": [
    "df =  pd.DataFrame(dic)\n",
    "df"
   ]
  },
  {
   "cell_type": "code",
   "execution_count": 8,
   "id": "7e32ddb6-9d8d-4cc7-a89e-36a19147b25f",
   "metadata": {},
   "outputs": [
    {
     "data": {
      "text/plain": [
       "0    1\n",
       "1    2\n",
       "2    3\n",
       "Name: col1, dtype: int64"
      ]
     },
     "execution_count": 8,
     "metadata": {},
     "output_type": "execute_result"
    }
   ],
   "source": [
    "# access column by name:\n",
    "df.col1\n"
   ]
  },
  {
   "cell_type": "code",
   "execution_count": 10,
   "id": "9d8aa85b-fab8-4932-a6f5-7e3c28198f47",
   "metadata": {},
   "outputs": [
    {
     "data": {
      "text/plain": [
       "0    4\n",
       "1    5\n",
       "2    6\n",
       "Name: col2, dtype: int64"
      ]
     },
     "execution_count": 10,
     "metadata": {},
     "output_type": "execute_result"
    }
   ],
   "source": [
    "# or this way\n",
    "df['col2']"
   ]
  },
  {
   "cell_type": "markdown",
   "id": "0255895f-d4a1-41d4-9dd1-32066f657ea7",
   "metadata": {},
   "source": [
    "Q5:  \n",
    "**What is the difference between a `Dataset` and `DataLoader`?**  \n",
    "```\n",
    "Dataset could be any collection the return a tuple with dependent and independent variables when we index to it (DataFrame in our case)\n",
    "DataLoader is an iterator that provide the stream of mini batch, shuffling the datapoints..\n",
    "```"
   ]
  },
  {
   "cell_type": "markdown",
   "id": "8930d94e-afbe-4ae1-86fe-69cbf506af51",
   "metadata": {},
   "source": [
    "Q6:  \n",
    "**What does a `Datasets` object normally contain?**  \n",
    "\n",
    "``` \n",
    "Datasets objects contains Training Dataset and Validation Dataset\n",
    "```"
   ]
  },
  {
   "cell_type": "markdown",
   "id": "4db3af9f-fef0-448a-83a3-1250c42e8c4f",
   "metadata": {},
   "source": [
    "Q7:  \n",
    "**What does a `DataLoaders` object normally contain?**  \n",
    "```  \n",
    "Dataloaders contains training DataLoader and Validation DataLoader\n",
    "```"
   ]
  },
  {
   "cell_type": "markdown",
   "id": "4ebc7d33-a852-41c1-b326-14031ffba060",
   "metadata": {},
   "source": [
    "Q8:  \n",
    "**What does `lambda` do in Python?**  \n",
    "```\n",
    "It provides a shortcut for declaring small anonymous functions\n",
    "```"
   ]
  },
  {
   "cell_type": "markdown",
   "id": "b53b0d84-8803-4dc4-ba5c-2f8685a0091e",
   "metadata": {},
   "source": [
    "Q9:  \n",
    "**What are the methods to customize how the independent and dependent variables are created with the data block API?**  \n",
    "```\n",
    "We could use functions to customize how to define the independent and dependent variable, then assign these functions to get_x and get_y \n",
    "```"
   ]
  },
  {
   "cell_type": "markdown",
   "id": "67d405a4-c634-4938-a763-86d10952a85e",
   "metadata": {},
   "source": [
    "Q10:  \n",
    "**Why is softmax not an appropriate output activation function when using a one hot encoded target?**  \n",
    "```\n",
    "Softmax pushes the model to pick one class among others, while when using one-hot encoding with multi-label classification we have more the one class per image.\n",
    "```"
   ]
  },
  {
   "cell_type": "markdown",
   "id": "eedb756d-96f2-4341-9243-143a5187754a",
   "metadata": {},
   "source": [
    "Q12:  \n",
    "**What is the difference between `nn.BCELoss` and `nn.BCEWithLogitsLoss`?**  \n",
    "```\n",
    "nn.BCELoss has no sigmoid while nn.BCEWithLogitsLoss includes sigmoid in it.\n",
    "```"
   ]
  },
  {
   "cell_type": "markdown",
   "id": "e01d30c1-b3c7-4120-ac2d-2083f36f5f48",
   "metadata": {},
   "source": [
    "Q13:  \n",
    "**When is it okay to tune a hyperparameter on the validation set?**  \n",
    "```\n",
    "When the results seems to have a smooth curve, what indicates the results change  based on changes to the hyper-parameters.\n",
    "```"
   ]
  },
  {
   "cell_type": "markdown",
   "id": "a4b19f84-2a16-4332-9863-10731d6aecd5",
   "metadata": {},
   "source": [
    "Q14:  \n",
    "**How is `y_range` implemented in fastai?**\n",
    "```\n",
    "function define the range of our targets. In fastai this function is implemented using the `sigmoid_range`\n",
    "```"
   ]
  },
  {
   "cell_type": "markdown",
   "id": "f1991649-02be-4187-8b21-d3cf13ee240b",
   "metadata": {},
   "source": [
    "Q16:  \n",
    "**What is a regression problem? What loss function should you use for such a problem?**  \n",
    "```\n",
    "Regression problem is where we have to predict a continous value.\n",
    "Usually in this kind of problem the mean squared error is used\n",
    "```"
   ]
  },
  {
   "cell_type": "markdown",
   "id": "10cbf663-8549-465f-8639-cc9f8779e3f1",
   "metadata": {},
   "source": [
    "Q17:  \n",
    "**What do you need to do to make sure the fastai library applies the same data augmentation to your input images and your target point coordinates?**  \n",
    "``` \n",
    "The PointBlock class needs to be passed to the blocks parameter.\n",
    "```"
   ]
  },
  {
   "cell_type": "code",
   "execution_count": null,
   "id": "87870a39-4984-4aec-aaaa-22f8bba23cdc",
   "metadata": {},
   "outputs": [],
   "source": []
  }
 ],
 "metadata": {
  "kernelspec": {
   "display_name": "Python 3 (ipykernel)",
   "language": "python",
   "name": "python3"
  },
  "language_info": {
   "codemirror_mode": {
    "name": "ipython",
    "version": 3
   },
   "file_extension": ".py",
   "mimetype": "text/x-python",
   "name": "python",
   "nbconvert_exporter": "python",
   "pygments_lexer": "ipython3",
   "version": "3.10.6"
  }
 },
 "nbformat": 4,
 "nbformat_minor": 5
}

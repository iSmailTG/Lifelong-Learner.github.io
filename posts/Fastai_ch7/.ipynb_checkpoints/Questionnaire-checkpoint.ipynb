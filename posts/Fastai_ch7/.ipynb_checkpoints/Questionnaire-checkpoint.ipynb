{
 "cells": [
  {
   "cell_type": "raw",
   "id": "e3f73a13-413f-4647-a419-81190b0a7c43",
   "metadata": {},
   "source": [
    "---\n",
    "title: \"Chapter 7: Questionnaire \"\n",
    "author: \"Ismail TG\"\n",
    "date: \"10/31/2022\"\n",
    "categories: [Fastai, Pytorch, Deep Learning]\n",
    "image: \"fastai-book-2.jpg\"\n",
    "---"
   ]
  },
  {
   "cell_type": "markdown",
   "id": "f2bcd890-95f2-49e2-9201-873a9381223c",
   "metadata": {},
   "source": [
    "Q1:  \n",
    "**What is the difference between ImageNet and Imagenette? When is it better to experiment on one versus the other?**  \n",
    "* ImageNet is dataset with 1.3 million images and 1000 gategories, while `Imagenette` is a dataset that represent a small portion of `ImageNet` with 10 classes.\n",
    "* For studying/devloping ideas/ prototyping we better use a small dataset. "
   ]
  },
  {
   "cell_type": "markdown",
   "id": "0a45b88c-9631-4678-99fb-d5bb462c28cb",
   "metadata": {},
   "source": [
    "Q2:  \n",
    "**What is normalization?**  \n",
    "* Normalization is a method that get the mean close to 0, and the standar diviation clos to 1 (ideally mean==0, std==1)\n",
    "\n",
    "Q3:  \n",
    "**Why didn't we have to care about normalization when using a pretrained model?**  \n",
    "* Using pretrained models through `vision_learner` set the Normalization method automatically."
   ]
  },
  {
   "cell_type": "markdown",
   "id": "a287b349-629f-4ff5-b2a9-b6d3d65cd768",
   "metadata": {},
   "source": [
    "Q4:  \n",
    "**What is progressive resizing?**  \n",
    "* `Progressive resizing` is the idea of using small images in the earlier epochs of training phase, then changing the size of the images by a bit and fine tune the model for more epochs, repeat this process till we reach the original size of the image from the dataset."
   ]
  },
  {
   "cell_type": "markdown",
   "id": "485bcb9b-1c6d-4d98-892f-efa69ba99bc3",
   "metadata": {},
   "source": [
    "Q5:  \n",
    "**What is test time augmentation? How do you use it in fastai?**  \n",
    "* Validation set by default uses centre crop for images, which will leads to information lost, `TTA` addresses this problem by cropping from multiple areas of the image and calculate the predictions of all this crops, then take the average(or the max).\n",
    "`preds,targs = learn.tta()`  \n",
    "`accuracy(preds, targs).item()`"
   ]
  },
  {
   "cell_type": "markdown",
   "id": "e91d33f1-6d0d-4dad-a554-653f9c516c3a",
   "metadata": {},
   "source": [
    "Q6:  \n",
    "**Is using TTA at inference slower or faster than regular inference? Why?**  \n",
    "* It will take more time than regular inference, because the model calculate the prediction of an image more than once."
   ]
  },
  {
   "cell_type": "markdown",
   "id": "de79918f-e91c-4844-bc0e-abf726b55974",
   "metadata": {},
   "source": [
    "Q7:  \n",
    "**What is Mixup? How do you use it in fastai?**  \n",
    "* It's a data augmenatation method that takes 2 images and mix them together. In fastai mixup used as callback : `cbs=Mixup()`\n"
   ]
  },
  {
   "cell_type": "markdown",
   "id": "72f65988-4b18-4e1d-b66b-1cffe7d68756",
   "metadata": {},
   "source": [
    "Q10:  \n",
    "**What is the idea behind label smoothing?**  \n",
    "* It's a technique that change the one-hot-encodings value from 0 and 1 to float values, this reduce the overfitting and produce better performance."
   ]
  },
  {
   "cell_type": "markdown",
   "id": "a9b86ea2-5a8f-478f-99d3-cc2a003be0c1",
   "metadata": {},
   "source": [
    "Q11:  \n",
    "**When using label smoothing with five categories, what is the target associated with the index 1?**  "
   ]
  },
  {
   "cell_type": "code",
   "execution_count": 1,
   "id": "0b4f8269-a2b4-4086-b50f-866b2fbc3d8b",
   "metadata": {},
   "outputs": [
    {
     "data": {
      "text/plain": [
       "[0.02, 0.92, 0.02, 0.02, 0.02]"
      ]
     },
     "execution_count": 1,
     "metadata": {},
     "output_type": "execute_result"
    }
   ],
   "source": [
    "labels = [0, 1, 0, 0, 0]\n",
    "param = 0.1\n",
    "\n",
    "def label_smoothing(labels, param):\n",
    "    new_labels = []\n",
    "    for label in labels:\n",
    "        if label == 1:\n",
    "            new_label = 1 - param + param / len(labels)\n",
    "            new_labels.append(new_label)\n",
    "        else:\n",
    "            new_label = param / len(labels)\n",
    "            new_labels.append(new_label)\n",
    "    return new_labels\n",
    "\n",
    "label_smoothing(labels, param)"
   ]
  },
  {
   "cell_type": "markdown",
   "id": "7a5e9cf1-bffa-4e1f-b1c5-04048de09b35",
   "metadata": {},
   "source": [
    "Q12:  \n",
    "**What is the first step to take when you want to prototype quick experiments on a new dataset?**  \n",
    "* First do the protoype and experiments, if it takes more than couple of minutes, then we need to consider new subset of that dataset."
   ]
  },
  {
   "cell_type": "code",
   "execution_count": null,
   "id": "01b45a35-bbf4-46b4-9d65-56bce024b2c1",
   "metadata": {},
   "outputs": [],
   "source": []
  }
 ],
 "metadata": {
  "kernelspec": {
   "display_name": "Python 3 (ipykernel)",
   "language": "python",
   "name": "python3"
  },
  "language_info": {
   "codemirror_mode": {
    "name": "ipython",
    "version": 3
   },
   "file_extension": ".py",
   "mimetype": "text/x-python",
   "name": "python",
   "nbconvert_exporter": "python",
   "pygments_lexer": "ipython3",
   "version": "3.10.6"
  }
 },
 "nbformat": 4,
 "nbformat_minor": 5
}

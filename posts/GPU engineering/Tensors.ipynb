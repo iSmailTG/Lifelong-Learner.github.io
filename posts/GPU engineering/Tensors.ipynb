{
 "cells": [
  {
   "cell_type": "raw",
   "metadata": {},
   "source": [
    "---\n",
    "title: \"Learning Basics of Tensors \"\n",
    "author: \"Ismail TG\"\n",
    "date: \"07/27/2025\"\n",
    "categories: [Pytorch, Deep Learning, Linear Algebra, GPU Programming]\n",
    "image: \"Tensors.ipynb\"\n",
    "---"
   ]
  },
  {
   "cell_type": "code",
   "execution_count": null,
   "metadata": {
    "id": "NUd8eCY1wv6F"
   },
   "outputs": [],
   "source": [
    "import torch\n",
    "import numpy as np"
   ]
  },
  {
   "cell_type": "code",
   "execution_count": null,
   "metadata": {
    "colab": {
     "base_uri": "https://localhost:8080/"
    },
    "id": "G1fpoMMCYnik",
    "outputId": "0fc9b2e8-a706-43ff-c359-509d9da426a2"
   },
   "outputs": [
    {
     "data": {
      "text/plain": [
       "(torch.Size([2, 3]), (3, 1))"
      ]
     },
     "execution_count": 2,
     "metadata": {},
     "output_type": "execute_result"
    }
   ],
   "source": [
    "a = torch.tensor(range(6))\n",
    "a = a.reshape(2, 3)\n",
    "a.shape, a.stride()"
   ]
  },
  {
   "cell_type": "markdown",
   "metadata": {
    "id": "R5jlSaEdZcLJ"
   },
   "source": [
    "# Tensors:\n",
    "* We could define a **Tensor** as container for numerical data, arranged in regular grid, with a defined: shape and layout.\n",
    "* basically we have 4 levels of tensors:\n",
    "  - **Scalar**: just a number *`e.i 8`* ==> 0D\n",
    "  - **Vector**: a `1D` row of numbers *`[1, 2]`*\n",
    "  - **Matrix**: a `2D` grid of rows & columns *`[[1, 2], [4, 1]]`*\n",
    "  - **Tensor**: any `nD` generalization of this `3D, 4D..`\n",
    "\n",
    "\n"
   ]
  },
  {
   "cell_type": "code",
   "execution_count": null,
   "metadata": {
    "colab": {
     "base_uri": "https://localhost:8080/"
    },
    "id": "hLZke6KqZbrf",
    "outputId": "e5e4ae76-0042-492d-a0c0-890640d9a552"
   },
   "outputs": [
    {
     "data": {
      "text/plain": [
       "0"
      ]
     },
     "execution_count": 3,
     "metadata": {},
     "output_type": "execute_result"
    }
   ],
   "source": [
    "# scalar has 0 dimension:\n",
    "scalar = torch.tensor(8)\n",
    "scalar.ndim"
   ]
  },
  {
   "cell_type": "code",
   "execution_count": null,
   "metadata": {
    "colab": {
     "base_uri": "https://localhost:8080/"
    },
    "id": "rnXWtJRjcH7x",
    "outputId": "cd4a02a3-6604-4d69-f98b-9fc181e2a940"
   },
   "outputs": [
    {
     "data": {
      "text/plain": [
       "1"
      ]
     },
     "execution_count": 4,
     "metadata": {},
     "output_type": "execute_result"
    }
   ],
   "source": [
    "# vector is 1D row of numbers:\n",
    "vec = torch.tensor([1, 2])\n",
    "vec.ndim"
   ]
  },
  {
   "cell_type": "code",
   "execution_count": null,
   "metadata": {
    "colab": {
     "base_uri": "https://localhost:8080/"
    },
    "id": "k-L3Dz0ncVu0",
    "outputId": "c506f567-61e7-4b50-e980-bd894318a866"
   },
   "outputs": [
    {
     "data": {
      "text/plain": [
       "2"
      ]
     },
     "execution_count": 5,
     "metadata": {},
     "output_type": "execute_result"
    }
   ],
   "source": [
    "# matrix is a 2D grid:\n",
    "mat = torch.tensor([[1, 2], [3, 4]])\n",
    "mat.ndim"
   ]
  },
  {
   "cell_type": "code",
   "execution_count": null,
   "metadata": {
    "colab": {
     "base_uri": "https://localhost:8080/"
    },
    "id": "mZI-AmVgcnco",
    "outputId": "2eeac527-92c3-4819-9350-3c494220c7b3"
   },
   "outputs": [
    {
     "data": {
      "text/plain": [
       "3"
      ]
     },
     "execution_count": 6,
     "metadata": {},
     "output_type": "execute_result"
    }
   ],
   "source": [
    "# tensor is and shape of data that could be represented in 3 or more dimensions:\n",
    "ten = torch.tensor(range(12))\n",
    "ten = ten.reshape(2, 3, 2)\n",
    "ten.ndim"
   ]
  },
  {
   "cell_type": "markdown",
   "metadata": {
    "id": "iSWCt49IdNrY"
   },
   "source": [
    "## Data BLOBs:\n",
    "* The last tensor we've created has a very interesting proprety, first we created the number of elements we want `12` then we reshape it by repspecting 2 rules:\n",
    "    - the total number of elements should be `12` exactly\n",
    "    - these `12` elements should be distributed on `3` dimensions in order to call it tensor\n",
    "  * we decided to ge with `(2, 3, 2)` but we could go with any distribution as long as we respect the 2 rules.\n",
    "* The `12` represent the **data BLOB** while the distribution represent the **metadata** that tells us how the data is shaped.\n",
    "* Data Blob is a large, row chunk of numerical data with no assumed structure untill interpreted, it's shapeless untill we attach metadata to it.\n",
    "* In the context of Kernel engineering we are not working with well defined tensors shapes, but with:\n",
    "    - **pointers** to data blobs in memory\n",
    "    - some **metadata** (shape, strides, dtype)\n",
    "    - a set of **indexing rules** to access the correct slice\n",
    "* So if we write a tensor:"
   ]
  },
  {
   "cell_type": "code",
   "execution_count": null,
   "metadata": {
    "id": "fh6bmIwscU1D"
   },
   "outputs": [],
   "source": [
    "x = torch.tensor((3, 4, 5))"
   ]
  },
  {
   "cell_type": "markdown",
   "metadata": {
    "id": "J7Ak9EXBgU_g"
   },
   "source": [
    "* Under the hood the data is stored in a single flat buffer **`60 floats`**\n",
    "* The shape tells us: This is 3 blocks of 4 rows of 5 elements."
   ]
  },
  {
   "cell_type": "markdown",
   "metadata": {
    "id": "1aMeok88b6x0"
   },
   "source": [
    "### Stride:\n",
    "* In the context of Kernel engineering the **Stride** is the most important key. Since data is stored in the memory as blobs, stride tells us how many elements to skip in memory to move to the next element along a specific dimension. Think of it as the \"memory jump\" for each axis."
   ]
  },
  {
   "cell_type": "code",
   "execution_count": null,
   "metadata": {
    "colab": {
     "base_uri": "https://localhost:8080/"
    },
    "id": "r3kPctiek6aj",
    "outputId": "44372d70-9f1d-4dc7-b979-e6d151386386"
   },
   "outputs": [
    {
     "data": {
      "text/plain": [
       "(torch.Size([3, 2]), (2, 1))"
      ]
     },
     "execution_count": 8,
     "metadata": {},
     "output_type": "execute_result"
    }
   ],
   "source": [
    "z = torch.tensor(range(6))\n",
    "z = z.reshape(3, 2)\n",
    "z.shape, z.stride()"
   ]
  },
  {
   "cell_type": "markdown",
   "metadata": {
    "id": "ZWI-l_p0mhcW"
   },
   "source": [
    "* The stride says:\n",
    "  - to move one row: jump 3 elements `stride[0]`\n",
    "  - to move one column: jumpt one element `stride[1]`\n",
    "* So in our case the tensor `z` has a stride of `(2, 1)`:\n",
    "  - `2` is the number of jumps in order to get to the next **`row`**\n",
    "  - while `1` is the number of jump to get to the next **`column`**"
   ]
  },
  {
   "cell_type": "markdown",
   "metadata": {
    "id": "G7x5GqzzfslG"
   },
   "source": [
    "### Transposed Stride:\n",
    "* What if we transposed the tensor `z`? will the stride remain the same?"
   ]
  },
  {
   "cell_type": "code",
   "execution_count": null,
   "metadata": {
    "colab": {
     "base_uri": "https://localhost:8080/"
    },
    "id": "A_cJbhmhd1xY",
    "outputId": "fbc25ca1-6b7d-4fc1-e96b-9a49408fb3a2"
   },
   "outputs": [
    {
     "data": {
      "text/plain": [
       "((2, 1), (1, 2))"
      ]
     },
     "execution_count": 9,
     "metadata": {},
     "output_type": "execute_result"
    }
   ],
   "source": [
    "y = z.t()\n",
    "z.stride(), y.stride()"
   ]
  },
  {
   "cell_type": "markdown",
   "metadata": {
    "id": "BUkq9ZfwiLu8"
   },
   "source": [
    "* The transpose changed the stride but the data blob remain the same:"
   ]
  },
  {
   "cell_type": "code",
   "execution_count": null,
   "metadata": {
    "colab": {
     "base_uri": "https://localhost:8080/"
    },
    "id": "BRY7QFK3iJNp",
    "outputId": "31da5384-c4b5-4077-dc63-2d841ece69c2"
   },
   "outputs": [
    {
     "data": {
      "text/plain": [
       "True"
      ]
     },
     "execution_count": 10,
     "metadata": {},
     "output_type": "execute_result"
    }
   ],
   "source": [
    "z.data_ptr() == y.data_ptr()"
   ]
  },
  {
   "cell_type": "markdown",
   "metadata": {
    "id": "iOqF2BI568b6"
   },
   "source": [
    "### Stride exercises:\n",
    "* Learn how stride works with some simple Pytorch examples:\n",
    "####  **Exercise 1: Basic 2D Tensor**\n",
    "Create a 2D tensor and inspect its stride."
   ]
  },
  {
   "cell_type": "code",
   "execution_count": null,
   "metadata": {
    "colab": {
     "base_uri": "https://localhost:8080/"
    },
    "id": "MkV9_5UprDg3",
    "outputId": "0128c051-e83d-41ad-fe57-abbd709e80ac"
   },
   "outputs": [
    {
     "data": {
      "text/plain": [
       "torch.Size([2, 3])"
      ]
     },
     "execution_count": 11,
     "metadata": {},
     "output_type": "execute_result"
    }
   ],
   "source": [
    "# x is a 2D tensor\n",
    "x =  torch.tensor(range(6)).reshape(2, 3)\n",
    "# its shape:\n",
    "x.shape"
   ]
  },
  {
   "cell_type": "markdown",
   "metadata": {
    "id": "OwqcsRxn7uiz"
   },
   "source": [
    "* How to think about its stride?:\n",
    "  - In order to move to the next row how many element should we pass?\n",
    "    ==> `3`\n",
    "  - In order to get to the next column how many elements we need to jump?\n",
    "    ==> `1`\n",
    "* So the stride is `(3, 1)`    "
   ]
  },
  {
   "cell_type": "code",
   "execution_count": null,
   "metadata": {
    "colab": {
     "base_uri": "https://localhost:8080/"
    },
    "id": "J0nJGCuI7tUc",
    "outputId": "7f8633d3-3e8f-4e15-bc66-e5a5fa99eedf"
   },
   "outputs": [
    {
     "data": {
      "text/plain": [
       "(tensor([[0, 1, 2],\n",
       "         [3, 4, 5]]),\n",
       " (3, 1))"
      ]
     },
     "execution_count": 12,
     "metadata": {},
     "output_type": "execute_result"
    }
   ],
   "source": [
    "x, x.stride()"
   ]
  },
  {
   "cell_type": "markdown",
   "metadata": {
    "id": "vD1yXBnH8biB"
   },
   "source": [
    "#### **Exercise 2: Transposed Tensor**\n",
    "* Transpose the tensor and observe how the stride changes."
   ]
  },
  {
   "cell_type": "code",
   "execution_count": null,
   "metadata": {
    "colab": {
     "base_uri": "https://localhost:8080/"
    },
    "id": "_-dWLTSw8aq5",
    "outputId": "5284842f-1a8c-4f02-9c6d-8c6d5a5ffc31"
   },
   "outputs": [
    {
     "data": {
      "text/plain": [
       "(tensor([[0, 3],\n",
       "         [1, 4],\n",
       "         [2, 5]]),\n",
       " torch.Size([3, 2]))"
      ]
     },
     "execution_count": 13,
     "metadata": {},
     "output_type": "execute_result"
    }
   ],
   "source": [
    "y = x.t()\n",
    "y, y.shape"
   ]
  },
  {
   "cell_type": "markdown",
   "metadata": {
    "id": "euUF2NtZ8zFj"
   },
   "source": [
    "* In this case and since we reversed the shape, its obvious that the stride also will be reversed: `(1, 3)`\n",
    "* What's important is that `Pytorch` doesn't create new **copy** of `x` when trasnposed, it only redefine the way the new tensor is `viewed` with creating new shape and new stride."
   ]
  },
  {
   "cell_type": "code",
   "execution_count": null,
   "metadata": {
    "colab": {
     "base_uri": "https://localhost:8080/"
    },
    "id": "X8FLfKn78VVj",
    "outputId": "347db58d-86ff-46aa-cf41-de0757d736ca"
   },
   "outputs": [
    {
     "data": {
      "text/plain": [
       "(1, 3)"
      ]
     },
     "execution_count": 14,
     "metadata": {},
     "output_type": "execute_result"
    }
   ],
   "source": [
    "y.stride()"
   ]
  },
  {
   "cell_type": "markdown",
   "metadata": {
    "id": "bMcnAm6k9ZPe"
   },
   "source": [
    "#### **Exercise 3: Unsqueezed Tensor**\n",
    "* Add a new dimension and understand how stride adjusts."
   ]
  },
  {
   "cell_type": "code",
   "execution_count": null,
   "metadata": {
    "colab": {
     "base_uri": "https://localhost:8080/"
    },
    "id": "1IoHTSFt9DWy",
    "outputId": "bfa74c70-ad2a-4599-8fa2-f4218eb0ca55"
   },
   "outputs": [
    {
     "data": {
      "text/plain": [
       "(torch.Size([2, 3]), torch.Size([1, 2, 3]))"
      ]
     },
     "execution_count": 15,
     "metadata": {},
     "output_type": "execute_result"
    }
   ],
   "source": [
    "z = x.unsqueeze(0)\n",
    "x.shape, z.shape"
   ]
  },
  {
   "cell_type": "markdown",
   "metadata": {
    "id": "VhuQre1j9uIo"
   },
   "source": [
    "* What happend here is that Pytorch pretend there's a new outer dim, so the shape is changed from `[2, 3]` to `[1, 2, 3]`.\n",
    "* the new dim `dim[0]` should have stride of `6`, because in order to get to a new element in that dim (even that there's only one element in that dim) we need to pass all other elements in both dimensions `[1]` and `[2]`, which both contain `2*3 = 6`.\n",
    "* **RULE**: the stride of the new dim is always the product of the inner strides\n",
    "  - so the stride should be: `(6, 3, 1)`"
   ]
  },
  {
   "cell_type": "code",
   "execution_count": null,
   "metadata": {
    "colab": {
     "base_uri": "https://localhost:8080/"
    },
    "id": "tvHddZ9U9qFP",
    "outputId": "089e63ea-aaae-4bb0-b63d-1c12e83bc1df"
   },
   "outputs": [
    {
     "data": {
      "text/plain": [
       "(6, 3, 1)"
      ]
     },
     "execution_count": 16,
     "metadata": {},
     "output_type": "execute_result"
    }
   ],
   "source": [
    "z.stride()"
   ]
  },
  {
   "cell_type": "code",
   "execution_count": null,
   "metadata": {
    "colab": {
     "base_uri": "https://localhost:8080/"
    },
    "id": "xhv1CI0r_WuR",
    "outputId": "7ae5955c-bc3d-4aa7-8109-816f3ea6583a"
   },
   "outputs": [
    {
     "data": {
      "text/plain": [
       "(tensor([[0, 1, 2, 3],\n",
       "         [4, 5, 6, 7]]),\n",
       " torch.Size([2, 4]))"
      ]
     },
     "execution_count": 20,
     "metadata": {},
     "output_type": "execute_result"
    }
   ],
   "source": [
    "d = torch.tensor(range(8)).reshape(2, 4)\n",
    "d, d.shape"
   ]
  },
  {
   "cell_type": "code",
   "execution_count": null,
   "metadata": {
    "colab": {
     "base_uri": "https://localhost:8080/"
    },
    "id": "X8gP1pszdrLS",
    "outputId": "70c7e7f2-494f-4ec2-a073-ecb563f945fa"
   },
   "outputs": [
    {
     "data": {
      "text/plain": [
       "(4, 1)"
      ]
     },
     "execution_count": 26,
     "metadata": {},
     "output_type": "execute_result"
    }
   ],
   "source": [
    "d.stride()"
   ]
  },
  {
   "cell_type": "code",
   "execution_count": null,
   "metadata": {
    "colab": {
     "base_uri": "https://localhost:8080/"
    },
    "id": "yI-dex0odKW4",
    "outputId": "f9545653-1031-45f9-a7e9-da777a151f22"
   },
   "outputs": [
    {
     "data": {
      "text/plain": [
       "tensor([[[0, 1, 2, 3]],\n",
       "\n",
       "        [[4, 5, 6, 7]]])"
      ]
     },
     "execution_count": 37,
     "metadata": {},
     "output_type": "execute_result"
    }
   ],
   "source": [
    "d1 = d.unsqueeze(1)\n",
    "d1"
   ]
  },
  {
   "cell_type": "code",
   "execution_count": null,
   "metadata": {
    "colab": {
     "base_uri": "https://localhost:8080/"
    },
    "id": "5tpAWpURdP2_",
    "outputId": "9856b77f-b001-49a0-9790-2c8ce2bc6dd8"
   },
   "outputs": [
    {
     "data": {
      "text/plain": [
       "(torch.Size([2, 1, 4]), (4, 4, 1))"
      ]
     },
     "execution_count": 38,
     "metadata": {},
     "output_type": "execute_result"
    }
   ],
   "source": [
    "d1.shape, d1.stride()"
   ]
  },
  {
   "cell_type": "markdown",
   "metadata": {
    "id": "0jppX4IZfXDc"
   },
   "source": [
    "#### Exercise 4: Expanded Tensor\n",
    "* Broadcast a tensor without copying memory."
   ]
  },
  {
   "cell_type": "code",
   "execution_count": null,
   "metadata": {
    "id": "FubIyeZYdSqJ"
   },
   "outputs": [],
   "source": [
    "a = torch.ones(1, 3)\n",
    "b = a.expand(2, 3)"
   ]
  },
  {
   "cell_type": "code",
   "execution_count": null,
   "metadata": {
    "colab": {
     "base_uri": "https://localhost:8080/"
    },
    "id": "XD0P3BB5fjVY",
    "outputId": "5c45f951-a487-4ecd-ab5c-62752cbecc08"
   },
   "outputs": [
    {
     "data": {
      "text/plain": [
       "(torch.Size([1, 3]), torch.Size([2, 3]))"
      ]
     },
     "execution_count": 41,
     "metadata": {},
     "output_type": "execute_result"
    }
   ],
   "source": [
    "a.shape, b.shape"
   ]
  },
  {
   "cell_type": "code",
   "execution_count": null,
   "metadata": {
    "colab": {
     "base_uri": "https://localhost:8080/"
    },
    "id": "-eK-38iliHma",
    "outputId": "d88f0675-1d16-4a56-b76f-8664295dd9b2"
   },
   "outputs": [
    {
     "data": {
      "text/plain": [
       "(3, 1)"
      ]
     },
     "execution_count": 44,
     "metadata": {},
     "output_type": "execute_result"
    }
   ],
   "source": [
    "a.stride()"
   ]
  },
  {
   "cell_type": "markdown",
   "metadata": {
    "id": "F4MpIxtlgAqG"
   },
   "source": [
    "* Here we have a tensor `a` of shape `[1, 3]` then we use `expand` to make tensor `b` with shape of `[2, 3]`.\n",
    "* the method `expand` doesn't create a new copy of the original tensor rather then virtually expanding a dimension by repeating it without chnaging the memory.\n",
    "* In this case the `dim[0]` will be virtually repeated `2` times.\n",
    "* In the original tensor `a` we have a stride of `(3, 1)`:\n",
    "  - In order to get to the next element along `dim=0`(rows) we have to move 3 steps in memory\n",
    "  - To move to the next element along `dim=1` (columns), step by 1 in memory.\n",
    "* Now with tensor `b`, as we say `expand` add a virtuall element to the `dim=0`, it add a new row, but in memory we don't change anything. So to move to the next row we don't have to step at all, so the stride at that dimension will be `0`.\n",
    "* The other `dim=1` remain the same `1`"
   ]
  },
  {
   "cell_type": "code",
   "execution_count": null,
   "metadata": {
    "colab": {
     "base_uri": "https://localhost:8080/"
    },
    "id": "XzZsL7eMf7rz",
    "outputId": "73863bc4-8451-4165-f1ad-ecceb8b6ec59"
   },
   "outputs": [
    {
     "data": {
      "text/plain": [
       "(0, 1)"
      ]
     },
     "execution_count": 45,
     "metadata": {},
     "output_type": "execute_result"
    }
   ],
   "source": [
    "b.stride()"
   ]
  },
  {
   "cell_type": "markdown",
   "metadata": {
    "id": "q1zVdlL-ljVh"
   },
   "source": [
    "#### Exercise 5: Permuted Tensor\n",
    "Change dimension order and inspect stride layout."
   ]
  },
  {
   "cell_type": "code",
   "execution_count": null,
   "metadata": {
    "id": "oxL6Caw2j2wR"
   },
   "outputs": [],
   "source": [
    "x3 = torch.randn(2, 3, 4)\n",
    "y3 = x3.permute(2, 0, 1)"
   ]
  },
  {
   "cell_type": "code",
   "execution_count": null,
   "metadata": {
    "colab": {
     "base_uri": "https://localhost:8080/"
    },
    "id": "vJMCEOPqlov1",
    "outputId": "9c9156d3-835d-43da-fa89-1c2cc1942fa4"
   },
   "outputs": [
    {
     "data": {
      "text/plain": [
       "(tensor([[[-4.9521e-01, -1.5715e+00,  9.7796e-01, -2.6375e-01],\n",
       "          [ 1.0992e+00,  4.2912e-01,  7.5855e-02,  1.6052e+00],\n",
       "          [-7.1012e-01,  7.3460e-01, -3.9331e-01,  1.0008e+00]],\n",
       " \n",
       "         [[ 5.4850e-01, -1.6360e+00,  1.8978e-01, -1.3920e-01],\n",
       "          [ 1.4362e-01,  4.4029e-01, -2.0576e-01, -2.7227e-01],\n",
       "          [-1.2247e-03,  1.3967e+00, -5.3473e-01, -7.4465e-01]]]),\n",
       " torch.Size([2, 3, 4]))"
      ]
     },
     "execution_count": 47,
     "metadata": {},
     "output_type": "execute_result"
    }
   ],
   "source": [
    "x3, x3.shape"
   ]
  },
  {
   "cell_type": "code",
   "execution_count": null,
   "metadata": {
    "colab": {
     "base_uri": "https://localhost:8080/"
    },
    "id": "lSKjXagclrtW",
    "outputId": "32c43f4e-3555-48f4-96fe-c07cce295440"
   },
   "outputs": [
    {
     "data": {
      "text/plain": [
       "(12, 4, 1)"
      ]
     },
     "execution_count": 48,
     "metadata": {},
     "output_type": "execute_result"
    }
   ],
   "source": [
    "x3.stride()"
   ]
  },
  {
   "cell_type": "code",
   "execution_count": null,
   "metadata": {
    "colab": {
     "base_uri": "https://localhost:8080/"
    },
    "id": "oJBmYEqmly-M",
    "outputId": "6ae9adec-ace9-415e-e2c5-7fe49b2f320a"
   },
   "outputs": [
    {
     "data": {
      "text/plain": [
       "(tensor([[[-4.9521e-01,  1.0992e+00, -7.1012e-01],\n",
       "          [ 5.4850e-01,  1.4362e-01, -1.2247e-03]],\n",
       " \n",
       "         [[-1.5715e+00,  4.2912e-01,  7.3460e-01],\n",
       "          [-1.6360e+00,  4.4029e-01,  1.3967e+00]],\n",
       " \n",
       "         [[ 9.7796e-01,  7.5855e-02, -3.9331e-01],\n",
       "          [ 1.8978e-01, -2.0576e-01, -5.3473e-01]],\n",
       " \n",
       "         [[-2.6375e-01,  1.6052e+00,  1.0008e+00],\n",
       "          [-1.3920e-01, -2.7227e-01, -7.4465e-01]]]),\n",
       " torch.Size([4, 2, 3]))"
      ]
     },
     "execution_count": 49,
     "metadata": {},
     "output_type": "execute_result"
    }
   ],
   "source": [
    "y3, y3.shape"
   ]
  },
  {
   "cell_type": "markdown",
   "metadata": {
    "id": "gKEEkmg2m93A"
   },
   "source": [
    "* To move along the new dimension 0 (size 4, originally dim 2), you step by 1 in memory (same as original dim 2).\n",
    "\n",
    "* To move along the new dimension 1 (size 2, originally dim 0), you step by 12 in memory (same as original dim 0).\n",
    "\n",
    "* To move along the new dimension 2 (size 3, originally dim 1), you step by 4 in memory (same as original dim 1).\n",
    "\n",
    "* This shows that permutation changes the order of strides but not their values. The new strides correspond to the original strides in the permuted order.\n",
    "\n"
   ]
  },
  {
   "cell_type": "markdown",
   "metadata": {
    "id": "OCMDif-4oSpt"
   },
   "source": [
    "## View:\n",
    "* In PyTorch, viewing a tensor refers to creating a new tensor that shares the same underlying data storage as the original tensor but with a different shape, stride, or metadata. This means the viewed tensor does not copy the data; instead, it provides an alternative way to interpret the existing data in memory.\n",
    "1- Memory:\n",
    "* View allow tensors to share memory.\n",
    "* Modifying the viewed tensor will modifies the original tensor.\n",
    "2- Shape and Stride adjustement:\n",
    "* As we saw earlier view can reinterpret a tensor shape end stride without copying it or changing the memory.\n",
    "3- Zero-Cost Operation:\n",
    "\n",
    "* Viewing is efficient because it does not allocate new memory or copy data.\n",
    "\n",
    "* Operations like `view()`, `transpose()`, `permute()`, `expand()`, and slicing often return views.\n",
    "\n"
   ]
  },
  {
   "cell_type": "markdown",
   "metadata": {
    "id": "oWZiBGiuudt6"
   },
   "source": [
    "## Broadcasting:\n",
    "\n",
    "* Broadcasting automatically expands smaller tensors to match the shape of larger tensors for element-wise operations by following specific rules:\n",
    "  - Tensors are aligned from rights to left\n",
    "  - if sizes are equal then they are compatible\n",
    "  - If one tensor size is 1, it's streched to match the other\n",
    "  - If one tensor is missing a dimension, it's treated like size 1 dimension (then streched to match)"
   ]
  },
  {
   "cell_type": "code",
   "execution_count": null,
   "metadata": {
    "id": "HQs1oR_Kl62a"
   },
   "outputs": [],
   "source": [
    "# adding vector to scalar\n",
    "vec = torch.tensor([1, 2, 3])\n",
    "scal = torch.tensor(5)\n",
    "out =  vec + scal"
   ]
  },
  {
   "cell_type": "code",
   "execution_count": null,
   "metadata": {
    "colab": {
     "base_uri": "https://localhost:8080/"
    },
    "id": "pe5kG3mMxJeS",
    "outputId": "fa1abfec-0f26-4215-f285-01e9d1826370"
   },
   "outputs": [
    {
     "name": "stdout",
     "output_type": "stream",
     "text": [
      "tensor([1, 2, 3]) torch.Size([3])\n",
      "tensor(5) torch.Size([])\n",
      "tensor([6, 7, 8]) torch.Size([3])\n"
     ]
    }
   ],
   "source": [
    "print(vec, vec.shape)\n",
    "print(scal, scal.shape)\n",
    "print(out, out.shape)"
   ]
  },
  {
   "cell_type": "code",
   "execution_count": null,
   "metadata": {
    "id": "6DT5Lqf3xQtO"
   },
   "outputs": [],
   "source": [
    "# tensor size 1\n",
    "A = torch.tensor([[1, 2], [3, 4]])  # Shape (2, 2)\n",
    "B = torch.tensor([[10, 20]])         # Shape (1, 2)\n",
    "C = A + B"
   ]
  },
  {
   "cell_type": "code",
   "execution_count": null,
   "metadata": {
    "colab": {
     "base_uri": "https://localhost:8080/"
    },
    "id": "LgUp_wKCxw2d",
    "outputId": "047ae45a-3dc1-4f6e-c882-24269db94526"
   },
   "outputs": [
    {
     "name": "stdout",
     "output_type": "stream",
     "text": [
      "tensor([[1, 2],\n",
      "        [3, 4]]) torch.Size([2, 2])\n",
      "tensor([[10, 20]]) torch.Size([1, 2])\n",
      "tensor([[11, 22],\n",
      "        [13, 24]]) torch.Size([2, 2])\n"
     ]
    }
   ],
   "source": [
    "print(A, A.shape)\n",
    "print(B, B.shape)\n",
    "print(C, C.shape)"
   ]
  },
  {
   "cell_type": "code",
   "execution_count": null,
   "metadata": {
    "id": "JIQRuuBQx2sw"
   },
   "outputs": [],
   "source": [
    "# tensor missing a dimension:\n",
    "D = torch.tensor([[1, 2], [3, 4]])  # Shape (2, 2)\n",
    "R = torch.tensor([10, 20])          # Shape (2,)\n",
    "S = D + R"
   ]
  },
  {
   "cell_type": "code",
   "execution_count": null,
   "metadata": {
    "colab": {
     "base_uri": "https://localhost:8080/"
    },
    "id": "oIEx3N6eyFeW",
    "outputId": "44b5215e-2b41-4cb5-82a6-01edfca09c5f"
   },
   "outputs": [
    {
     "name": "stdout",
     "output_type": "stream",
     "text": [
      "tensor([[1, 2],\n",
      "        [3, 4]]) torch.Size([2, 2])\n",
      "tensor([10, 20]) torch.Size([2])\n",
      "tensor([[11, 22],\n",
      "        [13, 24]]) torch.Size([2, 2])\n"
     ]
    }
   ],
   "source": [
    "print(D, D.shape)\n",
    "print(R, R.shape)\n",
    "print(S, S.shape)"
   ]
  },
  {
   "cell_type": "code",
   "execution_count": null,
   "metadata": {
    "id": "sd8cT2SkyNqs"
   },
   "outputs": [],
   "source": []
  }
 ],
 "metadata": {
  "colab": {
   "provenance": []
  },
  "kernelspec": {
   "display_name": "Python 3 (ipykernel)",
   "language": "python",
   "name": "python3"
  },
  "language_info": {
   "codemirror_mode": {
    "name": "ipython",
    "version": 3
   },
   "file_extension": ".py",
   "mimetype": "text/x-python",
   "name": "python",
   "nbconvert_exporter": "python",
   "pygments_lexer": "ipython3",
   "version": "3.12.9"
  }
 },
 "nbformat": 4,
 "nbformat_minor": 4
}

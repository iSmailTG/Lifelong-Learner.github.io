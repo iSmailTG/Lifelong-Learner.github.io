{
 "cells": [
  {
   "cell_type": "raw",
   "id": "2c185069-f929-43fd-aa1a-88f3cd2338a2",
   "metadata": {
    "editable": true,
    "raw_mimetype": "",
    "slideshow": {
     "slide_type": ""
    },
    "tags": []
   },
   "source": [
    "---\n",
    "title: \"Learning CPP As Pythonista: Day-1 \"\n",
    "author: \"Ismail TG\"\n",
    "date: \"09/19/2025\"\n",
    "format:\n",
    "  html:\n",
    "    code-fold: true\n",
    "    code-line-numbers: true\n",
    "    code-tools: true\n",
    "    highlight-style: github\n",
    "    theme: cosmo\n",
    "categories: [Kernel Engineering, Cuda, Pytorch, CPP]\n",
    "image: \"PythonVsCPP.png\"\n",
    "---"
   ]
  },
  {
   "cell_type": "markdown",
   "id": "e84a7c9f-f174-47a6-abc9-5c03df8d09f9",
   "metadata": {
    "editable": true,
    "slideshow": {
     "slide_type": ""
    },
    "tags": []
   },
   "source": [
    "## Motivation:\n",
    "- In this series of lessons, I will track my learning through the universe of C++ as someone who mainly programm in Python.\n",
    "- The motivation behind learning C++ in 2025 can be resumed into one word: **Cuda**.\n",
    "- CUDA kernels are still C++ first, Python second. Learning the bare-metal steps so I can stop guessing and start writing fast GPU code. One small page a day until the compiler feels normal.\n",
    "- This idea of learning C++ for CUDA make it less intimidating, since C++ isn't the goal here  rather just a tool for something else.\n",
    "- But still I need to learn some basics of C++ in order to navigate its world that already after one studying session looks very strange and outlandish for a Python programmer."
   ]
  },
  {
   "cell_type": "markdown",
   "id": "21992ae1-8687-4424-8475-2da020c54131",
   "metadata": {},
   "source": [
    "## C++ World:\n",
    "- C++ is a **Compiled language**, which means the code goes through a transformation process before it can run.\n",
    "- In C++, we write codem then a special program called **Compiler** translates our *Human-readable* code into machine code (1s & 0s) that computer can executes.\n",
    "- This process of compiling works in **4 stages**:\n",
    "  * Stage1: Pre-processing before the compiler even looks at our code, it's a text manipulation step where the preprocessor check code that starts with `#` and  copy-past, find-replace it automatically, so the next step include only pure C++ code.\n",
    "  * Stage2: The compiler reads the C++ code and converts it to **Assembly Language**, which is a human readable instructions that are very close to machine code.\n",
    "  * Stage3: An **Assembler** converts assembly into actual `1s` & `0s` that the CPU understands.\n",
    "  * Stage4: A **Linker** connects everything together (code, libraries, other file..) and creates the final executable file that can run."
   ]
  },
  {
   "cell_type": "code",
   "execution_count": 1,
   "id": "732ae3ad-c366-45b7-8f63-14b182cd7a8a",
   "metadata": {
    "editable": true,
    "slideshow": {
     "slide_type": ""
    },
    "tags": []
   },
   "outputs": [
    {
     "name": "stdout",
     "output_type": "stream",
     "text": [
      "It worked!\n"
     ]
    }
   ],
   "source": [
    "#include <iostream>\n",
    "std::cout << \"It worked!\" << std::endl;\n"
   ]
  },
  {
   "cell_type": "code",
   "execution_count": null,
   "id": "3a5cf6ba-3160-44aa-82bb-2c5ceefb5f15",
   "metadata": {},
   "outputs": [],
   "source": []
  }
 ],
 "metadata": {
  "kernelspec": {
   "display_name": "Cpp17",
   "language": "Cpp17",
   "name": "xcpp17"
  },
  "language_info": {
   "codemirror_mode": "text/x-cppsrc",
   "file_extension": ".cpp",
   "mimetype": "text/x-cppsrc",
   "name": "cpp",
   "version": "17"
  }
 },
 "nbformat": 4,
 "nbformat_minor": 5
}

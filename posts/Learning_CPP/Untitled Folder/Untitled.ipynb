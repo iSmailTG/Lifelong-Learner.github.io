{
 "cells": [
  {
   "cell_type": "code",
   "execution_count": 1,
   "id": "1d5340ca-3338-436a-b6b1-3c747f10bd4c",
   "metadata": {},
   "outputs": [],
   "source": [
    "#include <iostream>\n",
    "using namespace std;\n"
   ]
  },
  {
   "cell_type": "code",
   "execution_count": 6,
   "id": "8f501184-3001-45fc-bc0f-247ff11025b9",
   "metadata": {},
   "outputs": [],
   "source": [
    "int main()\n",
    "{\n",
    "    int var = 5;\n",
    "    int* ptr;\n",
    "    \n",
    "    // Show the variable\n",
    "    cout << \"Value of var: \" << var << endl;\n",
    "    cout << \"Address of var: \" << &var << endl;\n",
    "    \n",
    "    // Uninitialized pointer (contains garbage)\n",
    "    cout << \"Uninitialized pointer (garbage address): \" << ptr << endl;\n",
    "\n",
    "    int var1;\n",
    "    // point ptr to var1\n",
    "    ptr = &var1;\n",
    "    cout << \"Pointer stores address of: \" << ptr << endl;\n",
    "    // print the value stored in var1:\n",
    "    cout << \"Deferencing pointer at var1:  \" << *ptr << endl;\n",
    "    \n",
    "    // Point ptr to var\n",
    "    ptr = &var;\n",
    "    cout << \"Pointer now stores address (same address as var): \" << ptr << endl;\n",
    "    cout << \"Dereferencing pointer (*ptr): \" << *ptr << endl;\n",
    "\n",
    "    // change the value of var = 5 \n",
    "    *ptr = 10;\n",
    "    // print var and check the value is changed 5 -> 10\n",
    "    cout << \"New value of var:  \" << var << endl;\n",
    "    return 0;\n",
    "}"
   ]
  },
  {
   "cell_type": "code",
   "execution_count": 7,
   "id": "703abd24-f475-4ad1-bdc9-87627417de2a",
   "metadata": {},
   "outputs": [
    {
     "name": "stdout",
     "output_type": "stream",
     "text": [
      "Value of var: 5\n",
      "Address of var: 0x7ffc1f3be1d8\n",
      "Uninitialized pointer (garbage address): 0x2\n",
      "Pointer stores address of: 0x7ffc1f3be1cc\n",
      "Deferencing pointer at var1:  -1\n",
      "Pointer now stores address (same address as var): 0x7ffc1f3be1d8\n",
      "Dereferencing pointer (*ptr): 5\n",
      "New value of var:  10\n"
     ]
    },
    {
     "data": {
      "text/plain": [
       "0"
      ]
     },
     "execution_count": 7,
     "metadata": {},
     "output_type": "execute_result"
    }
   ],
   "source": [
    "main()"
   ]
  },
  {
   "cell_type": "code",
   "execution_count": null,
   "id": "a4bf87f5-d7e8-4e27-bf4b-0dcd77f7a19d",
   "metadata": {},
   "outputs": [],
   "source": []
  }
 ],
 "metadata": {
  "kernelspec": {
   "display_name": "C++17",
   "language": "C++17",
   "name": "xcpp17"
  },
  "language_info": {
   "codemirror_mode": "text/x-c++src",
   "file_extension": ".cpp",
   "mimetype": "text/x-c++src",
   "name": "c++",
   "version": "17"
  }
 },
 "nbformat": 4,
 "nbformat_minor": 5
}

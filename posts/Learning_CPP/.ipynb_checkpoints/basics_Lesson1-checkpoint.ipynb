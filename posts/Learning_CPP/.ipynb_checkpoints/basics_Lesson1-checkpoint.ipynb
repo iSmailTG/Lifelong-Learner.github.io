{
 "cells": [
  {
   "cell_type": "raw",
   "id": "2c185069-f929-43fd-aa1a-88f3cd2338a2",
   "metadata": {
    "editable": true,
    "raw_mimetype": "",
    "slideshow": {
     "slide_type": ""
    },
    "tags": []
   },
   "source": [
    "---\n",
    "title: \"Learning CPP As Pythonista: Day-1 \"\n",
    "author: \"Ismail TG\"\n",
    "date: \"09/19/2025\"\n",
    "format:\n",
    "  html:\n",
    "    code-fold: true\n",
    "    code-line-numbers: true\n",
    "    code-tools: true\n",
    "    highlight-style: github\n",
    "    theme: cosmo\n",
    "categories: [Kernel Engineering, Cuda, Pytorch, CPP]\n",
    "image: \"PythonVsCPP.png\"\n",
    "---"
   ]
  },
  {
   "cell_type": "markdown",
   "id": "e84a7c9f-f174-47a6-abc9-5c03df8d09f9",
   "metadata": {
    "editable": true,
    "slideshow": {
     "slide_type": ""
    },
    "tags": []
   },
   "source": [
    "## Motivation:\n",
    "- In this series of lessons, I will track my learning through the universe of C++ as someone who mainly program in Python.\n",
    "- The motivation behind learning C++ in 2025 can be resumed into one word: **Cuda**.\n",
    "- CUDA kernels are still C++ first, Python second. Learning the bare-metal steps so I can stop guessing and start writing fast GPU code. One small page a day until the compiler feels normal.\n",
    "- This idea of learning C++ for CUDA make it less intimidating, since C++ isn't the goal here  rather just a tool for something else.\n",
    "- But still I need to learn some basics of C++ in order to navigate its world that already after one studying session looks very strange and outlandish for a Python programmer."
   ]
  },
  {
   "cell_type": "markdown",
   "id": "21992ae1-8687-4424-8475-2da020c54131",
   "metadata": {},
   "source": [
    "## C++ World:\n",
    "- C++ is a **Compiled language**, which means the code goes through a transformation process before it can run.\n",
    "- In C++, we write code then a special program called **Compiler** translates our *Human-readable* code into machine code (1s & 0s) that computer can executes.\n",
    "- This process of compiling works in **4 stages**:\n",
    "  * Stage1: Pre-processing before the compiler even looks at our code, it's a text manipulation step where the preprocessor check code that starts with `#` and  copy-past, find-replace it automatically, so the next step include only pure C++ code.\n",
    "  * Stage2: The compiler reads the C++ code and converts it to **Assembly Language**, which is a human readable instructions that are very close to machine code.\n",
    "  * Stage3: An **Assembler** converts assembly into actual `1s` & `0s` that the CPU understands.\n",
    "  * Stage4: A **Linker** connects everything together (code, libraries, other file..) and creates the final executable file that can run."
   ]
  },
  {
   "cell_type": "code",
   "execution_count": 1,
   "id": "732ae3ad-c366-45b7-8f63-14b182cd7a8a",
   "metadata": {
    "editable": true,
    "slideshow": {
     "slide_type": ""
    },
    "tags": []
   },
   "outputs": [],
   "source": [
    "#include <iostream>\n",
    "int main()\n",
    "{\n",
    "    // print my name in three lines\n",
    "    std::cout << \"Hi, My\" << std::endl;\n",
    "    std::cout << \"name is\" << std::endl;\n",
    "    std::cout << \"Ismail.\" << std::endl;\n",
    "    // in one line with three string\n",
    "    std::cout << \"Hi, my \" << \"name is \" << \"Ismail.\" <<std::endl;\n",
    "    // print the whole expression in one string\n",
    "    std::cout << \"Hi, my name is Ismail.\";\n",
    "    \n",
    "    return 0;\n",
    "}"
   ]
  },
  {
   "cell_type": "code",
   "execution_count": 2,
   "id": "ac1b6dac-0b79-4814-81f7-2e7f50d86b52",
   "metadata": {},
   "outputs": [
    {
     "name": "stdout",
     "output_type": "stream",
     "text": [
      "Hi, My\n",
      "name is\n",
      "Ismail.\n",
      "Hi, my name is Ismail.\n",
      "Hi, my name is Ismail."
     ]
    },
    {
     "data": {
      "text/plain": [
       "0"
      ]
     },
     "execution_count": 2,
     "metadata": {},
     "output_type": "execute_result"
    }
   ],
   "source": [
    "main()"
   ]
  },
  {
   "cell_type": "markdown",
   "id": "3fb413ba-04c6-44c1-8e48-2d4ae3eb84c1",
   "metadata": {},
   "source": [
    "### Importing in CPP:\n",
    "\n",
    "* In order to use libraries and tools in C++ we use the keyword **`#include`**, it's equivalent to `import` in Python.\n",
    "* Library we used here is `iostream` which allows us to print in the screen and many more things.\n",
    "\n",
    "### Main() function:\n",
    "\n",
    "* **All C++ programs** has one `main()` function, it's the starting point of every program, The `main` function is called automatically when a C++ program begins.\n",
    "\n",
    "#### Printing:\n",
    "\n",
    "* By using **`cout`** we can print text on the screen.\n",
    "* More than one piece of data can be printed at a time.\n",
    "* **`endl`** is used after **`cout`** to end the line, so the next **`cout`** could starts printing next line.\n",
    "* We can print multiple pieces of data if we **seperate** them with **`<<`**.\n",
    "\n",
    "#### Statements:\n",
    "* The lines of code inside `main` function are called `statements`.\n",
    "* All statements in C++ must end with semi-colon **;**.\n",
    "* **The compiler** reads our code and turns it into instructions that a computer can understand (machine instructions).\n",
    "* Then the compiler will generate an executable program which is just a file filled with machine instructions.\n",
    "\n",
    "    - The compiler uses the semi-colons to know where each statement ends. If you do not include a semi-colon at the end of every statement then you will get a `syntax error`. A program with syntax errors will not compile and run.\n",
    "#### String:\n",
    "* The thing printed to the screen is called string, which refers to a groupr of characters inside `\"\"`.\n",
    "#### Comments:\n",
    "* As in python comments are non executable code that we put beside the code in order to explain for us or others ideas or concepts in the code.\n",
    "* In C++ the comment starts with //.\n",
    "* There are two types of comments:  \n",
    "       - single line comments and multi-line comments. All code in between a /* and  a */ are called multi-line comments. They will also be ignored by the compiler. When you have a lot to say in a comment you will use these"
   ]
  },
  {
   "cell_type": "markdown",
   "id": "c9c829f5-408b-454f-bae8-fe2987ed23b1",
   "metadata": {},
   "source": [
    "### Variables:\n",
    "* We will write a program that will find the distance between two points on a graph. It will need variables to hold the points (an X and a Y value for each point) and a variable to hold the length of the line that connects  the points.\n",
    "\n",
    "\n",
    "* Since C++ is a static typing language, we need to **declare** the type of the variable while creating it, and this variable will only accept the type is assigned to.\n",
    "* Here we declare a variable `var` with type `int` which refers to integer or whole number.\n"
   ]
  },
  {
   "cell_type": "code",
   "execution_count": 3,
   "id": "0307dbfd-ac8f-4133-95e3-e5aa189354f5",
   "metadata": {},
   "outputs": [
    {
     "name": "stdout",
     "output_type": "stream",
     "text": [
      "variable of type integer: 5\n"
     ]
    }
   ],
   "source": [
    "int var = 5;\n",
    "std::cout << \"variable of type integer: \" << var << std::endl;\n"
   ]
  },
  {
   "cell_type": "markdown",
   "id": "1c4b9f2a-f140-4982-89e3-27bc77d5eb8c",
   "metadata": {},
   "source": [
    "* A variable is place where we store data in the memory that can be read or written to in a program.\n",
    "* We think of variables as boxes that hold data, and each box is distinct in the memory. So every variable lives in a location in memory, and we can retrieve it by name without carrying about it's location in memory.\n"
   ]
  },
  {
   "cell_type": "code",
   "execution_count": 4,
   "id": "9d1787ad-94d3-45f9-b41d-546bb4b56c5b",
   "metadata": {},
   "outputs": [
    {
     "name": "stdout",
     "output_type": "stream",
     "text": [
      "variable 1: 1\n",
      "variable 2: 1\n",
      "variable 3: 2\n",
      "variable 4: 2\n"
     ]
    }
   ],
   "source": [
    "void func()\n",
    "{\n",
    "    // declare variables\n",
    "    int var0;\n",
    "    int var1;\n",
    "\n",
    "    int var2;\n",
    "    int var3;\n",
    "\n",
    "    // assign values to each variable\n",
    "    var0 = 1;\n",
    "    var1 = 1;\n",
    "    var2 = 2;\n",
    "    var3 = 2;\n",
    "\n",
    "    // print the variables value with a message on the screen\n",
    "    std::cout <<\"variable 1: \" <<var0<< std::endl;\n",
    "    std::cout <<\"variable 2: \" <<var1<< std::endl;\n",
    "    std::cout <<\"variable 3: \" <<var2<< std::endl;\n",
    "    std::cout <<\"variable 4: \" <<var3<< std::endl;\n",
    "}\n",
    "func();"
   ]
  },
  {
   "cell_type": "markdown",
   "id": "fb09ba49-9e2e-4cdd-98d7-1aa75b066eb3",
   "metadata": {},
   "source": [
    "* Here I declared 4 variables of type int, at this point the program requires a box in the memory for each variable.\n",
    "* Then when I assign each variable to a value, the program will put those values in their correspondent box.\n",
    "* Now we have what represents the points in a graph: `var0` and `var1` for point 1 & `var2` and `var3` for point 2, now we need variable that will hold the value of the distance. The type of that variable must be float number, since it can be decimal."
   ]
  },
  {
   "cell_type": "code",
   "execution_count": 5,
   "id": "3a5cf6ba-3160-44aa-82bb-2c5ceefb5f15",
   "metadata": {},
   "outputs": [],
   "source": [
    "void func2()\n",
    "{\n",
    "    int var0;\n",
    "    int var1;\n",
    "    int var2;\n",
    "    int var3;\n",
    "    var0 = 1;\n",
    "    var1 = 1;\n",
    "    var2 = 2;\n",
    "    var3 = 2;\n",
    "\n",
    "    // declare a float type variable\n",
    "\n",
    "    float lengthOfline;\n",
    "}"
   ]
  },
  {
   "cell_type": "markdown",
   "id": "9f4374db-aa2a-4b0a-af63-392589132a98",
   "metadata": {},
   "source": [
    "* the variable `lengthOfline` doesn't have value yet, so need to calculate the distance:\n",
    "  $d = \\sqrt{(x_2 - x_1)^2 + (y_2 - y_1)^2}$\n",
    "* So we need power and square root. we could multiply the number by itself to obtain the power but the square root need to be hard coded, but luckily we can just import it from **math** module in C++, which we need to import in order to use the built in function **sqrt**."
   ]
  },
  {
   "cell_type": "code",
   "execution_count": 6,
   "id": "47c7a194-96bc-4649-94e3-f46d4b8c3530",
   "metadata": {},
   "outputs": [
    {
     "name": "stdout",
     "output_type": "stream",
     "text": [
      "The length of the line is: 2\n"
     ]
    }
   ],
   "source": [
    "#include <cmath>\n",
    "void func3()\n",
    "{ \n",
    "    //declare the variables to hold points \n",
    "    int x1; \n",
    "    int y1; \n",
    " \n",
    "    int x2; \n",
    "    int y2; \n",
    " \n",
    "    //fill the point variables with data \n",
    "    x1 = 2; \n",
    "    y1 = 2; \n",
    " \n",
    "    x2 = 2; \n",
    "    y2 = 4; \n",
    " \n",
    "    //declare a variable to hold the length of a line between two points \n",
    "    float lengthOfLine; \n",
    " \n",
    "    //use the distance formula to find the distance \n",
    "    lengthOfLine = sqrt(((x2 - x1) * (x2 - x1)) + ((y2 - y1) * (y2 - y1))); \n",
    " \n",
    "    //print the length of the line \n",
    "    std::cout<<\"The length of the line is: \"<<lengthOfLine<<std::endl; \n",
    "  \n",
    "}\n",
    "func3();"
   ]
  },
  {
   "cell_type": "markdown",
   "id": "0122cf9d-d408-4b73-826f-549ff7413a77",
   "metadata": {},
   "source": [
    "### Data types:\n",
    "* In C++ data types are defined once and cannot be changed. If a variable is declared with a specific data type, it can only hold values that suits that data type.\n",
    "* We already used **`int`** which is a whole number, **`float`** a decimal. There are many other types:"
   ]
  },
  {
   "cell_type": "code",
   "execution_count": 7,
   "id": "9bbe186a-5363-493e-8dfa-c3535a9b9d46",
   "metadata": {},
   "outputs": [],
   "source": [
    "#include <string>\n",
    "using namespace std;\n"
   ]
  },
  {
   "cell_type": "code",
   "execution_count": 8,
   "id": "0f9b773c-f91c-4b18-8612-e953cb6ba898",
   "metadata": {},
   "outputs": [
    {
     "name": "stdout",
     "output_type": "stream",
     "text": [
      "this is a whole number: 5\n",
      "this is a decimal number: 5.22\n",
      "this is single character: K\n",
      "This is a string of charaters: Ismail\n"
     ]
    }
   ],
   "source": [
    "void basicdtypes()\n",
    "{\n",
    "    int num = 5;\n",
    "    float dec = 5.22;\n",
    "    char oneChar = 'K';\n",
    "    string name = \"Ismail\";\n",
    "\n",
    "    cout <<\"this is a whole number: \" << num << endl;\n",
    "    cout <<\"this is a decimal number: \" <<dec<< endl;\n",
    "    cout << \"this is single character: \" <<oneChar<< endl;\n",
    "    cout << \"This is a string of charaters: \" <<name<< endl;\n",
    "}\n",
    "basicdtypes();"
   ]
  },
  {
   "cell_type": "markdown",
   "id": "8f8b9e47-1695-43f7-b88f-4660d4aa23e4",
   "metadata": {},
   "source": [
    "* `char` is a single character between single quotes.\n",
    "* `string` is couple of characters between double quotes, and it's not primitive type, it must be imported `#include <string>`"
   ]
  },
  {
   "cell_type": "markdown",
   "id": "f0db90c8-8736-4be2-911c-041188ffad30",
   "metadata": {},
   "source": [
    "### Numbers types:\n",
    "* Till now we saw 2 numerical data types: `int` and `float`.\n",
    "* A data type defines a few things:\n",
    "    - the operations that can be performed on variables of that type\n",
    "    - the values that can be stored inside a variable of that type (there is usually a range of acceptable values)\n",
    "    - the amount of space a variable takes up in memory\n",
    "* The operations performed on `int` are: **` - + / * `**, the division is the only operation that requires some explanation.\n",
    "* Here is a division between to integers: "
   ]
  },
  {
   "cell_type": "code",
   "execution_count": 9,
   "id": "fc04ea79-76f3-4d9f-bc61-4c70d259d86d",
   "metadata": {},
   "outputs": [
    {
     "name": "stdout",
     "output_type": "stream",
     "text": [
      "result a / b => 2\n"
     ]
    }
   ],
   "source": [
    "void divint()\n",
    "{\n",
    "    int a = 10;\n",
    "    int b = 5;\n",
    "    int res = a / b;\n",
    "    cout <<\"result a / b => \" <<res<< endl;\n",
    "}    \n",
    "divint();"
   ]
  },
  {
   "cell_type": "markdown",
   "id": "ab7cbd76-3cda-433a-aa07-3bc63b438bce",
   "metadata": {},
   "source": [
    "* What if we want to divide 2 integers that will causes not a whole number:"
   ]
  },
  {
   "cell_type": "code",
   "execution_count": 10,
   "id": "408c63b1-f54c-462e-9252-1ac3e964900c",
   "metadata": {},
   "outputs": [
    {
     "name": "stdout",
     "output_type": "stream",
     "text": [
      "result as num = 12: 6\n",
      "result as num = 13: 6\n"
     ]
    }
   ],
   "source": [
    "void dvd()\n",
    "{\n",
    "    int num = 12;\n",
    "    int num1 = 2;\n",
    "    int res = num / num1;\n",
    "    cout <<\"result as num = 12: \" <<res<< endl;\n",
    "    num = 13;\n",
    "    res = num / num1;\n",
    "    cout <<\"result as num = 13: \" <<res<< endl;\n",
    "}\n",
    "dvd();"
   ]
  },
  {
   "cell_type": "markdown",
   "id": "91319601-53e2-49ca-a1f7-95fb6d559926",
   "metadata": {},
   "source": [
    "* At first, the result was 6 which is the obvious answer, but when we predicted `6.5` we still get `6`?\n",
    "* The reason is that integer division returns the quotient which is always an integer. This is true of all integer divides using the / operator"
   ]
  },
  {
   "cell_type": "markdown",
   "id": "9f851f48-e522-4652-8835-bcdb1741a0e4",
   "metadata": {},
   "source": [
    "* There is another integer division operator called the **modulus operator** that returns the remainder. The mod operator is the **`%`** symbol."
   ]
  },
  {
   "cell_type": "code",
   "execution_count": 11,
   "id": "181dd807-7a3b-47d9-9735-0417aca6722e",
   "metadata": {},
   "outputs": [
    {
     "name": "stdout",
     "output_type": "stream",
     "text": [
      "result with / operator: 6\n",
      " result with % operator: 0\n"
     ]
    }
   ],
   "source": [
    "void divmod()\n",
    "{\n",
    "     \n",
    "    int num1 = 12; \n",
    "    int num2 = 2; \n",
    "    int result; \n",
    " \n",
    "    result = num1 / num2; \n",
    "    cout << \"result with / operator: \" << result << endl;     \n",
    " \n",
    "    result = num1 % num2; \n",
    "    cout << \" result with % operator: \" << result << endl;\n",
    "    \n",
    "}\n",
    "\n",
    "divmod();"
   ]
  },
  {
   "cell_type": "markdown",
   "id": "f2149201-7ee7-4e66-9c96-9c11480441e8",
   "metadata": {},
   "source": [
    "* A data type also specifies an acceptable range of values.\n",
    "* An int variable cannot hold an infinite sized number, there is a limit.\n",
    "\n",
    "* There is a built in constant called **`INT_MAX`** that holds the largest value that can be stored in any int variable (there is an **`INT_MIN`** too)."
   ]
  },
  {
   "cell_type": "code",
   "execution_count": 12,
   "id": "fc4532eb-64cd-40ed-88b5-1f144354e96e",
   "metadata": {},
   "outputs": [],
   "source": [
    "#include <climits>"
   ]
  },
  {
   "cell_type": "code",
   "execution_count": 13,
   "id": "ce5e6a39-3dc9-481e-8b7c-ff931c4ed885",
   "metadata": {},
   "outputs": [
    {
     "name": "stdout",
     "output_type": "stream",
     "text": [
      "largest number can be stored: 2147483647\n"
     ]
    }
   ],
   "source": [
    "int largeNumber;\n",
    "largeNumber = INT_MAX;\n",
    "cout<<\"largest number can be stored: \" <<largeNumber<< endl;"
   ]
  },
  {
   "cell_type": "markdown",
   "id": "24c015f9-3b57-44ab-b499-f4ec466420c4",
   "metadata": {},
   "source": [
    "* Adding one number to that value will causes an out of range error\n",
    "* The arithmetic operators for floats are the same as ints except there is no mod operator. float division results in numbers with fractional parts.\n",
    "* In case we want to declare a float data type but the value is a whole number we need to explicitly tell the compiler it's a float number by adding `.0`:"
   ]
  },
  {
   "cell_type": "code",
   "execution_count": 14,
   "id": "7a8d0205-2dab-4d87-8391-e5fb3e117b0c",
   "metadata": {},
   "outputs": [
    {
     "name": "stdout",
     "output_type": "stream",
     "text": [
      "the type of num1 = 15 :  i\n",
      "the type of num2 = 15.0 :  f\n"
     ]
    }
   ],
   "source": [
    "#include <typeinfo>\n",
    "void wholeFloat()\n",
    "{\n",
    "    int num1 = 15;\n",
    "    float num2 = 15.0;\n",
    "    cout << \"the type of num1 = 15 :  \" << typeid(num1).name() << endl;\n",
    "    cout << \"the type of num2 = 15.0 :  \" << typeid(num2).name() << endl;\n",
    "    \n",
    "    \n",
    "}\n",
    "\n",
    "wholeFloat();"
   ]
  },
  {
   "cell_type": "markdown",
   "id": "83e61764-a25d-46c1-9432-5d247edad22e",
   "metadata": {},
   "source": [
    "* We get `i` for integer for `15` and `f` float for `15.0`."
   ]
  },
  {
   "cell_type": "markdown",
   "id": "7fed9ad0-fabf-4fea-8d70-f6656cf393cd",
   "metadata": {},
   "source": [
    "### Characters and strings\n",
    "* **`string`** is very strong type which allows us to make many different things and manipulates data in many ways.\n",
    "* While **`char`* is a bit hard to work with, since it's limited and not as versatile as `string`."
   ]
  },
  {
   "cell_type": "code",
   "execution_count": 15,
   "id": "a523250e-ec0f-43be-a560-f68a8778f9db",
   "metadata": {},
   "outputs": [],
   "source": [
    "void chars()\n",
    "{\n",
    "    \n",
    "    char first = 'c';\n",
    "    char second = 'h';\n",
    "    char third = 'a';\n",
    "    char fourth = 'r';\n",
    "\n",
    "    string word = \"String\";\n",
    "    \n",
    "    cout << first << second << third << fourth << endl;\n",
    "    cout << word << endl;\n",
    "\n",
    "}"
   ]
  },
  {
   "cell_type": "code",
   "execution_count": 16,
   "id": "6d46e63c-2b05-4b98-83db-0b5878bcb9c1",
   "metadata": {},
   "outputs": [
    {
     "name": "stdout",
     "output_type": "stream",
     "text": [
      "char\n",
      "String\n"
     ]
    }
   ],
   "source": [
    "chars();"
   ]
  },
  {
   "cell_type": "markdown",
   "id": "37c3b21d-abcf-4446-84b6-ccb1bbb52980",
   "metadata": {},
   "source": [
    "#### String Operations:\n",
    "* String tyoe has many operation that we could use to manipulate data, like **length()** which as the name suggests tells us the length of string:"
   ]
  },
  {
   "cell_type": "code",
   "execution_count": 17,
   "id": "9ae0c064-5512-4f90-ab7f-0c42b76565e0",
   "metadata": {},
   "outputs": [
    {
     "name": "stdout",
     "output_type": "stream",
     "text": [
      "Number of characters in Ismail is: 6\n"
     ]
    }
   ],
   "source": [
    "string name = \"Ismail\";\n",
    "cout << \"Number of characters in Ismail is: \" << name.length() << endl;"
   ]
  },
  {
   "cell_type": "markdown",
   "id": "09b474a3-8e99-4064-b72e-a388962ee4aa",
   "metadata": {},
   "source": [
    "* The square brackets is another operator that will return an individual character in the string:"
   ]
  },
  {
   "cell_type": "code",
   "execution_count": 18,
   "id": "f22b1c9e-2433-4238-9597-abdb650e2173",
   "metadata": {},
   "outputs": [
    {
     "name": "stdout",
     "output_type": "stream",
     "text": [
      "this is a string: word\n",
      "this is the first character of that word: w\n"
     ]
    }
   ],
   "source": [
    "string word = \"word\";\n",
    "char letter  = word[0];\n",
    "cout << \"this is a string: \" << word << endl;\n",
    "// the index is 0 based\n",
    "cout << \"this is the first character of that word: \" << letter << endl;"
   ]
  },
  {
   "cell_type": "markdown",
   "id": "f8d1fd99-05c5-4a20-a4f5-79be9dee6462",
   "metadata": {},
   "source": [
    "* The **+** operator concatenates strings together."
   ]
  },
  {
   "cell_type": "code",
   "execution_count": 19,
   "id": "db165490-4f20-458c-92c6-f4100493c46d",
   "metadata": {},
   "outputs": [
    {
     "name": "stdout",
     "output_type": "stream",
     "text": [
      "word1 word2 word3 ...\n"
     ]
    }
   ],
   "source": [
    "string sentence = \"word1\";\n",
    "sentence = sentence + \" word2\" + \" word3\" + \" ...\";\n",
    "cout << sentence << endl;"
   ]
  },
  {
   "cell_type": "markdown",
   "id": "566d6df4-d680-4718-ae01-9920fac63700",
   "metadata": {},
   "source": [
    "* **substr** is a string function that will create a new string from the innards of another.\n",
    "* This function takes a starting position and the number of character to use after that position and copies the characters into a new string.\n"
   ]
  },
  {
   "cell_type": "code",
   "execution_count": 20,
   "id": "8ee73499-8565-483e-aed6-ef62cfa6aa5b",
   "metadata": {},
   "outputs": [
    {
     "name": "stdout",
     "output_type": "stream",
     "text": [
      "third\n"
     ]
    }
   ],
   "source": [
    "string sentence = \"find the third word\";\n",
    "string aWord = sentence.substr(9, 5);\n",
    "cout << aWord << endl;"
   ]
  },
  {
   "cell_type": "markdown",
   "id": "de5cedcc-d57e-4330-9c7b-8937487acd89",
   "metadata": {},
   "source": [
    "* **`find`** will return the position where the first occurrence of a word is found (and -1 if it is not found).\n"
   ]
  },
  {
   "cell_type": "code",
   "execution_count": 21,
   "id": "4a018f5f-767b-45e2-afdd-243e34d794a0",
   "metadata": {},
   "outputs": [
    {
     "name": "stdout",
     "output_type": "stream",
     "text": [
      "Aldo can be found at this position: 9\n"
     ]
    }
   ],
   "source": [
    "string sentence = \"where is Aldo ?\";\n",
    "int findAldo = sentence.find(\"Aldo\");\n",
    "cout << \"Aldo can be found at this position: \" << findAldo << endl;"
   ]
  },
  {
   "cell_type": "markdown",
   "id": "a40d6c96-cd1e-4cc1-bcea-7ade21207e27",
   "metadata": {},
   "source": [
    "* **`erase`** will remove characters from a string. It takes the starting position of where I want to start removing characters and he total number of characters to get rid of.\n"
   ]
  },
  {
   "cell_type": "code",
   "execution_count": 22,
   "id": "9e6642a0-3c13-4572-be53-f10630ef6e60",
   "metadata": {},
   "outputs": [],
   "source": [
    "void func()\n",
    "{\n",
    "    string sentence = \"In this sentence sentence, it must be no repeated word!\";\n",
    "    int repeatedWord = sentence.find(\"sentence\");\n",
    "    sentence.erase(repeatedWord, 9);\n",
    "    cout << sentence << endl;\n",
    "}"
   ]
  },
  {
   "cell_type": "code",
   "execution_count": 23,
   "id": "70bfb979-8495-4a1d-9525-efb473c54498",
   "metadata": {},
   "outputs": [
    {
     "name": "stdout",
     "output_type": "stream",
     "text": [
      "In this sentence, it must be no repeated word!\n"
     ]
    }
   ],
   "source": [
    "func();"
   ]
  },
  {
   "cell_type": "markdown",
   "id": "17a99282-d855-4f2d-9879-ae126e1949a6",
   "metadata": {},
   "source": [
    "* **`insert`** adds a new string after the position specified in the string.\n"
   ]
  },
  {
   "cell_type": "code",
   "execution_count": 24,
   "id": "253aab3a-d8d7-4b40-82e1-93905c8bd7af",
   "metadata": {},
   "outputs": [
    {
     "name": "stdout",
     "output_type": "stream",
     "text": [
      "Hi, my name is Ismail.\n"
     ]
    }
   ],
   "source": [
    "string sentence = \", my name is Ismail.\";\n",
    "string greeting = \"Hi\";\n",
    "sentence = sentence.insert(0, greeting);\n",
    "cout << sentence << endl;"
   ]
  },
  {
   "cell_type": "markdown",
   "id": "772adc44-0662-4157-acd4-5f9dc47bff54",
   "metadata": {},
   "source": [
    "### Weekly pay calculator\n",
    "* In this small program we will use the **`cin`** which takes input from users and use it in the program, displays it or further process it.\n",
    "* In this program we will calculate the weekly pay from employers by taking inputs from them and use as arguments in a formula in order to calculate."
   ]
  },
  {
   "cell_type": "markdown",
   "id": "70f469eb-6606-433e-a646-0dc201c4d0ee",
   "metadata": {},
   "source": [
    "* **`cin`** is part of `<iostream>` just like **cout**."
   ]
  },
  {
   "cell_type": "code",
   "execution_count": 25,
   "id": "980da680-be7e-474c-b882-8f2c000e1247",
   "metadata": {},
   "outputs": [],
   "source": [
    "#include <iostream>\n",
    "using namespace std;"
   ]
  },
  {
   "cell_type": "code",
   "execution_count": 26,
   "id": "c3398578-2339-4c0f-b7aa-c6b20a449330",
   "metadata": {},
   "outputs": [],
   "source": [
    "void calculatePay()\n",
    "{\n",
    "    float numHoursWorked;\n",
    "    float hourlyPayRate;\n",
    "    string employeeName;\n",
    "    float weeklyPay;\n",
    "    \n",
    "}"
   ]
  },
  {
   "cell_type": "markdown",
   "id": "710a7268-19f8-4d21-bfc6-d23c35f636fe",
   "metadata": {},
   "source": [
    "*  The rpoblem with this approach is that we need to add the numbers manually for each employee or ask them the modify the code for themselves, which is inconvenient.\n",
    "*  The idea is write code that asks them for their informations, stores it and calculates the weekly pay."
   ]
  },
  {
   "cell_type": "code",
   "execution_count": null,
   "id": "9d247784-b0e5-4be0-aece-0f6c98b45189",
   "metadata": {},
   "outputs": [],
   "source": [
    "#include <iostream>\n",
    "#include <string>\n",
    "using namespace std;\n",
    "\n",
    "int main()\n",
    "{\n",
    "  float hoursPerWeek;\n",
    "  float hourlyPayRate;\n",
    "  string employeeName;\n",
    "  float weeklyPay;\n",
    "  cout << \"Enter hours worked per week: \"<< endl;\n",
    "  cin >> hoursPerWeek;\n",
    "  cout << \"Enter hourly pay rate: \" << endl;\n",
    "  cin >> hourlyPayRate;\n",
    "  cout << \"Enter your Name: \" << endl;\n",
    "  cin >> employeeName;\n",
    "\n",
    "  weeklyPay = hoursPerWeek * hourlyPayRate;\n",
    "\n",
    "  cout << employeeName << \" Earned \" << weeklyPay << \"$ this week.\" << endl;\n",
    "\n",
    "  return 0;\n",
    "  }"
   ]
  },
  {
   "cell_type": "markdown",
   "id": "586e1622-b750-43fe-81cd-e8b94917d741",
   "metadata": {},
   "source": [
    "* I could revisit the **`distance formula`** I program earlier and apply the idea of **`cin`** values instead of hard coding them like in the first version."
   ]
  },
  {
   "cell_type": "code",
   "execution_count": null,
   "id": "bf1d2fff-5ce1-4ed1-af34-78246cff367e",
   "metadata": {},
   "outputs": [],
   "source": [
    "// old version\n",
    "int main()\n",
    "{\n",
    "  int x0;\n",
    "  int y0;\n",
    "  int x1;\n",
    "  int y1;\n",
    "\n",
    "  x0 = 2;\n",
    "  y0 = 3;\n",
    "  x1 = 3;\n",
    "  y1 = 4;\n",
    "\n",
    "  float distanceFormula;\n",
    "\n",
    "  distanceFormula = sqrt(((x1 - x0) * (x1 - x0)) - ((y1 - y0) * (y1 - y0))\n",
    "\n",
    "  return 0;\n",
    "  \n",
    "}"
   ]
  },
  {
   "cell_type": "markdown",
   "id": "eeb2aa48-28de-435e-a4a4-eafc6c7309c1",
   "metadata": {},
   "source": [
    "* In the new version the values `x0, x1, y0, y1` will be decided by the user through `cin`."
   ]
  },
  {
   "cell_type": "code",
   "execution_count": null,
   "id": "50f44ee0-04fb-45c0-b1b7-1a64bb2f1c40",
   "metadata": {},
   "outputs": [],
   "source": [
    "#include <iostream>\n",
    "#include <cmath>\n",
    "using namespace std;\n",
    "\n",
    "int main()\n",
    "{\n",
    "    float x0, x1, y0, y1;  // Changed to float for better precision\n",
    "\n",
    "    cout << \"Please enter the values of the first point: \" << endl;\n",
    "    cout << \"X: \";\n",
    "    cin >> x0;\n",
    "    cout << \"Y: \";\n",
    "    cin >> y0;\n",
    "\n",
    "    cout << \"Please enter the values of the second point: \" << endl;\n",
    "    cout << \"X: \";\n",
    "    cin >> x1;\n",
    "    cout << \"Y: \";\n",
    "    cin >> y1;\n",
    "    \n",
    "    // distance formula: sqrt((x1-x0)² + (y1-y0)²)\n",
    "    float distanceFormula = sqrt(pow(x1 - x0, 2) + pow(y1 - y0, 2));\n",
    "    \n",
    "    cout << \"The length of the line is: \" << distanceFormula << endl;\n",
    "\n",
    "    return 0;\n",
    "}"
   ]
  },
  {
   "cell_type": "markdown",
   "id": "7de73138-760b-49b0-9660-1238610ad37a",
   "metadata": {},
   "source": [
    "* Further using `cin >>` in a function where I have to calculate many values and manipulate them:"
   ]
  },
  {
   "cell_type": "code",
   "execution_count": null,
   "id": "275f43ab-03a8-41e7-bda3-d204367816e4",
   "metadata": {},
   "outputs": [],
   "source": [
    "%%writefile gasMileage.cpp\n",
    "\n",
    "#include <iostream>\n",
    "#include <string>\n",
    "#include <cmath>\n",
    "using namespace std;\n",
    "\n",
    "\n",
    "int main()\n",
    "{\n",
    "  float distance;\n",
    "  string carBrand;\n",
    "  string carModel;\n",
    "  float carCapacity;\n",
    "  float mpg;\n",
    "\n",
    "  cout << \"Enter the Distance of the Trip: \" << endl;\n",
    "  cin >> distance;\n",
    "\n",
    "  cout << \"Enter the rand of the car: \" << endl;\n",
    "  cin >> carBrand;\n",
    "\n",
    "  cout  << \"Enter the car Model: \" << endl;\n",
    "  cin >> carModel;\n",
    "\n",
    "  cout << \"Enter the fuel Tank Capacity: \" << endl;\n",
    "  cin >> carCapacity;\n",
    "  \n",
    "  cout << \"Enter the MPG of the car: \" << endl;\n",
    "  cin >> mpg;\n",
    "\n",
    "\n",
    "  float mileageOnFullTank;\n",
    "  mileageOnFullTank = mpg * carCapacity;\n",
    "  float numOfStops = int(distance / mileageOnFullTank);\n",
    "  float gasRequired = distance / mpg;\n",
    "  float galonsLeft = ((numOfStops+1) * carCapacity) - gasRequired;\n",
    "  \n",
    "  \n",
    "  cout << \"For a trip of \" << distance << \" miles\" << endl;\n",
    "  cout << \" a \" << carBrand << \" model \" << carModel << \" requires \" << gasRequired << \" Gallons Of Gas \" << endl;\n",
    "  cout << \" will require \" << numOfStops << \" stop for gas \" << endl;\n",
    "  cout << \" and will have \" << galonsLeft << \" gallons of gas left in the tank\" << endl;\n",
    "  return 0;\n",
    "}  "
   ]
  },
  {
   "cell_type": "markdown",
   "id": "c8441fde-3442-45b5-84fb-4a7430b1f058",
   "metadata": {},
   "source": [
    "## Day 1 Recap:\n",
    "* Today I started exploring C++ as a Python programmer, motivated by my goal of writing CUDA kernels. I covered the following fundamentals:\n",
    "\n",
    "* The compilation process (pre-processor → compiler → assembler → linker) and how C++ differs from interpreted languages. \n",
    "\n",
    "\n",
    "* How to **`include`** libraries using `#include`, and the special role of the **`main()`** function. \n",
    "\n",
    "\n",
    "* Basic printing with **`std::cout`**, ending lines with **`<< std::endl`**, and formatting simple output. \n",
    "\n",
    "\n",
    "* **Variables**: declaring types explicitly (e.g., `int`, `float`), how static typing enforces constraints, and understanding variables as named boxes in memory. \n",
    "\n",
    "\n",
    "* Fundamental data types: integers, floats, characters, strings; string operations like length, indexing, concatenation, substrings. \n",
    "\n",
    "\n",
    "* A simple user-input example: using **`std::cin`** to build a basic “weekly pay” calculator. "
   ]
  }
 ],
 "metadata": {
  "kernelspec": {
   "display_name": "Cpp17",
   "language": "Cpp17",
   "name": "xcpp17"
  },
  "language_info": {
   "codemirror_mode": "text/x-cppsrc",
   "file_extension": ".cpp",
   "mimetype": "text/x-cppsrc",
   "name": "cpp",
   "version": "17"
  }
 },
 "nbformat": 4,
 "nbformat_minor": 5
}

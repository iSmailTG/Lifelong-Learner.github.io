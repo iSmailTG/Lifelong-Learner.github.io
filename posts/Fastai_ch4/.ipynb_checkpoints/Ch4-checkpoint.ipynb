{
 "cells": [
  {
   "cell_type": "raw",
   "metadata": {},
   "source": [
    "---\n",
    "title: \"Chapter 4: Deep learning for coders with fastai and pytorch \"\n",
    "author: \"Ismail TG\"\n",
    "date: \"10/26/2022\"\n",
    "categories: [Fastai, Pytorch, Numpy, Pandas, Deep Learning]\n",
    "image: \"fastbook.jpg\"\n",
    "---"
   ]
  },
  {
   "cell_type": "code",
   "execution_count": 1,
   "metadata": {
    "colab": {
     "base_uri": "https://localhost:8080/"
    },
    "id": "d4MPSsEE4GxT",
    "outputId": "61c7053b-5d26-40d8-9071-4c8426ad3e25"
   },
   "outputs": [
    {
     "name": "stdout",
     "output_type": "stream",
     "text": [
      "\u001b[K     |████████████████████████████████| 719 kB 27.5 MB/s \n",
      "\u001b[K     |████████████████████████████████| 5.3 MB 55.1 MB/s \n",
      "\u001b[K     |████████████████████████████████| 441 kB 70.9 MB/s \n",
      "\u001b[K     |████████████████████████████████| 1.3 MB 56.3 MB/s \n",
      "\u001b[K     |████████████████████████████████| 1.6 MB 57.3 MB/s \n",
      "\u001b[K     |████████████████████████████████| 115 kB 72.1 MB/s \n",
      "\u001b[K     |████████████████████████████████| 163 kB 71.5 MB/s \n",
      "\u001b[K     |████████████████████████████████| 212 kB 55.8 MB/s \n",
      "\u001b[K     |████████████████████████████████| 127 kB 75.4 MB/s \n",
      "\u001b[K     |████████████████████████████████| 115 kB 75.4 MB/s \n",
      "\u001b[K     |████████████████████████████████| 7.6 MB 56.7 MB/s \n",
      "\u001b[?25hMounted at /content/gdrive\n"
     ]
    }
   ],
   "source": [
    " ! [ -e /content ] && pip install -Uqq fastbook\n",
    "import fastbook\n",
    "fastbook.setup_book()\n"
   ]
  },
  {
   "cell_type": "code",
   "execution_count": 2,
   "metadata": {
    "id": "dck8jUSi4dI9"
   },
   "outputs": [],
   "source": [
    "from fastbook import *\n",
    "from fastai.vision.widgets import *\n",
    "matplotlib.rc('image', cmap='Greys')"
   ]
  },
  {
   "cell_type": "markdown",
   "metadata": {
    "id": "2MydpPUr-dtz"
   },
   "source": [
    "# Under the Hood: Training a Digit Classifier"
   ]
  },
  {
   "cell_type": "markdown",
   "metadata": {
    "id": "1ou00HAC-fkG"
   },
   "source": [
    "* In this chapter we will try to understand the mechanisms of deep learning by solving a **Computer Vision** problem\n",
    "   - we will try to build a model from scartch that can classify hand written digits ( 7's and 3's)\n",
    "* In this chapter we will investigate how the model learn, and what's are the key concepts of deep learning process   "
   ]
  },
  {
   "cell_type": "markdown",
   "metadata": {
    "id": "ibLBnjY5_Z5w"
   },
   "source": [
    "## Pixels: The Foundations of Computer Vision"
   ]
  },
  {
   "cell_type": "markdown",
   "metadata": {
    "id": "dkcTB4vt_d1K"
   },
   "source": [
    "* Computer are good with numbers, thats why in order to make them do computer vision tasks we need to turn images to series of numbers\n",
    "* We will use a small version of the famous dataset **MNIST** which contains only 2 digits `3` and `7`.\n",
    "* Our task here is create a Neural Network from scratch that can calssify `3` from `7`."
   ]
  },
  {
   "cell_type": "code",
   "execution_count": 3,
   "metadata": {
    "colab": {
     "base_uri": "https://localhost:8080/",
     "height": 37
    },
    "id": "e2vASiv37eCG",
    "outputId": "0db219ce-d6f0-48a1-9d1f-200eed567e9c"
   },
   "outputs": [
    {
     "data": {
      "text/html": [
       "\n",
       "<style>\n",
       "    /* Turns off some styling */\n",
       "    progress {\n",
       "        /* gets rid of default border in Firefox and Opera. */\n",
       "        border: none;\n",
       "        /* Needs to be in here for Safari polyfill so background images work as expected. */\n",
       "        background-size: auto;\n",
       "    }\n",
       "    progress:not([value]), progress:not([value])::-webkit-progress-bar {\n",
       "        background: repeating-linear-gradient(45deg, #7e7e7e, #7e7e7e 10px, #5c5c5c 10px, #5c5c5c 20px);\n",
       "    }\n",
       "    .progress-bar-interrupted, .progress-bar-interrupted::-webkit-progress-bar {\n",
       "        background: #F44336;\n",
       "    }\n",
       "</style>\n"
      ],
      "text/plain": [
       "<IPython.core.display.HTML object>"
      ]
     },
     "metadata": {},
     "output_type": "display_data"
    },
    {
     "data": {
      "text/html": [
       "\n",
       "    <div>\n",
       "      <progress value='3219456' class='' max='3214948' style='width:300px; height:20px; vertical-align: middle;'></progress>\n",
       "      100.14% [3219456/3214948 00:01&lt;00:00]\n",
       "    </div>\n",
       "    "
      ],
      "text/plain": [
       "<IPython.core.display.HTML object>"
      ]
     },
     "metadata": {},
     "output_type": "display_data"
    }
   ],
   "source": [
    "#download the dataset;\n",
    "#MNIST_simple is a small mnist that contains only 7s and 3s\n",
    "path = untar_data(URLs.MNIST_SAMPLE)"
   ]
  },
  {
   "cell_type": "code",
   "execution_count": 4,
   "metadata": {
    "colab": {
     "base_uri": "https://localhost:8080/"
    },
    "id": "tQP-sgnH7oiu",
    "outputId": "3438fba3-8162-4418-c1a1-f1f85f586ff8"
   },
   "outputs": [
    {
     "data": {
      "text/plain": [
       "Path('/root/.fastai/data/mnist_sample')"
      ]
     },
     "execution_count": 4,
     "metadata": {},
     "output_type": "execute_result"
    }
   ],
   "source": [
    "#here is where the dataset is stored\n",
    "path"
   ]
  },
  {
   "cell_type": "code",
   "execution_count": 5,
   "metadata": {
    "colab": {
     "base_uri": "https://localhost:8080/"
    },
    "id": "ImctFwGE8W3X",
    "outputId": "28175f9d-f988-46b7-f058-76358f0129bc"
   },
   "outputs": [
    {
     "data": {
      "text/plain": [
       "(#3) [Path('/root/.fastai/data/mnist_sample/labels.csv'),Path('/root/.fastai/data/mnist_sample/train'),Path('/root/.fastai/data/mnist_sample/valid')]"
      ]
     },
     "execution_count": 5,
     "metadata": {},
     "output_type": "execute_result"
    }
   ],
   "source": [
    "# we can use ls() to investigate the dataset\n",
    "# we have 3 directories: train, valid, labels.csv\n",
    "path.ls()"
   ]
  },
  {
   "cell_type": "code",
   "execution_count": 6,
   "metadata": {
    "colab": {
     "base_uri": "https://localhost:8080/"
    },
    "id": "91viqKtw8b9p",
    "outputId": "f08ddc0e-bbaf-47b3-a773-92cf8d767108"
   },
   "outputs": [
    {
     "data": {
      "text/plain": [
       "(#2) [Path('/root/.fastai/data/mnist_sample/train/3'),Path('/root/.fastai/data/mnist_sample/train/7')]"
      ]
     },
     "execution_count": 6,
     "metadata": {},
     "output_type": "execute_result"
    }
   ],
   "source": [
    "#inside of train/valid folders, there's is 2 folders: 7, 3\n",
    "(path/'train').ls()"
   ]
  },
  {
   "cell_type": "code",
   "execution_count": 7,
   "metadata": {
    "id": "fJxW1BWY8oJ1"
   },
   "outputs": [],
   "source": [
    "#let's have a look at what in those folders while we sorted them an put them into variables ('threes and sevens')\n",
    "threes = (path/'train'/'3').ls().sorted()\n",
    "sevens = (path/'train'/'7').ls().sorted()"
   ]
  },
  {
   "cell_type": "code",
   "execution_count": 8,
   "metadata": {
    "colab": {
     "base_uri": "https://localhost:8080/"
    },
    "id": "ibjUeAa_8uEf",
    "outputId": "8c132bae-c052-4177-b881-80cbdcd94365"
   },
   "outputs": [
    {
     "data": {
      "text/plain": [
       "(Path('/root/.fastai/data/mnist_sample/train/3/9991.png'),\n",
       " Path('/root/.fastai/data/mnist_sample/train/3/10210.png'))"
      ]
     },
     "execution_count": 8,
     "metadata": {},
     "output_type": "execute_result"
    }
   ],
   "source": [
    "threes[-1], threes[22]"
   ]
  },
  {
   "cell_type": "code",
   "execution_count": 9,
   "metadata": {
    "colab": {
     "base_uri": "https://localhost:8080/",
     "height": 45
    },
    "id": "CoqlI5Ao81Dk",
    "outputId": "20743a90-b482-4662-93b4-543041122024"
   },
   "outputs": [
    {
     "data": {
      "image/png": "[encoded data removed]",
      "text/plain": [
       "<PIL.PngImagePlugin.PngImageFile image mode=L size=28x28>"
      ]
     },
     "execution_count": 9,
     "metadata": {},
     "output_type": "execute_result"
    }
   ],
   "source": [
    "#let's open it \n",
    "img_path = threes[1]\n",
    "img = Image.open(img_path)\n",
    "img"
   ]
  },
  {
   "cell_type": "markdown",
   "metadata": {
    "id": "SEixWcByF0yC"
   },
   "source": [
    "* In a computer, everything is represented as a numbers. \n",
    "* To view the numbers that make up this image, we have to convert it to a *NumPy array* or a *PyTorch tensor*."
   ]
  },
  {
   "cell_type": "code",
   "execution_count": 10,
   "metadata": {
    "colab": {
     "base_uri": "https://localhost:8080/"
    },
    "id": "CsAIWI_i88AX",
    "outputId": "1335cf27-6665-448f-caec-2bfa88c57c80"
   },
   "outputs": [
    {
     "data": {
      "text/plain": [
       "array([[  0,   0,   0,   0,   0,   0],\n",
       "       [  0,   0,   0,   0,   0,  29],\n",
       "       [  0,   0,   0,  48, 166, 224],\n",
       "       [  0,  93, 244, 249, 253, 187],\n",
       "       [  0, 107, 253, 253, 230,  48],\n",
       "       [  0,   3,  20,  20,  15,   0]], dtype=uint8)"
      ]
     },
     "execution_count": 10,
     "metadata": {},
     "output_type": "execute_result"
    }
   ],
   "source": [
    "# here we use numpy array to represent that image \"img\" as array (matrix) \n",
    "# the img here is represented as pixels\n",
    "# the darker pixel are 0 or have values colser to 0, and the lighter pixels have higher values\n",
    "array(img)[4:10, 4:10]"
   ]
  },
  {
   "cell_type": "code",
   "execution_count": 11,
   "metadata": {
    "colab": {
     "base_uri": "https://localhost:8080/"
    },
    "id": "YAeQi0mp9DvU",
    "outputId": "7e181ec2-65bd-434b-a3d0-754cd4028c47"
   },
   "outputs": [
    {
     "data": {
      "text/plain": [
       "tensor([[  0,   0,   0,   0,   0,   0],\n",
       "        [  0,   0,   0,   0,   0,  29],\n",
       "        [  0,   0,   0,  48, 166, 224],\n",
       "        [  0,  93, 244, 249, 253, 187],\n",
       "        [  0, 107, 253, 253, 230,  48],\n",
       "        [  0,   3,  20,  20,  15,   0]], dtype=torch.uint8)"
      ]
     },
     "execution_count": 11,
     "metadata": {},
     "output_type": "execute_result"
    }
   ],
   "source": [
    "#here we use Pytorch tensor which is the numpy array function of pytorch\n",
    "#they have the same code, and the behave basically the same (in most cases), \n",
    "#the main difference is tensors can be computed on GPu\n",
    "a =tensor(img)[4:10, 4:10]\n",
    "a"
   ]
  },
  {
   "cell_type": "markdown",
   "metadata": {
    "id": "pst5d6HDC4Bc"
   },
   "source": [
    "* We ciuld convert a image into array/tensor, then represent it as pandas `DataFrame` by coloring each pixel using `background_gradient()`, the darker the pixel is the closer it is to the highest value `252`, this the image is the closer to `0`."
   ]
  },
  {
   "cell_type": "code",
   "execution_count": 12,
   "metadata": {
    "colab": {
     "base_uri": "https://localhost:8080/",
     "height": 928
    },
    "id": "QwELuuqB9ZBE",
    "outputId": "a17261d5-6886-448c-b33e-e4468f7dc7d0"
   },
   "outputs": [
    {
     "data": {
      "text/html": [
       "<style type=\"text/css\">\n",
       "#T_3ce3e_row0_col0, #T_3ce3e_row0_col1, #T_3ce3e_row0_col2, #T_3ce3e_row0_col3, #T_3ce3e_row0_col4, #T_3ce3e_row0_col5, #T_3ce3e_row0_col6, #T_3ce3e_row0_col7, #T_3ce3e_row0_col8, #T_3ce3e_row0_col9, #T_3ce3e_row0_col10, #T_3ce3e_row0_col11, #T_3ce3e_row0_col12, #T_3ce3e_row0_col13, #T_3ce3e_row0_col14, #T_3ce3e_row0_col15, #T_3ce3e_row0_col16, #T_3ce3e_row0_col17, #T_3ce3e_row0_col18, #T_3ce3e_row0_col19, #T_3ce3e_row0_col20, #T_3ce3e_row0_col21, #T_3ce3e_row0_col22, #T_3ce3e_row0_col23, #T_3ce3e_row0_col24, #T_3ce3e_row0_col25, #T_3ce3e_row0_col26, #T_3ce3e_row0_col27, #T_3ce3e_row1_col0, #T_3ce3e_row1_col1, #T_3ce3e_row1_col2, #T_3ce3e_row1_col3, #T_3ce3e_row1_col4, #T_3ce3e_row1_col5, #T_3ce3e_row1_col6, #T_3ce3e_row1_col7, #T_3ce3e_row1_col8, #T_3ce3e_row1_col9, #T_3ce3e_row1_col10, #T_3ce3e_row1_col11, #T_3ce3e_row1_col12, #T_3ce3e_row1_col13, #T_3ce3e_row1_col14, #T_3ce3e_row1_col15, #T_3ce3e_row1_col16, #T_3ce3e_row1_col17, #T_3ce3e_row1_col18, #T_3ce3e_row1_col19, #T_3ce3e_row1_col20, #T_3ce3e_row1_col21, #T_3ce3e_row1_col22, #T_3ce3e_row1_col23, #T_3ce3e_row1_col24, #T_3ce3e_row1_col25, #T_3ce3e_row1_col26, #T_3ce3e_row1_col27, #T_3ce3e_row2_col0, #T_3ce3e_row2_col1, #T_3ce3e_row2_col2, #T_3ce3e_row2_col3, #T_3ce3e_row2_col4, #T_3ce3e_row2_col5, #T_3ce3e_row2_col6, #T_3ce3e_row2_col7, #T_3ce3e_row2_col8, #T_3ce3e_row2_col9, #T_3ce3e_row2_col10, #T_3ce3e_row2_col11, #T_3ce3e_row2_col12, #T_3ce3e_row2_col13, #T_3ce3e_row2_col14, #T_3ce3e_row2_col15, #T_3ce3e_row2_col16, #T_3ce3e_row2_col17, #T_3ce3e_row2_col18, #T_3ce3e_row2_col19, #T_3ce3e_row2_col20, #T_3ce3e_row2_col21, #T_3ce3e_row2_col22, #T_3ce3e_row2_col23, #T_3ce3e_row2_col24, #T_3ce3e_row2_col25, #T_3ce3e_row2_col26, #T_3ce3e_row2_col27, #T_3ce3e_row3_col0, #T_3ce3e_row3_col1, #T_3ce3e_row3_col2, #T_3ce3e_row3_col3, #T_3ce3e_row3_col4, #T_3ce3e_row3_col5, #T_3ce3e_row3_col6, #T_3ce3e_row3_col7, #T_3ce3e_row3_col8, #T_3ce3e_row3_col9, #T_3ce3e_row3_col10, #T_3ce3e_row3_col11, #T_3ce3e_row3_col12, #T_3ce3e_row3_col13, #T_3ce3e_row3_col14, #T_3ce3e_row3_col15, #T_3ce3e_row3_col16, #T_3ce3e_row3_col17, #T_3ce3e_row3_col18, #T_3ce3e_row3_col19, #T_3ce3e_row3_col20, #T_3ce3e_row3_col21, #T_3ce3e_row3_col22, #T_3ce3e_row3_col23, #T_3ce3e_row3_col24, #T_3ce3e_row3_col25, #T_3ce3e_row3_col26, #T_3ce3e_row3_col27, #T_3ce3e_row4_col0, #T_3ce3e_row4_col1, #T_3ce3e_row4_col2, #T_3ce3e_row4_col3, #T_3ce3e_row4_col4, #T_3ce3e_row4_col5, #T_3ce3e_row4_col6, #T_3ce3e_row4_col7, #T_3ce3e_row4_col8, #T_3ce3e_row4_col9, #T_3ce3e_row4_col10, #T_3ce3e_row4_col11, #T_3ce3e_row4_col12, #T_3ce3e_row4_col13, #T_3ce3e_row4_col14, #T_3ce3e_row4_col15, #T_3ce3e_row4_col16, #T_3ce3e_row4_col17, #T_3ce3e_row4_col18, #T_3ce3e_row4_col19, #T_3ce3e_row4_col20, #T_3ce3e_row4_col21, #T_3ce3e_row4_col22, #T_3ce3e_row4_col23, #T_3ce3e_row4_col24, #T_3ce3e_row4_col25, #T_3ce3e_row4_col26, #T_3ce3e_row4_col27, #T_3ce3e_row5_col0, #T_3ce3e_row5_col1, #T_3ce3e_row5_col2, #T_3ce3e_row5_col3, #T_3ce3e_row5_col4, #T_3ce3e_row5_col5, #T_3ce3e_row5_col6, #T_3ce3e_row5_col7, #T_3ce3e_row5_col8, #T_3ce3e_row5_col19, #T_3ce3e_row5_col20, #T_3ce3e_row5_col21, #T_3ce3e_row5_col22, #T_3ce3e_row5_col23, #T_3ce3e_row5_col24, #T_3ce3e_row5_col25, #T_3ce3e_row5_col26, #T_3ce3e_row5_col27, #T_3ce3e_row6_col0, #T_3ce3e_row6_col1, #T_3ce3e_row6_col2, #T_3ce3e_row6_col3, #T_3ce3e_row6_col4, #T_3ce3e_row6_col5, #T_3ce3e_row6_col6, #T_3ce3e_row6_col19, #T_3ce3e_row6_col20, #T_3ce3e_row6_col21, #T_3ce3e_row6_col22, #T_3ce3e_row6_col23, #T_3ce3e_row6_col24, #T_3ce3e_row6_col25, #T_3ce3e_row6_col26, #T_3ce3e_row6_col27, #T_3ce3e_row7_col0, #T_3ce3e_row7_col1, #T_3ce3e_row7_col2, #T_3ce3e_row7_col3, #T_3ce3e_row7_col4, #T_3ce3e_row7_col19, #T_3ce3e_row7_col20, #T_3ce3e_row7_col21, #T_3ce3e_row7_col22, #T_3ce3e_row7_col23, #T_3ce3e_row7_col24, #T_3ce3e_row7_col25, #T_3ce3e_row7_col26, #T_3ce3e_row7_col27, #T_3ce3e_row8_col0, #T_3ce3e_row8_col1, #T_3ce3e_row8_col2, #T_3ce3e_row8_col3, #T_3ce3e_row8_col4, #T_3ce3e_row8_col10, #T_3ce3e_row8_col11, #T_3ce3e_row8_col12, #T_3ce3e_row8_col13, #T_3ce3e_row8_col14, #T_3ce3e_row8_col19, #T_3ce3e_row8_col20, #T_3ce3e_row8_col21, #T_3ce3e_row8_col22, #T_3ce3e_row8_col23, #T_3ce3e_row8_col24, #T_3ce3e_row8_col25, #T_3ce3e_row8_col26, #T_3ce3e_row8_col27, #T_3ce3e_row9_col0, #T_3ce3e_row9_col1, #T_3ce3e_row9_col2, #T_3ce3e_row9_col3, #T_3ce3e_row9_col4, #T_3ce3e_row9_col9, #T_3ce3e_row9_col10, #T_3ce3e_row9_col11, #T_3ce3e_row9_col12, #T_3ce3e_row9_col13, #T_3ce3e_row9_col19, #T_3ce3e_row9_col20, #T_3ce3e_row9_col21, #T_3ce3e_row9_col22, #T_3ce3e_row9_col23, #T_3ce3e_row9_col24, #T_3ce3e_row9_col25, #T_3ce3e_row9_col26, #T_3ce3e_row9_col27, #T_3ce3e_row10_col0, #T_3ce3e_row10_col1, #T_3ce3e_row10_col2, #T_3ce3e_row10_col3, #T_3ce3e_row10_col4, #T_3ce3e_row10_col5, #T_3ce3e_row10_col6, #T_3ce3e_row10_col7, #T_3ce3e_row10_col8, #T_3ce3e_row10_col9, #T_3ce3e_row10_col10, #T_3ce3e_row10_col11, #T_3ce3e_row10_col12, #T_3ce3e_row10_col13, #T_3ce3e_row10_col18, #T_3ce3e_row10_col19, #T_3ce3e_row10_col20, #T_3ce3e_row10_col21, #T_3ce3e_row10_col22, #T_3ce3e_row10_col23, #T_3ce3e_row10_col24, #T_3ce3e_row10_col25, #T_3ce3e_row10_col26, #T_3ce3e_row10_col27, #T_3ce3e_row11_col0, #T_3ce3e_row11_col1, #T_3ce3e_row11_col2, #T_3ce3e_row11_col3, #T_3ce3e_row11_col4, #T_3ce3e_row11_col5, #T_3ce3e_row11_col6, #T_3ce3e_row11_col7, #T_3ce3e_row11_col8, #T_3ce3e_row11_col9, #T_3ce3e_row11_col10, #T_3ce3e_row11_col17, #T_3ce3e_row11_col18, #T_3ce3e_row11_col19, #T_3ce3e_row11_col20, #T_3ce3e_row11_col21, #T_3ce3e_row11_col22, #T_3ce3e_row11_col23, #T_3ce3e_row11_col24, #T_3ce3e_row11_col25, #T_3ce3e_row11_col26, #T_3ce3e_row11_col27, #T_3ce3e_row12_col0, #T_3ce3e_row12_col1, #T_3ce3e_row12_col2, #T_3ce3e_row12_col3, #T_3ce3e_row12_col4, #T_3ce3e_row12_col5, #T_3ce3e_row12_col6, #T_3ce3e_row12_col7, #T_3ce3e_row12_col8, #T_3ce3e_row12_col17, #T_3ce3e_row12_col18, #T_3ce3e_row12_col19, #T_3ce3e_row12_col20, #T_3ce3e_row12_col21, #T_3ce3e_row12_col22, #T_3ce3e_row12_col23, #T_3ce3e_row12_col24, #T_3ce3e_row12_col25, #T_3ce3e_row12_col26, #T_3ce3e_row12_col27, #T_3ce3e_row13_col0, #T_3ce3e_row13_col1, #T_3ce3e_row13_col2, #T_3ce3e_row13_col3, #T_3ce3e_row13_col4, #T_3ce3e_row13_col5, #T_3ce3e_row13_col6, #T_3ce3e_row13_col7, #T_3ce3e_row13_col8, #T_3ce3e_row13_col20, #T_3ce3e_row13_col21, #T_3ce3e_row13_col22, #T_3ce3e_row13_col23, #T_3ce3e_row13_col24, #T_3ce3e_row13_col25, #T_3ce3e_row13_col26, #T_3ce3e_row13_col27, #T_3ce3e_row14_col0, #T_3ce3e_row14_col1, #T_3ce3e_row14_col2, #T_3ce3e_row14_col3, #T_3ce3e_row14_col4, #T_3ce3e_row14_col5, #T_3ce3e_row14_col6, #T_3ce3e_row14_col7, #T_3ce3e_row14_col8, #T_3ce3e_row14_col9, #T_3ce3e_row14_col10, #T_3ce3e_row14_col21, #T_3ce3e_row14_col22, #T_3ce3e_row14_col23, #T_3ce3e_row14_col24, #T_3ce3e_row14_col25, #T_3ce3e_row14_col26, #T_3ce3e_row14_col27, #T_3ce3e_row15_col0, #T_3ce3e_row15_col1, #T_3ce3e_row15_col2, #T_3ce3e_row15_col3, #T_3ce3e_row15_col4, #T_3ce3e_row15_col5, #T_3ce3e_row15_col6, #T_3ce3e_row15_col7, #T_3ce3e_row15_col8, #T_3ce3e_row15_col9, #T_3ce3e_row15_col10, #T_3ce3e_row15_col11, #T_3ce3e_row15_col12, #T_3ce3e_row15_col13, #T_3ce3e_row15_col21, #T_3ce3e_row15_col22, #T_3ce3e_row15_col23, #T_3ce3e_row15_col24, #T_3ce3e_row15_col25, #T_3ce3e_row15_col26, #T_3ce3e_row15_col27, #T_3ce3e_row16_col0, #T_3ce3e_row16_col1, #T_3ce3e_row16_col2, #T_3ce3e_row16_col3, #T_3ce3e_row16_col4, #T_3ce3e_row16_col5, #T_3ce3e_row16_col6, #T_3ce3e_row16_col7, #T_3ce3e_row16_col8, #T_3ce3e_row16_col9, #T_3ce3e_row16_col10, #T_3ce3e_row16_col11, #T_3ce3e_row16_col12, #T_3ce3e_row16_col13, #T_3ce3e_row16_col14, #T_3ce3e_row16_col15, #T_3ce3e_row16_col16, #T_3ce3e_row16_col21, #T_3ce3e_row16_col22, #T_3ce3e_row16_col23, #T_3ce3e_row16_col24, #T_3ce3e_row16_col25, #T_3ce3e_row16_col26, #T_3ce3e_row16_col27, #T_3ce3e_row17_col0, #T_3ce3e_row17_col1, #T_3ce3e_row17_col2, #T_3ce3e_row17_col3, #T_3ce3e_row17_col4, #T_3ce3e_row17_col5, #T_3ce3e_row17_col6, #T_3ce3e_row17_col7, #T_3ce3e_row17_col8, #T_3ce3e_row17_col9, #T_3ce3e_row17_col10, #T_3ce3e_row17_col11, #T_3ce3e_row17_col12, #T_3ce3e_row17_col13, #T_3ce3e_row17_col14, #T_3ce3e_row17_col15, #T_3ce3e_row17_col16, #T_3ce3e_row17_col21, #T_3ce3e_row17_col22, #T_3ce3e_row17_col23, #T_3ce3e_row17_col24, #T_3ce3e_row17_col25, #T_3ce3e_row17_col26, #T_3ce3e_row17_col27, #T_3ce3e_row18_col0, #T_3ce3e_row18_col1, #T_3ce3e_row18_col2, #T_3ce3e_row18_col3, #T_3ce3e_row18_col4, #T_3ce3e_row18_col5, #T_3ce3e_row18_col6, #T_3ce3e_row18_col7, #T_3ce3e_row18_col8, #T_3ce3e_row18_col9, #T_3ce3e_row18_col10, #T_3ce3e_row18_col11, #T_3ce3e_row18_col12, #T_3ce3e_row18_col13, #T_3ce3e_row18_col14, #T_3ce3e_row18_col15, #T_3ce3e_row18_col21, #T_3ce3e_row18_col22, #T_3ce3e_row18_col23, #T_3ce3e_row18_col24, #T_3ce3e_row18_col25, #T_3ce3e_row18_col26, #T_3ce3e_row18_col27, #T_3ce3e_row19_col0, #T_3ce3e_row19_col1, #T_3ce3e_row19_col2, #T_3ce3e_row19_col3, #T_3ce3e_row19_col4, #T_3ce3e_row19_col5, #T_3ce3e_row19_col6, #T_3ce3e_row19_col7, #T_3ce3e_row19_col8, #T_3ce3e_row19_col9, #T_3ce3e_row19_col10, #T_3ce3e_row19_col11, #T_3ce3e_row19_col12, #T_3ce3e_row19_col13, #T_3ce3e_row19_col14, #T_3ce3e_row19_col21, #T_3ce3e_row19_col22, #T_3ce3e_row19_col23, #T_3ce3e_row19_col24, #T_3ce3e_row19_col25, #T_3ce3e_row19_col26, #T_3ce3e_row19_col27, #T_3ce3e_row20_col0, #T_3ce3e_row20_col1, #T_3ce3e_row20_col2, #T_3ce3e_row20_col3, #T_3ce3e_row20_col4, #T_3ce3e_row20_col5, #T_3ce3e_row20_col6, #T_3ce3e_row20_col7, #T_3ce3e_row20_col8, #T_3ce3e_row20_col9, #T_3ce3e_row20_col10, #T_3ce3e_row20_col11, #T_3ce3e_row20_col12, #T_3ce3e_row20_col13, #T_3ce3e_row20_col20, #T_3ce3e_row20_col21, #T_3ce3e_row20_col22, #T_3ce3e_row20_col23, #T_3ce3e_row20_col24, #T_3ce3e_row20_col25, #T_3ce3e_row20_col26, #T_3ce3e_row20_col27, #T_3ce3e_row21_col0, #T_3ce3e_row21_col1, #T_3ce3e_row21_col2, #T_3ce3e_row21_col3, #T_3ce3e_row21_col4, #T_3ce3e_row21_col5, #T_3ce3e_row21_col6, #T_3ce3e_row21_col7, #T_3ce3e_row21_col8, #T_3ce3e_row21_col9, #T_3ce3e_row21_col10, #T_3ce3e_row21_col11, #T_3ce3e_row21_col19, #T_3ce3e_row21_col20, #T_3ce3e_row21_col21, #T_3ce3e_row21_col22, #T_3ce3e_row21_col23, #T_3ce3e_row21_col24, #T_3ce3e_row21_col25, #T_3ce3e_row21_col26, #T_3ce3e_row21_col27, #T_3ce3e_row22_col0, #T_3ce3e_row22_col1, #T_3ce3e_row22_col2, #T_3ce3e_row22_col3, #T_3ce3e_row22_col4, #T_3ce3e_row22_col5, #T_3ce3e_row22_col18, #T_3ce3e_row22_col19, #T_3ce3e_row22_col20, #T_3ce3e_row22_col21, #T_3ce3e_row22_col22, #T_3ce3e_row22_col23, #T_3ce3e_row22_col24, #T_3ce3e_row22_col25, #T_3ce3e_row22_col26, #T_3ce3e_row22_col27, #T_3ce3e_row23_col0, #T_3ce3e_row23_col1, #T_3ce3e_row23_col2, #T_3ce3e_row23_col3, #T_3ce3e_row23_col4, #T_3ce3e_row23_col5, #T_3ce3e_row23_col16, #T_3ce3e_row23_col17, #T_3ce3e_row23_col18, #T_3ce3e_row23_col19, #T_3ce3e_row23_col20, #T_3ce3e_row23_col21, #T_3ce3e_row23_col22, #T_3ce3e_row23_col23, #T_3ce3e_row23_col24, #T_3ce3e_row23_col25, #T_3ce3e_row23_col26, #T_3ce3e_row23_col27, #T_3ce3e_row24_col0, #T_3ce3e_row24_col1, #T_3ce3e_row24_col2, #T_3ce3e_row24_col3, #T_3ce3e_row24_col4, #T_3ce3e_row24_col5, #T_3ce3e_row24_col14, #T_3ce3e_row24_col15, #T_3ce3e_row24_col16, #T_3ce3e_row24_col17, #T_3ce3e_row24_col18, #T_3ce3e_row24_col19, #T_3ce3e_row24_col20, #T_3ce3e_row24_col21, #T_3ce3e_row24_col22, #T_3ce3e_row24_col23, #T_3ce3e_row24_col24, #T_3ce3e_row24_col25, #T_3ce3e_row24_col26, #T_3ce3e_row24_col27, #T_3ce3e_row25_col0, #T_3ce3e_row25_col1, #T_3ce3e_row25_col2, #T_3ce3e_row25_col3, #T_3ce3e_row25_col4, #T_3ce3e_row25_col5, #T_3ce3e_row25_col6, #T_3ce3e_row25_col7, #T_3ce3e_row25_col8, #T_3ce3e_row25_col9, #T_3ce3e_row25_col10, #T_3ce3e_row25_col11, #T_3ce3e_row25_col12, #T_3ce3e_row25_col13, #T_3ce3e_row25_col14, #T_3ce3e_row25_col15, #T_3ce3e_row25_col16, #T_3ce3e_row25_col17, #T_3ce3e_row25_col18, #T_3ce3e_row25_col19, #T_3ce3e_row25_col20, #T_3ce3e_row25_col21, #T_3ce3e_row25_col22, #T_3ce3e_row25_col23, #T_3ce3e_row25_col24, #T_3ce3e_row25_col25, #T_3ce3e_row25_col26, #T_3ce3e_row25_col27, #T_3ce3e_row26_col0, #T_3ce3e_row26_col1, #T_3ce3e_row26_col2, #T_3ce3e_row26_col3, #T_3ce3e_row26_col4, #T_3ce3e_row26_col5, #T_3ce3e_row26_col6, #T_3ce3e_row26_col7, #T_3ce3e_row26_col8, #T_3ce3e_row26_col9, #T_3ce3e_row26_col10, #T_3ce3e_row26_col11, #T_3ce3e_row26_col12, #T_3ce3e_row26_col13, #T_3ce3e_row26_col14, #T_3ce3e_row26_col15, #T_3ce3e_row26_col16, #T_3ce3e_row26_col17, #T_3ce3e_row26_col18, #T_3ce3e_row26_col19, #T_3ce3e_row26_col20, #T_3ce3e_row26_col21, #T_3ce3e_row26_col22, #T_3ce3e_row26_col23, #T_3ce3e_row26_col24, #T_3ce3e_row26_col25, #T_3ce3e_row26_col26, #T_3ce3e_row26_col27, #T_3ce3e_row27_col0, #T_3ce3e_row27_col1, #T_3ce3e_row27_col2, #T_3ce3e_row27_col3, #T_3ce3e_row27_col4, #T_3ce3e_row27_col5, #T_3ce3e_row27_col6, #T_3ce3e_row27_col7, #T_3ce3e_row27_col8, #T_3ce3e_row27_col9, #T_3ce3e_row27_col10, #T_3ce3e_row27_col11, #T_3ce3e_row27_col12, #T_3ce3e_row27_col13, #T_3ce3e_row27_col14, #T_3ce3e_row27_col15, #T_3ce3e_row27_col16, #T_3ce3e_row27_col17, #T_3ce3e_row27_col18, #T_3ce3e_row27_col19, #T_3ce3e_row27_col20, #T_3ce3e_row27_col21, #T_3ce3e_row27_col22, #T_3ce3e_row27_col23, #T_3ce3e_row27_col24, #T_3ce3e_row27_col25, #T_3ce3e_row27_col26, #T_3ce3e_row27_col27 {\n",
       "  font-size: 4pt;\n",
       "  background-color: #ffffff;\n",
       "  color: #000000;\n",
       "}\n",
       "#T_3ce3e_row5_col9, #T_3ce3e_row12_col16 {\n",
       "  font-size: 4pt;\n",
       "  background-color: #f1f1f1;\n",
       "  color: #000000;\n",
       "}\n",
       "#T_3ce3e_row5_col10, #T_3ce3e_row5_col17 {\n",
       "  font-size: 4pt;\n",
       "  background-color: #7c7c7c;\n",
       "  color: #f1f1f1;\n",
       "}\n",
       "#T_3ce3e_row5_col11 {\n",
       "  font-size: 4pt;\n",
       "  background-color: #4a4a4a;\n",
       "  color: #f1f1f1;\n",
       "}\n",
       "#T_3ce3e_row5_col12, #T_3ce3e_row5_col13, #T_3ce3e_row5_col14, #T_3ce3e_row6_col10, #T_3ce3e_row6_col11, #T_3ce3e_row6_col15, #T_3ce3e_row6_col16, #T_3ce3e_row6_col17, #T_3ce3e_row7_col8, #T_3ce3e_row7_col16, #T_3ce3e_row7_col17, #T_3ce3e_row8_col5, #T_3ce3e_row8_col6, #T_3ce3e_row8_col7, #T_3ce3e_row8_col16, #T_3ce3e_row8_col17, #T_3ce3e_row9_col16, #T_3ce3e_row10_col15, #T_3ce3e_row13_col15, #T_3ce3e_row14_col15, #T_3ce3e_row14_col16, #T_3ce3e_row14_col17, #T_3ce3e_row14_col18, #T_3ce3e_row15_col17, #T_3ce3e_row15_col18, #T_3ce3e_row15_col19, #T_3ce3e_row16_col18, #T_3ce3e_row16_col19, #T_3ce3e_row16_col20, #T_3ce3e_row17_col18, #T_3ce3e_row17_col19, #T_3ce3e_row18_col18, #T_3ce3e_row18_col19, #T_3ce3e_row19_col17, #T_3ce3e_row19_col18, #T_3ce3e_row20_col16, #T_3ce3e_row20_col17, #T_3ce3e_row21_col15, #T_3ce3e_row21_col16, #T_3ce3e_row23_col7, #T_3ce3e_row23_col8, #T_3ce3e_row23_col9, #T_3ce3e_row23_col10, #T_3ce3e_row23_col11, #T_3ce3e_row24_col7, #T_3ce3e_row24_col8, #T_3ce3e_row24_col9, #T_3ce3e_row24_col10, #T_3ce3e_row24_col11 {\n",
       "  font-size: 4pt;\n",
       "  background-color: #000000;\n",
       "  color: #f1f1f1;\n",
       "}\n",
       "#T_3ce3e_row5_col15 {\n",
       "  font-size: 4pt;\n",
       "  background-color: #606060;\n",
       "  color: #f1f1f1;\n",
       "}\n",
       "#T_3ce3e_row5_col16 {\n",
       "  font-size: 4pt;\n",
       "  background-color: #4d4d4d;\n",
       "  color: #f1f1f1;\n",
       "}\n",
       "#T_3ce3e_row5_col18 {\n",
       "  font-size: 4pt;\n",
       "  background-color: #bbbbbb;\n",
       "  color: #000000;\n",
       "}\n",
       "#T_3ce3e_row6_col7, #T_3ce3e_row8_col9 {\n",
       "  font-size: 4pt;\n",
       "  background-color: #e4e4e4;\n",
       "  color: #000000;\n",
       "}\n",
       "#T_3ce3e_row6_col8, #T_3ce3e_row12_col10 {\n",
       "  font-size: 4pt;\n",
       "  background-color: #6b6b6b;\n",
       "  color: #f1f1f1;\n",
       "}\n",
       "#T_3ce3e_row6_col9, #T_3ce3e_row9_col15 {\n",
       "  font-size: 4pt;\n",
       "  background-color: #222222;\n",
       "  color: #f1f1f1;\n",
       "}\n",
       "#T_3ce3e_row6_col12, #T_3ce3e_row6_col18, #T_3ce3e_row7_col18, #T_3ce3e_row21_col17 {\n",
       "  font-size: 4pt;\n",
       "  background-color: #171717;\n",
       "  color: #f1f1f1;\n",
       "}\n",
       "#T_3ce3e_row6_col13, #T_3ce3e_row7_col15 {\n",
       "  font-size: 4pt;\n",
       "  background-color: #4b4b4b;\n",
       "  color: #f1f1f1;\n",
       "}\n",
       "#T_3ce3e_row6_col14, #T_3ce3e_row11_col14, #T_3ce3e_row12_col12, #T_3ce3e_row12_col14, #T_3ce3e_row13_col12, #T_3ce3e_row13_col14, #T_3ce3e_row22_col14, #T_3ce3e_row23_col12 {\n",
       "  font-size: 4pt;\n",
       "  background-color: #010101;\n",
       "  color: #f1f1f1;\n",
       "}\n",
       "#T_3ce3e_row7_col5 {\n",
       "  font-size: 4pt;\n",
       "  background-color: #272727;\n",
       "  color: #f1f1f1;\n",
       "}\n",
       "#T_3ce3e_row7_col6 {\n",
       "  font-size: 4pt;\n",
       "  background-color: #0a0a0a;\n",
       "  color: #f1f1f1;\n",
       "}\n",
       "#T_3ce3e_row7_col7, #T_3ce3e_row18_col17 {\n",
       "  font-size: 4pt;\n",
       "  background-color: #050505;\n",
       "  color: #f1f1f1;\n",
       "}\n",
       "#T_3ce3e_row7_col9, #T_3ce3e_row12_col15, #T_3ce3e_row14_col19, #T_3ce3e_row23_col6 {\n",
       "  font-size: 4pt;\n",
       "  background-color: #545454;\n",
       "  color: #f1f1f1;\n",
       "}\n",
       "#T_3ce3e_row7_col10 {\n",
       "  font-size: 4pt;\n",
       "  background-color: #e6e6e6;\n",
       "  color: #000000;\n",
       "}\n",
       "#T_3ce3e_row7_col11, #T_3ce3e_row7_col14, #T_3ce3e_row12_col9 {\n",
       "  font-size: 4pt;\n",
       "  background-color: #fafafa;\n",
       "  color: #000000;\n",
       "}\n",
       "#T_3ce3e_row7_col12, #T_3ce3e_row15_col14, #T_3ce3e_row20_col19 {\n",
       "  font-size: 4pt;\n",
       "  background-color: #fbfbfb;\n",
       "  color: #000000;\n",
       "}\n",
       "#T_3ce3e_row7_col13 {\n",
       "  font-size: 4pt;\n",
       "  background-color: #fdfdfd;\n",
       "  color: #000000;\n",
       "}\n",
       "#T_3ce3e_row8_col8 {\n",
       "  font-size: 4pt;\n",
       "  background-color: #1b1b1b;\n",
       "  color: #f1f1f1;\n",
       "}\n",
       "#T_3ce3e_row8_col15 {\n",
       "  font-size: 4pt;\n",
       "  background-color: #4e4e4e;\n",
       "  color: #f1f1f1;\n",
       "}\n",
       "#T_3ce3e_row8_col18 {\n",
       "  font-size: 4pt;\n",
       "  background-color: #767676;\n",
       "  color: #f1f1f1;\n",
       "}\n",
       "#T_3ce3e_row9_col5 {\n",
       "  font-size: 4pt;\n",
       "  background-color: #fcfcfc;\n",
       "  color: #000000;\n",
       "}\n",
       "#T_3ce3e_row9_col6, #T_3ce3e_row9_col7, #T_3ce3e_row19_col20 {\n",
       "  font-size: 4pt;\n",
       "  background-color: #f6f6f6;\n",
       "  color: #000000;\n",
       "}\n",
       "#T_3ce3e_row9_col8, #T_3ce3e_row11_col11 {\n",
       "  font-size: 4pt;\n",
       "  background-color: #f8f8f8;\n",
       "  color: #000000;\n",
       "}\n",
       "#T_3ce3e_row9_col14, #T_3ce3e_row14_col11 {\n",
       "  font-size: 4pt;\n",
       "  background-color: #e8e8e8;\n",
       "  color: #000000;\n",
       "}\n",
       "#T_3ce3e_row9_col17, #T_3ce3e_row10_col16 {\n",
       "  font-size: 4pt;\n",
       "  background-color: #090909;\n",
       "  color: #f1f1f1;\n",
       "}\n",
       "#T_3ce3e_row9_col18 {\n",
       "  font-size: 4pt;\n",
       "  background-color: #d0d0d0;\n",
       "  color: #000000;\n",
       "}\n",
       "#T_3ce3e_row10_col14, #T_3ce3e_row11_col15, #T_3ce3e_row13_col10 {\n",
       "  font-size: 4pt;\n",
       "  background-color: #060606;\n",
       "  color: #f1f1f1;\n",
       "}\n",
       "#T_3ce3e_row10_col17 {\n",
       "  font-size: 4pt;\n",
       "  background-color: #979797;\n",
       "  color: #f1f1f1;\n",
       "}\n",
       "#T_3ce3e_row11_col12 {\n",
       "  font-size: 4pt;\n",
       "  background-color: #b6b6b6;\n",
       "  color: #000000;\n",
       "}\n",
       "#T_3ce3e_row11_col13 {\n",
       "  font-size: 4pt;\n",
       "  background-color: #252525;\n",
       "  color: #f1f1f1;\n",
       "}\n",
       "#T_3ce3e_row11_col16 {\n",
       "  font-size: 4pt;\n",
       "  background-color: #999999;\n",
       "  color: #f1f1f1;\n",
       "}\n",
       "#T_3ce3e_row12_col11, #T_3ce3e_row22_col12 {\n",
       "  font-size: 4pt;\n",
       "  background-color: #101010;\n",
       "  color: #f1f1f1;\n",
       "}\n",
       "#T_3ce3e_row12_col13, #T_3ce3e_row13_col13, #T_3ce3e_row21_col14, #T_3ce3e_row22_col13, #T_3ce3e_row23_col13 {\n",
       "  font-size: 4pt;\n",
       "  background-color: #020202;\n",
       "  color: #f1f1f1;\n",
       "}\n",
       "#T_3ce3e_row13_col9 {\n",
       "  font-size: 4pt;\n",
       "  background-color: #f7f7f7;\n",
       "  color: #000000;\n",
       "}\n",
       "#T_3ce3e_row13_col11, #T_3ce3e_row22_col15 {\n",
       "  font-size: 4pt;\n",
       "  background-color: #030303;\n",
       "  color: #f1f1f1;\n",
       "}\n",
       "#T_3ce3e_row13_col16 {\n",
       "  font-size: 4pt;\n",
       "  background-color: #181818;\n",
       "  color: #f1f1f1;\n",
       "}\n",
       "#T_3ce3e_row13_col17 {\n",
       "  font-size: 4pt;\n",
       "  background-color: #303030;\n",
       "  color: #f1f1f1;\n",
       "}\n",
       "#T_3ce3e_row13_col18 {\n",
       "  font-size: 4pt;\n",
       "  background-color: #a9a9a9;\n",
       "  color: #f1f1f1;\n",
       "}\n",
       "#T_3ce3e_row13_col19 {\n",
       "  font-size: 4pt;\n",
       "  background-color: #fefefe;\n",
       "  color: #000000;\n",
       "}\n",
       "#T_3ce3e_row14_col12, #T_3ce3e_row14_col13, #T_3ce3e_row20_col14 {\n",
       "  font-size: 4pt;\n",
       "  background-color: #bababa;\n",
       "  color: #000000;\n",
       "}\n",
       "#T_3ce3e_row14_col14 {\n",
       "  font-size: 4pt;\n",
       "  background-color: #393939;\n",
       "  color: #f1f1f1;\n",
       "}\n",
       "#T_3ce3e_row14_col20 {\n",
       "  font-size: 4pt;\n",
       "  background-color: #eaeaea;\n",
       "  color: #000000;\n",
       "}\n",
       "#T_3ce3e_row15_col15 {\n",
       "  font-size: 4pt;\n",
       "  background-color: #e2e2e2;\n",
       "  color: #000000;\n",
       "}\n",
       "#T_3ce3e_row15_col16 {\n",
       "  font-size: 4pt;\n",
       "  background-color: #9f9f9f;\n",
       "  color: #f1f1f1;\n",
       "}\n",
       "#T_3ce3e_row15_col20 {\n",
       "  font-size: 4pt;\n",
       "  background-color: #898989;\n",
       "  color: #f1f1f1;\n",
       "}\n",
       "#T_3ce3e_row16_col17 {\n",
       "  font-size: 4pt;\n",
       "  background-color: #585858;\n",
       "  color: #f1f1f1;\n",
       "}\n",
       "#T_3ce3e_row17_col17 {\n",
       "  font-size: 4pt;\n",
       "  background-color: #5a5a5a;\n",
       "  color: #f1f1f1;\n",
       "}\n",
       "#T_3ce3e_row17_col20 {\n",
       "  font-size: 4pt;\n",
       "  background-color: #525252;\n",
       "  color: #f1f1f1;\n",
       "}\n",
       "#T_3ce3e_row18_col16, #T_3ce3e_row23_col15 {\n",
       "  font-size: 4pt;\n",
       "  background-color: #c5c5c5;\n",
       "  color: #000000;\n",
       "}\n",
       "#T_3ce3e_row18_col20 {\n",
       "  font-size: 4pt;\n",
       "  background-color: #d7d7d7;\n",
       "  color: #000000;\n",
       "}\n",
       "#T_3ce3e_row19_col15, #T_3ce3e_row22_col9 {\n",
       "  font-size: 4pt;\n",
       "  background-color: #dcdcdc;\n",
       "  color: #000000;\n",
       "}\n",
       "#T_3ce3e_row19_col16 {\n",
       "  font-size: 4pt;\n",
       "  background-color: #2f2f2f;\n",
       "  color: #f1f1f1;\n",
       "}\n",
       "#T_3ce3e_row19_col19 {\n",
       "  font-size: 4pt;\n",
       "  background-color: #636363;\n",
       "  color: #f1f1f1;\n",
       "}\n",
       "#T_3ce3e_row20_col15 {\n",
       "  font-size: 4pt;\n",
       "  background-color: #070707;\n",
       "  color: #f1f1f1;\n",
       "}\n",
       "#T_3ce3e_row20_col18 {\n",
       "  font-size: 4pt;\n",
       "  background-color: #1f1f1f;\n",
       "  color: #f1f1f1;\n",
       "}\n",
       "#T_3ce3e_row21_col12, #T_3ce3e_row22_col6, #T_3ce3e_row22_col8 {\n",
       "  font-size: 4pt;\n",
       "  background-color: #e9e9e9;\n",
       "  color: #000000;\n",
       "}\n",
       "#T_3ce3e_row21_col13 {\n",
       "  font-size: 4pt;\n",
       "  background-color: #7d7d7d;\n",
       "  color: #f1f1f1;\n",
       "}\n",
       "#T_3ce3e_row21_col18 {\n",
       "  font-size: 4pt;\n",
       "  background-color: #e1e1e1;\n",
       "  color: #000000;\n",
       "}\n",
       "#T_3ce3e_row22_col7, #T_3ce3e_row22_col10 {\n",
       "  font-size: 4pt;\n",
       "  background-color: #a4a4a4;\n",
       "  color: #f1f1f1;\n",
       "}\n",
       "#T_3ce3e_row22_col11 {\n",
       "  font-size: 4pt;\n",
       "  background-color: #727272;\n",
       "  color: #f1f1f1;\n",
       "}\n",
       "#T_3ce3e_row22_col16 {\n",
       "  font-size: 4pt;\n",
       "  background-color: #616161;\n",
       "  color: #f1f1f1;\n",
       "}\n",
       "#T_3ce3e_row22_col17 {\n",
       "  font-size: 4pt;\n",
       "  background-color: #f3f3f3;\n",
       "  color: #000000;\n",
       "}\n",
       "#T_3ce3e_row23_col14 {\n",
       "  font-size: 4pt;\n",
       "  background-color: #484848;\n",
       "  color: #f1f1f1;\n",
       "}\n",
       "#T_3ce3e_row24_col6 {\n",
       "  font-size: 4pt;\n",
       "  background-color: #b3b3b3;\n",
       "  color: #000000;\n",
       "}\n",
       "#T_3ce3e_row24_col12 {\n",
       "  font-size: 4pt;\n",
       "  background-color: #1a1a1a;\n",
       "  color: #f1f1f1;\n",
       "}\n",
       "#T_3ce3e_row24_col13 {\n",
       "  font-size: 4pt;\n",
       "  background-color: #d6d6d6;\n",
       "  color: #000000;\n",
       "}\n",
       "</style>\n",
       "<table id=\"T_3ce3e_\" class=\"dataframe\">\n",
       "  <thead>\n",
       "    <tr>\n",
       "      <th class=\"blank level0\" >&nbsp;</th>\n",
       "      <th class=\"col_heading level0 col0\" >0</th>\n",
       "      <th class=\"col_heading level0 col1\" >1</th>\n",
       "      <th class=\"col_heading level0 col2\" >2</th>\n",
       "      <th class=\"col_heading level0 col3\" >3</th>\n",
       "      <th class=\"col_heading level0 col4\" >4</th>\n",
       "      <th class=\"col_heading level0 col5\" >5</th>\n",
       "      <th class=\"col_heading level0 col6\" >6</th>\n",
       "      <th class=\"col_heading level0 col7\" >7</th>\n",
       "      <th class=\"col_heading level0 col8\" >8</th>\n",
       "      <th class=\"col_heading level0 col9\" >9</th>\n",
       "      <th class=\"col_heading level0 col10\" >10</th>\n",
       "      <th class=\"col_heading level0 col11\" >11</th>\n",
       "      <th class=\"col_heading level0 col12\" >12</th>\n",
       "      <th class=\"col_heading level0 col13\" >13</th>\n",
       "      <th class=\"col_heading level0 col14\" >14</th>\n",
       "      <th class=\"col_heading level0 col15\" >15</th>\n",
       "      <th class=\"col_heading level0 col16\" >16</th>\n",
       "      <th class=\"col_heading level0 col17\" >17</th>\n",
       "      <th class=\"col_heading level0 col18\" >18</th>\n",
       "      <th class=\"col_heading level0 col19\" >19</th>\n",
       "      <th class=\"col_heading level0 col20\" >20</th>\n",
       "      <th class=\"col_heading level0 col21\" >21</th>\n",
       "      <th class=\"col_heading level0 col22\" >22</th>\n",
       "      <th class=\"col_heading level0 col23\" >23</th>\n",
       "      <th class=\"col_heading level0 col24\" >24</th>\n",
       "      <th class=\"col_heading level0 col25\" >25</th>\n",
       "      <th class=\"col_heading level0 col26\" >26</th>\n",
       "      <th class=\"col_heading level0 col27\" >27</th>\n",
       "    </tr>\n",
       "  </thead>\n",
       "  <tbody>\n",
       "    <tr>\n",
       "      <th id=\"T_3ce3e_level0_row0\" class=\"row_heading level0 row0\" >0</th>\n",
       "      <td id=\"T_3ce3e_row0_col0\" class=\"data row0 col0\" >0</td>\n",
       "      <td id=\"T_3ce3e_row0_col1\" class=\"data row0 col1\" >0</td>\n",
       "      <td id=\"T_3ce3e_row0_col2\" class=\"data row0 col2\" >0</td>\n",
       "      <td id=\"T_3ce3e_row0_col3\" class=\"data row0 col3\" >0</td>\n",
       "      <td id=\"T_3ce3e_row0_col4\" class=\"data row0 col4\" >0</td>\n",
       "      <td id=\"T_3ce3e_row0_col5\" class=\"data row0 col5\" >0</td>\n",
       "      <td id=\"T_3ce3e_row0_col6\" class=\"data row0 col6\" >0</td>\n",
       "      <td id=\"T_3ce3e_row0_col7\" class=\"data row0 col7\" >0</td>\n",
       "      <td id=\"T_3ce3e_row0_col8\" class=\"data row0 col8\" >0</td>\n",
       "      <td id=\"T_3ce3e_row0_col9\" class=\"data row0 col9\" >0</td>\n",
       "      <td id=\"T_3ce3e_row0_col10\" class=\"data row0 col10\" >0</td>\n",
       "      <td id=\"T_3ce3e_row0_col11\" class=\"data row0 col11\" >0</td>\n",
       "      <td id=\"T_3ce3e_row0_col12\" class=\"data row0 col12\" >0</td>\n",
       "      <td id=\"T_3ce3e_row0_col13\" class=\"data row0 col13\" >0</td>\n",
       "      <td id=\"T_3ce3e_row0_col14\" class=\"data row0 col14\" >0</td>\n",
       "      <td id=\"T_3ce3e_row0_col15\" class=\"data row0 col15\" >0</td>\n",
       "      <td id=\"T_3ce3e_row0_col16\" class=\"data row0 col16\" >0</td>\n",
       "      <td id=\"T_3ce3e_row0_col17\" class=\"data row0 col17\" >0</td>\n",
       "      <td id=\"T_3ce3e_row0_col18\" class=\"data row0 col18\" >0</td>\n",
       "      <td id=\"T_3ce3e_row0_col19\" class=\"data row0 col19\" >0</td>\n",
       "      <td id=\"T_3ce3e_row0_col20\" class=\"data row0 col20\" >0</td>\n",
       "      <td id=\"T_3ce3e_row0_col21\" class=\"data row0 col21\" >0</td>\n",
       "      <td id=\"T_3ce3e_row0_col22\" class=\"data row0 col22\" >0</td>\n",
       "      <td id=\"T_3ce3e_row0_col23\" class=\"data row0 col23\" >0</td>\n",
       "      <td id=\"T_3ce3e_row0_col24\" class=\"data row0 col24\" >0</td>\n",
       "      <td id=\"T_3ce3e_row0_col25\" class=\"data row0 col25\" >0</td>\n",
       "      <td id=\"T_3ce3e_row0_col26\" class=\"data row0 col26\" >0</td>\n",
       "      <td id=\"T_3ce3e_row0_col27\" class=\"data row0 col27\" >0</td>\n",
       "    </tr>\n",
       "    <tr>\n",
       "      <th id=\"T_3ce3e_level0_row1\" class=\"row_heading level0 row1\" >1</th>\n",
       "      <td id=\"T_3ce3e_row1_col0\" class=\"data row1 col0\" >0</td>\n",
       "      <td id=\"T_3ce3e_row1_col1\" class=\"data row1 col1\" >0</td>\n",
       "      <td id=\"T_3ce3e_row1_col2\" class=\"data row1 col2\" >0</td>\n",
       "      <td id=\"T_3ce3e_row1_col3\" class=\"data row1 col3\" >0</td>\n",
       "      <td id=\"T_3ce3e_row1_col4\" class=\"data row1 col4\" >0</td>\n",
       "      <td id=\"T_3ce3e_row1_col5\" class=\"data row1 col5\" >0</td>\n",
       "      <td id=\"T_3ce3e_row1_col6\" class=\"data row1 col6\" >0</td>\n",
       "      <td id=\"T_3ce3e_row1_col7\" class=\"data row1 col7\" >0</td>\n",
       "      <td id=\"T_3ce3e_row1_col8\" class=\"data row1 col8\" >0</td>\n",
       "      <td id=\"T_3ce3e_row1_col9\" class=\"data row1 col9\" >0</td>\n",
       "      <td id=\"T_3ce3e_row1_col10\" class=\"data row1 col10\" >0</td>\n",
       "      <td id=\"T_3ce3e_row1_col11\" class=\"data row1 col11\" >0</td>\n",
       "      <td id=\"T_3ce3e_row1_col12\" class=\"data row1 col12\" >0</td>\n",
       "      <td id=\"T_3ce3e_row1_col13\" class=\"data row1 col13\" >0</td>\n",
       "      <td id=\"T_3ce3e_row1_col14\" class=\"data row1 col14\" >0</td>\n",
       "      <td id=\"T_3ce3e_row1_col15\" class=\"data row1 col15\" >0</td>\n",
       "      <td id=\"T_3ce3e_row1_col16\" class=\"data row1 col16\" >0</td>\n",
       "      <td id=\"T_3ce3e_row1_col17\" class=\"data row1 col17\" >0</td>\n",
       "      <td id=\"T_3ce3e_row1_col18\" class=\"data row1 col18\" >0</td>\n",
       "      <td id=\"T_3ce3e_row1_col19\" class=\"data row1 col19\" >0</td>\n",
       "      <td id=\"T_3ce3e_row1_col20\" class=\"data row1 col20\" >0</td>\n",
       "      <td id=\"T_3ce3e_row1_col21\" class=\"data row1 col21\" >0</td>\n",
       "      <td id=\"T_3ce3e_row1_col22\" class=\"data row1 col22\" >0</td>\n",
       "      <td id=\"T_3ce3e_row1_col23\" class=\"data row1 col23\" >0</td>\n",
       "      <td id=\"T_3ce3e_row1_col24\" class=\"data row1 col24\" >0</td>\n",
       "      <td id=\"T_3ce3e_row1_col25\" class=\"data row1 col25\" >0</td>\n",
       "      <td id=\"T_3ce3e_row1_col26\" class=\"data row1 col26\" >0</td>\n",
       "      <td id=\"T_3ce3e_row1_col27\" class=\"data row1 col27\" >0</td>\n",
       "    </tr>\n",
       "    <tr>\n",
       "      <th id=\"T_3ce3e_level0_row2\" class=\"row_heading level0 row2\" >2</th>\n",
       "      <td id=\"T_3ce3e_row2_col0\" class=\"data row2 col0\" >0</td>\n",
       "      <td id=\"T_3ce3e_row2_col1\" class=\"data row2 col1\" >0</td>\n",
       "      <td id=\"T_3ce3e_row2_col2\" class=\"data row2 col2\" >0</td>\n",
       "      <td id=\"T_3ce3e_row2_col3\" class=\"data row2 col3\" >0</td>\n",
       "      <td id=\"T_3ce3e_row2_col4\" class=\"data row2 col4\" >0</td>\n",
       "      <td id=\"T_3ce3e_row2_col5\" class=\"data row2 col5\" >0</td>\n",
       "      <td id=\"T_3ce3e_row2_col6\" class=\"data row2 col6\" >0</td>\n",
       "      <td id=\"T_3ce3e_row2_col7\" class=\"data row2 col7\" >0</td>\n",
       "      <td id=\"T_3ce3e_row2_col8\" class=\"data row2 col8\" >0</td>\n",
       "      <td id=\"T_3ce3e_row2_col9\" class=\"data row2 col9\" >0</td>\n",
       "      <td id=\"T_3ce3e_row2_col10\" class=\"data row2 col10\" >0</td>\n",
       "      <td id=\"T_3ce3e_row2_col11\" class=\"data row2 col11\" >0</td>\n",
       "      <td id=\"T_3ce3e_row2_col12\" class=\"data row2 col12\" >0</td>\n",
       "      <td id=\"T_3ce3e_row2_col13\" class=\"data row2 col13\" >0</td>\n",
       "      <td id=\"T_3ce3e_row2_col14\" class=\"data row2 col14\" >0</td>\n",
       "      <td id=\"T_3ce3e_row2_col15\" class=\"data row2 col15\" >0</td>\n",
       "      <td id=\"T_3ce3e_row2_col16\" class=\"data row2 col16\" >0</td>\n",
       "      <td id=\"T_3ce3e_row2_col17\" class=\"data row2 col17\" >0</td>\n",
       "      <td id=\"T_3ce3e_row2_col18\" class=\"data row2 col18\" >0</td>\n",
       "      <td id=\"T_3ce3e_row2_col19\" class=\"data row2 col19\" >0</td>\n",
       "      <td id=\"T_3ce3e_row2_col20\" class=\"data row2 col20\" >0</td>\n",
       "      <td id=\"T_3ce3e_row2_col21\" class=\"data row2 col21\" >0</td>\n",
       "      <td id=\"T_3ce3e_row2_col22\" class=\"data row2 col22\" >0</td>\n",
       "      <td id=\"T_3ce3e_row2_col23\" class=\"data row2 col23\" >0</td>\n",
       "      <td id=\"T_3ce3e_row2_col24\" class=\"data row2 col24\" >0</td>\n",
       "      <td id=\"T_3ce3e_row2_col25\" class=\"data row2 col25\" >0</td>\n",
       "      <td id=\"T_3ce3e_row2_col26\" class=\"data row2 col26\" >0</td>\n",
       "      <td id=\"T_3ce3e_row2_col27\" class=\"data row2 col27\" >0</td>\n",
       "    </tr>\n",
       "    <tr>\n",
       "      <th id=\"T_3ce3e_level0_row3\" class=\"row_heading level0 row3\" >3</th>\n",
       "      <td id=\"T_3ce3e_row3_col0\" class=\"data row3 col0\" >0</td>\n",
       "      <td id=\"T_3ce3e_row3_col1\" class=\"data row3 col1\" >0</td>\n",
       "      <td id=\"T_3ce3e_row3_col2\" class=\"data row3 col2\" >0</td>\n",
       "      <td id=\"T_3ce3e_row3_col3\" class=\"data row3 col3\" >0</td>\n",
       "      <td id=\"T_3ce3e_row3_col4\" class=\"data row3 col4\" >0</td>\n",
       "      <td id=\"T_3ce3e_row3_col5\" class=\"data row3 col5\" >0</td>\n",
       "      <td id=\"T_3ce3e_row3_col6\" class=\"data row3 col6\" >0</td>\n",
       "      <td id=\"T_3ce3e_row3_col7\" class=\"data row3 col7\" >0</td>\n",
       "      <td id=\"T_3ce3e_row3_col8\" class=\"data row3 col8\" >0</td>\n",
       "      <td id=\"T_3ce3e_row3_col9\" class=\"data row3 col9\" >0</td>\n",
       "      <td id=\"T_3ce3e_row3_col10\" class=\"data row3 col10\" >0</td>\n",
       "      <td id=\"T_3ce3e_row3_col11\" class=\"data row3 col11\" >0</td>\n",
       "      <td id=\"T_3ce3e_row3_col12\" class=\"data row3 col12\" >0</td>\n",
       "      <td id=\"T_3ce3e_row3_col13\" class=\"data row3 col13\" >0</td>\n",
       "      <td id=\"T_3ce3e_row3_col14\" class=\"data row3 col14\" >0</td>\n",
       "      <td id=\"T_3ce3e_row3_col15\" class=\"data row3 col15\" >0</td>\n",
       "      <td id=\"T_3ce3e_row3_col16\" class=\"data row3 col16\" >0</td>\n",
       "      <td id=\"T_3ce3e_row3_col17\" class=\"data row3 col17\" >0</td>\n",
       "      <td id=\"T_3ce3e_row3_col18\" class=\"data row3 col18\" >0</td>\n",
       "      <td id=\"T_3ce3e_row3_col19\" class=\"data row3 col19\" >0</td>\n",
       "      <td id=\"T_3ce3e_row3_col20\" class=\"data row3 col20\" >0</td>\n",
       "      <td id=\"T_3ce3e_row3_col21\" class=\"data row3 col21\" >0</td>\n",
       "      <td id=\"T_3ce3e_row3_col22\" class=\"data row3 col22\" >0</td>\n",
       "      <td id=\"T_3ce3e_row3_col23\" class=\"data row3 col23\" >0</td>\n",
       "      <td id=\"T_3ce3e_row3_col24\" class=\"data row3 col24\" >0</td>\n",
       "      <td id=\"T_3ce3e_row3_col25\" class=\"data row3 col25\" >0</td>\n",
       "      <td id=\"T_3ce3e_row3_col26\" class=\"data row3 col26\" >0</td>\n",
       "      <td id=\"T_3ce3e_row3_col27\" class=\"data row3 col27\" >0</td>\n",
       "    </tr>\n",
       "    <tr>\n",
       "      <th id=\"T_3ce3e_level0_row4\" class=\"row_heading level0 row4\" >4</th>\n",
       "      <td id=\"T_3ce3e_row4_col0\" class=\"data row4 col0\" >0</td>\n",
       "      <td id=\"T_3ce3e_row4_col1\" class=\"data row4 col1\" >0</td>\n",
       "      <td id=\"T_3ce3e_row4_col2\" class=\"data row4 col2\" >0</td>\n",
       "      <td id=\"T_3ce3e_row4_col3\" class=\"data row4 col3\" >0</td>\n",
       "      <td id=\"T_3ce3e_row4_col4\" class=\"data row4 col4\" >0</td>\n",
       "      <td id=\"T_3ce3e_row4_col5\" class=\"data row4 col5\" >0</td>\n",
       "      <td id=\"T_3ce3e_row4_col6\" class=\"data row4 col6\" >0</td>\n",
       "      <td id=\"T_3ce3e_row4_col7\" class=\"data row4 col7\" >0</td>\n",
       "      <td id=\"T_3ce3e_row4_col8\" class=\"data row4 col8\" >0</td>\n",
       "      <td id=\"T_3ce3e_row4_col9\" class=\"data row4 col9\" >0</td>\n",
       "      <td id=\"T_3ce3e_row4_col10\" class=\"data row4 col10\" >0</td>\n",
       "      <td id=\"T_3ce3e_row4_col11\" class=\"data row4 col11\" >0</td>\n",
       "      <td id=\"T_3ce3e_row4_col12\" class=\"data row4 col12\" >0</td>\n",
       "      <td id=\"T_3ce3e_row4_col13\" class=\"data row4 col13\" >0</td>\n",
       "      <td id=\"T_3ce3e_row4_col14\" class=\"data row4 col14\" >0</td>\n",
       "      <td id=\"T_3ce3e_row4_col15\" class=\"data row4 col15\" >0</td>\n",
       "      <td id=\"T_3ce3e_row4_col16\" class=\"data row4 col16\" >0</td>\n",
       "      <td id=\"T_3ce3e_row4_col17\" class=\"data row4 col17\" >0</td>\n",
       "      <td id=\"T_3ce3e_row4_col18\" class=\"data row4 col18\" >0</td>\n",
       "      <td id=\"T_3ce3e_row4_col19\" class=\"data row4 col19\" >0</td>\n",
       "      <td id=\"T_3ce3e_row4_col20\" class=\"data row4 col20\" >0</td>\n",
       "      <td id=\"T_3ce3e_row4_col21\" class=\"data row4 col21\" >0</td>\n",
       "      <td id=\"T_3ce3e_row4_col22\" class=\"data row4 col22\" >0</td>\n",
       "      <td id=\"T_3ce3e_row4_col23\" class=\"data row4 col23\" >0</td>\n",
       "      <td id=\"T_3ce3e_row4_col24\" class=\"data row4 col24\" >0</td>\n",
       "      <td id=\"T_3ce3e_row4_col25\" class=\"data row4 col25\" >0</td>\n",
       "      <td id=\"T_3ce3e_row4_col26\" class=\"data row4 col26\" >0</td>\n",
       "      <td id=\"T_3ce3e_row4_col27\" class=\"data row4 col27\" >0</td>\n",
       "    </tr>\n",
       "    <tr>\n",
       "      <th id=\"T_3ce3e_level0_row5\" class=\"row_heading level0 row5\" >5</th>\n",
       "      <td id=\"T_3ce3e_row5_col0\" class=\"data row5 col0\" >0</td>\n",
       "      <td id=\"T_3ce3e_row5_col1\" class=\"data row5 col1\" >0</td>\n",
       "      <td id=\"T_3ce3e_row5_col2\" class=\"data row5 col2\" >0</td>\n",
       "      <td id=\"T_3ce3e_row5_col3\" class=\"data row5 col3\" >0</td>\n",
       "      <td id=\"T_3ce3e_row5_col4\" class=\"data row5 col4\" >0</td>\n",
       "      <td id=\"T_3ce3e_row5_col5\" class=\"data row5 col5\" >0</td>\n",
       "      <td id=\"T_3ce3e_row5_col6\" class=\"data row5 col6\" >0</td>\n",
       "      <td id=\"T_3ce3e_row5_col7\" class=\"data row5 col7\" >0</td>\n",
       "      <td id=\"T_3ce3e_row5_col8\" class=\"data row5 col8\" >0</td>\n",
       "      <td id=\"T_3ce3e_row5_col9\" class=\"data row5 col9\" >29</td>\n",
       "      <td id=\"T_3ce3e_row5_col10\" class=\"data row5 col10\" >150</td>\n",
       "      <td id=\"T_3ce3e_row5_col11\" class=\"data row5 col11\" >195</td>\n",
       "      <td id=\"T_3ce3e_row5_col12\" class=\"data row5 col12\" >254</td>\n",
       "      <td id=\"T_3ce3e_row5_col13\" class=\"data row5 col13\" >255</td>\n",
       "      <td id=\"T_3ce3e_row5_col14\" class=\"data row5 col14\" >254</td>\n",
       "      <td id=\"T_3ce3e_row5_col15\" class=\"data row5 col15\" >176</td>\n",
       "      <td id=\"T_3ce3e_row5_col16\" class=\"data row5 col16\" >193</td>\n",
       "      <td id=\"T_3ce3e_row5_col17\" class=\"data row5 col17\" >150</td>\n",
       "      <td id=\"T_3ce3e_row5_col18\" class=\"data row5 col18\" >96</td>\n",
       "      <td id=\"T_3ce3e_row5_col19\" class=\"data row5 col19\" >0</td>\n",
       "      <td id=\"T_3ce3e_row5_col20\" class=\"data row5 col20\" >0</td>\n",
       "      <td id=\"T_3ce3e_row5_col21\" class=\"data row5 col21\" >0</td>\n",
       "      <td id=\"T_3ce3e_row5_col22\" class=\"data row5 col22\" >0</td>\n",
       "      <td id=\"T_3ce3e_row5_col23\" class=\"data row5 col23\" >0</td>\n",
       "      <td id=\"T_3ce3e_row5_col24\" class=\"data row5 col24\" >0</td>\n",
       "      <td id=\"T_3ce3e_row5_col25\" class=\"data row5 col25\" >0</td>\n",
       "      <td id=\"T_3ce3e_row5_col26\" class=\"data row5 col26\" >0</td>\n",
       "      <td id=\"T_3ce3e_row5_col27\" class=\"data row5 col27\" >0</td>\n",
       "    </tr>\n",
       "    <tr>\n",
       "      <th id=\"T_3ce3e_level0_row6\" class=\"row_heading level0 row6\" >6</th>\n",
       "      <td id=\"T_3ce3e_row6_col0\" class=\"data row6 col0\" >0</td>\n",
       "      <td id=\"T_3ce3e_row6_col1\" class=\"data row6 col1\" >0</td>\n",
       "      <td id=\"T_3ce3e_row6_col2\" class=\"data row6 col2\" >0</td>\n",
       "      <td id=\"T_3ce3e_row6_col3\" class=\"data row6 col3\" >0</td>\n",
       "      <td id=\"T_3ce3e_row6_col4\" class=\"data row6 col4\" >0</td>\n",
       "      <td id=\"T_3ce3e_row6_col5\" class=\"data row6 col5\" >0</td>\n",
       "      <td id=\"T_3ce3e_row6_col6\" class=\"data row6 col6\" >0</td>\n",
       "      <td id=\"T_3ce3e_row6_col7\" class=\"data row6 col7\" >48</td>\n",
       "      <td id=\"T_3ce3e_row6_col8\" class=\"data row6 col8\" >166</td>\n",
       "      <td id=\"T_3ce3e_row6_col9\" class=\"data row6 col9\" >224</td>\n",
       "      <td id=\"T_3ce3e_row6_col10\" class=\"data row6 col10\" >253</td>\n",
       "      <td id=\"T_3ce3e_row6_col11\" class=\"data row6 col11\" >253</td>\n",
       "      <td id=\"T_3ce3e_row6_col12\" class=\"data row6 col12\" >234</td>\n",
       "      <td id=\"T_3ce3e_row6_col13\" class=\"data row6 col13\" >196</td>\n",
       "      <td id=\"T_3ce3e_row6_col14\" class=\"data row6 col14\" >253</td>\n",
       "      <td id=\"T_3ce3e_row6_col15\" class=\"data row6 col15\" >253</td>\n",
       "      <td id=\"T_3ce3e_row6_col16\" class=\"data row6 col16\" >253</td>\n",
       "      <td id=\"T_3ce3e_row6_col17\" class=\"data row6 col17\" >253</td>\n",
       "      <td id=\"T_3ce3e_row6_col18\" class=\"data row6 col18\" >233</td>\n",
       "      <td id=\"T_3ce3e_row6_col19\" class=\"data row6 col19\" >0</td>\n",
       "      <td id=\"T_3ce3e_row6_col20\" class=\"data row6 col20\" >0</td>\n",
       "      <td id=\"T_3ce3e_row6_col21\" class=\"data row6 col21\" >0</td>\n",
       "      <td id=\"T_3ce3e_row6_col22\" class=\"data row6 col22\" >0</td>\n",
       "      <td id=\"T_3ce3e_row6_col23\" class=\"data row6 col23\" >0</td>\n",
       "      <td id=\"T_3ce3e_row6_col24\" class=\"data row6 col24\" >0</td>\n",
       "      <td id=\"T_3ce3e_row6_col25\" class=\"data row6 col25\" >0</td>\n",
       "      <td id=\"T_3ce3e_row6_col26\" class=\"data row6 col26\" >0</td>\n",
       "      <td id=\"T_3ce3e_row6_col27\" class=\"data row6 col27\" >0</td>\n",
       "    </tr>\n",
       "    <tr>\n",
       "      <th id=\"T_3ce3e_level0_row7\" class=\"row_heading level0 row7\" >7</th>\n",
       "      <td id=\"T_3ce3e_row7_col0\" class=\"data row7 col0\" >0</td>\n",
       "      <td id=\"T_3ce3e_row7_col1\" class=\"data row7 col1\" >0</td>\n",
       "      <td id=\"T_3ce3e_row7_col2\" class=\"data row7 col2\" >0</td>\n",
       "      <td id=\"T_3ce3e_row7_col3\" class=\"data row7 col3\" >0</td>\n",
       "      <td id=\"T_3ce3e_row7_col4\" class=\"data row7 col4\" >0</td>\n",
       "      <td id=\"T_3ce3e_row7_col5\" class=\"data row7 col5\" >93</td>\n",
       "      <td id=\"T_3ce3e_row7_col6\" class=\"data row7 col6\" >244</td>\n",
       "      <td id=\"T_3ce3e_row7_col7\" class=\"data row7 col7\" >249</td>\n",
       "      <td id=\"T_3ce3e_row7_col8\" class=\"data row7 col8\" >253</td>\n",
       "      <td id=\"T_3ce3e_row7_col9\" class=\"data row7 col9\" >187</td>\n",
       "      <td id=\"T_3ce3e_row7_col10\" class=\"data row7 col10\" >46</td>\n",
       "      <td id=\"T_3ce3e_row7_col11\" class=\"data row7 col11\" >10</td>\n",
       "      <td id=\"T_3ce3e_row7_col12\" class=\"data row7 col12\" >8</td>\n",
       "      <td id=\"T_3ce3e_row7_col13\" class=\"data row7 col13\" >4</td>\n",
       "      <td id=\"T_3ce3e_row7_col14\" class=\"data row7 col14\" >10</td>\n",
       "      <td id=\"T_3ce3e_row7_col15\" class=\"data row7 col15\" >194</td>\n",
       "      <td id=\"T_3ce3e_row7_col16\" class=\"data row7 col16\" >253</td>\n",
       "      <td id=\"T_3ce3e_row7_col17\" class=\"data row7 col17\" >253</td>\n",
       "      <td id=\"T_3ce3e_row7_col18\" class=\"data row7 col18\" >233</td>\n",
       "      <td id=\"T_3ce3e_row7_col19\" class=\"data row7 col19\" >0</td>\n",
       "      <td id=\"T_3ce3e_row7_col20\" class=\"data row7 col20\" >0</td>\n",
       "      <td id=\"T_3ce3e_row7_col21\" class=\"data row7 col21\" >0</td>\n",
       "      <td id=\"T_3ce3e_row7_col22\" class=\"data row7 col22\" >0</td>\n",
       "      <td id=\"T_3ce3e_row7_col23\" class=\"data row7 col23\" >0</td>\n",
       "      <td id=\"T_3ce3e_row7_col24\" class=\"data row7 col24\" >0</td>\n",
       "      <td id=\"T_3ce3e_row7_col25\" class=\"data row7 col25\" >0</td>\n",
       "      <td id=\"T_3ce3e_row7_col26\" class=\"data row7 col26\" >0</td>\n",
       "      <td id=\"T_3ce3e_row7_col27\" class=\"data row7 col27\" >0</td>\n",
       "    </tr>\n",
       "    <tr>\n",
       "      <th id=\"T_3ce3e_level0_row8\" class=\"row_heading level0 row8\" >8</th>\n",
       "      <td id=\"T_3ce3e_row8_col0\" class=\"data row8 col0\" >0</td>\n",
       "      <td id=\"T_3ce3e_row8_col1\" class=\"data row8 col1\" >0</td>\n",
       "      <td id=\"T_3ce3e_row8_col2\" class=\"data row8 col2\" >0</td>\n",
       "      <td id=\"T_3ce3e_row8_col3\" class=\"data row8 col3\" >0</td>\n",
       "      <td id=\"T_3ce3e_row8_col4\" class=\"data row8 col4\" >0</td>\n",
       "      <td id=\"T_3ce3e_row8_col5\" class=\"data row8 col5\" >107</td>\n",
       "      <td id=\"T_3ce3e_row8_col6\" class=\"data row8 col6\" >253</td>\n",
       "      <td id=\"T_3ce3e_row8_col7\" class=\"data row8 col7\" >253</td>\n",
       "      <td id=\"T_3ce3e_row8_col8\" class=\"data row8 col8\" >230</td>\n",
       "      <td id=\"T_3ce3e_row8_col9\" class=\"data row8 col9\" >48</td>\n",
       "      <td id=\"T_3ce3e_row8_col10\" class=\"data row8 col10\" >0</td>\n",
       "      <td id=\"T_3ce3e_row8_col11\" class=\"data row8 col11\" >0</td>\n",
       "      <td id=\"T_3ce3e_row8_col12\" class=\"data row8 col12\" >0</td>\n",
       "      <td id=\"T_3ce3e_row8_col13\" class=\"data row8 col13\" >0</td>\n",
       "      <td id=\"T_3ce3e_row8_col14\" class=\"data row8 col14\" >0</td>\n",
       "      <td id=\"T_3ce3e_row8_col15\" class=\"data row8 col15\" >192</td>\n",
       "      <td id=\"T_3ce3e_row8_col16\" class=\"data row8 col16\" >253</td>\n",
       "      <td id=\"T_3ce3e_row8_col17\" class=\"data row8 col17\" >253</td>\n",
       "      <td id=\"T_3ce3e_row8_col18\" class=\"data row8 col18\" >156</td>\n",
       "      <td id=\"T_3ce3e_row8_col19\" class=\"data row8 col19\" >0</td>\n",
       "      <td id=\"T_3ce3e_row8_col20\" class=\"data row8 col20\" >0</td>\n",
       "      <td id=\"T_3ce3e_row8_col21\" class=\"data row8 col21\" >0</td>\n",
       "      <td id=\"T_3ce3e_row8_col22\" class=\"data row8 col22\" >0</td>\n",
       "      <td id=\"T_3ce3e_row8_col23\" class=\"data row8 col23\" >0</td>\n",
       "      <td id=\"T_3ce3e_row8_col24\" class=\"data row8 col24\" >0</td>\n",
       "      <td id=\"T_3ce3e_row8_col25\" class=\"data row8 col25\" >0</td>\n",
       "      <td id=\"T_3ce3e_row8_col26\" class=\"data row8 col26\" >0</td>\n",
       "      <td id=\"T_3ce3e_row8_col27\" class=\"data row8 col27\" >0</td>\n",
       "    </tr>\n",
       "    <tr>\n",
       "      <th id=\"T_3ce3e_level0_row9\" class=\"row_heading level0 row9\" >9</th>\n",
       "      <td id=\"T_3ce3e_row9_col0\" class=\"data row9 col0\" >0</td>\n",
       "      <td id=\"T_3ce3e_row9_col1\" class=\"data row9 col1\" >0</td>\n",
       "      <td id=\"T_3ce3e_row9_col2\" class=\"data row9 col2\" >0</td>\n",
       "      <td id=\"T_3ce3e_row9_col3\" class=\"data row9 col3\" >0</td>\n",
       "      <td id=\"T_3ce3e_row9_col4\" class=\"data row9 col4\" >0</td>\n",
       "      <td id=\"T_3ce3e_row9_col5\" class=\"data row9 col5\" >3</td>\n",
       "      <td id=\"T_3ce3e_row9_col6\" class=\"data row9 col6\" >20</td>\n",
       "      <td id=\"T_3ce3e_row9_col7\" class=\"data row9 col7\" >20</td>\n",
       "      <td id=\"T_3ce3e_row9_col8\" class=\"data row9 col8\" >15</td>\n",
       "      <td id=\"T_3ce3e_row9_col9\" class=\"data row9 col9\" >0</td>\n",
       "      <td id=\"T_3ce3e_row9_col10\" class=\"data row9 col10\" >0</td>\n",
       "      <td id=\"T_3ce3e_row9_col11\" class=\"data row9 col11\" >0</td>\n",
       "      <td id=\"T_3ce3e_row9_col12\" class=\"data row9 col12\" >0</td>\n",
       "      <td id=\"T_3ce3e_row9_col13\" class=\"data row9 col13\" >0</td>\n",
       "      <td id=\"T_3ce3e_row9_col14\" class=\"data row9 col14\" >43</td>\n",
       "      <td id=\"T_3ce3e_row9_col15\" class=\"data row9 col15\" >224</td>\n",
       "      <td id=\"T_3ce3e_row9_col16\" class=\"data row9 col16\" >253</td>\n",
       "      <td id=\"T_3ce3e_row9_col17\" class=\"data row9 col17\" >245</td>\n",
       "      <td id=\"T_3ce3e_row9_col18\" class=\"data row9 col18\" >74</td>\n",
       "      <td id=\"T_3ce3e_row9_col19\" class=\"data row9 col19\" >0</td>\n",
       "      <td id=\"T_3ce3e_row9_col20\" class=\"data row9 col20\" >0</td>\n",
       "      <td id=\"T_3ce3e_row9_col21\" class=\"data row9 col21\" >0</td>\n",
       "      <td id=\"T_3ce3e_row9_col22\" class=\"data row9 col22\" >0</td>\n",
       "      <td id=\"T_3ce3e_row9_col23\" class=\"data row9 col23\" >0</td>\n",
       "      <td id=\"T_3ce3e_row9_col24\" class=\"data row9 col24\" >0</td>\n",
       "      <td id=\"T_3ce3e_row9_col25\" class=\"data row9 col25\" >0</td>\n",
       "      <td id=\"T_3ce3e_row9_col26\" class=\"data row9 col26\" >0</td>\n",
       "      <td id=\"T_3ce3e_row9_col27\" class=\"data row9 col27\" >0</td>\n",
       "    </tr>\n",
       "    <tr>\n",
       "      <th id=\"T_3ce3e_level0_row10\" class=\"row_heading level0 row10\" >10</th>\n",
       "      <td id=\"T_3ce3e_row10_col0\" class=\"data row10 col0\" >0</td>\n",
       "      <td id=\"T_3ce3e_row10_col1\" class=\"data row10 col1\" >0</td>\n",
       "      <td id=\"T_3ce3e_row10_col2\" class=\"data row10 col2\" >0</td>\n",
       "      <td id=\"T_3ce3e_row10_col3\" class=\"data row10 col3\" >0</td>\n",
       "      <td id=\"T_3ce3e_row10_col4\" class=\"data row10 col4\" >0</td>\n",
       "      <td id=\"T_3ce3e_row10_col5\" class=\"data row10 col5\" >0</td>\n",
       "      <td id=\"T_3ce3e_row10_col6\" class=\"data row10 col6\" >0</td>\n",
       "      <td id=\"T_3ce3e_row10_col7\" class=\"data row10 col7\" >0</td>\n",
       "      <td id=\"T_3ce3e_row10_col8\" class=\"data row10 col8\" >0</td>\n",
       "      <td id=\"T_3ce3e_row10_col9\" class=\"data row10 col9\" >0</td>\n",
       "      <td id=\"T_3ce3e_row10_col10\" class=\"data row10 col10\" >0</td>\n",
       "      <td id=\"T_3ce3e_row10_col11\" class=\"data row10 col11\" >0</td>\n",
       "      <td id=\"T_3ce3e_row10_col12\" class=\"data row10 col12\" >0</td>\n",
       "      <td id=\"T_3ce3e_row10_col13\" class=\"data row10 col13\" >0</td>\n",
       "      <td id=\"T_3ce3e_row10_col14\" class=\"data row10 col14\" >249</td>\n",
       "      <td id=\"T_3ce3e_row10_col15\" class=\"data row10 col15\" >253</td>\n",
       "      <td id=\"T_3ce3e_row10_col16\" class=\"data row10 col16\" >245</td>\n",
       "      <td id=\"T_3ce3e_row10_col17\" class=\"data row10 col17\" >126</td>\n",
       "      <td id=\"T_3ce3e_row10_col18\" class=\"data row10 col18\" >0</td>\n",
       "      <td id=\"T_3ce3e_row10_col19\" class=\"data row10 col19\" >0</td>\n",
       "      <td id=\"T_3ce3e_row10_col20\" class=\"data row10 col20\" >0</td>\n",
       "      <td id=\"T_3ce3e_row10_col21\" class=\"data row10 col21\" >0</td>\n",
       "      <td id=\"T_3ce3e_row10_col22\" class=\"data row10 col22\" >0</td>\n",
       "      <td id=\"T_3ce3e_row10_col23\" class=\"data row10 col23\" >0</td>\n",
       "      <td id=\"T_3ce3e_row10_col24\" class=\"data row10 col24\" >0</td>\n",
       "      <td id=\"T_3ce3e_row10_col25\" class=\"data row10 col25\" >0</td>\n",
       "      <td id=\"T_3ce3e_row10_col26\" class=\"data row10 col26\" >0</td>\n",
       "      <td id=\"T_3ce3e_row10_col27\" class=\"data row10 col27\" >0</td>\n",
       "    </tr>\n",
       "    <tr>\n",
       "      <th id=\"T_3ce3e_level0_row11\" class=\"row_heading level0 row11\" >11</th>\n",
       "      <td id=\"T_3ce3e_row11_col0\" class=\"data row11 col0\" >0</td>\n",
       "      <td id=\"T_3ce3e_row11_col1\" class=\"data row11 col1\" >0</td>\n",
       "      <td id=\"T_3ce3e_row11_col2\" class=\"data row11 col2\" >0</td>\n",
       "      <td id=\"T_3ce3e_row11_col3\" class=\"data row11 col3\" >0</td>\n",
       "      <td id=\"T_3ce3e_row11_col4\" class=\"data row11 col4\" >0</td>\n",
       "      <td id=\"T_3ce3e_row11_col5\" class=\"data row11 col5\" >0</td>\n",
       "      <td id=\"T_3ce3e_row11_col6\" class=\"data row11 col6\" >0</td>\n",
       "      <td id=\"T_3ce3e_row11_col7\" class=\"data row11 col7\" >0</td>\n",
       "      <td id=\"T_3ce3e_row11_col8\" class=\"data row11 col8\" >0</td>\n",
       "      <td id=\"T_3ce3e_row11_col9\" class=\"data row11 col9\" >0</td>\n",
       "      <td id=\"T_3ce3e_row11_col10\" class=\"data row11 col10\" >0</td>\n",
       "      <td id=\"T_3ce3e_row11_col11\" class=\"data row11 col11\" >14</td>\n",
       "      <td id=\"T_3ce3e_row11_col12\" class=\"data row11 col12\" >101</td>\n",
       "      <td id=\"T_3ce3e_row11_col13\" class=\"data row11 col13\" >223</td>\n",
       "      <td id=\"T_3ce3e_row11_col14\" class=\"data row11 col14\" >253</td>\n",
       "      <td id=\"T_3ce3e_row11_col15\" class=\"data row11 col15\" >248</td>\n",
       "      <td id=\"T_3ce3e_row11_col16\" class=\"data row11 col16\" >124</td>\n",
       "      <td id=\"T_3ce3e_row11_col17\" class=\"data row11 col17\" >0</td>\n",
       "      <td id=\"T_3ce3e_row11_col18\" class=\"data row11 col18\" >0</td>\n",
       "      <td id=\"T_3ce3e_row11_col19\" class=\"data row11 col19\" >0</td>\n",
       "      <td id=\"T_3ce3e_row11_col20\" class=\"data row11 col20\" >0</td>\n",
       "      <td id=\"T_3ce3e_row11_col21\" class=\"data row11 col21\" >0</td>\n",
       "      <td id=\"T_3ce3e_row11_col22\" class=\"data row11 col22\" >0</td>\n",
       "      <td id=\"T_3ce3e_row11_col23\" class=\"data row11 col23\" >0</td>\n",
       "      <td id=\"T_3ce3e_row11_col24\" class=\"data row11 col24\" >0</td>\n",
       "      <td id=\"T_3ce3e_row11_col25\" class=\"data row11 col25\" >0</td>\n",
       "      <td id=\"T_3ce3e_row11_col26\" class=\"data row11 col26\" >0</td>\n",
       "      <td id=\"T_3ce3e_row11_col27\" class=\"data row11 col27\" >0</td>\n",
       "    </tr>\n",
       "    <tr>\n",
       "      <th id=\"T_3ce3e_level0_row12\" class=\"row_heading level0 row12\" >12</th>\n",
       "      <td id=\"T_3ce3e_row12_col0\" class=\"data row12 col0\" >0</td>\n",
       "      <td id=\"T_3ce3e_row12_col1\" class=\"data row12 col1\" >0</td>\n",
       "      <td id=\"T_3ce3e_row12_col2\" class=\"data row12 col2\" >0</td>\n",
       "      <td id=\"T_3ce3e_row12_col3\" class=\"data row12 col3\" >0</td>\n",
       "      <td id=\"T_3ce3e_row12_col4\" class=\"data row12 col4\" >0</td>\n",
       "      <td id=\"T_3ce3e_row12_col5\" class=\"data row12 col5\" >0</td>\n",
       "      <td id=\"T_3ce3e_row12_col6\" class=\"data row12 col6\" >0</td>\n",
       "      <td id=\"T_3ce3e_row12_col7\" class=\"data row12 col7\" >0</td>\n",
       "      <td id=\"T_3ce3e_row12_col8\" class=\"data row12 col8\" >0</td>\n",
       "      <td id=\"T_3ce3e_row12_col9\" class=\"data row12 col9\" >11</td>\n",
       "      <td id=\"T_3ce3e_row12_col10\" class=\"data row12 col10\" >166</td>\n",
       "      <td id=\"T_3ce3e_row12_col11\" class=\"data row12 col11\" >239</td>\n",
       "      <td id=\"T_3ce3e_row12_col12\" class=\"data row12 col12\" >253</td>\n",
       "      <td id=\"T_3ce3e_row12_col13\" class=\"data row12 col13\" >253</td>\n",
       "      <td id=\"T_3ce3e_row12_col14\" class=\"data row12 col14\" >253</td>\n",
       "      <td id=\"T_3ce3e_row12_col15\" class=\"data row12 col15\" >187</td>\n",
       "      <td id=\"T_3ce3e_row12_col16\" class=\"data row12 col16\" >30</td>\n",
       "      <td id=\"T_3ce3e_row12_col17\" class=\"data row12 col17\" >0</td>\n",
       "      <td id=\"T_3ce3e_row12_col18\" class=\"data row12 col18\" >0</td>\n",
       "      <td id=\"T_3ce3e_row12_col19\" class=\"data row12 col19\" >0</td>\n",
       "      <td id=\"T_3ce3e_row12_col20\" class=\"data row12 col20\" >0</td>\n",
       "      <td id=\"T_3ce3e_row12_col21\" class=\"data row12 col21\" >0</td>\n",
       "      <td id=\"T_3ce3e_row12_col22\" class=\"data row12 col22\" >0</td>\n",
       "      <td id=\"T_3ce3e_row12_col23\" class=\"data row12 col23\" >0</td>\n",
       "      <td id=\"T_3ce3e_row12_col24\" class=\"data row12 col24\" >0</td>\n",
       "      <td id=\"T_3ce3e_row12_col25\" class=\"data row12 col25\" >0</td>\n",
       "      <td id=\"T_3ce3e_row12_col26\" class=\"data row12 col26\" >0</td>\n",
       "      <td id=\"T_3ce3e_row12_col27\" class=\"data row12 col27\" >0</td>\n",
       "    </tr>\n",
       "    <tr>\n",
       "      <th id=\"T_3ce3e_level0_row13\" class=\"row_heading level0 row13\" >13</th>\n",
       "      <td id=\"T_3ce3e_row13_col0\" class=\"data row13 col0\" >0</td>\n",
       "      <td id=\"T_3ce3e_row13_col1\" class=\"data row13 col1\" >0</td>\n",
       "      <td id=\"T_3ce3e_row13_col2\" class=\"data row13 col2\" >0</td>\n",
       "      <td id=\"T_3ce3e_row13_col3\" class=\"data row13 col3\" >0</td>\n",
       "      <td id=\"T_3ce3e_row13_col4\" class=\"data row13 col4\" >0</td>\n",
       "      <td id=\"T_3ce3e_row13_col5\" class=\"data row13 col5\" >0</td>\n",
       "      <td id=\"T_3ce3e_row13_col6\" class=\"data row13 col6\" >0</td>\n",
       "      <td id=\"T_3ce3e_row13_col7\" class=\"data row13 col7\" >0</td>\n",
       "      <td id=\"T_3ce3e_row13_col8\" class=\"data row13 col8\" >0</td>\n",
       "      <td id=\"T_3ce3e_row13_col9\" class=\"data row13 col9\" >16</td>\n",
       "      <td id=\"T_3ce3e_row13_col10\" class=\"data row13 col10\" >248</td>\n",
       "      <td id=\"T_3ce3e_row13_col11\" class=\"data row13 col11\" >250</td>\n",
       "      <td id=\"T_3ce3e_row13_col12\" class=\"data row13 col12\" >253</td>\n",
       "      <td id=\"T_3ce3e_row13_col13\" class=\"data row13 col13\" >253</td>\n",
       "      <td id=\"T_3ce3e_row13_col14\" class=\"data row13 col14\" >253</td>\n",
       "      <td id=\"T_3ce3e_row13_col15\" class=\"data row13 col15\" >253</td>\n",
       "      <td id=\"T_3ce3e_row13_col16\" class=\"data row13 col16\" >232</td>\n",
       "      <td id=\"T_3ce3e_row13_col17\" class=\"data row13 col17\" >213</td>\n",
       "      <td id=\"T_3ce3e_row13_col18\" class=\"data row13 col18\" >111</td>\n",
       "      <td id=\"T_3ce3e_row13_col19\" class=\"data row13 col19\" >2</td>\n",
       "      <td id=\"T_3ce3e_row13_col20\" class=\"data row13 col20\" >0</td>\n",
       "      <td id=\"T_3ce3e_row13_col21\" class=\"data row13 col21\" >0</td>\n",
       "      <td id=\"T_3ce3e_row13_col22\" class=\"data row13 col22\" >0</td>\n",
       "      <td id=\"T_3ce3e_row13_col23\" class=\"data row13 col23\" >0</td>\n",
       "      <td id=\"T_3ce3e_row13_col24\" class=\"data row13 col24\" >0</td>\n",
       "      <td id=\"T_3ce3e_row13_col25\" class=\"data row13 col25\" >0</td>\n",
       "      <td id=\"T_3ce3e_row13_col26\" class=\"data row13 col26\" >0</td>\n",
       "      <td id=\"T_3ce3e_row13_col27\" class=\"data row13 col27\" >0</td>\n",
       "    </tr>\n",
       "    <tr>\n",
       "      <th id=\"T_3ce3e_level0_row14\" class=\"row_heading level0 row14\" >14</th>\n",
       "      <td id=\"T_3ce3e_row14_col0\" class=\"data row14 col0\" >0</td>\n",
       "      <td id=\"T_3ce3e_row14_col1\" class=\"data row14 col1\" >0</td>\n",
       "      <td id=\"T_3ce3e_row14_col2\" class=\"data row14 col2\" >0</td>\n",
       "      <td id=\"T_3ce3e_row14_col3\" class=\"data row14 col3\" >0</td>\n",
       "      <td id=\"T_3ce3e_row14_col4\" class=\"data row14 col4\" >0</td>\n",
       "      <td id=\"T_3ce3e_row14_col5\" class=\"data row14 col5\" >0</td>\n",
       "      <td id=\"T_3ce3e_row14_col6\" class=\"data row14 col6\" >0</td>\n",
       "      <td id=\"T_3ce3e_row14_col7\" class=\"data row14 col7\" >0</td>\n",
       "      <td id=\"T_3ce3e_row14_col8\" class=\"data row14 col8\" >0</td>\n",
       "      <td id=\"T_3ce3e_row14_col9\" class=\"data row14 col9\" >0</td>\n",
       "      <td id=\"T_3ce3e_row14_col10\" class=\"data row14 col10\" >0</td>\n",
       "      <td id=\"T_3ce3e_row14_col11\" class=\"data row14 col11\" >43</td>\n",
       "      <td id=\"T_3ce3e_row14_col12\" class=\"data row14 col12\" >98</td>\n",
       "      <td id=\"T_3ce3e_row14_col13\" class=\"data row14 col13\" >98</td>\n",
       "      <td id=\"T_3ce3e_row14_col14\" class=\"data row14 col14\" >208</td>\n",
       "      <td id=\"T_3ce3e_row14_col15\" class=\"data row14 col15\" >253</td>\n",
       "      <td id=\"T_3ce3e_row14_col16\" class=\"data row14 col16\" >253</td>\n",
       "      <td id=\"T_3ce3e_row14_col17\" class=\"data row14 col17\" >253</td>\n",
       "      <td id=\"T_3ce3e_row14_col18\" class=\"data row14 col18\" >253</td>\n",
       "      <td id=\"T_3ce3e_row14_col19\" class=\"data row14 col19\" >187</td>\n",
       "      <td id=\"T_3ce3e_row14_col20\" class=\"data row14 col20\" >22</td>\n",
       "      <td id=\"T_3ce3e_row14_col21\" class=\"data row14 col21\" >0</td>\n",
       "      <td id=\"T_3ce3e_row14_col22\" class=\"data row14 col22\" >0</td>\n",
       "      <td id=\"T_3ce3e_row14_col23\" class=\"data row14 col23\" >0</td>\n",
       "      <td id=\"T_3ce3e_row14_col24\" class=\"data row14 col24\" >0</td>\n",
       "      <td id=\"T_3ce3e_row14_col25\" class=\"data row14 col25\" >0</td>\n",
       "      <td id=\"T_3ce3e_row14_col26\" class=\"data row14 col26\" >0</td>\n",
       "      <td id=\"T_3ce3e_row14_col27\" class=\"data row14 col27\" >0</td>\n",
       "    </tr>\n",
       "    <tr>\n",
       "      <th id=\"T_3ce3e_level0_row15\" class=\"row_heading level0 row15\" >15</th>\n",
       "      <td id=\"T_3ce3e_row15_col0\" class=\"data row15 col0\" >0</td>\n",
       "      <td id=\"T_3ce3e_row15_col1\" class=\"data row15 col1\" >0</td>\n",
       "      <td id=\"T_3ce3e_row15_col2\" class=\"data row15 col2\" >0</td>\n",
       "      <td id=\"T_3ce3e_row15_col3\" class=\"data row15 col3\" >0</td>\n",
       "      <td id=\"T_3ce3e_row15_col4\" class=\"data row15 col4\" >0</td>\n",
       "      <td id=\"T_3ce3e_row15_col5\" class=\"data row15 col5\" >0</td>\n",
       "      <td id=\"T_3ce3e_row15_col6\" class=\"data row15 col6\" >0</td>\n",
       "      <td id=\"T_3ce3e_row15_col7\" class=\"data row15 col7\" >0</td>\n",
       "      <td id=\"T_3ce3e_row15_col8\" class=\"data row15 col8\" >0</td>\n",
       "      <td id=\"T_3ce3e_row15_col9\" class=\"data row15 col9\" >0</td>\n",
       "      <td id=\"T_3ce3e_row15_col10\" class=\"data row15 col10\" >0</td>\n",
       "      <td id=\"T_3ce3e_row15_col11\" class=\"data row15 col11\" >0</td>\n",
       "      <td id=\"T_3ce3e_row15_col12\" class=\"data row15 col12\" >0</td>\n",
       "      <td id=\"T_3ce3e_row15_col13\" class=\"data row15 col13\" >0</td>\n",
       "      <td id=\"T_3ce3e_row15_col14\" class=\"data row15 col14\" >9</td>\n",
       "      <td id=\"T_3ce3e_row15_col15\" class=\"data row15 col15\" >51</td>\n",
       "      <td id=\"T_3ce3e_row15_col16\" class=\"data row15 col16\" >119</td>\n",
       "      <td id=\"T_3ce3e_row15_col17\" class=\"data row15 col17\" >253</td>\n",
       "      <td id=\"T_3ce3e_row15_col18\" class=\"data row15 col18\" >253</td>\n",
       "      <td id=\"T_3ce3e_row15_col19\" class=\"data row15 col19\" >253</td>\n",
       "      <td id=\"T_3ce3e_row15_col20\" class=\"data row15 col20\" >76</td>\n",
       "      <td id=\"T_3ce3e_row15_col21\" class=\"data row15 col21\" >0</td>\n",
       "      <td id=\"T_3ce3e_row15_col22\" class=\"data row15 col22\" >0</td>\n",
       "      <td id=\"T_3ce3e_row15_col23\" class=\"data row15 col23\" >0</td>\n",
       "      <td id=\"T_3ce3e_row15_col24\" class=\"data row15 col24\" >0</td>\n",
       "      <td id=\"T_3ce3e_row15_col25\" class=\"data row15 col25\" >0</td>\n",
       "      <td id=\"T_3ce3e_row15_col26\" class=\"data row15 col26\" >0</td>\n",
       "      <td id=\"T_3ce3e_row15_col27\" class=\"data row15 col27\" >0</td>\n",
       "    </tr>\n",
       "    <tr>\n",
       "      <th id=\"T_3ce3e_level0_row16\" class=\"row_heading level0 row16\" >16</th>\n",
       "      <td id=\"T_3ce3e_row16_col0\" class=\"data row16 col0\" >0</td>\n",
       "      <td id=\"T_3ce3e_row16_col1\" class=\"data row16 col1\" >0</td>\n",
       "      <td id=\"T_3ce3e_row16_col2\" class=\"data row16 col2\" >0</td>\n",
       "      <td id=\"T_3ce3e_row16_col3\" class=\"data row16 col3\" >0</td>\n",
       "      <td id=\"T_3ce3e_row16_col4\" class=\"data row16 col4\" >0</td>\n",
       "      <td id=\"T_3ce3e_row16_col5\" class=\"data row16 col5\" >0</td>\n",
       "      <td id=\"T_3ce3e_row16_col6\" class=\"data row16 col6\" >0</td>\n",
       "      <td id=\"T_3ce3e_row16_col7\" class=\"data row16 col7\" >0</td>\n",
       "      <td id=\"T_3ce3e_row16_col8\" class=\"data row16 col8\" >0</td>\n",
       "      <td id=\"T_3ce3e_row16_col9\" class=\"data row16 col9\" >0</td>\n",
       "      <td id=\"T_3ce3e_row16_col10\" class=\"data row16 col10\" >0</td>\n",
       "      <td id=\"T_3ce3e_row16_col11\" class=\"data row16 col11\" >0</td>\n",
       "      <td id=\"T_3ce3e_row16_col12\" class=\"data row16 col12\" >0</td>\n",
       "      <td id=\"T_3ce3e_row16_col13\" class=\"data row16 col13\" >0</td>\n",
       "      <td id=\"T_3ce3e_row16_col14\" class=\"data row16 col14\" >0</td>\n",
       "      <td id=\"T_3ce3e_row16_col15\" class=\"data row16 col15\" >0</td>\n",
       "      <td id=\"T_3ce3e_row16_col16\" class=\"data row16 col16\" >1</td>\n",
       "      <td id=\"T_3ce3e_row16_col17\" class=\"data row16 col17\" >183</td>\n",
       "      <td id=\"T_3ce3e_row16_col18\" class=\"data row16 col18\" >253</td>\n",
       "      <td id=\"T_3ce3e_row16_col19\" class=\"data row16 col19\" >253</td>\n",
       "      <td id=\"T_3ce3e_row16_col20\" class=\"data row16 col20\" >139</td>\n",
       "      <td id=\"T_3ce3e_row16_col21\" class=\"data row16 col21\" >0</td>\n",
       "      <td id=\"T_3ce3e_row16_col22\" class=\"data row16 col22\" >0</td>\n",
       "      <td id=\"T_3ce3e_row16_col23\" class=\"data row16 col23\" >0</td>\n",
       "      <td id=\"T_3ce3e_row16_col24\" class=\"data row16 col24\" >0</td>\n",
       "      <td id=\"T_3ce3e_row16_col25\" class=\"data row16 col25\" >0</td>\n",
       "      <td id=\"T_3ce3e_row16_col26\" class=\"data row16 col26\" >0</td>\n",
       "      <td id=\"T_3ce3e_row16_col27\" class=\"data row16 col27\" >0</td>\n",
       "    </tr>\n",
       "    <tr>\n",
       "      <th id=\"T_3ce3e_level0_row17\" class=\"row_heading level0 row17\" >17</th>\n",
       "      <td id=\"T_3ce3e_row17_col0\" class=\"data row17 col0\" >0</td>\n",
       "      <td id=\"T_3ce3e_row17_col1\" class=\"data row17 col1\" >0</td>\n",
       "      <td id=\"T_3ce3e_row17_col2\" class=\"data row17 col2\" >0</td>\n",
       "      <td id=\"T_3ce3e_row17_col3\" class=\"data row17 col3\" >0</td>\n",
       "      <td id=\"T_3ce3e_row17_col4\" class=\"data row17 col4\" >0</td>\n",
       "      <td id=\"T_3ce3e_row17_col5\" class=\"data row17 col5\" >0</td>\n",
       "      <td id=\"T_3ce3e_row17_col6\" class=\"data row17 col6\" >0</td>\n",
       "      <td id=\"T_3ce3e_row17_col7\" class=\"data row17 col7\" >0</td>\n",
       "      <td id=\"T_3ce3e_row17_col8\" class=\"data row17 col8\" >0</td>\n",
       "      <td id=\"T_3ce3e_row17_col9\" class=\"data row17 col9\" >0</td>\n",
       "      <td id=\"T_3ce3e_row17_col10\" class=\"data row17 col10\" >0</td>\n",
       "      <td id=\"T_3ce3e_row17_col11\" class=\"data row17 col11\" >0</td>\n",
       "      <td id=\"T_3ce3e_row17_col12\" class=\"data row17 col12\" >0</td>\n",
       "      <td id=\"T_3ce3e_row17_col13\" class=\"data row17 col13\" >0</td>\n",
       "      <td id=\"T_3ce3e_row17_col14\" class=\"data row17 col14\" >0</td>\n",
       "      <td id=\"T_3ce3e_row17_col15\" class=\"data row17 col15\" >0</td>\n",
       "      <td id=\"T_3ce3e_row17_col16\" class=\"data row17 col16\" >0</td>\n",
       "      <td id=\"T_3ce3e_row17_col17\" class=\"data row17 col17\" >182</td>\n",
       "      <td id=\"T_3ce3e_row17_col18\" class=\"data row17 col18\" >253</td>\n",
       "      <td id=\"T_3ce3e_row17_col19\" class=\"data row17 col19\" >253</td>\n",
       "      <td id=\"T_3ce3e_row17_col20\" class=\"data row17 col20\" >104</td>\n",
       "      <td id=\"T_3ce3e_row17_col21\" class=\"data row17 col21\" >0</td>\n",
       "      <td id=\"T_3ce3e_row17_col22\" class=\"data row17 col22\" >0</td>\n",
       "      <td id=\"T_3ce3e_row17_col23\" class=\"data row17 col23\" >0</td>\n",
       "      <td id=\"T_3ce3e_row17_col24\" class=\"data row17 col24\" >0</td>\n",
       "      <td id=\"T_3ce3e_row17_col25\" class=\"data row17 col25\" >0</td>\n",
       "      <td id=\"T_3ce3e_row17_col26\" class=\"data row17 col26\" >0</td>\n",
       "      <td id=\"T_3ce3e_row17_col27\" class=\"data row17 col27\" >0</td>\n",
       "    </tr>\n",
       "    <tr>\n",
       "      <th id=\"T_3ce3e_level0_row18\" class=\"row_heading level0 row18\" >18</th>\n",
       "      <td id=\"T_3ce3e_row18_col0\" class=\"data row18 col0\" >0</td>\n",
       "      <td id=\"T_3ce3e_row18_col1\" class=\"data row18 col1\" >0</td>\n",
       "      <td id=\"T_3ce3e_row18_col2\" class=\"data row18 col2\" >0</td>\n",
       "      <td id=\"T_3ce3e_row18_col3\" class=\"data row18 col3\" >0</td>\n",
       "      <td id=\"T_3ce3e_row18_col4\" class=\"data row18 col4\" >0</td>\n",
       "      <td id=\"T_3ce3e_row18_col5\" class=\"data row18 col5\" >0</td>\n",
       "      <td id=\"T_3ce3e_row18_col6\" class=\"data row18 col6\" >0</td>\n",
       "      <td id=\"T_3ce3e_row18_col7\" class=\"data row18 col7\" >0</td>\n",
       "      <td id=\"T_3ce3e_row18_col8\" class=\"data row18 col8\" >0</td>\n",
       "      <td id=\"T_3ce3e_row18_col9\" class=\"data row18 col9\" >0</td>\n",
       "      <td id=\"T_3ce3e_row18_col10\" class=\"data row18 col10\" >0</td>\n",
       "      <td id=\"T_3ce3e_row18_col11\" class=\"data row18 col11\" >0</td>\n",
       "      <td id=\"T_3ce3e_row18_col12\" class=\"data row18 col12\" >0</td>\n",
       "      <td id=\"T_3ce3e_row18_col13\" class=\"data row18 col13\" >0</td>\n",
       "      <td id=\"T_3ce3e_row18_col14\" class=\"data row18 col14\" >0</td>\n",
       "      <td id=\"T_3ce3e_row18_col15\" class=\"data row18 col15\" >0</td>\n",
       "      <td id=\"T_3ce3e_row18_col16\" class=\"data row18 col16\" >85</td>\n",
       "      <td id=\"T_3ce3e_row18_col17\" class=\"data row18 col17\" >249</td>\n",
       "      <td id=\"T_3ce3e_row18_col18\" class=\"data row18 col18\" >253</td>\n",
       "      <td id=\"T_3ce3e_row18_col19\" class=\"data row18 col19\" >253</td>\n",
       "      <td id=\"T_3ce3e_row18_col20\" class=\"data row18 col20\" >36</td>\n",
       "      <td id=\"T_3ce3e_row18_col21\" class=\"data row18 col21\" >0</td>\n",
       "      <td id=\"T_3ce3e_row18_col22\" class=\"data row18 col22\" >0</td>\n",
       "      <td id=\"T_3ce3e_row18_col23\" class=\"data row18 col23\" >0</td>\n",
       "      <td id=\"T_3ce3e_row18_col24\" class=\"data row18 col24\" >0</td>\n",
       "      <td id=\"T_3ce3e_row18_col25\" class=\"data row18 col25\" >0</td>\n",
       "      <td id=\"T_3ce3e_row18_col26\" class=\"data row18 col26\" >0</td>\n",
       "      <td id=\"T_3ce3e_row18_col27\" class=\"data row18 col27\" >0</td>\n",
       "    </tr>\n",
       "    <tr>\n",
       "      <th id=\"T_3ce3e_level0_row19\" class=\"row_heading level0 row19\" >19</th>\n",
       "      <td id=\"T_3ce3e_row19_col0\" class=\"data row19 col0\" >0</td>\n",
       "      <td id=\"T_3ce3e_row19_col1\" class=\"data row19 col1\" >0</td>\n",
       "      <td id=\"T_3ce3e_row19_col2\" class=\"data row19 col2\" >0</td>\n",
       "      <td id=\"T_3ce3e_row19_col3\" class=\"data row19 col3\" >0</td>\n",
       "      <td id=\"T_3ce3e_row19_col4\" class=\"data row19 col4\" >0</td>\n",
       "      <td id=\"T_3ce3e_row19_col5\" class=\"data row19 col5\" >0</td>\n",
       "      <td id=\"T_3ce3e_row19_col6\" class=\"data row19 col6\" >0</td>\n",
       "      <td id=\"T_3ce3e_row19_col7\" class=\"data row19 col7\" >0</td>\n",
       "      <td id=\"T_3ce3e_row19_col8\" class=\"data row19 col8\" >0</td>\n",
       "      <td id=\"T_3ce3e_row19_col9\" class=\"data row19 col9\" >0</td>\n",
       "      <td id=\"T_3ce3e_row19_col10\" class=\"data row19 col10\" >0</td>\n",
       "      <td id=\"T_3ce3e_row19_col11\" class=\"data row19 col11\" >0</td>\n",
       "      <td id=\"T_3ce3e_row19_col12\" class=\"data row19 col12\" >0</td>\n",
       "      <td id=\"T_3ce3e_row19_col13\" class=\"data row19 col13\" >0</td>\n",
       "      <td id=\"T_3ce3e_row19_col14\" class=\"data row19 col14\" >0</td>\n",
       "      <td id=\"T_3ce3e_row19_col15\" class=\"data row19 col15\" >60</td>\n",
       "      <td id=\"T_3ce3e_row19_col16\" class=\"data row19 col16\" >214</td>\n",
       "      <td id=\"T_3ce3e_row19_col17\" class=\"data row19 col17\" >253</td>\n",
       "      <td id=\"T_3ce3e_row19_col18\" class=\"data row19 col18\" >253</td>\n",
       "      <td id=\"T_3ce3e_row19_col19\" class=\"data row19 col19\" >173</td>\n",
       "      <td id=\"T_3ce3e_row19_col20\" class=\"data row19 col20\" >11</td>\n",
       "      <td id=\"T_3ce3e_row19_col21\" class=\"data row19 col21\" >0</td>\n",
       "      <td id=\"T_3ce3e_row19_col22\" class=\"data row19 col22\" >0</td>\n",
       "      <td id=\"T_3ce3e_row19_col23\" class=\"data row19 col23\" >0</td>\n",
       "      <td id=\"T_3ce3e_row19_col24\" class=\"data row19 col24\" >0</td>\n",
       "      <td id=\"T_3ce3e_row19_col25\" class=\"data row19 col25\" >0</td>\n",
       "      <td id=\"T_3ce3e_row19_col26\" class=\"data row19 col26\" >0</td>\n",
       "      <td id=\"T_3ce3e_row19_col27\" class=\"data row19 col27\" >0</td>\n",
       "    </tr>\n",
       "    <tr>\n",
       "      <th id=\"T_3ce3e_level0_row20\" class=\"row_heading level0 row20\" >20</th>\n",
       "      <td id=\"T_3ce3e_row20_col0\" class=\"data row20 col0\" >0</td>\n",
       "      <td id=\"T_3ce3e_row20_col1\" class=\"data row20 col1\" >0</td>\n",
       "      <td id=\"T_3ce3e_row20_col2\" class=\"data row20 col2\" >0</td>\n",
       "      <td id=\"T_3ce3e_row20_col3\" class=\"data row20 col3\" >0</td>\n",
       "      <td id=\"T_3ce3e_row20_col4\" class=\"data row20 col4\" >0</td>\n",
       "      <td id=\"T_3ce3e_row20_col5\" class=\"data row20 col5\" >0</td>\n",
       "      <td id=\"T_3ce3e_row20_col6\" class=\"data row20 col6\" >0</td>\n",
       "      <td id=\"T_3ce3e_row20_col7\" class=\"data row20 col7\" >0</td>\n",
       "      <td id=\"T_3ce3e_row20_col8\" class=\"data row20 col8\" >0</td>\n",
       "      <td id=\"T_3ce3e_row20_col9\" class=\"data row20 col9\" >0</td>\n",
       "      <td id=\"T_3ce3e_row20_col10\" class=\"data row20 col10\" >0</td>\n",
       "      <td id=\"T_3ce3e_row20_col11\" class=\"data row20 col11\" >0</td>\n",
       "      <td id=\"T_3ce3e_row20_col12\" class=\"data row20 col12\" >0</td>\n",
       "      <td id=\"T_3ce3e_row20_col13\" class=\"data row20 col13\" >0</td>\n",
       "      <td id=\"T_3ce3e_row20_col14\" class=\"data row20 col14\" >98</td>\n",
       "      <td id=\"T_3ce3e_row20_col15\" class=\"data row20 col15\" >247</td>\n",
       "      <td id=\"T_3ce3e_row20_col16\" class=\"data row20 col16\" >253</td>\n",
       "      <td id=\"T_3ce3e_row20_col17\" class=\"data row20 col17\" >253</td>\n",
       "      <td id=\"T_3ce3e_row20_col18\" class=\"data row20 col18\" >226</td>\n",
       "      <td id=\"T_3ce3e_row20_col19\" class=\"data row20 col19\" >9</td>\n",
       "      <td id=\"T_3ce3e_row20_col20\" class=\"data row20 col20\" >0</td>\n",
       "      <td id=\"T_3ce3e_row20_col21\" class=\"data row20 col21\" >0</td>\n",
       "      <td id=\"T_3ce3e_row20_col22\" class=\"data row20 col22\" >0</td>\n",
       "      <td id=\"T_3ce3e_row20_col23\" class=\"data row20 col23\" >0</td>\n",
       "      <td id=\"T_3ce3e_row20_col24\" class=\"data row20 col24\" >0</td>\n",
       "      <td id=\"T_3ce3e_row20_col25\" class=\"data row20 col25\" >0</td>\n",
       "      <td id=\"T_3ce3e_row20_col26\" class=\"data row20 col26\" >0</td>\n",
       "      <td id=\"T_3ce3e_row20_col27\" class=\"data row20 col27\" >0</td>\n",
       "    </tr>\n",
       "    <tr>\n",
       "      <th id=\"T_3ce3e_level0_row21\" class=\"row_heading level0 row21\" >21</th>\n",
       "      <td id=\"T_3ce3e_row21_col0\" class=\"data row21 col0\" >0</td>\n",
       "      <td id=\"T_3ce3e_row21_col1\" class=\"data row21 col1\" >0</td>\n",
       "      <td id=\"T_3ce3e_row21_col2\" class=\"data row21 col2\" >0</td>\n",
       "      <td id=\"T_3ce3e_row21_col3\" class=\"data row21 col3\" >0</td>\n",
       "      <td id=\"T_3ce3e_row21_col4\" class=\"data row21 col4\" >0</td>\n",
       "      <td id=\"T_3ce3e_row21_col5\" class=\"data row21 col5\" >0</td>\n",
       "      <td id=\"T_3ce3e_row21_col6\" class=\"data row21 col6\" >0</td>\n",
       "      <td id=\"T_3ce3e_row21_col7\" class=\"data row21 col7\" >0</td>\n",
       "      <td id=\"T_3ce3e_row21_col8\" class=\"data row21 col8\" >0</td>\n",
       "      <td id=\"T_3ce3e_row21_col9\" class=\"data row21 col9\" >0</td>\n",
       "      <td id=\"T_3ce3e_row21_col10\" class=\"data row21 col10\" >0</td>\n",
       "      <td id=\"T_3ce3e_row21_col11\" class=\"data row21 col11\" >0</td>\n",
       "      <td id=\"T_3ce3e_row21_col12\" class=\"data row21 col12\" >42</td>\n",
       "      <td id=\"T_3ce3e_row21_col13\" class=\"data row21 col13\" >150</td>\n",
       "      <td id=\"T_3ce3e_row21_col14\" class=\"data row21 col14\" >252</td>\n",
       "      <td id=\"T_3ce3e_row21_col15\" class=\"data row21 col15\" >253</td>\n",
       "      <td id=\"T_3ce3e_row21_col16\" class=\"data row21 col16\" >253</td>\n",
       "      <td id=\"T_3ce3e_row21_col17\" class=\"data row21 col17\" >233</td>\n",
       "      <td id=\"T_3ce3e_row21_col18\" class=\"data row21 col18\" >53</td>\n",
       "      <td id=\"T_3ce3e_row21_col19\" class=\"data row21 col19\" >0</td>\n",
       "      <td id=\"T_3ce3e_row21_col20\" class=\"data row21 col20\" >0</td>\n",
       "      <td id=\"T_3ce3e_row21_col21\" class=\"data row21 col21\" >0</td>\n",
       "      <td id=\"T_3ce3e_row21_col22\" class=\"data row21 col22\" >0</td>\n",
       "      <td id=\"T_3ce3e_row21_col23\" class=\"data row21 col23\" >0</td>\n",
       "      <td id=\"T_3ce3e_row21_col24\" class=\"data row21 col24\" >0</td>\n",
       "      <td id=\"T_3ce3e_row21_col25\" class=\"data row21 col25\" >0</td>\n",
       "      <td id=\"T_3ce3e_row21_col26\" class=\"data row21 col26\" >0</td>\n",
       "      <td id=\"T_3ce3e_row21_col27\" class=\"data row21 col27\" >0</td>\n",
       "    </tr>\n",
       "    <tr>\n",
       "      <th id=\"T_3ce3e_level0_row22\" class=\"row_heading level0 row22\" >22</th>\n",
       "      <td id=\"T_3ce3e_row22_col0\" class=\"data row22 col0\" >0</td>\n",
       "      <td id=\"T_3ce3e_row22_col1\" class=\"data row22 col1\" >0</td>\n",
       "      <td id=\"T_3ce3e_row22_col2\" class=\"data row22 col2\" >0</td>\n",
       "      <td id=\"T_3ce3e_row22_col3\" class=\"data row22 col3\" >0</td>\n",
       "      <td id=\"T_3ce3e_row22_col4\" class=\"data row22 col4\" >0</td>\n",
       "      <td id=\"T_3ce3e_row22_col5\" class=\"data row22 col5\" >0</td>\n",
       "      <td id=\"T_3ce3e_row22_col6\" class=\"data row22 col6\" >42</td>\n",
       "      <td id=\"T_3ce3e_row22_col7\" class=\"data row22 col7\" >115</td>\n",
       "      <td id=\"T_3ce3e_row22_col8\" class=\"data row22 col8\" >42</td>\n",
       "      <td id=\"T_3ce3e_row22_col9\" class=\"data row22 col9\" >60</td>\n",
       "      <td id=\"T_3ce3e_row22_col10\" class=\"data row22 col10\" >115</td>\n",
       "      <td id=\"T_3ce3e_row22_col11\" class=\"data row22 col11\" >159</td>\n",
       "      <td id=\"T_3ce3e_row22_col12\" class=\"data row22 col12\" >240</td>\n",
       "      <td id=\"T_3ce3e_row22_col13\" class=\"data row22 col13\" >253</td>\n",
       "      <td id=\"T_3ce3e_row22_col14\" class=\"data row22 col14\" >253</td>\n",
       "      <td id=\"T_3ce3e_row22_col15\" class=\"data row22 col15\" >250</td>\n",
       "      <td id=\"T_3ce3e_row22_col16\" class=\"data row22 col16\" >175</td>\n",
       "      <td id=\"T_3ce3e_row22_col17\" class=\"data row22 col17\" >25</td>\n",
       "      <td id=\"T_3ce3e_row22_col18\" class=\"data row22 col18\" >0</td>\n",
       "      <td id=\"T_3ce3e_row22_col19\" class=\"data row22 col19\" >0</td>\n",
       "      <td id=\"T_3ce3e_row22_col20\" class=\"data row22 col20\" >0</td>\n",
       "      <td id=\"T_3ce3e_row22_col21\" class=\"data row22 col21\" >0</td>\n",
       "      <td id=\"T_3ce3e_row22_col22\" class=\"data row22 col22\" >0</td>\n",
       "      <td id=\"T_3ce3e_row22_col23\" class=\"data row22 col23\" >0</td>\n",
       "      <td id=\"T_3ce3e_row22_col24\" class=\"data row22 col24\" >0</td>\n",
       "      <td id=\"T_3ce3e_row22_col25\" class=\"data row22 col25\" >0</td>\n",
       "      <td id=\"T_3ce3e_row22_col26\" class=\"data row22 col26\" >0</td>\n",
       "      <td id=\"T_3ce3e_row22_col27\" class=\"data row22 col27\" >0</td>\n",
       "    </tr>\n",
       "    <tr>\n",
       "      <th id=\"T_3ce3e_level0_row23\" class=\"row_heading level0 row23\" >23</th>\n",
       "      <td id=\"T_3ce3e_row23_col0\" class=\"data row23 col0\" >0</td>\n",
       "      <td id=\"T_3ce3e_row23_col1\" class=\"data row23 col1\" >0</td>\n",
       "      <td id=\"T_3ce3e_row23_col2\" class=\"data row23 col2\" >0</td>\n",
       "      <td id=\"T_3ce3e_row23_col3\" class=\"data row23 col3\" >0</td>\n",
       "      <td id=\"T_3ce3e_row23_col4\" class=\"data row23 col4\" >0</td>\n",
       "      <td id=\"T_3ce3e_row23_col5\" class=\"data row23 col5\" >0</td>\n",
       "      <td id=\"T_3ce3e_row23_col6\" class=\"data row23 col6\" >187</td>\n",
       "      <td id=\"T_3ce3e_row23_col7\" class=\"data row23 col7\" >253</td>\n",
       "      <td id=\"T_3ce3e_row23_col8\" class=\"data row23 col8\" >253</td>\n",
       "      <td id=\"T_3ce3e_row23_col9\" class=\"data row23 col9\" >253</td>\n",
       "      <td id=\"T_3ce3e_row23_col10\" class=\"data row23 col10\" >253</td>\n",
       "      <td id=\"T_3ce3e_row23_col11\" class=\"data row23 col11\" >253</td>\n",
       "      <td id=\"T_3ce3e_row23_col12\" class=\"data row23 col12\" >253</td>\n",
       "      <td id=\"T_3ce3e_row23_col13\" class=\"data row23 col13\" >253</td>\n",
       "      <td id=\"T_3ce3e_row23_col14\" class=\"data row23 col14\" >197</td>\n",
       "      <td id=\"T_3ce3e_row23_col15\" class=\"data row23 col15\" >86</td>\n",
       "      <td id=\"T_3ce3e_row23_col16\" class=\"data row23 col16\" >0</td>\n",
       "      <td id=\"T_3ce3e_row23_col17\" class=\"data row23 col17\" >0</td>\n",
       "      <td id=\"T_3ce3e_row23_col18\" class=\"data row23 col18\" >0</td>\n",
       "      <td id=\"T_3ce3e_row23_col19\" class=\"data row23 col19\" >0</td>\n",
       "      <td id=\"T_3ce3e_row23_col20\" class=\"data row23 col20\" >0</td>\n",
       "      <td id=\"T_3ce3e_row23_col21\" class=\"data row23 col21\" >0</td>\n",
       "      <td id=\"T_3ce3e_row23_col22\" class=\"data row23 col22\" >0</td>\n",
       "      <td id=\"T_3ce3e_row23_col23\" class=\"data row23 col23\" >0</td>\n",
       "      <td id=\"T_3ce3e_row23_col24\" class=\"data row23 col24\" >0</td>\n",
       "      <td id=\"T_3ce3e_row23_col25\" class=\"data row23 col25\" >0</td>\n",
       "      <td id=\"T_3ce3e_row23_col26\" class=\"data row23 col26\" >0</td>\n",
       "      <td id=\"T_3ce3e_row23_col27\" class=\"data row23 col27\" >0</td>\n",
       "    </tr>\n",
       "    <tr>\n",
       "      <th id=\"T_3ce3e_level0_row24\" class=\"row_heading level0 row24\" >24</th>\n",
       "      <td id=\"T_3ce3e_row24_col0\" class=\"data row24 col0\" >0</td>\n",
       "      <td id=\"T_3ce3e_row24_col1\" class=\"data row24 col1\" >0</td>\n",
       "      <td id=\"T_3ce3e_row24_col2\" class=\"data row24 col2\" >0</td>\n",
       "      <td id=\"T_3ce3e_row24_col3\" class=\"data row24 col3\" >0</td>\n",
       "      <td id=\"T_3ce3e_row24_col4\" class=\"data row24 col4\" >0</td>\n",
       "      <td id=\"T_3ce3e_row24_col5\" class=\"data row24 col5\" >0</td>\n",
       "      <td id=\"T_3ce3e_row24_col6\" class=\"data row24 col6\" >103</td>\n",
       "      <td id=\"T_3ce3e_row24_col7\" class=\"data row24 col7\" >253</td>\n",
       "      <td id=\"T_3ce3e_row24_col8\" class=\"data row24 col8\" >253</td>\n",
       "      <td id=\"T_3ce3e_row24_col9\" class=\"data row24 col9\" >253</td>\n",
       "      <td id=\"T_3ce3e_row24_col10\" class=\"data row24 col10\" >253</td>\n",
       "      <td id=\"T_3ce3e_row24_col11\" class=\"data row24 col11\" >253</td>\n",
       "      <td id=\"T_3ce3e_row24_col12\" class=\"data row24 col12\" >232</td>\n",
       "      <td id=\"T_3ce3e_row24_col13\" class=\"data row24 col13\" >67</td>\n",
       "      <td id=\"T_3ce3e_row24_col14\" class=\"data row24 col14\" >1</td>\n",
       "      <td id=\"T_3ce3e_row24_col15\" class=\"data row24 col15\" >0</td>\n",
       "      <td id=\"T_3ce3e_row24_col16\" class=\"data row24 col16\" >0</td>\n",
       "      <td id=\"T_3ce3e_row24_col17\" class=\"data row24 col17\" >0</td>\n",
       "      <td id=\"T_3ce3e_row24_col18\" class=\"data row24 col18\" >0</td>\n",
       "      <td id=\"T_3ce3e_row24_col19\" class=\"data row24 col19\" >0</td>\n",
       "      <td id=\"T_3ce3e_row24_col20\" class=\"data row24 col20\" >0</td>\n",
       "      <td id=\"T_3ce3e_row24_col21\" class=\"data row24 col21\" >0</td>\n",
       "      <td id=\"T_3ce3e_row24_col22\" class=\"data row24 col22\" >0</td>\n",
       "      <td id=\"T_3ce3e_row24_col23\" class=\"data row24 col23\" >0</td>\n",
       "      <td id=\"T_3ce3e_row24_col24\" class=\"data row24 col24\" >0</td>\n",
       "      <td id=\"T_3ce3e_row24_col25\" class=\"data row24 col25\" >0</td>\n",
       "      <td id=\"T_3ce3e_row24_col26\" class=\"data row24 col26\" >0</td>\n",
       "      <td id=\"T_3ce3e_row24_col27\" class=\"data row24 col27\" >0</td>\n",
       "    </tr>\n",
       "    <tr>\n",
       "      <th id=\"T_3ce3e_level0_row25\" class=\"row_heading level0 row25\" >25</th>\n",
       "      <td id=\"T_3ce3e_row25_col0\" class=\"data row25 col0\" >0</td>\n",
       "      <td id=\"T_3ce3e_row25_col1\" class=\"data row25 col1\" >0</td>\n",
       "      <td id=\"T_3ce3e_row25_col2\" class=\"data row25 col2\" >0</td>\n",
       "      <td id=\"T_3ce3e_row25_col3\" class=\"data row25 col3\" >0</td>\n",
       "      <td id=\"T_3ce3e_row25_col4\" class=\"data row25 col4\" >0</td>\n",
       "      <td id=\"T_3ce3e_row25_col5\" class=\"data row25 col5\" >0</td>\n",
       "      <td id=\"T_3ce3e_row25_col6\" class=\"data row25 col6\" >0</td>\n",
       "      <td id=\"T_3ce3e_row25_col7\" class=\"data row25 col7\" >0</td>\n",
       "      <td id=\"T_3ce3e_row25_col8\" class=\"data row25 col8\" >0</td>\n",
       "      <td id=\"T_3ce3e_row25_col9\" class=\"data row25 col9\" >0</td>\n",
       "      <td id=\"T_3ce3e_row25_col10\" class=\"data row25 col10\" >0</td>\n",
       "      <td id=\"T_3ce3e_row25_col11\" class=\"data row25 col11\" >0</td>\n",
       "      <td id=\"T_3ce3e_row25_col12\" class=\"data row25 col12\" >0</td>\n",
       "      <td id=\"T_3ce3e_row25_col13\" class=\"data row25 col13\" >0</td>\n",
       "      <td id=\"T_3ce3e_row25_col14\" class=\"data row25 col14\" >0</td>\n",
       "      <td id=\"T_3ce3e_row25_col15\" class=\"data row25 col15\" >0</td>\n",
       "      <td id=\"T_3ce3e_row25_col16\" class=\"data row25 col16\" >0</td>\n",
       "      <td id=\"T_3ce3e_row25_col17\" class=\"data row25 col17\" >0</td>\n",
       "      <td id=\"T_3ce3e_row25_col18\" class=\"data row25 col18\" >0</td>\n",
       "      <td id=\"T_3ce3e_row25_col19\" class=\"data row25 col19\" >0</td>\n",
       "      <td id=\"T_3ce3e_row25_col20\" class=\"data row25 col20\" >0</td>\n",
       "      <td id=\"T_3ce3e_row25_col21\" class=\"data row25 col21\" >0</td>\n",
       "      <td id=\"T_3ce3e_row25_col22\" class=\"data row25 col22\" >0</td>\n",
       "      <td id=\"T_3ce3e_row25_col23\" class=\"data row25 col23\" >0</td>\n",
       "      <td id=\"T_3ce3e_row25_col24\" class=\"data row25 col24\" >0</td>\n",
       "      <td id=\"T_3ce3e_row25_col25\" class=\"data row25 col25\" >0</td>\n",
       "      <td id=\"T_3ce3e_row25_col26\" class=\"data row25 col26\" >0</td>\n",
       "      <td id=\"T_3ce3e_row25_col27\" class=\"data row25 col27\" >0</td>\n",
       "    </tr>\n",
       "    <tr>\n",
       "      <th id=\"T_3ce3e_level0_row26\" class=\"row_heading level0 row26\" >26</th>\n",
       "      <td id=\"T_3ce3e_row26_col0\" class=\"data row26 col0\" >0</td>\n",
       "      <td id=\"T_3ce3e_row26_col1\" class=\"data row26 col1\" >0</td>\n",
       "      <td id=\"T_3ce3e_row26_col2\" class=\"data row26 col2\" >0</td>\n",
       "      <td id=\"T_3ce3e_row26_col3\" class=\"data row26 col3\" >0</td>\n",
       "      <td id=\"T_3ce3e_row26_col4\" class=\"data row26 col4\" >0</td>\n",
       "      <td id=\"T_3ce3e_row26_col5\" class=\"data row26 col5\" >0</td>\n",
       "      <td id=\"T_3ce3e_row26_col6\" class=\"data row26 col6\" >0</td>\n",
       "      <td id=\"T_3ce3e_row26_col7\" class=\"data row26 col7\" >0</td>\n",
       "      <td id=\"T_3ce3e_row26_col8\" class=\"data row26 col8\" >0</td>\n",
       "      <td id=\"T_3ce3e_row26_col9\" class=\"data row26 col9\" >0</td>\n",
       "      <td id=\"T_3ce3e_row26_col10\" class=\"data row26 col10\" >0</td>\n",
       "      <td id=\"T_3ce3e_row26_col11\" class=\"data row26 col11\" >0</td>\n",
       "      <td id=\"T_3ce3e_row26_col12\" class=\"data row26 col12\" >0</td>\n",
       "      <td id=\"T_3ce3e_row26_col13\" class=\"data row26 col13\" >0</td>\n",
       "      <td id=\"T_3ce3e_row26_col14\" class=\"data row26 col14\" >0</td>\n",
       "      <td id=\"T_3ce3e_row26_col15\" class=\"data row26 col15\" >0</td>\n",
       "      <td id=\"T_3ce3e_row26_col16\" class=\"data row26 col16\" >0</td>\n",
       "      <td id=\"T_3ce3e_row26_col17\" class=\"data row26 col17\" >0</td>\n",
       "      <td id=\"T_3ce3e_row26_col18\" class=\"data row26 col18\" >0</td>\n",
       "      <td id=\"T_3ce3e_row26_col19\" class=\"data row26 col19\" >0</td>\n",
       "      <td id=\"T_3ce3e_row26_col20\" class=\"data row26 col20\" >0</td>\n",
       "      <td id=\"T_3ce3e_row26_col21\" class=\"data row26 col21\" >0</td>\n",
       "      <td id=\"T_3ce3e_row26_col22\" class=\"data row26 col22\" >0</td>\n",
       "      <td id=\"T_3ce3e_row26_col23\" class=\"data row26 col23\" >0</td>\n",
       "      <td id=\"T_3ce3e_row26_col24\" class=\"data row26 col24\" >0</td>\n",
       "      <td id=\"T_3ce3e_row26_col25\" class=\"data row26 col25\" >0</td>\n",
       "      <td id=\"T_3ce3e_row26_col26\" class=\"data row26 col26\" >0</td>\n",
       "      <td id=\"T_3ce3e_row26_col27\" class=\"data row26 col27\" >0</td>\n",
       "    </tr>\n",
       "    <tr>\n",
       "      <th id=\"T_3ce3e_level0_row27\" class=\"row_heading level0 row27\" >27</th>\n",
       "      <td id=\"T_3ce3e_row27_col0\" class=\"data row27 col0\" >0</td>\n",
       "      <td id=\"T_3ce3e_row27_col1\" class=\"data row27 col1\" >0</td>\n",
       "      <td id=\"T_3ce3e_row27_col2\" class=\"data row27 col2\" >0</td>\n",
       "      <td id=\"T_3ce3e_row27_col3\" class=\"data row27 col3\" >0</td>\n",
       "      <td id=\"T_3ce3e_row27_col4\" class=\"data row27 col4\" >0</td>\n",
       "      <td id=\"T_3ce3e_row27_col5\" class=\"data row27 col5\" >0</td>\n",
       "      <td id=\"T_3ce3e_row27_col6\" class=\"data row27 col6\" >0</td>\n",
       "      <td id=\"T_3ce3e_row27_col7\" class=\"data row27 col7\" >0</td>\n",
       "      <td id=\"T_3ce3e_row27_col8\" class=\"data row27 col8\" >0</td>\n",
       "      <td id=\"T_3ce3e_row27_col9\" class=\"data row27 col9\" >0</td>\n",
       "      <td id=\"T_3ce3e_row27_col10\" class=\"data row27 col10\" >0</td>\n",
       "      <td id=\"T_3ce3e_row27_col11\" class=\"data row27 col11\" >0</td>\n",
       "      <td id=\"T_3ce3e_row27_col12\" class=\"data row27 col12\" >0</td>\n",
       "      <td id=\"T_3ce3e_row27_col13\" class=\"data row27 col13\" >0</td>\n",
       "      <td id=\"T_3ce3e_row27_col14\" class=\"data row27 col14\" >0</td>\n",
       "      <td id=\"T_3ce3e_row27_col15\" class=\"data row27 col15\" >0</td>\n",
       "      <td id=\"T_3ce3e_row27_col16\" class=\"data row27 col16\" >0</td>\n",
       "      <td id=\"T_3ce3e_row27_col17\" class=\"data row27 col17\" >0</td>\n",
       "      <td id=\"T_3ce3e_row27_col18\" class=\"data row27 col18\" >0</td>\n",
       "      <td id=\"T_3ce3e_row27_col19\" class=\"data row27 col19\" >0</td>\n",
       "      <td id=\"T_3ce3e_row27_col20\" class=\"data row27 col20\" >0</td>\n",
       "      <td id=\"T_3ce3e_row27_col21\" class=\"data row27 col21\" >0</td>\n",
       "      <td id=\"T_3ce3e_row27_col22\" class=\"data row27 col22\" >0</td>\n",
       "      <td id=\"T_3ce3e_row27_col23\" class=\"data row27 col23\" >0</td>\n",
       "      <td id=\"T_3ce3e_row27_col24\" class=\"data row27 col24\" >0</td>\n",
       "      <td id=\"T_3ce3e_row27_col25\" class=\"data row27 col25\" >0</td>\n",
       "      <td id=\"T_3ce3e_row27_col26\" class=\"data row27 col26\" >0</td>\n",
       "      <td id=\"T_3ce3e_row27_col27\" class=\"data row27 col27\" >0</td>\n",
       "    </tr>\n",
       "  </tbody>\n",
       "</table>\n"
      ],
      "text/plain": [
       "<pandas.io.formats.style.Styler at 0x7eff791ad7d0>"
      ]
     },
     "execution_count": 12,
     "metadata": {},
     "output_type": "execute_result"
    }
   ],
   "source": [
    "# here we demonstrate the image and pixels values\n",
    "# values of each pixel varies between 0 and 255\n",
    "img_t= tensor(img)\n",
    "df = pd.DataFrame(img_t)\n",
    "df.style.set_properties(**{'font-size':'4pt'}).background_gradient('Greys')"
   ]
  },
  {
   "cell_type": "markdown",
   "metadata": {
    "id": "YwpOa_pOGcI8"
   },
   "source": [
    "## Base-Line Model"
   ]
  },
  {
   "cell_type": "markdown",
   "metadata": {
    "id": "yn-LVOMkGjQj"
   },
   "source": [
    "* Is always good to start with a base-line model then try to build something more comlex on top of it\n",
    "* Base-line model help us build intuition and understand the prespectives of the problem\n",
    "* Consum less time to build"
   ]
  },
  {
   "cell_type": "markdown",
   "metadata": {
    "id": "V-W8UJeoHiui"
   },
   "source": [
    "### Pixel Similarity"
   ]
  },
  {
   "cell_type": "markdown",
   "metadata": {
    "id": "U6K4xW8pHnlc"
   },
   "source": [
    "\n",
    "* Calculate the average values for each pixel location across all images for each digit\n",
    "  - This will generate a blurry image of the target digit\n",
    "* Compare the values for each pixel location in a new image to the average\n"
   ]
  },
  {
   "cell_type": "code",
   "execution_count": 13,
   "metadata": {
    "colab": {
     "base_uri": "https://localhost:8080/"
    },
    "id": "NnJ67Iv-99zT",
    "outputId": "7ccc20e4-7b2d-4ac7-b9ae-9dc8bac08e8e"
   },
   "outputs": [
    {
     "data": {
      "text/plain": [
       "(6265, 6131)"
      ]
     },
     "execution_count": 13,
     "metadata": {},
     "output_type": "execute_result"
    }
   ],
   "source": [
    "# store all images of 7s and 3s as a list of tensors\n",
    "sevens_tensors = [tensor(Image.open(o)) for o in sevens]\n",
    "threes_tensors = [tensor(Image.open(o)) for o in threes]\n",
    "len(sevens_tensors), len(threes_tensors)"
   ]
  },
  {
   "cell_type": "markdown",
   "metadata": {
    "id": "77ugKyr9IW0e"
   },
   "source": [
    "* so now we have bunch of tensors, since they're not image object anymore, we will use `show_image` of fast ai instead of `PILimage`\n",
    "* Remember we can always use `show_image??` to read the documentation/ the code"
   ]
  },
  {
   "cell_type": "code",
   "execution_count": 14,
   "metadata": {
    "colab": {
     "base_uri": "https://localhost:8080/",
     "height": 85
    },
    "id": "ggGrsAWAIrt3",
    "outputId": "67132197-5b46-4c54-ff36-92b23f99524d"
   },
   "outputs": [
    {
     "data": {
      "image/png": "[encoded data removed]",
      "text/plain": [
       "<Figure size 72x72 with 1 Axes>"
      ]
     },
     "metadata": {
      "needs_background": "light"
     },
     "output_type": "display_data"
    }
   ],
   "source": [
    "# show a image from the tensor list\n",
    "show_image(threes_tensors[330]);"
   ]
  },
  {
   "cell_type": "markdown",
   "metadata": {
    "id": "vSZkcAboKBit"
   },
   "source": [
    "* Now we need to compute the value of each pixel in respect to all images (for that digit)\n",
    "* Put all images in a list of 3 dimension tensors, then stack them into a single tensor.\n",
    "  - stack images via pytorch function `torch.stack`\n",
    "  - and scale pixel values from the range [0,255] to [0,1]"
   ]
  },
  {
   "cell_type": "code",
   "execution_count": 15,
   "metadata": {
    "colab": {
     "base_uri": "https://localhost:8080/"
    },
    "id": "QrA2BrDTIu-F",
    "outputId": "40a02a9e-12b9-42d1-811a-23c526c514a4"
   },
   "outputs": [
    {
     "data": {
      "text/plain": [
       "torch.Size([6131, 28, 28])"
      ]
     },
     "execution_count": 15,
     "metadata": {},
     "output_type": "execute_result"
    }
   ],
   "source": [
    "stacked_threes= torch.stack(threes_tensors).float()/255\n",
    "stacked_sevens= torch.stack(sevens_tensors).float()/255\n",
    "stacked_threes.shape"
   ]
  },
  {
   "cell_type": "markdown",
   "metadata": {
    "id": "oTlQXdw1MW2O"
   },
   "source": [
    "* `.shape` attribute tells us about the lenth of each axis\n",
    "  - in this case we can see we have `6131` images, each of size `28*28` pixel"
   ]
  },
  {
   "cell_type": "markdown",
   "metadata": {
    "id": "RDkWtiwgNClj"
   },
   "source": [
    "*  Calculate the **mean** values for each pixel location across all images"
   ]
  },
  {
   "cell_type": "code",
   "execution_count": 16,
   "metadata": {
    "id": "aJxB4gV9MRIt"
   },
   "outputs": [],
   "source": [
    "mean3 = stacked_threes.mean(0)\n",
    "mean7 = stacked_sevens.mean(0)\n"
   ]
  },
  {
   "cell_type": "markdown",
   "metadata": {
    "id": "XHL7yL-ZNQgK"
   },
   "source": [
    "* Sow our ideal 3 and 7"
   ]
  },
  {
   "cell_type": "code",
   "execution_count": 17,
   "metadata": {
    "colab": {
     "base_uri": "https://localhost:8080/",
     "height": 170
    },
    "id": "f9fBAMCANMwB",
    "outputId": "5cb03cd1-bafd-43bc-98f4-0776d19d4697"
   },
   "outputs": [
    {
     "data": {
      "text/plain": [
       "<matplotlib.axes._subplots.AxesSubplot at 0x7eff78f56f90>"
      ]
     },
     "execution_count": 17,
     "metadata": {},
     "output_type": "execute_result"
    },
    {
     "data": {
      "image/png": "[encoded data removed]",
      "text/plain": [
       "<Figure size 72x72 with 1 Axes>"
      ]
     },
     "metadata": {
      "needs_background": "light"
     },
     "output_type": "display_data"
    },
    {
     "data": {
      "image/png": "[encoded data removed]",
      "text/plain": [
       "<Figure size 72x72 with 1 Axes>"
      ]
     },
     "metadata": {
      "needs_background": "light"
     },
     "output_type": "display_data"
    }
   ],
   "source": [
    "show_image(mean3)\n",
    "show_image(mean7)"
   ]
  },
  {
   "cell_type": "code",
   "execution_count": 18,
   "metadata": {
    "id": "aVbM1FnUO4jt"
   },
   "outputs": [],
   "source": [
    "#pick a single 3, 7 to compare it with the ideal one\n",
    "a_3 = stacked_threes[55]\n",
    "a_7 = stacked_sevens[29]\n"
   ]
  },
  {
   "cell_type": "code",
   "execution_count": 19,
   "metadata": {
    "colab": {
     "base_uri": "https://localhost:8080/",
     "height": 170
    },
    "id": "sgnWeahVPXhy",
    "outputId": "2a70f861-89de-47e2-c023-071e0d5fb757"
   },
   "outputs": [
    {
     "data": {
      "text/plain": [
       "<matplotlib.axes._subplots.AxesSubplot at 0x7eff769b23d0>"
      ]
     },
     "execution_count": 19,
     "metadata": {},
     "output_type": "execute_result"
    },
    {
     "data": {
      "image/png": "[encoded data removed]",
      "text/plain": [
       "<Figure size 72x72 with 1 Axes>"
      ]
     },
     "metadata": {
      "needs_background": "light"
     },
     "output_type": "display_data"
    },
    {
     "data": {
      "image/png": "[encoded data removed]",
      "text/plain": [
       "<Figure size 72x72 with 1 Axes>"
      ]
     },
     "metadata": {
      "needs_background": "light"
     },
     "output_type": "display_data"
    }
   ],
   "source": [
    "show_image(a_3)\n",
    "show_image(a_7)"
   ]
  },
  {
   "cell_type": "markdown",
   "metadata": {
    "id": "bL4XLowTOLl7"
   },
   "source": [
    "* so now let's say that we want to recognize if a_3 is a 3 or 7?\n",
    "* to do that we can measure the distance between either of the two ideal 3 and 7**\n",
    "  - because just compunting the difference canot give us the right answear always since in some cases the difference will be negative!  \n",
    "\n",
    "**to avoide that we can take 2 approaches:**  \n",
    "* Take the mean of the absolute value of differences, this method called `L1` norm or  **mean absolute difference** .  \n",
    "* Take the mean of the square of differences (which makes everything positive) and then take the square root (which undoes the squaring), this method called `L2` norm or **root mean squared error (RMSE)**"
   ]
  },
  {
   "cell_type": "code",
   "execution_count": 20,
   "metadata": {
    "colab": {
     "base_uri": "https://localhost:8080/"
    },
    "id": "kBl3wbVDNaEA",
    "outputId": "934478cc-d781-4685-e2a5-779cf50dc5c1"
   },
   "outputs": [
    {
     "data": {
      "text/plain": [
       "(tensor(0.1280), tensor(0.2356))"
      ]
     },
     "execution_count": 20,
     "metadata": {},
     "output_type": "execute_result"
    }
   ],
   "source": [
    "# Let's try both\n",
    "dis_3_abs = (a_3-mean3).abs().mean()\n",
    "dis_3_sqr = ((a_3-mean3)**2).mean().sqrt()\n",
    "dis_3_abs, dis_3_sqr\n"
   ]
  },
  {
   "cell_type": "code",
   "execution_count": 21,
   "metadata": {
    "colab": {
     "base_uri": "https://localhost:8080/"
    },
    "id": "TcDiEe2QPuRY",
    "outputId": "e3b6a438-beb5-4217-ecc4-7f64c2b67480"
   },
   "outputs": [
    {
     "data": {
      "text/plain": [
       "(tensor(0.1832), tensor(0.3356))"
      ]
     },
     "execution_count": 21,
     "metadata": {},
     "output_type": "execute_result"
    }
   ],
   "source": [
    "dist_7_abs = (a_3 - mean7).abs().mean()\n",
    "dist_7_sqr = ((a_3 - mean7)**2).mean().sqrt()\n",
    "dist_7_abs,dist_7_sqr"
   ]
  },
  {
   "cell_type": "markdown",
   "metadata": {
    "id": "fD4xNdOnRS3_"
   },
   "source": [
    "* based on those numbers the `a_3` seems to be close to the ideal three than `a_7`to the ideal seven which seems to be right"
   ]
  },
  {
   "cell_type": "markdown",
   "metadata": {
    "id": "GyUDLL-5SDAU"
   },
   "source": [
    "* In pytorch there's a function that represent all of that for us:    \n",
    "   - `torch.nn.functional`, wich is recommended to be called as `F`(in fastai this recommendation is standarized!).\n",
    "   - `l1_loss` stand for `l1` norm, and `mse_loss` stand for `l2` norm \n",
    "     * mse_loss still need sqrt() to fully executed\n"
   ]
  },
  {
   "cell_type": "code",
   "execution_count": 22,
   "metadata": {
    "colab": {
     "base_uri": "https://localhost:8080/"
    },
    "id": "HCk3SnNCPvSj",
    "outputId": "8850f016-6539-40be-de72-8f39d1bf476b"
   },
   "outputs": [
    {
     "data": {
      "text/plain": [
       "(tensor(0.1832), tensor(0.3356))"
      ]
     },
     "execution_count": 22,
     "metadata": {},
     "output_type": "execute_result"
    }
   ],
   "source": [
    "F.l1_loss(a_3.float(), mean7), F.mse_loss(a_3, mean7).sqrt()"
   ]
  },
  {
   "cell_type": "markdown",
   "metadata": {
    "id": "UAsvKC0XSjSO"
   },
   "source": [
    "### Computing metrics using Broadcasting\n",
    "\n"
   ]
  },
  {
   "cell_type": "markdown",
   "metadata": {
    "id": "ZdDcT8uSSpRt"
   },
   "source": [
    "* If we want to test the accuracy of a model we better measure it on validation set\n",
    "* so let's create a tensor of 3's and 7's of validation set directory, then calculate the accuracy of our \"model\" based on every tensor(image) in validation set\n"
   ]
  },
  {
   "cell_type": "code",
   "execution_count": 23,
   "metadata": {
    "colab": {
     "base_uri": "https://localhost:8080/"
    },
    "id": "MHSbtj6LSeLl",
    "outputId": "3bbda33a-64f4-48fb-f320-39b721775285"
   },
   "outputs": [
    {
     "data": {
      "text/plain": [
       "(torch.Size([1010, 28, 28]), torch.Size([1028, 28, 28]))"
      ]
     },
     "execution_count": 23,
     "metadata": {},
     "output_type": "execute_result"
    }
   ],
   "source": [
    "#create tensors from image in validation set, then stack all image together\n",
    "valid_ten_3 = torch.stack([tensor(Image.open(o)) \n",
    "                           for o in (path/'valid'/'3').ls()])\n",
    "#turn them into float and devide them by 255\n",
    "valid_ten_3 = valid_ten_3.float()/255\n",
    "valid_ten_7 = torch.stack([tensor(Image.open(o))\n",
    "                           for o in (path/'valid'/'7').ls()])\n",
    "valid_ten_7 = valid_ten_7.float()/255\n",
    "valid_ten_3.shape,valid_ten_7.shape"
   ]
  },
  {
   "cell_type": "code",
   "execution_count": 24,
   "metadata": {
    "colab": {
     "base_uri": "https://localhost:8080/"
    },
    "id": "gLEzjV32TyOY",
    "outputId": "5ea720fa-3fa5-4a16-9111-3382b91be0c5"
   },
   "outputs": [
    {
     "data": {
      "text/plain": [
       "tensor(0.1123)"
      ]
     },
     "execution_count": 24,
     "metadata": {},
     "output_type": "execute_result"
    }
   ],
   "source": [
    "#create a function that will calculate the mean absolute error\n",
    "def min_abser(a, b): return (a-b).abs().mean((-1,-2))\n",
    "min_abser(valid_ten_3[345], mean3)"
   ]
  },
  {
   "cell_type": "markdown",
   "metadata": {
    "id": "0_zK4tVOUKgJ"
   },
   "source": [
    "* But this is only the absolut error with one image. Now we need to calculate this distance between the ideal 3/7 with all image in validation set in order to evaluate our model.\n",
    "* The easy method that will pop up in our mind in order to do that is to loop over all images in validation set and use the function `min_abser()` to calulate the difference over all of those images\n",
    "* The better way, is to use a method called **Broadcasting** which is a way of extending a tensor to match to others in order to do calulations\n"
   ]
  },
  {
   "cell_type": "code",
   "execution_count": 25,
   "metadata": {
    "colab": {
     "base_uri": "https://localhost:8080/"
    },
    "id": "DsWIVqBlUCjy",
    "outputId": "957ea00c-2771-4872-a855-3383b877649f"
   },
   "outputs": [
    {
     "data": {
      "text/plain": [
       "tensor([0, 1, 2])"
      ]
     },
     "execution_count": 25,
     "metadata": {},
     "output_type": "execute_result"
    }
   ],
   "source": [
    "#example of broadcasting:\n",
    "tensor([2, 3, 4])+tensor(-2)"
   ]
  },
  {
   "cell_type": "markdown",
   "metadata": {
    "id": "MstpDG7NUiIo"
   },
   "source": [
    "* pytorch execute a calculation between 2 tensors with different ranks(dimension), we will take adventage of that method in order to do same with our case"
   ]
  },
  {
   "cell_type": "code",
   "execution_count": 26,
   "metadata": {
    "colab": {
     "base_uri": "https://localhost:8080/"
    },
    "id": "VqXU3MIHUgkE",
    "outputId": "b0354e58-f4b3-4919-88a9-20fbd77e0bb8"
   },
   "outputs": [
    {
     "data": {
      "text/plain": [
       "(torch.Size([28, 28]), torch.Size([1010, 28, 28]))"
      ]
     },
     "execution_count": 26,
     "metadata": {},
     "output_type": "execute_result"
    }
   ],
   "source": [
    "# shape of mean3/7 and the shape of validation set tensor\n",
    "mean3.shape, valid_ten_3.shape"
   ]
  },
  {
   "cell_type": "markdown",
   "metadata": {
    "id": "D83EkH-OU-yc"
   },
   "source": [
    "* There's 1010 image and we want to compare that ideal image `mean3` against"
   ]
  },
  {
   "cell_type": "markdown",
   "metadata": {
    "id": "lAL7QBX7VxnO"
   },
   "source": [
    "* `is_3()` decide whether its 3 or 7 by copmuting which output of `min_abser()` is smaller"
   ]
  },
  {
   "cell_type": "code",
   "execution_count": 27,
   "metadata": {
    "id": "YBPPfFntUpjE"
   },
   "outputs": [],
   "source": [
    "def is_3(x): return min_abser(x,mean3) < min_abser(x,mean7)"
   ]
  },
  {
   "cell_type": "code",
   "execution_count": 28,
   "metadata": {
    "colab": {
     "base_uri": "https://localhost:8080/"
    },
    "id": "ylVSBXq8WT9S",
    "outputId": "6b0a647e-dba0-4a1b-a78e-562f519259fa"
   },
   "outputs": [
    {
     "data": {
      "text/plain": [
       "(tensor(True), tensor(1.))"
      ]
     },
     "execution_count": 28,
     "metadata": {},
     "output_type": "execute_result"
    }
   ],
   "source": [
    "is_3(a_3), is_3(a_3).float()"
   ]
  },
  {
   "cell_type": "markdown",
   "metadata": {
    "id": "eyq7cHhEWqWz"
   },
   "source": [
    "* Note that when we convert the Boolean response to a float, we get 1.0 for True and 0.0 for False. Thanks to broadcasting, we can also test it on the full validation set of 3s:"
   ]
  },
  {
   "cell_type": "code",
   "execution_count": 29,
   "metadata": {
    "colab": {
     "base_uri": "https://localhost:8080/"
    },
    "id": "oQ06tUYyWUTO",
    "outputId": "7328b9c8-88bb-4b04-da0e-462190524505"
   },
   "outputs": [
    {
     "data": {
      "text/plain": [
       "tensor([True, True, True,  ..., True, True, True])"
      ]
     },
     "execution_count": 29,
     "metadata": {},
     "output_type": "execute_result"
    }
   ],
   "source": [
    "is_3(valid_ten_3)"
   ]
  },
  {
   "cell_type": "markdown",
   "metadata": {
    "id": "26KGkL4ZXGPZ"
   },
   "source": [
    "* Now we can calculate the accuracy for each of the 3s and 7s by taking the average of that function for all 3s and its inverse for all 7s:"
   ]
  },
  {
   "cell_type": "code",
   "execution_count": 30,
   "metadata": {
    "colab": {
     "base_uri": "https://localhost:8080/"
    },
    "id": "T0Zd3z7dWvj9",
    "outputId": "e2401b36-fb3a-4ad8-f9ae-2049ffed0923"
   },
   "outputs": [
    {
     "data": {
      "text/plain": [
       "(tensor(0.9168), tensor(0.9854), tensor(0.9511))"
      ]
     },
     "execution_count": 30,
     "metadata": {},
     "output_type": "execute_result"
    }
   ],
   "source": [
    "accuracy_3s =      is_3(valid_ten_3).float() .mean()\n",
    "accuracy_7s = (1 - is_3(valid_ten_7).float()).mean()\n",
    "\n",
    "accuracy_3s,accuracy_7s,(accuracy_3s+accuracy_7s)/2"
   ]
  },
  {
   "cell_type": "markdown",
   "metadata": {
    "id": "IjhnJMZeXX2t"
   },
   "source": [
    "* We're getting +90% accuracy just by doing base-line model!!\n",
    "* The base-Line model is good for understanding the problem and building the intuition, but we didn't build a deep learning model yet.\n",
    "   - we did not add the **Learning** fase to our model, which is a crucial part according to **Arthur Samuel** definition\n",
    "* In other words, this model cannot be updated and improved by learning\n",
    "   - we can't improve pixel similarity approach by modifying set of parameters, because we don't have one!\n",
    "and that's why we need **SGD**        "
   ]
  },
  {
   "cell_type": "markdown",
   "metadata": {
    "id": "su8kIOd60i9O"
   },
   "source": [
    "## Stochastic Gradient Descent"
   ]
  },
  {
   "cell_type": "markdown",
   "metadata": {
    "id": "wpm4Fhpz0v4_"
   },
   "source": [
    "* Instead of trying to find similarity between an image and the \"ideal image\" we could add set of weights to each pixel, such as the heighest are associated with darker pixel and lowest are more likely to be white.\n",
    "    - for example the pixel bottom right are white in 7s, so we will give them low weights\n",
    "* This can be represented as a function and set of weight values for each possible digit:\n",
    "  ```\n",
    "def pr_eight(x,w): return (x*w).sum()\n",
    "```\n",
    "   - `x` is the image we're predicting which will be represented as vector\n",
    "   - `w` is the weights of the image, also vector\n",
    "* The idea to find a method by which we update the weights, such as it can help us to make to predict better by a bit, then repeat those steps many times til we get the best prediction we can get.\n",
    "  -  find the specific values for the vector w that causes the result of our function to be high for those images that are actually 8s, and low for those images that are not.\n",
    "\n",
    "    "
   ]
  },
  {
   "cell_type": "markdown",
   "metadata": {
    "id": "vGA_3rzn29t2"
   },
   "source": [
    "* Here are the steps that we are going to require, to turn this function into a machine learning classifier:\n",
    "\n",
    "   - 1. *Initialize* the weights.\n",
    "   - 2. For each image, use these weights to *predict* whether it appears to be a 3 or a 7.\n",
    "   - 3. Based on these predictions, calculate how good the model is (its *loss*).\n",
    "   - 4. Calculate the *gradient*, which measures for each weight, how changing that weight would change the loss\n",
    "   - 5. *Step* (that is, change) all the weights based on that calculation.\n",
    "   - 6. Go back to the step 2, and *repeat* the process.\n",
    "   - 7. Iterate until you decide to *stop* the training process (for instance, because the model is good enough or you don't want to wait any longer). \n",
    "![sgdsteps.png](1.png)"
   ]
  },
  {
   "cell_type": "markdown",
   "metadata": {
    "id": "fD0pfgBj6mNO"
   },
   "source": [
    "###  Apllying SGD on a simple case"
   ]
  },
  {
   "cell_type": "markdown",
   "metadata": {
    "id": "lYXTrmlV6_ZC"
   },
   "source": [
    "* Before applying these steps to our image classification problem, let's illustrate what they look like in a simpler case. \n",
    "* First we will define a very simple function `f`, the quadratic—let's pretend that this is our loss function, and x is a weight parameter of the function:"
   ]
  },
  {
   "cell_type": "code",
   "execution_count": 31,
   "metadata": {
    "id": "CV_ZmgynXXNL"
   },
   "outputs": [],
   "source": [
    "def f(x): return x**2"
   ]
  },
  {
   "cell_type": "code",
   "execution_count": 32,
   "metadata": {
    "colab": {
     "base_uri": "https://localhost:8080/",
     "height": 285
    },
    "id": "enfMVzCuXLT3",
    "outputId": "352ac17f-c64c-416f-cdcf-11464606233a"
   },
   "outputs": [
    {
     "data": {
      "image/png": "[encoded data removed]",
      "text/plain": [
       "<Figure size 432x288 with 1 Axes>"
      ]
     },
     "metadata": {
      "needs_background": "light"
     },
     "output_type": "display_data"
    }
   ],
   "source": [
    "plot_function(f, 'x', 'x**2')"
   ]
  },
  {
   "cell_type": "markdown",
   "metadata": {
    "id": "CyrubPZc9HbC"
   },
   "source": [
    "Let's pick a rondom value for the paramter, and calculating the loss "
   ]
  },
  {
   "cell_type": "code",
   "execution_count": 33,
   "metadata": {
    "colab": {
     "base_uri": "https://localhost:8080/",
     "height": 285
    },
    "id": "nZjdLpTc8whu",
    "outputId": "b3c74047-ec9b-41c7-d3aa-a8f40983db09"
   },
   "outputs": [
    {
     "data": {
      "image/png": "[encoded data removed]",
      "text/plain": [
       "<Figure size 432x288 with 1 Axes>"
      ]
     },
     "metadata": {
      "needs_background": "light"
     },
     "output_type": "display_data"
    }
   ],
   "source": [
    "plot_function(f, 'x', 'x**2')\n",
    "plt.scatter(-1.5, f(-1.5), color='red');"
   ]
  },
  {
   "cell_type": "markdown",
   "metadata": {
    "id": "MzohFVng9rY-"
   },
   "source": [
    "* now we will increase/decrease the parameter value by just a bit(0.5)and see what will happen:\n"
   ]
  },
  {
   "cell_type": "code",
   "execution_count": 34,
   "metadata": {
    "colab": {
     "base_uri": "https://localhost:8080/",
     "height": 285
    },
    "id": "Ih0TWL8N9hKU",
    "outputId": "10a6c1e7-412b-4196-bb01-b7988d8787dc"
   },
   "outputs": [
    {
     "data": {
      "image/png": "[encoded data removed]",
      "text/plain": [
       "<Figure size 432x288 with 1 Axes>"
      ]
     },
     "metadata": {
      "needs_background": "light"
     },
     "output_type": "display_data"
    }
   ],
   "source": [
    "plot_function(f,'x','x**2')\n",
    "plt.scatter(-1.5, f(-1.5), color='red' );\n",
    "plt.scatter(-1,f(-1), color='blue');"
   ]
  },
  {
   "cell_type": "markdown",
   "metadata": {
    "id": "ZmKesYEr-R1i"
   },
   "source": [
    "* It seem that our loss get better(remember, the whole objective of this process is to minimize the loss to 0), we better keep increase the paramter but this time by (0.3), then(0.3):"
   ]
  },
  {
   "cell_type": "code",
   "execution_count": 35,
   "metadata": {
    "colab": {
     "base_uri": "https://localhost:8080/",
     "height": 285
    },
    "id": "P-VrlBGE-Pe6",
    "outputId": "f0e56b28-e43b-4ec3-f637-638eff8b970f"
   },
   "outputs": [
    {
     "data": {
      "image/png": "[encoded data removed]",
      "text/plain": [
       "<Figure size 432x288 with 1 Axes>"
      ]
     },
     "metadata": {
      "needs_background": "light"
     },
     "output_type": "display_data"
    }
   ],
   "source": [
    "plot_function(f,'x','x**2')\n",
    "plt.scatter(-1.5, f(-1.5), color='red' );\n",
    "plt.scatter(-1,f(-1), color='blue');\n",
    "plt.scatter(-0.7,f(-0.7), color='green');\n",
    "plt.scatter(-0.5, f(-0.5), color='orange');"
   ]
  },
  {
   "cell_type": "markdown",
   "metadata": {
    "id": "jVJg3KrABuiV"
   },
   "source": [
    "* The main idea here is to adjust the paramters in a way that causes a minimal loss\n",
    "![Screenshot 2022-09-13 at 14-25-12 04_mnist_basics - Jupyter Notebook.png](2.png)"
   ]
  },
  {
   "cell_type": "markdown",
   "metadata": {
    "id": "xC1u8kURCOe6"
   },
   "source": [
    "* We can change our weight by a little in the direction of the slope, calculate our loss and adjustment again, and repeat this a few times. Eventually, we will get to the lowest point on our curve:\n",
    "\n",
    "![Screenshot 2022-09-13 at 14-25-28 04_mnist_basics - Jupyter Notebook.png](3.png)"
   ]
  },
  {
   "cell_type": "markdown",
   "metadata": {
    "id": "NnEyKAabCr1F"
   },
   "source": [
    "### Calculating Gradients"
   ]
  },
  {
   "cell_type": "markdown",
   "metadata": {
    "id": "jlKD44NjCtE2"
   },
   "source": [
    "* It's obvious now that in order to optimize the loss function we need to update the weights.\n",
    "  - to do that we need the help of calculus, it will allow us to update the weights in the direction that optimize the loss"
   ]
  },
  {
   "cell_type": "markdown",
   "metadata": {
    "id": "tqxCie2pEda2"
   },
   "source": [
    "### Calculating derivative on Pytorch"
   ]
  },
  {
   "cell_type": "code",
   "execution_count": 36,
   "metadata": {
    "id": "fpk0vbtH_KKs"
   },
   "outputs": [],
   "source": [
    "#let's assume this variable\n",
    "def f(x): return x**2\n",
    "xt = tensor(3.).requires_grad_()"
   ]
  },
  {
   "cell_type": "markdown",
   "metadata": {
    "id": "HJWxka1LEmwr"
   },
   "source": [
    "* here we create a tensor at value 3 the we call the method `requires_grad_` which will calculate the gradients in respect to that variable at that value."
   ]
  },
  {
   "cell_type": "code",
   "execution_count": 37,
   "metadata": {
    "colab": {
     "base_uri": "https://localhost:8080/"
    },
    "id": "MhV8gjd-EiRS",
    "outputId": "94abb088-874f-499b-ca05-d033be6bf9e9"
   },
   "outputs": [
    {
     "data": {
      "text/plain": [
       "tensor(9., grad_fn=<PowBackward0>)"
      ]
     },
     "execution_count": 37,
     "metadata": {},
     "output_type": "execute_result"
    }
   ],
   "source": [
    "# add the function f(x)=x**2 as a Y\n",
    "yt = f(xt)\n",
    "yt"
   ]
  },
  {
   "cell_type": "code",
   "execution_count": 38,
   "metadata": {
    "id": "paDNT7crEuo-"
   },
   "outputs": [],
   "source": [
    "# now we calculate the gradients using the backward() \n",
    "yt.backward()"
   ]
  },
  {
   "cell_type": "code",
   "execution_count": 39,
   "metadata": {
    "colab": {
     "base_uri": "https://localhost:8080/"
    },
    "id": "mxk3fOqkExnW",
    "outputId": "1f5f0573-dd2d-4037-ff67-9131b833cf7c"
   },
   "outputs": [
    {
     "data": {
      "text/plain": [
       "tensor(6.)"
      ]
     },
     "execution_count": 39,
     "metadata": {},
     "output_type": "execute_result"
    }
   ],
   "source": [
    "#now we can views the gradients by checking the `grad` attribute of the tensor:\n",
    "xt.grad"
   ]
  },
  {
   "cell_type": "code",
   "execution_count": 40,
   "metadata": {
    "id": "PtD4eNUVE0M_"
   },
   "outputs": [],
   "source": [
    "#now we will repeat the same steps but now with a vector:\n",
    "xt = tensor([3.,4.,10.]).requires_grad_()"
   ]
  },
  {
   "cell_type": "code",
   "execution_count": 41,
   "metadata": {
    "id": "DRuHQDeaE4E7"
   },
   "outputs": [],
   "source": [
    "def f(x): return (x**2).sum()"
   ]
  },
  {
   "cell_type": "code",
   "execution_count": 42,
   "metadata": {
    "colab": {
     "base_uri": "https://localhost:8080/"
    },
    "id": "bzPxFyuVE8VD",
    "outputId": "bd0c161f-0830-407e-966b-761d35adbafd"
   },
   "outputs": [
    {
     "data": {
      "text/plain": [
       "tensor(125., grad_fn=<SumBackward0>)"
      ]
     },
     "execution_count": 42,
     "metadata": {},
     "output_type": "execute_result"
    }
   ],
   "source": [
    "#let's check our function\n",
    "f(xt)"
   ]
  },
  {
   "cell_type": "code",
   "execution_count": 43,
   "metadata": {
    "id": "Ufa4p_rxE-5K"
   },
   "outputs": [],
   "source": [
    "yt = f(xt)\n"
   ]
  },
  {
   "cell_type": "code",
   "execution_count": 44,
   "metadata": {
    "id": "eeovo8FbFBQ9"
   },
   "outputs": [],
   "source": [
    "#calculate the gradients\n",
    "yt.backward()"
   ]
  },
  {
   "cell_type": "code",
   "execution_count": 45,
   "metadata": {
    "colab": {
     "base_uri": "https://localhost:8080/"
    },
    "id": "___CklduFEUR",
    "outputId": "1d69cad5-b02d-4db9-932e-3619fb49a6d9"
   },
   "outputs": [
    {
     "data": {
      "text/plain": [
       "tensor([ 6.,  8., 20.])"
      ]
     },
     "execution_count": 45,
     "metadata": {},
     "output_type": "execute_result"
    }
   ],
   "source": [
    "#as expected 2xt\n",
    "xt.grad"
   ]
  },
  {
   "cell_type": "code",
   "execution_count": 46,
   "metadata": {
    "colab": {
     "base_uri": "https://localhost:8080/"
    },
    "id": "uJgxNkmfFG5b",
    "outputId": "49bdf0e3-eaad-4be2-c171-7adf78b633d5"
   },
   "outputs": [
    {
     "data": {
      "text/plain": [
       "tensor(17., grad_fn=<AddBackward0>)"
      ]
     },
     "execution_count": 46,
     "metadata": {},
     "output_type": "execute_result"
    }
   ],
   "source": [
    "#let's create another example\n",
    "x= tensor(3.).requires_grad_()\n",
    "w= tensor(4.).requires_grad_()\n",
    "b= tensor(5.).requires_grad_()\n",
    "y = x * w + b\n",
    "y\n"
   ]
  },
  {
   "cell_type": "code",
   "execution_count": 47,
   "metadata": {
    "id": "fzXNdCp0FinM"
   },
   "outputs": [],
   "source": [
    "y.backward()"
   ]
  },
  {
   "cell_type": "code",
   "execution_count": 48,
   "metadata": {
    "colab": {
     "base_uri": "https://localhost:8080/"
    },
    "id": "4-Ba0Y0OFjQx",
    "outputId": "8aa2c61f-02d0-4c5c-ac39-fe4781dbcd48"
   },
   "outputs": [
    {
     "name": "stdout",
     "output_type": "stream",
     "text": [
      "d(y)/dx=  tensor(4.)\n",
      "d(y)/dw=  tensor(3.)\n",
      "d(y)/bx=  tensor(1.)\n"
     ]
    }
   ],
   "source": [
    "print('d(y)/dx= ', x.grad)\n",
    "print('d(y)/dw= ', w.grad)\n",
    "print('d(y)/bx= ', b.grad)\n"
   ]
  },
  {
   "cell_type": "markdown",
   "metadata": {
    "id": "ZqmW4BS9F6zi"
   },
   "source": [
    "* Now we have all the ingredients to apply what we have learned on a real problem. \n",
    "   - the goal here is to apply these 7 steps we saw in order to optimize the weights which will effect the loss, which also effect the accuracy of the model\n",
    "* one last thing before we do that, we will talk about Learnin rate\n",
    "* Gradient descent allow us to correct our weights by taking steps toward the optimal value of these weights, but it didn't tell us how big or small these steps are, thats why we have to initilize a learning rate. \n",
    "* Learning rate is a value, by which our gradient calculate new weights in order to get better loss.\n",
    "* In general the learning rate is some randome value we chase between 0.1 and 0.001 \n",
    "* Once we have picked a learning rate we then adjust the parameters using this simple function:\n",
    "```\n",
    "w-=gradient(w)*lr\n",
    "```\n",
    "\n"
   ]
  },
  {
   "cell_type": "markdown",
   "metadata": {
    "id": "4RtYNmn5HYOi"
   },
   "source": [
    "### An End-to-End SGD Example"
   ]
  },
  {
   "cell_type": "markdown",
   "metadata": {
    "id": "vmnvV4jMHcnf"
   },
   "source": [
    "\n",
    "* Suppose we want to predict the speed of a *Roller Coaster* over a hump.\n",
    "*  We want to build a model that predict how the speed change over time\n",
    "   - we measure the speed of the 20 seconds manualy/ every second:\n",
    "   "
   ]
  },
  {
   "cell_type": "code",
   "execution_count": 49,
   "metadata": {
    "colab": {
     "base_uri": "https://localhost:8080/"
    },
    "id": "RaiEy_t4H4CM",
    "outputId": "bd9bd54c-8b2d-4121-fb8b-7730ddbac8dc"
   },
   "outputs": [
    {
     "data": {
      "text/plain": [
       "tensor([ 0.,  1.,  2.,  3.,  4.,  5.,  6.,  7.,  8.,  9., 10., 11., 12., 13., 14., 15., 16., 17., 18., 19.])"
      ]
     },
     "execution_count": 49,
     "metadata": {},
     "output_type": "execute_result"
    }
   ],
   "source": [
    "time = torch.arange(20).float();\n",
    "time"
   ]
  },
  {
   "cell_type": "markdown",
   "metadata": {
    "id": "coppgyn_IK7J"
   },
   "source": [
    "* It might look something like this:"
   ]
  },
  {
   "cell_type": "code",
   "execution_count": 50,
   "metadata": {
    "colab": {
     "base_uri": "https://localhost:8080/",
     "height": 268
    },
    "id": "ZcjYHVQSIIG4",
    "outputId": "8871efe9-833d-4e3b-e157-867085405911"
   },
   "outputs": [
    {
     "data": {
      "image/png": "[encoded data removed]",
      "text/plain": [
       "<Figure size 432x288 with 1 Axes>"
      ]
     },
     "metadata": {
      "needs_background": "light"
     },
     "output_type": "display_data"
    }
   ],
   "source": [
    "# we add some noise to the data since this is the way we usualy find data in real world\n",
    "speed = torch.randn(20)*3 + 0.75*(time-9.5)**2 + 1\n",
    "plt.scatter(time,speed);"
   ]
  },
  {
   "cell_type": "markdown",
   "metadata": {
    "id": "p_em9jPdIjD3"
   },
   "source": [
    "* The goal here is to find a function that matches our observastions using SGD\n",
    "* We chose here a quadratic function!. \n",
    "   - we need to distinguish clearly between the input of the function `t` (the that's the product of our observation) and it's parameters `params`"
   ]
  },
  {
   "cell_type": "code",
   "execution_count": 51,
   "metadata": {
    "id": "XW6bK4OvIX9o"
   },
   "outputs": [],
   "source": [
    "#let's just assume this  quadratic function!!!\n",
    "\n",
    "def f(t, params):\n",
    "    a, b, c= params\n",
    "    return a*(t**2)+(b*t)+c"
   ]
  },
  {
   "cell_type": "markdown",
   "metadata": {
    "id": "0kj-izIRJAIw"
   },
   "source": [
    "* The we need to set a loss function that will tell us how good or bad our prediction of the parameters `a, b, c`"
   ]
  },
  {
   "cell_type": "code",
   "execution_count": 52,
   "metadata": {
    "id": "7GEnOe0IIsv_"
   },
   "outputs": [],
   "source": [
    "def mse(preds, targets): return((preds - targets)**2).mean().sqrt()"
   ]
  },
  {
   "cell_type": "markdown",
   "metadata": {
    "id": "kIyvkhkEONs-"
   },
   "source": [
    "### Step 1: Initialize the parameters  \n",
    "* first we need to initialize the parametrs by telling pytorch that we want to track its gradients"
   ]
  },
  {
   "cell_type": "code",
   "execution_count": 53,
   "metadata": {
    "colab": {
     "base_uri": "https://localhost:8080/"
    },
    "id": "Fs-J5vIpJHCa",
    "outputId": "484f4615-e1ee-4d33-c4f5-7169c50261cf"
   },
   "outputs": [
    {
     "data": {
      "text/plain": [
       "tensor([-0.7658, -0.7506,  1.3525], requires_grad=True)"
      ]
     },
     "execution_count": 53,
     "metadata": {},
     "output_type": "execute_result"
    }
   ],
   "source": [
    "params= torch.randn(3).requires_grad_()\n",
    "params"
   ]
  },
  {
   "cell_type": "code",
   "execution_count": 54,
   "metadata": {
    "id": "TH7eOJmsOUK1"
   },
   "outputs": [],
   "source": [
    "#??\n",
    "orig_params = params.clone()"
   ]
  },
  {
   "cell_type": "markdown",
   "metadata": {
    "id": "TWD-A5RKOcDv"
   },
   "source": [
    "### Step 2: Calculate the predictions\n",
    "\n",
    "* Next we calculate the prediction\n"
   ]
  },
  {
   "cell_type": "code",
   "execution_count": 55,
   "metadata": {
    "colab": {
     "base_uri": "https://localhost:8080/"
    },
    "id": "DJv5kxN4OfPQ",
    "outputId": "0a08b7dd-0ddf-4b86-969f-fb482b5b0a1b"
   },
   "outputs": [
    {
     "data": {
      "text/plain": [
       "tensor([ 1.3525e+00, -1.6391e-01, -3.2121e+00, -7.7919e+00, -1.3903e+01, -2.1547e+01, -3.0721e+01, -4.1428e+01, -5.3666e+01, -6.7436e+01, -8.2738e+01, -9.9571e+01, -1.1794e+02, -1.3783e+02,\n",
       "        -1.5926e+02, -1.8222e+02, -2.0671e+02, -2.3274e+02, -2.6029e+02, -2.8938e+02], grad_fn=<AddBackward0>)"
      ]
     },
     "execution_count": 55,
     "metadata": {},
     "output_type": "execute_result"
    }
   ],
   "source": [
    "preds = f(time, params)\n",
    "preds"
   ]
  },
  {
   "cell_type": "markdown",
   "metadata": {
    "id": "0OO1F-QSO4zq"
   },
   "source": [
    "The `pred` here are the function we create earlier.\n",
    "* ```\n",
    "f(t, params):\n",
    "am bm c= params\n",
    "return a*(t**2)+(b*t)+c\n",
    "``` \n",
    "   - where the t==`time`, and `params` are the initialized values we took in the step before, so the f will be calculated by taking those values as a part of it"
   ]
  },
  {
   "cell_type": "code",
   "execution_count": 56,
   "metadata": {
    "id": "dmJWOsfLOhOf"
   },
   "outputs": [],
   "source": [
    "# plot the actual calues and our prediction \n",
    "def show_preds(preds, ax=None):\n",
    "    if ax is None: ax=plt.subplots()[1]\n",
    "    ax.scatter(time, speed)\n",
    "    ax.scatter(time, to_np(preds), color='red')\n",
    "    ax.set_ylim(-300,100)"
   ]
  },
  {
   "cell_type": "code",
   "execution_count": 57,
   "metadata": {
    "colab": {
     "base_uri": "https://localhost:8080/",
     "height": 273
    },
    "id": "XRAshoCDOlQb",
    "outputId": "2f54a4a7-7804-4f60-bca7-2d4a02dd44f1"
   },
   "outputs": [
    {
     "data": {
      "image/png": "[encoded data removed]",
      "text/plain": [
       "<Figure size 432x288 with 1 Axes>"
      ]
     },
     "metadata": {
      "needs_background": "light"
     },
     "output_type": "display_data"
    }
   ],
   "source": [
    "show_preds(preds)"
   ]
  },
  {
   "cell_type": "markdown",
   "metadata": {
    "id": "ZXOjaO4bQKfz"
   },
   "source": [
    "* The blue dot represent the actal value\n",
    "* The red dots represent what our model\n",
    "  - predictions are really bad, but we need to remember that these prediction are based on **Random Values**\n",
    "* So our job here is to update these values to get better predictions"
   ]
  },
  {
   "cell_type": "markdown",
   "metadata": {
    "id": "_0EjYmkIRCMh"
   },
   "source": [
    "### Step 3: Calculate the loss  \n",
    "* We calculate now the loss of our prediction\n",
    "* Remember: \n",
    "```\n",
    "def mse(preds, targets): return((preds - targets)**2).mean().sqrt()\n",
    "```"
   ]
  },
  {
   "cell_type": "code",
   "execution_count": 58,
   "metadata": {
    "colab": {
     "base_uri": "https://localhost:8080/"
    },
    "id": "8HcenG3wQJET",
    "outputId": "9e3c1df9-c642-415d-b534-96787665510b"
   },
   "outputs": [
    {
     "data": {
      "text/plain": [
       "tensor(160.6979, grad_fn=<SqrtBackward0>)"
      ]
     },
     "execution_count": 58,
     "metadata": {},
     "output_type": "execute_result"
    }
   ],
   "source": [
    "loss= mse(preds, speed)\n",
    "loss"
   ]
  },
  {
   "cell_type": "markdown",
   "metadata": {
    "id": "Sb7dwqtcReMj"
   },
   "source": [
    "* Our goal is to improve this loss function by minimizing it, to be as close as possible to the target(speed)"
   ]
  },
  {
   "cell_type": "markdown",
   "metadata": {
    "id": "PXm0M6mmRikr"
   },
   "source": [
    "### Step 4: Calculate the gradients\n",
    "\n",
    "* In order to minimize the loss function we use the gradients to aproximate how the parameters can be changed to achieve our goal\n"
   ]
  },
  {
   "cell_type": "code",
   "execution_count": 59,
   "metadata": {
    "colab": {
     "base_uri": "https://localhost:8080/"
    },
    "id": "o7gH_VSTRTa5",
    "outputId": "43a555c8-d7cf-4ff6-e5ea-7b661ad2088e"
   },
   "outputs": [
    {
     "data": {
      "text/plain": [
       "tensor([-165.5151,  -10.6402,   -0.7900])"
      ]
     },
     "execution_count": 59,
     "metadata": {},
     "output_type": "execute_result"
    }
   ],
   "source": [
    "loss.backward()\n",
    "params.grad"
   ]
  },
  {
   "cell_type": "code",
   "execution_count": 60,
   "metadata": {
    "colab": {
     "base_uri": "https://localhost:8080/"
    },
    "id": "G9DHMy3URrCA",
    "outputId": "ada58905-5c60-4b9b-ecec-c5ddd197f53f"
   },
   "outputs": [
    {
     "data": {
      "text/plain": [
       "tensor([-165.5151,  -10.6402,   -0.7900])"
      ]
     },
     "execution_count": 60,
     "metadata": {},
     "output_type": "execute_result"
    }
   ],
   "source": [
    "params.grad"
   ]
  },
  {
   "cell_type": "code",
   "execution_count": 61,
   "metadata": {
    "colab": {
     "base_uri": "https://localhost:8080/"
    },
    "id": "N547wfQVRuSb",
    "outputId": "0dee4a87-fdb2-40fc-a016-af4fde7fff7e"
   },
   "outputs": [
    {
     "data": {
      "text/plain": [
       "tensor([-0.7658, -0.7506,  1.3525], requires_grad=True)"
      ]
     },
     "execution_count": 61,
     "metadata": {},
     "output_type": "execute_result"
    }
   ],
   "source": [
    "params"
   ]
  },
  {
   "cell_type": "markdown",
   "metadata": {
    "id": "9pezI9PXSC36"
   },
   "source": [
    "### Step 5: Step the weights\n",
    "\n",
    "* We need to updated the weights(paramaters) we just calculated\n",
    "\n",
    "  - first we need to fix the learning rate\n",
    "  - then we need to call `.data` on the parameters and parameters.grad, it's like telling pytorch to not track the change in the gradients at this point.\n"
   ]
  },
  {
   "cell_type": "code",
   "execution_count": 62,
   "metadata": {
    "id": "y2gZ3pVtRwsb"
   },
   "outputs": [],
   "source": [
    "lr = 1e-5\n",
    "params.data -= lr * params.grad.data\n",
    "params.grad = None"
   ]
  },
  {
   "cell_type": "markdown",
   "metadata": {
    "id": "v17YzAzlS5D0"
   },
   "source": [
    "* Let's see if the loss has improved:"
   ]
  },
  {
   "cell_type": "code",
   "execution_count": 63,
   "metadata": {
    "colab": {
     "base_uri": "https://localhost:8080/"
    },
    "id": "G_vG_MxjS1Vj",
    "outputId": "ba443a2c-6977-4415-8b7d-bdbc027b5dd0"
   },
   "outputs": [
    {
     "data": {
      "text/plain": [
       "tensor(160.4228, grad_fn=<SqrtBackward0>)"
      ]
     },
     "execution_count": 63,
     "metadata": {},
     "output_type": "execute_result"
    }
   ],
   "source": [
    "preds = f(time,params)\n",
    "mse(preds, speed)"
   ]
  },
  {
   "cell_type": "markdown",
   "metadata": {
    "id": "arPqcyWnUvgG"
   },
   "source": [
    "* what's about the plot"
   ]
  },
  {
   "cell_type": "code",
   "execution_count": 64,
   "metadata": {
    "colab": {
     "base_uri": "https://localhost:8080/",
     "height": 273
    },
    "id": "TVnERWERTAbD",
    "outputId": "8d5ad04d-a365-4b43-bbbc-cc35eb3ea9e2"
   },
   "outputs": [
    {
     "data": {
      "image/png": "[encoded data removed]",
      "text/plain": [
       "<Figure size 432x288 with 1 Axes>"
      ]
     },
     "metadata": {
      "needs_background": "light"
     },
     "output_type": "display_data"
    }
   ],
   "source": [
    "show_preds(preds)"
   ]
  },
  {
   "cell_type": "markdown",
   "metadata": {
    "id": "dqUxnH2xU0nq"
   },
   "source": [
    "* Now let's execute all steps in one function"
   ]
  },
  {
   "cell_type": "code",
   "execution_count": 65,
   "metadata": {
    "id": "AOFVHad6UiLG"
   },
   "outputs": [],
   "source": [
    "def apply_step(params, prn=True):\n",
    "    preds = f(time, params)\n",
    "    loss = mse(preds, speed)\n",
    "    loss.backward()\n",
    "    params.data -= lr * params.grad.data\n",
    "    params.grad = None\n",
    "    if prn: print(loss.item())\n",
    "    return preds"
   ]
  },
  {
   "cell_type": "markdown",
   "metadata": {
    "id": "RGugKrcIVZU1"
   },
   "source": [
    "* Let's execute this steps for 100s of times"
   ]
  },
  {
   "cell_type": "code",
   "execution_count": 66,
   "metadata": {
    "colab": {
     "base_uri": "https://localhost:8080/"
    },
    "id": "cZazuk0FU430",
    "outputId": "d02f5675-cacd-4a7d-b0ec-a6b03f130a60"
   },
   "outputs": [
    {
     "name": "stdout",
     "output_type": "stream",
     "text": [
      "160.42279052734375\n",
      "160.14772033691406\n",
      "159.87269592285156\n",
      "159.59768676757812\n",
      "159.3227081298828\n",
      "159.04774475097656\n",
      "158.7728271484375\n",
      "158.4979248046875\n",
      "158.22305297851562\n",
      "157.9481964111328\n",
      "157.67337036132812\n",
      "157.39857482910156\n",
      "157.12380981445312\n",
      "156.84906005859375\n",
      "156.5743408203125\n",
      "156.29966735839844\n",
      "156.02499389648438\n",
      "155.75035095214844\n",
      "155.4757537841797\n",
      "155.20118713378906\n",
      "154.92662048339844\n",
      "154.65211486816406\n",
      "154.37762451171875\n",
      "154.1031494140625\n",
      "153.82872009277344\n",
      "153.55430603027344\n",
      "153.27992248535156\n",
      "153.0055694580078\n",
      "152.73126220703125\n",
      "152.4569549560547\n",
      "152.18270874023438\n",
      "151.90847778320312\n",
      "151.63426208496094\n",
      "151.36009216308594\n",
      "151.08595275878906\n",
      "150.81185913085938\n",
      "150.5377655029297\n",
      "150.26370239257812\n",
      "149.9897003173828\n",
      "149.71571350097656\n",
      "149.44175720214844\n",
      "149.16783142089844\n",
      "148.89393615722656\n",
      "148.6200714111328\n",
      "148.3462371826172\n",
      "148.0724334716797\n",
      "147.79867553710938\n",
      "147.52493286132812\n",
      "147.25123596191406\n",
      "146.97756958007812\n",
      "146.7039337158203\n",
      "146.43032836914062\n",
      "146.15676879882812\n",
      "145.88323974609375\n",
      "145.60971069335938\n",
      "145.3362579345703\n",
      "145.06283569335938\n",
      "144.78941345214844\n",
      "144.51605224609375\n",
      "144.24273681640625\n",
      "143.96942138671875\n",
      "143.6961669921875\n",
      "143.4229278564453\n",
      "143.14974975585938\n",
      "142.87661743164062\n",
      "142.6034698486328\n",
      "142.3303985595703\n",
      "142.05734252929688\n",
      "141.78433227539062\n",
      "141.5113525390625\n",
      "141.23841857910156\n",
      "140.96554565429688\n",
      "140.69265747070312\n",
      "140.41983032226562\n",
      "140.14703369140625\n",
      "139.87429809570312\n",
      "139.60157775878906\n",
      "139.3289031982422\n",
      "139.05625915527344\n",
      "138.78367614746094\n",
      "138.51112365722656\n",
      "138.2386016845703\n",
      "137.96612548828125\n",
      "137.69369506835938\n",
      "137.42127990722656\n",
      "137.14894104003906\n",
      "136.87660217285156\n",
      "136.60433959960938\n",
      "136.33209228515625\n",
      "136.0598907470703\n",
      "135.7877197265625\n",
      "135.515625\n",
      "135.2435302734375\n",
      "134.9715118408203\n",
      "134.69952392578125\n",
      "134.42759704589844\n",
      "134.1556854248047\n",
      "133.88381958007812\n",
      "133.61199951171875\n",
      "133.3402099609375\n",
      "133.06849670410156\n",
      "132.79681396484375\n",
      "132.52517700195312\n",
      "132.25357055664062\n",
      "131.98204040527344\n",
      "131.71051025390625\n",
      "131.43905639648438\n",
      "131.16763305664062\n",
      "130.89627075195312\n",
      "130.62493896484375\n",
      "130.35366821289062\n",
      "130.08242797851562\n",
      "129.81126403808594\n",
      "129.54013061523438\n",
      "129.26902770996094\n",
      "128.99798583984375\n",
      "128.72698974609375\n",
      "128.4560546875\n",
      "128.18515014648438\n",
      "127.91431427001953\n",
      "127.64350891113281\n",
      "127.37277221679688\n",
      "127.1020736694336\n",
      "126.83142852783203\n",
      "126.56082916259766\n",
      "126.29029083251953\n",
      "126.01979064941406\n",
      "125.74934387207031\n",
      "125.47895812988281\n",
      "125.2086410522461\n",
      "124.93834686279297\n",
      "124.6681137084961\n",
      "124.39794921875\n",
      "124.12782287597656\n",
      "123.85773468017578\n",
      "123.58772277832031\n",
      "123.31776428222656\n",
      "123.04785919189453\n",
      "122.77799987792969\n",
      "122.5082015991211\n",
      "122.23847198486328\n",
      "121.96878814697266\n",
      "121.69915771484375\n",
      "121.42959594726562\n",
      "121.16007995605469\n",
      "120.89063262939453\n",
      "120.6212387084961\n",
      "120.35188293457031\n",
      "120.08260345458984\n",
      "119.81338500976562\n",
      "119.54422760009766\n",
      "119.27513122558594\n",
      "119.00609588623047\n",
      "118.73711395263672\n",
      "118.46820831298828\n",
      "118.19935607910156\n",
      "117.93054962158203\n",
      "117.66181182861328\n",
      "117.39315795898438\n",
      "117.12455749511719\n",
      "116.85600280761719\n",
      "116.5875473022461\n",
      "116.31912994384766\n",
      "116.05079650878906\n",
      "115.78250122070312\n",
      "115.51428985595703\n",
      "115.24613952636719\n",
      "114.97806549072266\n",
      "114.71004486083984\n",
      "114.44210052490234\n",
      "114.17422485351562\n",
      "113.90641784667969\n",
      "113.63868713378906\n",
      "113.37100982666016\n",
      "113.10340118408203\n",
      "112.83587646484375\n",
      "112.56842041015625\n",
      "112.30104064941406\n",
      "112.03372192382812\n",
      "111.7664794921875\n",
      "111.49931335449219\n",
      "111.23222351074219\n",
      "110.96520233154297\n",
      "110.6982421875\n",
      "110.43138122558594\n",
      "110.16458129882812\n",
      "109.89786529541016\n",
      "109.63121795654297\n",
      "109.36465454101562\n",
      "109.09815979003906\n",
      "108.83175659179688\n",
      "108.56542205810547\n",
      "108.2991714477539\n",
      "108.03300476074219\n",
      "107.76690673828125\n",
      "107.50091552734375\n",
      "107.23497772216797\n",
      "106.96913146972656\n",
      "106.70336151123047\n",
      "106.43769073486328\n",
      "106.17208862304688\n",
      "105.90658569335938\n",
      "105.64115142822266\n",
      "105.37582397460938\n",
      "105.1105728149414\n",
      "104.84541320800781\n",
      "104.58033752441406\n",
      "104.31534576416016\n",
      "104.05045318603516\n",
      "103.78563690185547\n",
      "103.52091979980469\n",
      "103.25628662109375\n",
      "102.99176025390625\n",
      "102.72731018066406\n",
      "102.46295928955078\n",
      "102.1987075805664\n",
      "101.9345474243164\n",
      "101.67047119140625\n",
      "101.40650177001953\n",
      "101.14262390136719\n",
      "100.87885284423828\n",
      "100.61516571044922\n",
      "100.35159301757812\n",
      "100.0881118774414\n",
      "99.8247299194336\n",
      "99.56144714355469\n",
      "99.29827117919922\n",
      "99.03519439697266\n",
      "98.772216796875\n",
      "98.50934600830078\n",
      "98.24658966064453\n",
      "97.98394012451172\n",
      "97.72138977050781\n",
      "97.45895385742188\n",
      "97.19661712646484\n",
      "96.93439483642578\n",
      "96.67227172851562\n",
      "96.41026306152344\n",
      "96.14837646484375\n",
      "95.88658905029297\n",
      "95.62493133544922\n",
      "95.3633804321289\n",
      "95.1019287109375\n",
      "94.84060668945312\n",
      "94.57940673828125\n",
      "94.31830596923828\n",
      "94.0573501586914\n",
      "93.79650115966797\n",
      "93.5357666015625\n",
      "93.27516174316406\n",
      "93.0146713256836\n",
      "92.75431823730469\n",
      "92.49407958984375\n",
      "92.23397827148438\n",
      "91.97398376464844\n",
      "91.7141342163086\n",
      "91.45439910888672\n",
      "91.1948013305664\n",
      "90.93533325195312\n",
      "90.67599487304688\n",
      "90.41679382324219\n",
      "90.15772247314453\n",
      "89.89878845214844\n",
      "89.63999938964844\n",
      "89.3813247680664\n",
      "89.122802734375\n",
      "88.86441802978516\n",
      "88.60618591308594\n",
      "88.34807586669922\n",
      "88.09011840820312\n",
      "87.8322982788086\n",
      "87.57463073730469\n",
      "87.31710815429688\n",
      "87.05973052978516\n",
      "86.80250549316406\n",
      "86.54542541503906\n",
      "86.28850555419922\n",
      "86.03172302246094\n",
      "85.77511596679688\n",
      "85.51864624023438\n",
      "85.26234436035156\n",
      "85.00618743896484\n",
      "84.75019836425781\n",
      "84.49436950683594\n",
      "84.23870086669922\n",
      "83.98320007324219\n",
      "83.72785949707031\n",
      "83.4726791381836\n",
      "83.21766662597656\n",
      "82.96282958984375\n",
      "82.70816802978516\n",
      "82.45367431640625\n",
      "82.19934844970703\n",
      "81.94519805908203\n",
      "81.69123077392578\n",
      "81.43744659423828\n",
      "81.18382263183594\n",
      "80.93038940429688\n",
      "80.67713928222656\n",
      "80.42406463623047\n",
      "80.17118072509766\n",
      "79.91848754882812\n",
      "79.66597747802734\n",
      "79.41366577148438\n",
      "79.16154479980469\n",
      "78.90961456298828\n",
      "78.65788269042969\n",
      "78.4063491821289\n",
      "78.15501403808594\n",
      "77.90387725830078\n",
      "77.65293884277344\n",
      "77.4022216796875\n",
      "77.15169525146484\n",
      "76.90137481689453\n",
      "76.65127563476562\n",
      "76.40138244628906\n",
      "76.15170288085938\n",
      "75.9022445678711\n",
      "75.65299224853516\n",
      "75.40396881103516\n",
      "75.15515899658203\n",
      "74.90658569335938\n",
      "74.6582260131836\n",
      "74.41009521484375\n",
      "74.16220092773438\n",
      "73.9145278930664\n",
      "73.6670913696289\n",
      "73.4198989868164\n",
      "73.17293548583984\n",
      "72.92621612548828\n",
      "72.67974853515625\n",
      "72.43351745605469\n",
      "72.18753051757812\n",
      "71.94180297851562\n",
      "71.69631958007812\n",
      "71.45108795166016\n",
      "71.20611572265625\n",
      "70.9614028930664\n",
      "70.71694946289062\n",
      "70.47276306152344\n",
      "70.22883605957031\n",
      "69.98519134521484\n",
      "69.74180603027344\n",
      "69.49870300292969\n",
      "69.25586700439453\n",
      "69.01331329345703\n",
      "68.77104187011719\n",
      "68.52906036376953\n",
      "68.28734588623047\n",
      "68.04594421386719\n",
      "67.80481719970703\n",
      "67.56399536132812\n",
      "67.3234634399414\n",
      "67.08323669433594\n",
      "66.84332275390625\n",
      "66.60370635986328\n",
      "66.36438751220703\n",
      "66.12539672851562\n",
      "65.88671875\n",
      "65.64836120605469\n",
      "65.41032409667969\n",
      "65.17259979248047\n",
      "64.93521881103516\n",
      "64.69815063476562\n",
      "64.46143341064453\n",
      "64.22505187988281\n",
      "63.98899841308594\n",
      "63.7532958984375\n",
      "63.5179328918457\n",
      "63.282928466796875\n",
      "63.04827117919922\n",
      "62.81398010253906\n",
      "62.580047607421875\n",
      "62.34648132324219\n",
      "62.11327362060547\n",
      "61.88043975830078\n",
      "61.64798355102539\n",
      "61.41590118408203\n",
      "61.184200286865234\n",
      "60.95288848876953\n",
      "60.72196960449219\n",
      "60.49143981933594\n",
      "60.26130294799805\n",
      "60.031578063964844\n",
      "59.80224609375\n",
      "59.573326110839844\n",
      "59.34482192993164\n",
      "59.116729736328125\n",
      "58.889068603515625\n",
      "58.66182327270508\n",
      "58.43500518798828\n",
      "58.2086296081543\n",
      "57.98268127441406\n",
      "57.757179260253906\n",
      "57.532127380371094\n",
      "57.307525634765625\n",
      "57.0833740234375\n",
      "56.85968780517578\n",
      "56.6364631652832\n",
      "56.413700103759766\n",
      "56.19141387939453\n",
      "55.969608306884766\n",
      "55.74828338623047\n",
      "55.52744674682617\n",
      "55.30709457397461\n",
      "55.087249755859375\n",
      "54.867897033691406\n",
      "54.649051666259766\n",
      "54.430721282958984\n",
      "54.21290969848633\n",
      "53.995609283447266\n",
      "53.77884292602539\n",
      "53.56260299682617\n",
      "53.34690475463867\n",
      "53.131744384765625\n",
      "52.91713333129883\n",
      "52.703067779541016\n",
      "52.489566802978516\n",
      "52.2766227722168\n",
      "52.06424331665039\n",
      "51.852447509765625\n",
      "51.641231536865234\n",
      "51.43058776855469\n",
      "51.220542907714844\n",
      "51.01108932495117\n",
      "50.802242279052734\n",
      "50.593997955322266\n",
      "50.38636779785156\n",
      "50.179351806640625\n",
      "49.972965240478516\n",
      "49.7672119140625\n",
      "49.56209182739258\n",
      "49.35761260986328\n",
      "49.153778076171875\n",
      "48.95060348510742\n",
      "48.74808120727539\n",
      "48.54623031616211\n",
      "48.345054626464844\n",
      "48.14455032348633\n",
      "47.944732666015625\n",
      "47.745609283447266\n",
      "47.547176361083984\n",
      "47.34945297241211\n",
      "47.152435302734375\n",
      "46.95613479614258\n",
      "46.76055908203125\n",
      "46.565704345703125\n",
      "46.3715934753418\n",
      "46.17822265625\n",
      "45.985599517822266\n",
      "45.79372787475586\n",
      "45.60261535644531\n",
      "45.41227340698242\n",
      "45.22270965576172\n",
      "45.03392028808594\n",
      "44.84592056274414\n",
      "44.65871810913086\n",
      "44.47231674194336\n",
      "44.286712646484375\n",
      "44.1019287109375\n",
      "43.91796875\n",
      "43.734832763671875\n",
      "43.552528381347656\n",
      "43.37106704711914\n",
      "43.190452575683594\n",
      "43.01069259643555\n",
      "42.83179473876953\n",
      "42.65375900268555\n",
      "42.476600646972656\n",
      "42.30031967163086\n",
      "42.12492752075195\n",
      "41.9504280090332\n",
      "41.77682876586914\n",
      "41.6041374206543\n",
      "41.43235778808594\n",
      "41.26150131225586\n",
      "41.09156799316406\n",
      "40.92256164550781\n",
      "40.75450134277344\n",
      "40.5873908996582\n",
      "40.42121887207031\n",
      "40.256011962890625\n",
      "40.091773986816406\n",
      "39.92850112915039\n",
      "39.766204833984375\n",
      "39.60489273071289\n",
      "39.4445686340332\n",
      "39.285240173339844\n",
      "39.12691116333008\n",
      "38.96958923339844\n",
      "38.81327438354492\n",
      "38.65798568725586\n",
      "38.50371551513672\n",
      "38.35047149658203\n",
      "38.19826889038086\n",
      "38.04710006713867\n",
      "37.896976470947266\n",
      "37.74790954589844\n",
      "37.59988784790039\n",
      "37.45293426513672\n",
      "37.30704116821289\n",
      "37.1622200012207\n",
      "37.01847457885742\n",
      "36.87580490112305\n",
      "36.73421859741211\n",
      "36.593719482421875\n",
      "36.454307556152344\n",
      "36.31599807739258\n",
      "36.17878341674805\n",
      "36.04267501831055\n",
      "35.90766906738281\n",
      "35.77377700805664\n",
      "35.640995025634766\n",
      "35.509334564208984\n",
      "35.378787994384766\n",
      "35.24936294555664\n",
      "35.121063232421875\n",
      "34.993892669677734\n",
      "34.86784744262695\n",
      "34.74293899536133\n",
      "34.619163513183594\n",
      "34.49652099609375\n",
      "34.37501907348633\n",
      "34.2546501159668\n",
      "34.13542556762695\n",
      "34.01734161376953\n",
      "33.90039825439453\n",
      "33.78459548950195\n",
      "33.66993713378906\n",
      "33.55642318725586\n",
      "33.44404983520508\n",
      "33.332820892333984\n",
      "33.22273635864258\n",
      "33.113792419433594\n",
      "33.00598907470703\n",
      "32.89932632446289\n",
      "32.79380416870117\n",
      "32.68942642211914\n",
      "32.58617401123047\n",
      "32.484066009521484\n",
      "32.38309097290039\n",
      "32.28324508666992\n",
      "32.18452835083008\n",
      "32.086936950683594\n",
      "31.99047088623047\n",
      "31.89512825012207\n",
      "31.800899505615234\n",
      "31.70779037475586\n",
      "31.61579132080078\n",
      "31.5248966217041\n",
      "31.435110092163086\n",
      "31.346420288085938\n",
      "31.25882911682129\n",
      "31.17232894897461\n",
      "31.086910247802734\n",
      "31.002580642700195\n",
      "30.919322967529297\n",
      "30.83713722229004\n",
      "30.756017684936523\n",
      "30.675962448120117\n",
      "30.596956253051758\n",
      "30.51900291442871\n",
      "30.442092895507812\n",
      "30.36622428894043\n",
      "30.291379928588867\n",
      "30.217559814453125\n",
      "30.14476203918457\n",
      "30.07297134399414\n",
      "30.00218963623047\n",
      "29.93239974975586\n",
      "29.863605499267578\n",
      "29.79578971862793\n",
      "29.72895050048828\n",
      "29.6630802154541\n",
      "29.598169326782227\n",
      "29.534212112426758\n",
      "29.4711971282959\n",
      "29.409116744995117\n",
      "29.347970962524414\n",
      "29.287738800048828\n",
      "29.228425979614258\n",
      "29.170013427734375\n",
      "29.11249351501465\n",
      "29.055862426757812\n",
      "29.000110626220703\n",
      "28.945226669311523\n",
      "28.891206741333008\n",
      "28.83803367614746\n",
      "28.78570556640625\n",
      "28.734214782714844\n",
      "28.683551788330078\n",
      "28.63370132446289\n",
      "28.584657669067383\n",
      "28.53641700744629\n",
      "28.488964080810547\n",
      "28.442289352416992\n",
      "28.396390914916992\n",
      "28.35125160217285\n",
      "28.306867599487305\n",
      "28.263225555419922\n",
      "28.220321655273438\n",
      "28.178142547607422\n",
      "28.136682510375977\n",
      "28.095928192138672\n",
      "28.055875778198242\n",
      "28.016508102416992\n",
      "27.977825164794922\n",
      "27.9398136138916\n",
      "27.902463912963867\n",
      "27.865768432617188\n",
      "27.829721450805664\n",
      "27.794307708740234\n",
      "27.759521484375\n",
      "27.725353240966797\n",
      "27.691795349121094\n",
      "27.65884017944336\n",
      "27.626476287841797\n",
      "27.594696044921875\n",
      "27.56348991394043\n",
      "27.532852172851562\n",
      "27.50277328491211\n",
      "27.473243713378906\n",
      "27.444255828857422\n",
      "27.415802001953125\n",
      "27.38787269592285\n",
      "27.360462188720703\n",
      "27.333559036254883\n",
      "27.30715560913086\n",
      "27.281248092651367\n",
      "27.25582504272461\n",
      "27.230878829956055\n",
      "27.206403732299805\n",
      "27.182390213012695\n",
      "27.158830642700195\n",
      "27.135719299316406\n",
      "27.113048553466797\n",
      "27.090810775756836\n",
      "27.06899642944336\n",
      "27.047603607177734\n",
      "27.02661895751953\n",
      "27.006038665771484\n",
      "26.985857009887695\n",
      "26.966068267822266\n",
      "26.946659088134766\n",
      "26.927631378173828\n",
      "26.908971786499023\n",
      "26.890676498413086\n",
      "26.872737884521484\n",
      "26.855154037475586\n",
      "26.837913513183594\n",
      "26.821012496948242\n",
      "26.804445266723633\n",
      "26.788204193115234\n",
      "26.77228546142578\n",
      "26.756681442260742\n",
      "26.74138832092285\n",
      "26.726398468017578\n",
      "26.711708068847656\n",
      "26.697311401367188\n",
      "26.683198928833008\n",
      "26.66937255859375\n",
      "26.65582275390625\n",
      "26.642541885375977\n",
      "26.629533767700195\n",
      "26.616785049438477\n",
      "26.604291915893555\n",
      "26.592052459716797\n",
      "26.580062866210938\n",
      "26.568313598632812\n",
      "26.55680274963379\n",
      "26.54552459716797\n",
      "26.53447723388672\n",
      "26.52365493774414\n",
      "26.513051986694336\n",
      "26.502666473388672\n",
      "26.492490768432617\n",
      "26.482528686523438\n",
      "26.472766876220703\n",
      "26.46320343017578\n",
      "26.453842163085938\n",
      "26.44466781616211\n",
      "26.43568229675293\n",
      "26.4268856048584\n",
      "26.41826820373535\n",
      "26.409826278686523\n",
      "26.401559829711914\n",
      "26.39346694946289\n",
      "26.38553810119629\n",
      "26.377775192260742\n",
      "26.37017250061035\n",
      "26.362730026245117\n",
      "26.355438232421875\n",
      "26.348299026489258\n",
      "26.341310501098633\n",
      "26.33446502685547\n",
      "26.327762603759766\n",
      "26.32120132446289\n",
      "26.314775466918945\n",
      "26.30848503112793\n",
      "26.302322387695312\n",
      "26.29629135131836\n",
      "26.29038429260254\n",
      "26.28460121154785\n",
      "26.27894401550293\n",
      "26.27340316772461\n",
      "26.267974853515625\n",
      "26.262662887573242\n",
      "26.257463455200195\n",
      "26.252370834350586\n",
      "26.247386932373047\n",
      "26.242507934570312\n",
      "26.23773193359375\n",
      "26.233055114746094\n",
      "26.228477478027344\n",
      "26.223997116088867\n",
      "26.219608306884766\n",
      "26.215314865112305\n",
      "26.211111068725586\n",
      "26.20699691772461\n",
      "26.20296859741211\n",
      "26.19902801513672\n",
      "26.195167541503906\n",
      "26.191389083862305\n",
      "26.18769073486328\n",
      "26.184070587158203\n",
      "26.18052864074707\n",
      "26.177061080932617\n",
      "26.173667907714844\n",
      "26.17034339904785\n",
      "26.16709327697754\n",
      "26.163909912109375\n",
      "26.16079330444336\n",
      "26.157745361328125\n",
      "26.154760360717773\n",
      "26.151840209960938\n",
      "26.14898109436035\n",
      "26.146183013916016\n",
      "26.14344596862793\n",
      "26.140766143798828\n",
      "26.13814353942871\n",
      "26.135576248168945\n",
      "26.133060455322266\n",
      "26.130603790283203\n",
      "26.128196716308594\n",
      "26.125839233398438\n",
      "26.123537063598633\n",
      "26.121280670166016\n",
      "26.11907196044922\n",
      "26.11690902709961\n",
      "26.114797592163086\n",
      "26.11272430419922\n",
      "26.110698699951172\n",
      "26.108718872070312\n",
      "26.10677719116211\n",
      "26.10487937927246\n",
      "26.103023529052734\n",
      "26.10120391845703\n",
      "26.09942626953125\n",
      "26.09768295288086\n",
      "26.095979690551758\n",
      "26.094310760498047\n",
      "26.092681884765625\n",
      "26.091081619262695\n",
      "26.089519500732422\n",
      "26.08799171447754\n",
      "26.08649253845215\n",
      "26.085031509399414\n",
      "26.083599090576172\n",
      "26.082195281982422\n",
      "26.080820083618164\n",
      "26.079477310180664\n",
      "26.07816505432129\n",
      "26.07687759399414\n",
      "26.075618743896484\n",
      "26.074386596679688\n",
      "26.073179244995117\n",
      "26.072004318237305\n",
      "26.070846557617188\n",
      "26.069719314575195\n",
      "26.068614959716797\n",
      "26.06753158569336\n",
      "26.06647300720215\n",
      "26.06543731689453\n",
      "26.064424514770508\n",
      "26.063432693481445\n",
      "26.062463760375977\n",
      "26.061511993408203\n",
      "26.060583114624023\n",
      "26.059673309326172\n",
      "26.05878257751465\n",
      "26.057912826538086\n",
      "26.05706214904785\n",
      "26.056228637695312\n",
      "26.055410385131836\n",
      "26.05461311340332\n",
      "26.0538330078125\n",
      "26.053068161010742\n",
      "26.05232048034668\n",
      "26.05158805847168\n",
      "26.050870895385742\n",
      "26.0501708984375\n",
      "26.049484252929688\n",
      "26.04881477355957\n",
      "26.04815673828125\n",
      "26.04751205444336\n",
      "26.046886444091797\n",
      "26.046268463134766\n",
      "26.04566764831543\n",
      "26.04507827758789\n",
      "26.04450035095215\n",
      "26.0439395904541\n",
      "26.043384552001953\n",
      "26.0428466796875\n",
      "26.04231834411621\n",
      "26.04180145263672\n",
      "26.04129409790039\n",
      "26.040800094604492\n",
      "26.040315628051758\n",
      "26.03984260559082\n",
      "26.039377212524414\n",
      "26.038921356201172\n",
      "26.038476943969727\n",
      "26.038042068481445\n",
      "26.037616729736328\n",
      "26.037200927734375\n",
      "26.036794662475586\n",
      "26.036394119262695\n",
      "26.0360050201416\n",
      "26.03562355041504\n",
      "26.03525161743164\n",
      "26.03488540649414\n",
      "26.034526824951172\n",
      "26.034177780151367\n",
      "26.03383445739746\n",
      "26.033498764038086\n",
      "26.033170700073242\n",
      "26.032852172851562\n",
      "26.032535552978516\n",
      "26.032228469848633\n",
      "26.03192901611328\n",
      "26.031635284423828\n",
      "26.03134536743164\n",
      "26.031064987182617\n",
      "26.03078842163086\n",
      "26.030517578125\n",
      "26.030254364013672\n",
      "26.02999496459961\n",
      "26.02974510192871\n",
      "26.029499053955078\n",
      "26.029254913330078\n",
      "26.029020309448242\n",
      "26.028785705566406\n",
      "26.0285587310791\n",
      "26.028337478637695\n",
      "26.028120040893555\n",
      "26.027908325195312\n",
      "26.027700424194336\n",
      "26.027498245239258\n",
      "26.02729606628418\n",
      "26.027101516723633\n",
      "26.02690887451172\n",
      "26.026721954345703\n",
      "26.026540756225586\n",
      "26.0263614654541\n",
      "26.026187896728516\n",
      "26.026016235351562\n",
      "26.025848388671875\n",
      "26.025684356689453\n",
      "26.025524139404297\n",
      "26.025365829467773\n",
      "26.02521324157715\n",
      "26.025062561035156\n",
      "26.02491569519043\n",
      "26.024770736694336\n",
      "26.024627685546875\n",
      "26.024494171142578\n",
      "26.024356842041016\n",
      "26.02422523498535\n",
      "26.02409553527832\n",
      "26.023969650268555\n",
      "26.023847579956055\n",
      "26.023725509643555\n",
      "26.023605346679688\n",
      "26.023488998413086\n",
      "26.023374557495117\n",
      "26.023263931274414\n",
      "26.023155212402344\n",
      "26.023048400878906\n",
      "26.0229434967041\n",
      "26.022842407226562\n",
      "26.022741317749023\n",
      "26.02264404296875\n",
      "26.022546768188477\n",
      "26.02245330810547\n",
      "26.022363662719727\n",
      "26.02227210998535\n",
      "26.022186279296875\n",
      "26.022096633911133\n",
      "26.022016525268555\n",
      "26.02193260192871\n",
      "26.021852493286133\n",
      "26.021772384643555\n",
      "26.02169418334961\n",
      "26.021617889404297\n",
      "26.02154541015625\n",
      "26.021472930908203\n",
      "26.02140235900879\n",
      "26.021331787109375\n",
      "26.021265029907227\n",
      "26.021198272705078\n",
      "26.021133422851562\n",
      "26.02107048034668\n",
      "26.021007537841797\n",
      "26.020946502685547\n",
      "26.02088737487793\n",
      "26.020828247070312\n",
      "26.020771026611328\n",
      "26.020713806152344\n",
      "26.020658493041992\n",
      "26.020605087280273\n",
      "26.020551681518555\n",
      "26.0205020904541\n",
      "26.020450592041016\n",
      "26.020402908325195\n",
      "26.020353317260742\n",
      "26.020305633544922\n",
      "26.0202579498291\n",
      "26.020214080810547\n",
      "26.02016830444336\n",
      "26.020126342773438\n",
      "26.020084381103516\n",
      "26.020042419433594\n",
      "26.020000457763672\n",
      "26.019960403442383\n",
      "26.019920349121094\n",
      "26.019882202148438\n",
      "26.019845962524414\n",
      "26.019807815551758\n",
      "26.019771575927734\n",
      "26.019737243652344\n",
      "26.01970100402832\n",
      "26.01966667175293\n",
      "26.019634246826172\n",
      "26.019601821899414\n",
      "26.019569396972656\n",
      "26.01953887939453\n",
      "26.019508361816406\n",
      "26.01947784423828\n",
      "26.019451141357422\n",
      "26.019418716430664\n",
      "26.019393920898438\n",
      "26.019365310668945\n",
      "26.019336700439453\n",
      "26.019309997558594\n",
      "26.019285202026367\n",
      "26.019258499145508\n",
      "26.019235610961914\n",
      "26.019208908081055\n",
      "26.019187927246094\n",
      "26.019163131713867\n",
      "26.019142150878906\n",
      "26.01911735534668\n",
      "26.01909637451172\n",
      "26.019075393676758\n",
      "26.019054412841797\n",
      "26.019033432006836\n",
      "26.019012451171875\n",
      "26.018991470336914\n",
      "26.018972396850586\n",
      "26.018953323364258\n",
      "26.01893424987793\n",
      "26.0189151763916\n",
      "26.018898010253906\n",
      "26.01888084411621\n",
      "26.018861770629883\n",
      "26.01884651184082\n",
      "26.018829345703125\n",
      "26.018814086914062\n",
      "26.018798828125\n",
      "26.018781661987305\n",
      "26.01876449584961\n",
      "26.018753051757812\n",
      "26.018735885620117\n",
      "26.018722534179688\n",
      "26.018707275390625\n",
      "26.018693923950195\n",
      "26.018678665161133\n",
      "26.018667221069336\n",
      "26.018651962280273\n",
      "26.018638610839844\n",
      "26.018625259399414\n",
      "26.018613815307617\n",
      "26.01860237121582\n",
      "26.018590927124023\n",
      "26.018579483032227\n",
      "26.018566131591797\n",
      "26.0185546875\n",
      "26.018545150756836\n",
      "26.01853370666504\n",
      "26.018524169921875\n",
      "26.018510818481445\n",
      "26.01850128173828\n",
      "26.018491744995117\n",
      "26.018484115600586\n",
      "26.018470764160156\n",
      "26.018461227416992\n",
      "26.018451690673828\n",
      "26.018442153930664\n",
      "26.018434524536133\n",
      "26.018423080444336\n",
      "26.018417358398438\n",
      "26.018409729003906\n",
      "26.018400192260742\n",
      "26.018390655517578\n",
      "26.018383026123047\n",
      "26.018375396728516\n",
      "26.018367767333984\n",
      "26.018360137939453\n",
      "26.018352508544922\n",
      "26.01834487915039\n",
      "26.01833724975586\n",
      "26.018329620361328\n",
      "26.018321990966797\n",
      "26.018314361572266\n",
      "26.018308639526367\n",
      "26.01830291748047\n",
      "26.01829719543457\n",
      "26.018287658691406\n",
      "26.01828384399414\n",
      "26.01827621459961\n",
      "26.01827049255371\n",
      "26.018264770507812\n",
      "26.018259048461914\n",
      "26.018251419067383\n",
      "26.018245697021484\n",
      "26.018239974975586\n",
      "26.018234252929688\n",
      "26.01822853088379\n",
      "26.01822280883789\n",
      "26.018217086791992\n",
      "26.01820945739746\n",
      "26.018207550048828\n",
      "26.018199920654297\n",
      "26.01819610595703\n",
      "26.0181884765625\n",
      "26.018184661865234\n",
      "26.0181827545166\n",
      "26.018177032470703\n",
      "26.018171310424805\n",
      "26.01816749572754\n",
      "26.01816177368164\n",
      "26.018157958984375\n",
      "26.01815414428711\n",
      "26.01814842224121\n",
      "26.018144607543945\n",
      "26.018138885498047\n",
      "26.01813507080078\n",
      "26.018131256103516\n",
      "26.01812744140625\n",
      "26.018123626708984\n",
      "26.01811981201172\n",
      "26.018115997314453\n",
      "26.018110275268555\n",
      "26.018108367919922\n",
      "26.018102645874023\n",
      "26.01810073852539\n",
      "26.018096923828125\n",
      "26.018091201782227\n",
      "26.01808738708496\n",
      "26.018085479736328\n",
      "26.018081665039062\n",
      "26.018077850341797\n",
      "26.018075942993164\n",
      "26.018070220947266\n",
      "26.01806640625\n",
      "26.018062591552734\n",
      "26.018062591552734\n",
      "26.018056869506836\n",
      "26.018054962158203\n",
      "26.018049240112305\n",
      "26.018049240112305\n",
      "26.01804542541504\n",
      "26.018041610717773\n",
      "26.018037796020508\n",
      "26.018035888671875\n",
      "26.018033981323242\n",
      "26.018030166625977\n",
      "26.01802635192871\n",
      "26.018022537231445\n",
      "26.018020629882812\n",
      "26.01801872253418\n",
      "26.018014907836914\n",
      "26.01801300048828\n",
      "26.01801109313965\n",
      "26.01800537109375\n",
      "26.018003463745117\n",
      "26.018001556396484\n",
      "26.01799774169922\n",
      "26.01799774169922\n",
      "26.017993927001953\n",
      "26.017990112304688\n",
      "26.017988204956055\n",
      "26.01798439025879\n",
      "26.017982482910156\n",
      "26.017980575561523\n",
      "26.01797866821289\n",
      "26.017974853515625\n",
      "26.017972946166992\n",
      "26.017969131469727\n",
      "26.017967224121094\n",
      "26.01796531677246\n",
      "26.017963409423828\n",
      "26.017959594726562\n",
      "26.017959594726562\n",
      "26.017955780029297\n",
      "26.017953872680664\n",
      "26.0179500579834\n",
      "26.017948150634766\n",
      "26.0179443359375\n",
      "26.0179443359375\n",
      "26.017942428588867\n",
      "26.017940521240234\n",
      "26.01793670654297\n",
      "26.01793670654297\n",
      "26.017932891845703\n",
      "26.017929077148438\n",
      "26.017929077148438\n",
      "26.017927169799805\n",
      "26.01792335510254\n",
      "26.01792335510254\n",
      "26.017919540405273\n",
      "26.01791763305664\n",
      "26.017913818359375\n",
      "26.017911911010742\n",
      "26.017911911010742\n",
      "26.017908096313477\n",
      "26.017906188964844\n",
      "26.017902374267578\n",
      "26.017902374267578\n",
      "26.017898559570312\n",
      "26.017898559570312\n",
      "26.017894744873047\n",
      "26.017892837524414\n",
      "26.017892837524414\n",
      "26.01789093017578\n",
      "26.01788902282715\n",
      "26.01788330078125\n",
      "26.01788330078125\n",
      "26.017881393432617\n",
      "26.017879486083984\n",
      "26.01787757873535\n",
      "26.01787567138672\n",
      "26.01787567138672\n",
      "26.01786994934082\n",
      "26.01786994934082\n",
      "26.017868041992188\n",
      "26.017868041992188\n",
      "26.01786231994629\n",
      "26.01786231994629\n",
      "26.017860412597656\n",
      "26.017860412597656\n",
      "26.01785659790039\n",
      "26.01785659790039\n",
      "26.017852783203125\n",
      "26.017850875854492\n",
      "26.017847061157227\n",
      "26.017847061157227\n",
      "26.017845153808594\n",
      "26.017845153808594\n",
      "26.017841339111328\n",
      "26.017837524414062\n",
      "26.017837524414062\n",
      "26.01783561706543\n",
      "26.017833709716797\n",
      "26.017831802368164\n",
      "26.017831802368164\n",
      "26.01782989501953\n",
      "26.01782989501953\n",
      "26.017826080322266\n",
      "26.017822265625\n",
      "26.017822265625\n",
      "26.017820358276367\n",
      "26.017818450927734\n",
      "26.0178165435791\n",
      "26.01781463623047\n",
      "26.017812728881836\n",
      "26.017810821533203\n",
      "26.01780891418457\n",
      "26.017807006835938\n",
      "26.017805099487305\n",
      "26.017805099487305\n",
      "26.01780128479004\n",
      "26.017799377441406\n",
      "26.017797470092773\n",
      "26.017799377441406\n",
      "26.017793655395508\n",
      "26.01779556274414\n",
      "26.01778793334961\n",
      "26.017789840698242\n",
      "26.01778793334961\n"
     ]
    }
   ],
   "source": [
    "for i in range (1200): apply_step(params)"
   ]
  },
  {
   "cell_type": "markdown",
   "metadata": {
    "id": "VbqFYk7fXOlz"
   },
   "source": [
    "* After 1200 iterations we manage to reduce the loss from `160.` to `26.`\n",
    "* Now let's plot the process"
   ]
  },
  {
   "cell_type": "code",
   "execution_count": 67,
   "metadata": {
    "colab": {
     "base_uri": "https://localhost:8080/",
     "height": 221
    },
    "id": "7NfCJqNuVm_K",
    "outputId": "6b0529c6-4af7-46eb-d989-173e5b51c610"
   },
   "outputs": [
    {
     "data": {
      "image/png": "[encoded data removed]",
      "text/plain": [
       "<Figure size 864x216 with 4 Axes>"
      ]
     },
     "metadata": {
      "needs_background": "light"
     },
     "output_type": "display_data"
    }
   ],
   "source": [
    "_,axs = plt.subplots(1,4,figsize=(12,3))\n",
    "for ax in axs: show_preds(apply_step(params, False), ax)\n",
    "plt.tight_layout()"
   ]
  },
  {
   "cell_type": "markdown",
   "metadata": {
    "id": "0RO5XOPcXz49"
   },
   "source": [
    "* After each iteration we will have a brand new quadratic function, which will be much more close to the actual one that represent the real data"
   ]
  },
  {
   "cell_type": "markdown",
   "metadata": {
    "id": "54WWv84_X8oo"
   },
   "source": [
    "### Step 7: stop  \n",
    "* After n# of iterations we decide to stop"
   ]
  },
  {
   "cell_type": "markdown",
   "metadata": {
    "id": "Jo8UaOgeYYb-"
   },
   "source": [
    "### Summarizing Gradient Descent"
   ]
  },
  {
   "cell_type": "markdown",
   "metadata": {
    "id": "qaiQMEMuYaRa"
   },
   "source": [
    "*  At the beginnig we start with the **Weights**\n",
    "   - pick the randomly if we build the model from scartch\n",
    "   - get them pretrained from another model : **TransferLearning**\n",
    "* Build a **Loss Function**\n",
    "   - allow us to see how good or bad the outputs the model gives us \n",
    "   - then we try to change/update the weights in way that makes the loss function better==lower\n",
    "* To find a way to do that (update the weights to optimize the loss) we use *calculus* to caltulate the **Gradients**\n",
    "   - gradients descent tells us either we decrease or increase the weights in order to minimize the loss (that simple!!)\n",
    "* We then **iterate** till we reached the lowest point\n",
    "* Stop         "
   ]
  },
  {
   "cell_type": "markdown",
   "metadata": {
    "id": "bM_IfX7icsJJ"
   },
   "source": [
    "## The MNIST Loss Function"
   ]
  },
  {
   "cell_type": "markdown",
   "metadata": {
    "id": "qyDMrW5pdg6a"
   },
   "source": [
    "* We saw previously the function `pr_eights()` where we represent the input images `x` as vector, just like the `w` weight vector.\n",
    "    - here we will do the same with our `MNIST_sample`\n",
    "* We already have our dataset for 3s and 7s as tensors == the x of the function:\n",
    "   - training-set: `stacked_threes, stacked_sevens`\n",
    "   - validation-set : `valid_ten_3, valid_ten_7`\n",
    "* We'll concatenate them all into a single tensor, and also change them from a list of matrices (a rank-3 tensor) to a list of vectors (a rank-2 tensor)\n",
    "  - by using `.view`\n",
    "  - which is a `Pytorh` method that changes the shape of a tensor without changing its content\n",
    "  - `-1` is a special parameter to `.view` that mean: `make this axis as big as necessary to fit the data`   "
   ]
  },
  {
   "cell_type": "code",
   "execution_count": 68,
   "metadata": {
    "id": "cerK-d-SXlFy"
   },
   "outputs": [],
   "source": [
    "train_x = torch.cat([stacked_threes, stacked_sevens]).view(-1, 28*28)\n"
   ]
  },
  {
   "cell_type": "code",
   "execution_count": 69,
   "metadata": {
    "colab": {
     "base_uri": "https://localhost:8080/"
    },
    "id": "-rw-KgaeeV2W",
    "outputId": "6c9d36c4-9ed8-4cf1-b840-8eb42dff988c"
   },
   "outputs": [
    {
     "data": {
      "text/plain": [
       "torch.Size([12396, 784])"
      ]
     },
     "execution_count": 69,
     "metadata": {},
     "output_type": "execute_result"
    }
   ],
   "source": [
    "train_x.shape"
   ]
  },
  {
   "cell_type": "markdown",
   "metadata": {
    "id": "A0zfbQxDhBAz"
   },
   "source": [
    "* We need a label for each image. We'll use `1` for 3s and `0` for 7s:"
   ]
  },
  {
   "cell_type": "code",
   "execution_count": 70,
   "metadata": {
    "colab": {
     "base_uri": "https://localhost:8080/"
    },
    "id": "wbdxvvxEg2xc",
    "outputId": "8e690bb9-cc40-4622-fbac-e90a3a5461b6",
    "scrolled": true
   },
   "outputs": [
    {
     "data": {
      "text/plain": [
       "(torch.Size([12396, 784]), torch.Size([12396]))"
      ]
     },
     "execution_count": 70,
     "metadata": {},
     "output_type": "execute_result"
    }
   ],
   "source": [
    "train_y = tensor([1]*len(threes) + [0]*len(sevens))\n",
    "train_x.shape,train_y.shape"
   ]
  },
  {
   "cell_type": "markdown",
   "metadata": {
    "id": "qZ2XgEO1Xt-s"
   },
   "source": [
    "* The problem here is that `train_x` and `train_y` don't match in terms of shape.\n",
    "* Here we will use `unsqueeze()` method to `train_y` which will return rank 2 tensor:\n",
    "![unsqueeze](4.png)"
   ]
  },
  {
   "cell_type": "code",
   "execution_count": 71,
   "metadata": {
    "colab": {
     "base_uri": "https://localhost:8080/"
    },
    "id": "NlwT-pJiYOvj",
    "outputId": "ae0b21c1-4b7f-49a7-820e-fd26b15f7a84"
   },
   "outputs": [
    {
     "data": {
      "text/plain": [
       "torch.Size([12396, 1])"
      ]
     },
     "execution_count": 71,
     "metadata": {},
     "output_type": "execute_result"
    }
   ],
   "source": [
    "train_y= train_y.unsqueeze(1)\n",
    "train_y.shape"
   ]
  },
  {
   "cell_type": "markdown",
   "metadata": {
    "id": "tweaUnfBYZV2"
   },
   "source": [
    "* Here we create `dset` dataset for training by ziping both dependent and independent variables."
   ]
  },
  {
   "cell_type": "code",
   "execution_count": 72,
   "metadata": {
    "colab": {
     "base_uri": "https://localhost:8080/"
    },
    "id": "ji_PDyluhEYC",
    "outputId": "c04dcd09-2f08-4a22-c439-1b0dce3eedf3"
   },
   "outputs": [
    {
     "data": {
      "text/plain": [
       "(torch.Size([784]), tensor([1]))"
      ]
     },
     "execution_count": 72,
     "metadata": {},
     "output_type": "execute_result"
    }
   ],
   "source": [
    "dset = list(zip(train_x,train_y))\n",
    "x,y = dset[0]\n",
    "x.shape,y"
   ]
  },
  {
   "cell_type": "markdown",
   "metadata": {
    "id": "R-Ettk5_h6em"
   },
   "source": [
    "\n",
    "* Go through the same steps   for validation set"
   ]
  },
  {
   "cell_type": "code",
   "execution_count": 73,
   "metadata": {
    "id": "sf4uEMEBhVss"
   },
   "outputs": [],
   "source": [
    "valid_x = torch.cat([valid_ten_3, valid_ten_7]).view(-1, 28*28)\n",
    "valid_y = tensor([1]*len(valid_ten_3) + [0]*len(valid_ten_7)).unsqueeze(1)\n",
    "valid_dset = list(zip(valid_x,valid_y))"
   ]
  },
  {
   "cell_type": "markdown",
   "metadata": {
    "id": "FiRe1ZhmiF2V"
   },
   "source": [
    "**Now we begin the 7 steps we saw earlier but now for the mnist model**  \n",
    "### 1-INIT the parameters"
   ]
  },
  {
   "cell_type": "code",
   "execution_count": 74,
   "metadata": {
    "id": "gZ0CnDtUiGmn"
   },
   "outputs": [],
   "source": [
    "def init_params(size, std=1.0): return (torch.randn(size)*std).requires_grad_()"
   ]
  },
  {
   "cell_type": "markdown",
   "metadata": {
    "id": "LwBCrfCIiWPK"
   },
   "source": [
    "* Initialize weights"
   ]
  },
  {
   "cell_type": "code",
   "execution_count": 75,
   "metadata": {
    "colab": {
     "base_uri": "https://localhost:8080/"
    },
    "id": "YplVeOk0iKQv",
    "outputId": "f67ff7f4-72e1-476c-9ee6-9fcde24be9d1"
   },
   "outputs": [
    {
     "data": {
      "text/plain": [
       "torch.Size([784, 1])"
      ]
     },
     "execution_count": 75,
     "metadata": {},
     "output_type": "execute_result"
    }
   ],
   "source": [
    "weights = init_params((28*28, 1))\n",
    "weights.shape"
   ]
  },
  {
   "cell_type": "markdown",
   "metadata": {
    "id": "g6LFjAZuiiky"
   },
   "source": [
    "* Initialize the bias"
   ]
  },
  {
   "cell_type": "code",
   "execution_count": 76,
   "metadata": {
    "colab": {
     "base_uri": "https://localhost:8080/"
    },
    "id": "CO08bRZlicL5",
    "outputId": "41591b89-2ef8-48eb-f206-af951a11866f"
   },
   "outputs": [
    {
     "data": {
      "text/plain": [
       "tensor([0.6863], requires_grad=True)"
      ]
     },
     "execution_count": 76,
     "metadata": {},
     "output_type": "execute_result"
    }
   ],
   "source": [
    "bias = init_params(1)\n",
    "bias"
   ]
  },
  {
   "cell_type": "markdown",
   "metadata": {
    "id": "J4CfaC9Xiuli"
   },
   "source": [
    "### 2-Prediction calculation\n",
    "* Now we can calculate the prediction based on those randome weights and biases for one `image[0]`\n"
   ]
  },
  {
   "cell_type": "markdown",
   "metadata": {
    "id": "uXy5gwoikL5n"
   },
   "source": [
    "* In order to multiply 2 matrix you need to make sure they have same number of inner product:  \n",
    "   - number of columns first matrix==number of rows second matrix"
   ]
  },
  {
   "cell_type": "code",
   "execution_count": 77,
   "metadata": {
    "colab": {
     "base_uri": "https://localhost:8080/"
    },
    "id": "f_H4uGmoinQ9",
    "outputId": "0f89efd4-9cc3-4dca-ac98-eb6307f0ad49"
   },
   "outputs": [
    {
     "data": {
      "text/plain": [
       "tensor([20.2336], grad_fn=<AddBackward0>)"
      ]
     },
     "execution_count": 77,
     "metadata": {},
     "output_type": "execute_result"
    }
   ],
   "source": [
    "(train_x[0]*weights.T).sum()+bias"
   ]
  },
  {
   "cell_type": "markdown",
   "metadata": {
    "id": "pZfZ0rb_jIPK"
   },
   "source": [
    "* In python matrix multiplication is represented by `@`\n",
    "* Here we create a function that return our training set as matrix multiplied `@` by weights then added to the bias radome value\n"
   ]
  },
  {
   "cell_type": "code",
   "execution_count": 78,
   "metadata": {
    "colab": {
     "base_uri": "https://localhost:8080/"
    },
    "id": "-8SoeSUZi96P",
    "outputId": "d0436c53-7f95-46a5-fb1b-c1234c8d16e1"
   },
   "outputs": [
    {
     "data": {
      "text/plain": [
       "tensor([[20.2336],\n",
       "        [17.0644],\n",
       "        [15.2384],\n",
       "        ...,\n",
       "        [18.3804],\n",
       "        [23.8567],\n",
       "        [28.6816]], grad_fn=<AddBackward0>)"
      ]
     },
     "execution_count": 78,
     "metadata": {},
     "output_type": "execute_result"
    }
   ],
   "source": [
    "def linear1(xb): return xb@weights + bias\n",
    "preds = linear1(train_x)\n",
    "preds"
   ]
  },
  {
   "cell_type": "markdown",
   "metadata": {
    "id": "vGHhyrO2a5AB"
   },
   "source": [
    "* Check the accuracy of our modl based on random weights"
   ]
  },
  {
   "cell_type": "code",
   "execution_count": 79,
   "metadata": {
    "colab": {
     "base_uri": "https://localhost:8080/"
    },
    "id": "6Q-2hYhHjkX3",
    "outputId": "550e0981-7d80-49a7-f6ae-1c1e5a246d15"
   },
   "outputs": [
    {
     "data": {
      "text/plain": [
       "tensor([[ True],\n",
       "        [ True],\n",
       "        [ True],\n",
       "        ...,\n",
       "        [False],\n",
       "        [False],\n",
       "        [False]])"
      ]
     },
     "execution_count": 79,
     "metadata": {},
     "output_type": "execute_result"
    }
   ],
   "source": [
    "# Let's check our accuracy\n",
    "corrects = (preds>0.0).float()==train_y\n",
    "corrects"
   ]
  },
  {
   "cell_type": "code",
   "execution_count": 80,
   "metadata": {
    "colab": {
     "base_uri": "https://localhost:8080/"
    },
    "id": "H33hwctnkUte",
    "outputId": "a8200bfb-1298-44f8-f54e-a12490684e51"
   },
   "outputs": [
    {
     "data": {
      "text/plain": [
       "0.4912068545818329"
      ]
     },
     "execution_count": 80,
     "metadata": {},
     "output_type": "execute_result"
    }
   ],
   "source": [
    "# check the mean\n",
    "corrects.float().mean().item()"
   ]
  },
  {
   "cell_type": "markdown",
   "metadata": {
    "id": "EM5CH5oPk2QH"
   },
   "source": [
    "* Now let's see what the change in accuracy is for a small change in one of the weights (note that we have to ask PyTorch not to calculate gradients as we do this, which is what `with torch.no_grad()` is doing here):"
   ]
  },
  {
   "cell_type": "code",
   "execution_count": 81,
   "metadata": {
    "id": "-Jo2E2kDkt1e"
   },
   "outputs": [],
   "source": [
    "with torch.no_grad(): weights[0] *= 1.0001"
   ]
  },
  {
   "cell_type": "code",
   "execution_count": 82,
   "metadata": {
    "colab": {
     "base_uri": "https://localhost:8080/"
    },
    "id": "B2-1Bhcuk8uk",
    "outputId": "3d2bf4d3-bff0-4e3e-d064-db244a9428f0"
   },
   "outputs": [
    {
     "data": {
      "text/plain": [
       "0.4912068545818329"
      ]
     },
     "execution_count": 82,
     "metadata": {},
     "output_type": "execute_result"
    }
   ],
   "source": [
    "preds = linear1(train_x)\n",
    "((preds>0.0).float() == train_y).float().mean().item()"
   ]
  },
  {
   "cell_type": "markdown",
   "metadata": {
    "id": "Sf6hL2PtlY5K"
   },
   "source": [
    "* As we notice even with the change we commited in one of the weights we didn't observe any change at all in the model accuracy! which rise a problem for our method. we need a formula that can reflexes the changes we commited to the parameters, so we update the parameters in a way that make our predictions better.  \n",
    "\n",
    "* The problem with the thresh `preds>0.0` is that the gradients are allways equal to zero, because as we know the gradients are calculate as rise over run, and in this case the small change in parameters is rarely could change the prediction from 3 to 7 or vice-versa, so the gradients will allways indicate to 0.  \n",
    "* Instead we need a loss function, which when our weights results a slightly better prediction, gives us a slightly better loss function"
   ]
  },
  {
   "cell_type": "code",
   "execution_count": 83,
   "metadata": {
    "id": "H3RqPc2ZlAHZ"
   },
   "outputs": [],
   "source": [
    "trgts  = tensor([1,0,1])\n",
    "prds   = tensor([0.9, 0.4, 0.2])"
   ]
  },
  {
   "cell_type": "markdown",
   "metadata": {
    "id": "nKc-ZJ2Flwib"
   },
   "source": [
    "* Here we assume that the `trgts` is the image we want to predict, 1 for 3's and 0 for 7's, \n",
    "* So in this case the model is confident in the first image it's a 3 with 0.9, and not sure about the second image with 0.4, and way too incorrect in the 3d image with 0.2\n",
    "* The objective is to build a loss function that will calculate the accuracy of the model and returns some metrics that will be updated if we update our parameters"
   ]
  },
  {
   "cell_type": "code",
   "execution_count": 84,
   "metadata": {
    "id": "zYIwCijJlv2P"
   },
   "outputs": [],
   "source": [
    "def mnist_loss(predictions, targets):\n",
    "    return torch.where(targets==1, 1-predictions, predictions).mean()"
   ]
  },
  {
   "cell_type": "markdown",
   "metadata": {
    "id": "SOAkzd9hmOgD"
   },
   "source": [
    "* `torch.where` is a way of puting specific condition, in other way we can say this:\n",
    "\n",
    "if targets==1:\n",
    "    loss = 1-predictions\n",
    "else: targets==0 "
   ]
  },
  {
   "cell_type": "code",
   "execution_count": 85,
   "metadata": {
    "colab": {
     "base_uri": "https://localhost:8080/"
    },
    "id": "m7E8egcQmLtI",
    "outputId": "ebd246d0-9682-4e82-c4fd-0b5f4e694958"
   },
   "outputs": [
    {
     "data": {
      "text/plain": [
       "tensor(0.4333)"
      ]
     },
     "execution_count": 85,
     "metadata": {},
     "output_type": "execute_result"
    }
   ],
   "source": [
    "torch.where(trgts==1, 1-prds, prds).mean()"
   ]
  },
  {
   "cell_type": "markdown",
   "metadata": {
    "id": "U2zCK1_Rm0TG"
   },
   "source": [
    "* See if the loss will be updated if we change the weights.\n",
    "   - we will pass this tensor [0.9, 0.4, 0.8] and see how to change the prediction from 0.2 to 0.8 will efects the loss function"
   ]
  },
  {
   "cell_type": "code",
   "execution_count": 86,
   "metadata": {
    "colab": {
     "base_uri": "https://localhost:8080/"
    },
    "id": "qGTNZJpcmwlY",
    "outputId": "a817c867-df75-47cd-c06c-572f9bd1c116"
   },
   "outputs": [
    {
     "data": {
      "text/plain": [
       "tensor(0.2333)"
      ]
     },
     "execution_count": 86,
     "metadata": {},
     "output_type": "execute_result"
    }
   ],
   "source": [
    "mnist_loss(tensor([0.9, 0.4, 0.8]), trgts)"
   ]
  },
  {
   "cell_type": "markdown",
   "metadata": {
    "id": "Rgf-a3mctz1Y"
   },
   "source": [
    "* As we see here the loss function gets better when we minimize the distance between the prediction and the target in the third image  \n",
    "* The problem that we still face in this method is that we assume that the predictions will allways be between 0 and 1\n",
    "* To solve this problem we need a function that return any prediction how matter bigger that 1 or smaller than 0 to the interval between those 2 numbers\n",
    "* In fact there's a function that do the same exact thing, we call it **SIGMOID FUNCTION**"
   ]
  },
  {
   "cell_type": "markdown",
   "metadata": {
    "id": "Mg1QgL9WuNpe"
   },
   "source": [
    "### Sigmoid Function"
   ]
  },
  {
   "cell_type": "markdown",
   "metadata": {
    "id": "uvYoCrYEuTMK"
   },
   "source": [
    "The `sigmoid` function always outputs a number between 0 and 1. It's defined as follows:"
   ]
  },
  {
   "cell_type": "code",
   "execution_count": 87,
   "metadata": {
    "id": "CCzcQU5nnI38"
   },
   "outputs": [],
   "source": [
    "def sigmoid(x): return 1/(1+torch.exp(-x))"
   ]
  },
  {
   "cell_type": "code",
   "execution_count": 88,
   "metadata": {
    "colab": {
     "base_uri": "https://localhost:8080/",
     "height": 285
    },
    "id": "RcQ-AbkEuViO",
    "outputId": "28239c24-9973-4e6e-e440-051d3349c7fe"
   },
   "outputs": [
    {
     "data": {
      "image/png": "[encoded data removed]",
      "text/plain": [
       "<Figure size 432x288 with 1 Axes>"
      ]
     },
     "metadata": {
      "needs_background": "light"
     },
     "output_type": "display_data"
    }
   ],
   "source": [
    "plot_function(torch.sigmoid, title='Sigmoid', min=-4, max=4)"
   ]
  },
  {
   "cell_type": "markdown",
   "metadata": {
    "id": "tMzM0TLDu8m5"
   },
   "source": [
    "* Whatever input we give it to `Sigmoid` it will always return a number between 0 and 1\n",
    "* Now let's update the `mnist_loss` by adding sigmoid to its inputs"
   ]
  },
  {
   "cell_type": "code",
   "execution_count": 89,
   "metadata": {
    "id": "gRQFEHfFu0Ey"
   },
   "outputs": [],
   "source": [
    "def mnist_loss(predictions, targets):\n",
    "    predictions = predictions.sigmoid()\n",
    "    return torch.where(targets==1, 1-predictions, predictions).mean()"
   ]
  },
  {
   "cell_type": "markdown",
   "metadata": {
    "id": "5QdrecNGRVVv"
   },
   "source": [
    "### SGD and Mini-Batches"
   ]
  },
  {
   "cell_type": "markdown",
   "metadata": {
    "id": "30negSFjRd9V"
   },
   "source": [
    "* Now we have our loss function for the SGD, we need to know which method we will take in order to update the gradients, we can update them after taking all the data points or after calculating each data points.\n",
    "* The first method will take a lot of time, and the second will not use much information, so we will take another track which is to use Mini-Batches and update the gradients after one mini-batch\n",
    "* How many datapoints in each batch is called batch-size. a larger batch size will produce more accurate result but it will take much time, and smaller batch-size will need many epochs to learn but it will be faster\n",
    "* We will see later how to decide the suitable batch-size for each situation\n",
    "* We will use `DataLoader` in order to shuffle data items before we create the mini-batches, so we vary the data items in each of the mini batches"
   ]
  },
  {
   "cell_type": "code",
   "execution_count": 90,
   "metadata": {
    "colab": {
     "base_uri": "https://localhost:8080/"
    },
    "id": "EZc_buZ6vbIL",
    "outputId": "6b6f7bf1-36b2-4c58-fdfb-6c838bed2596"
   },
   "outputs": [
    {
     "data": {
      "text/plain": [
       "[tensor([ 3, 12,  8, 10,  2]),\n",
       " tensor([ 9,  4,  7, 14,  5]),\n",
       " tensor([ 1, 13,  0,  6, 11])]"
      ]
     },
     "execution_count": 90,
     "metadata": {},
     "output_type": "execute_result"
    }
   ],
   "source": [
    "#for example\n",
    "c = range(15)\n",
    "dl = DataLoader(c, batch_size=5, shuffle=True)\n",
    "list(dl)"
   ]
  },
  {
   "cell_type": "markdown",
   "metadata": {
    "id": "X5QrNAHtSsNN"
   },
   "source": [
    "* But in training model scenarios we won't need any pyhton collection, we want a collection  containing dependent and independent variables.\n",
    "   - A tuple that contains dependents and independent variables called in `Pytorch` a `Dataset`\n",
    "* Here is a simple `dataset`:   "
   ]
  },
  {
   "cell_type": "code",
   "execution_count": 91,
   "metadata": {
    "colab": {
     "base_uri": "https://localhost:8080/"
    },
    "id": "mkFzz5f1R_ap",
    "outputId": "6a77f3da-fe8e-42d9-86b0-696ef1ef73f3"
   },
   "outputs": [
    {
     "data": {
      "text/plain": [
       "(#26) [(0, 'a'),(1, 'b'),(2, 'c'),(3, 'd'),(4, 'e'),(5, 'f'),(6, 'g'),(7, 'h'),(8, 'i'),(9, 'j')...]"
      ]
     },
     "execution_count": 91,
     "metadata": {},
     "output_type": "execute_result"
    }
   ],
   "source": [
    "ds = L(enumerate(string.ascii_lowercase))\n",
    "ds"
   ]
  },
  {
   "cell_type": "markdown",
   "metadata": {
    "id": "qEWgyiRiT2az"
   },
   "source": [
    "* When we pass a `Dataset` to a `DataLoader` we will get back mini-batches which are themselves tuples of tensors representing batches of independent and dependent variables:"
   ]
  },
  {
   "cell_type": "code",
   "execution_count": 92,
   "metadata": {
    "colab": {
     "base_uri": "https://localhost:8080/"
    },
    "id": "DA37oI4MTuxV",
    "outputId": "1d6464e1-22fa-462e-b1ac-2eca015d6850"
   },
   "outputs": [
    {
     "data": {
      "text/plain": [
       "[(tensor([17, 18, 10, 22,  8, 14]), ('r', 's', 'k', 'w', 'i', 'o')),\n",
       " (tensor([20, 15,  9, 13, 21, 12]), ('u', 'p', 'j', 'n', 'v', 'm')),\n",
       " (tensor([ 7, 25,  6,  5, 11, 23]), ('h', 'z', 'g', 'f', 'l', 'x')),\n",
       " (tensor([ 1,  3,  0, 24, 19, 16]), ('b', 'd', 'a', 'y', 't', 'q')),\n",
       " (tensor([2, 4]), ('c', 'e'))]"
      ]
     },
     "execution_count": 92,
     "metadata": {},
     "output_type": "execute_result"
    }
   ],
   "source": [
    "dl = DataLoader(ds, batch_size=6, shuffle=True)\n",
    "list(dl)"
   ]
  },
  {
   "cell_type": "markdown",
   "metadata": {
    "id": "whjIDh4PUQXj"
   },
   "source": [
    "### Putting It All Together"
   ]
  },
  {
   "cell_type": "markdown",
   "metadata": {
    "id": "rjcmvtNAWFSI"
   },
   "source": [
    "**Now we have :**  \n",
    "* dset, valid_dset\n",
    "* linear1\n",
    "* mnist_loss\n",
    "* sigmoid_function  \n",
    "\n",
    "**we can create the model from scratch**  \n",
    "\n",
    "**First we re-intialize our parameters:**\n"
   ]
  },
  {
   "cell_type": "code",
   "execution_count": 93,
   "metadata": {
    "id": "pxMixzMxUGY_"
   },
   "outputs": [],
   "source": [
    "weights = init_params((28*28,1))\n",
    "bias = init_params(1)"
   ]
  },
  {
   "cell_type": "markdown",
   "metadata": {
    "id": "KmYP5dZZWL0c"
   },
   "source": [
    "* Then create the `DataLoader` from `Dataset`"
   ]
  },
  {
   "cell_type": "code",
   "execution_count": 94,
   "metadata": {
    "colab": {
     "base_uri": "https://localhost:8080/"
    },
    "id": "BY2k4GG9WI2X",
    "outputId": "1259a996-f2af-4525-e50a-d0132510c1e6"
   },
   "outputs": [
    {
     "data": {
      "text/plain": [
       "(torch.Size([256, 784]), torch.Size([256, 1]))"
      ]
     },
     "execution_count": 94,
     "metadata": {},
     "output_type": "execute_result"
    }
   ],
   "source": [
    "dl = DataLoader(dset, batch_size=256)\n",
    "xb,yb = first(dl)\n",
    "xb.shape,yb.shape"
   ]
  },
  {
   "cell_type": "markdown",
   "metadata": {
    "id": "ybbJ65qcWSY_"
   },
   "source": [
    "- We'll do the same for the validation set:"
   ]
  },
  {
   "cell_type": "code",
   "execution_count": 95,
   "metadata": {
    "id": "EWRwbNskWQKE"
   },
   "outputs": [],
   "source": [
    "valid_dl = DataLoader(valid_dset, batch_size=256)"
   ]
  },
  {
   "cell_type": "markdown",
   "metadata": {
    "id": "5W59BbwkWW_i"
   },
   "source": [
    "* Let's create a mini-batch of size 4 for testing:"
   ]
  },
  {
   "cell_type": "code",
   "execution_count": 96,
   "metadata": {
    "colab": {
     "base_uri": "https://localhost:8080/"
    },
    "id": "doIEp3rgWU2-",
    "outputId": "f8112328-e27f-463a-ca79-f2bcf0017bfb"
   },
   "outputs": [
    {
     "data": {
      "text/plain": [
       "torch.Size([4, 784])"
      ]
     },
     "execution_count": 96,
     "metadata": {},
     "output_type": "execute_result"
    }
   ],
   "source": [
    "batch = train_x[:4]\n",
    "batch.shape"
   ]
  },
  {
   "cell_type": "markdown",
   "metadata": {
    "id": "EEFyVVh0Wg2y"
   },
   "source": [
    "* Call `linear1` model we created earlier on the `batch`:"
   ]
  },
  {
   "cell_type": "code",
   "execution_count": 97,
   "metadata": {
    "colab": {
     "base_uri": "https://localhost:8080/"
    },
    "id": "Uhs36vGQWZiX",
    "outputId": "d87621d9-6466-44d1-a63d-4702a162eec7"
   },
   "outputs": [
    {
     "data": {
      "text/plain": [
       "tensor([[-2.1876],\n",
       "        [-8.3973],\n",
       "        [ 2.5000],\n",
       "        [-4.9473]], grad_fn=<AddBackward0>)"
      ]
     },
     "execution_count": 97,
     "metadata": {},
     "output_type": "execute_result"
    }
   ],
   "source": [
    "preds = linear1(batch)\n",
    "preds"
   ]
  },
  {
   "cell_type": "markdown",
   "metadata": {
    "id": "6K4JArELWyFD"
   },
   "source": [
    "* Create the loss function:"
   ]
  },
  {
   "cell_type": "code",
   "execution_count": 98,
   "metadata": {
    "colab": {
     "base_uri": "https://localhost:8080/"
    },
    "id": "WYrRtKAYWslr",
    "outputId": "7a386378-9998-4f2b-cb5c-e0a4c172e48f"
   },
   "outputs": [
    {
     "data": {
      "text/plain": [
       "tensor(0.7419, grad_fn=<MeanBackward0>)"
      ]
     },
     "execution_count": 98,
     "metadata": {},
     "output_type": "execute_result"
    }
   ],
   "source": [
    "loss = mnist_loss(preds, train_y[:4])\n",
    "loss"
   ]
  },
  {
   "cell_type": "markdown",
   "metadata": {
    "id": "4b8mKX3vW_9H"
   },
   "source": [
    "* Now we can calculate the gradients:\n"
   ]
  },
  {
   "cell_type": "code",
   "execution_count": 99,
   "metadata": {
    "colab": {
     "base_uri": "https://localhost:8080/"
    },
    "id": "socTd30IW6_E",
    "outputId": "fa9bf47b-9c39-4935-e941-76248b7828ee"
   },
   "outputs": [
    {
     "data": {
      "text/plain": [
       "(torch.Size([784, 1]), tensor(-0.0061), tensor([-0.0420]))"
      ]
     },
     "execution_count": 99,
     "metadata": {},
     "output_type": "execute_result"
    }
   ],
   "source": [
    "loss.backward()\n",
    "weights.grad.shape,weights.grad.mean(),bias.grad"
   ]
  },
  {
   "cell_type": "markdown",
   "metadata": {
    "id": "NdSAJEeOXMiZ"
   },
   "source": [
    "* Let's put that all these steps in a single function:"
   ]
  },
  {
   "cell_type": "code",
   "execution_count": 100,
   "metadata": {
    "id": "JAmCyQreXH7w"
   },
   "outputs": [],
   "source": [
    "def calc_grad(xb, yb, model):\n",
    "    preds = model(xb)\n",
    "    loss = mnist_loss(preds, yb)\n",
    "    loss.backward()"
   ]
  },
  {
   "cell_type": "markdown",
   "metadata": {
    "id": "8B66TpKFYzyq"
   },
   "source": [
    "* And test it.."
   ]
  },
  {
   "cell_type": "code",
   "execution_count": 101,
   "metadata": {
    "colab": {
     "base_uri": "https://localhost:8080/"
    },
    "id": "tXmL_mF4XP0U",
    "outputId": "a9fb716b-415b-4b20-df9c-8b8c064832fa"
   },
   "outputs": [
    {
     "data": {
      "text/plain": [
       "(tensor(-0.0121), tensor([-0.0840]))"
      ]
     },
     "execution_count": 101,
     "metadata": {},
     "output_type": "execute_result"
    }
   ],
   "source": [
    "calc_grad(batch, train_y[:4], linear1)\n",
    "weights.grad.mean(), bias.grad"
   ]
  },
  {
   "cell_type": "markdown",
   "metadata": {
    "id": "pvGK0m0nY-ai"
   },
   "source": [
    "* But look what happens if we call it twice:"
   ]
  },
  {
   "cell_type": "code",
   "execution_count": 102,
   "metadata": {
    "colab": {
     "base_uri": "https://localhost:8080/"
    },
    "id": "gaw5nhv9Y4mU",
    "outputId": "4bcd01f3-d790-4243-a4eb-5277d0e1aebb"
   },
   "outputs": [
    {
     "data": {
      "text/plain": [
       "(tensor(-0.0182), tensor([-0.1260]))"
      ]
     },
     "execution_count": 102,
     "metadata": {},
     "output_type": "execute_result"
    }
   ],
   "source": [
    "calc_grad(batch, train_y[:4], linear1)\n",
    "weights.grad.mean(),bias.grad"
   ]
  },
  {
   "cell_type": "markdown",
   "metadata": {
    "id": "CtyNfy4EZH9M"
   },
   "source": [
    "* The gradients have changed! \n",
    "   - in order to not calculate the gradients and add to the last one every time we call this function `calc_grad`we need to use `grad.zero_` which set the current gradients to zero"
   ]
  },
  {
   "cell_type": "code",
   "execution_count": 103,
   "metadata": {
    "id": "40QMW0G7ZCJ6"
   },
   "outputs": [],
   "source": [
    "weights.grad.zero_()\n",
    "bias.grad.zero_();"
   ]
  },
  {
   "cell_type": "markdown",
   "metadata": {
    "id": "06QAvO8nZkzo"
   },
   "source": [
    "* Our only remaining step is to update the weights and biases based on the gradient and learning rate. When we do so, we have to tell PyTorch not to take the gradient of this step too—otherwise things will get very confusing when we try to compute the derivative at the next batch! If we assign to the data attribute of a tensor then PyTorch will not take the gradient of that step. Here's our basic training loop for an epoch:"
   ]
  },
  {
   "cell_type": "code",
   "execution_count": 104,
   "metadata": {
    "id": "EOSMgRvhZaRA"
   },
   "outputs": [],
   "source": [
    "def train_epoch(model, lr, params):\n",
    "    for xb,yb in dl:\n",
    "        calc_grad(xb, yb, model)\n",
    "        for p in params:\n",
    "            p.data -= p.grad*lr\n",
    "            p.grad.zero_()"
   ]
  },
  {
   "cell_type": "markdown",
   "metadata": {
    "id": "sn0AaCddZx1D"
   },
   "source": [
    "* Let's build a function that calculate the batch accuracy"
   ]
  },
  {
   "cell_type": "code",
   "execution_count": 105,
   "metadata": {
    "colab": {
     "base_uri": "https://localhost:8080/"
    },
    "id": "Rx-PoSi5ZuBT",
    "outputId": "04757e50-e50a-4ddf-e2a8-a8928582d5f5"
   },
   "outputs": [
    {
     "data": {
      "text/plain": [
       "tensor([[False],\n",
       "        [False],\n",
       "        [ True],\n",
       "        [False]])"
      ]
     },
     "execution_count": 105,
     "metadata": {},
     "output_type": "execute_result"
    }
   ],
   "source": [
    "# accuracy of the batch\n",
    "(preds>0.0).float() == train_y[:4]"
   ]
  },
  {
   "cell_type": "markdown",
   "metadata": {
    "id": "gI6ZSizIfO_O"
   },
   "source": [
    "* Function to calculate our validation accuracy:\n"
   ]
  },
  {
   "cell_type": "code",
   "execution_count": 106,
   "metadata": {
    "id": "MeBvHT1mfS9g"
   },
   "outputs": [],
   "source": [
    "def batch_accuracy(xb, yb):\n",
    "    preds = xb.sigmoid()\n",
    "    correct = (preds>0.5) == yb\n",
    "    return correct.float().mean()"
   ]
  },
  {
   "cell_type": "code",
   "execution_count": 107,
   "metadata": {
    "colab": {
     "base_uri": "https://localhost:8080/"
    },
    "id": "7NC2Jl08fV0G",
    "outputId": "ffca677c-237d-4c4e-dd4e-7c59b6b5f46b"
   },
   "outputs": [
    {
     "data": {
      "text/plain": [
       "tensor(0.2500)"
      ]
     },
     "execution_count": 107,
     "metadata": {},
     "output_type": "execute_result"
    }
   ],
   "source": [
    "# check if it works\n",
    "batch_accuracy(linear1(batch), train_y[:4])"
   ]
  },
  {
   "cell_type": "code",
   "execution_count": 108,
   "metadata": {
    "id": "ZWOAXp5MfaLL"
   },
   "outputs": [],
   "source": [
    "# all together\n",
    "def validate_epoch(model):\n",
    "    accs = [batch_accuracy(model(xb), yb) for xb,yb in valid_dl]\n",
    "    return round(torch.stack(accs).mean().item(), 4)"
   ]
  },
  {
   "cell_type": "code",
   "execution_count": 109,
   "metadata": {
    "colab": {
     "base_uri": "https://localhost:8080/"
    },
    "id": "IDzWsqYsfenZ",
    "outputId": "f988ddfc-145a-4808-c24b-a9e2cc7cbb60"
   },
   "outputs": [
    {
     "data": {
      "text/plain": [
       "0.5262"
      ]
     },
     "execution_count": 109,
     "metadata": {},
     "output_type": "execute_result"
    }
   ],
   "source": [
    "validate_epoch(linear1)"
   ]
  },
  {
   "cell_type": "markdown",
   "metadata": {
    "id": "cMPxA9b-fwRS"
   },
   "source": [
    "* Now lets train for one epoch and see if the accuracy improve"
   ]
  },
  {
   "cell_type": "code",
   "execution_count": 110,
   "metadata": {
    "colab": {
     "base_uri": "https://localhost:8080/"
    },
    "id": "qyQyymmZfpNT",
    "outputId": "940c3dec-de3a-4cdd-c4d7-477bcf8f9787"
   },
   "outputs": [
    {
     "data": {
      "text/plain": [
       "0.6663"
      ]
     },
     "execution_count": 110,
     "metadata": {},
     "output_type": "execute_result"
    }
   ],
   "source": [
    "lr = 1.\n",
    "params = weights,bias\n",
    "train_epoch(linear1, lr, params)\n",
    "validate_epoch(linear1)"
   ]
  },
  {
   "cell_type": "markdown",
   "metadata": {
    "id": "VYyOTN-yf5IO"
   },
   "source": [
    "* Thats promising\n",
    "  - from `0.4642` to `0.6096` after one epoch\n",
    "* Then do a few more:"
   ]
  },
  {
   "cell_type": "code",
   "execution_count": 111,
   "metadata": {
    "colab": {
     "base_uri": "https://localhost:8080/"
    },
    "id": "uJP2R0orf1Ao",
    "outputId": "5ee1f2ef-cdce-41a8-c23e-50fbf45224d9"
   },
   "outputs": [
    {
     "name": "stdout",
     "output_type": "stream",
     "text": [
      "0.8265 0.89 0.9183 0.9276 0.9398 0.9467 0.9506 0.9525 0.9559 0.9579 0.9599 0.9608 0.9613 0.9618 0.9633 0.9638 0.9647 0.9657 0.9672 0.9677 "
     ]
    }
   ],
   "source": [
    "for i in range(20):\n",
    "    train_epoch(linear1, lr, params)\n",
    "    print(validate_epoch(linear1), end=' ')"
   ]
  },
  {
   "cell_type": "markdown",
   "metadata": {
    "id": "q_0mPIG7xoXp"
   },
   "source": [
    "### Creating an Optimizer"
   ]
  },
  {
   "cell_type": "markdown",
   "metadata": {
    "id": "57iscgBuxsy8"
   },
   "source": [
    "* As we know the model we created is only for learning .\n",
    "    - in real world scenarios we do not need to implement everything from scratch, framworks like `Pytorch` and `Fastai` provide us with everything.\n",
    "* The `linear1` model we created can be remplaced with `nn.Linear` which can do the same work and more\n",
    "    - `nn.Linear` combine the role of `linear1` and `weights+bias`\n",
    "    "
   ]
  },
  {
   "cell_type": "code",
   "execution_count": 112,
   "metadata": {
    "id": "XMNFXyjsgSBy"
   },
   "outputs": [],
   "source": [
    "linear_model = nn.Linear(28*28, 1)"
   ]
  },
  {
   "cell_type": "markdown",
   "metadata": {
    "id": "VOkhscpnzCH0"
   },
   "source": [
    "* Every PyTorch module knows what parameters it has that can be trained; they are available through the `parameters` method:\n"
   ]
  },
  {
   "cell_type": "code",
   "execution_count": 113,
   "metadata": {
    "colab": {
     "base_uri": "https://localhost:8080/"
    },
    "id": "kuUpAWl7zy5t",
    "outputId": "f893354b-4edf-413e-cd56-cc9769bc593c"
   },
   "outputs": [
    {
     "data": {
      "text/plain": [
       "(torch.Size([1, 784]), torch.Size([1]))"
      ]
     },
     "execution_count": 113,
     "metadata": {},
     "output_type": "execute_result"
    }
   ],
   "source": [
    "w, b = linear_model.parameters()\n",
    "w.shape, b.shape"
   ]
  },
  {
   "cell_type": "markdown",
   "metadata": {
    "id": "xUQ_1zHW0yIT"
   },
   "source": [
    "* We can create optimizer class"
   ]
  },
  {
   "cell_type": "code",
   "execution_count": 114,
   "metadata": {
    "id": "nXuRIvXNz7do"
   },
   "outputs": [],
   "source": [
    "class BasicOptim:\n",
    "    def __init__(self,params,lr): self.params,self.lr = list(params),lr\n",
    "\n",
    "    def step(self, *args, **kwargs):\n",
    "        for p in self.params: p.data -= p.grad.data * self.lr\n",
    "\n",
    "    def zero_grad(self, *args, **kwargs):\n",
    "        for p in self.params: p.grad = None"
   ]
  },
  {
   "cell_type": "code",
   "execution_count": 115,
   "metadata": {
    "id": "WCBjMKVK07V3"
   },
   "outputs": [],
   "source": [
    "# passing the model params to the optimizer\n",
    "opt = BasicOptim(linear_model.parameters(), lr)"
   ]
  },
  {
   "cell_type": "code",
   "execution_count": 116,
   "metadata": {
    "id": "CbBv7MfZ1P15"
   },
   "outputs": [],
   "source": [
    "# simplifying the epoch training function\n",
    "def train_epoch(model):\n",
    "    for xb,yb in dl:\n",
    "        calc_grad(xb, yb, model)\n",
    "        opt.step()\n",
    "        opt.zero_grad()"
   ]
  },
  {
   "cell_type": "code",
   "execution_count": 117,
   "metadata": {
    "colab": {
     "base_uri": "https://localhost:8080/"
    },
    "id": "CIBBX-4D1qmq",
    "outputId": "a1e82818-61ed-43bd-e10f-960f02c9ae20"
   },
   "outputs": [
    {
     "data": {
      "text/plain": [
       "0.4606"
      ]
     },
     "execution_count": 117,
     "metadata": {},
     "output_type": "execute_result"
    }
   ],
   "source": [
    "# validation doesn't change\n",
    "validate_epoch(linear_model)"
   ]
  },
  {
   "cell_type": "code",
   "execution_count": 118,
   "metadata": {
    "id": "BJ5PIdtL1v6g"
   },
   "outputs": [],
   "source": [
    "# simplifying the training loop:\n",
    "def train_model(model, epochs):\n",
    "    for i in range(epochs):\n",
    "        train_epoch(model)\n",
    "        print(validate_epoch(model), end=' ')"
   ]
  },
  {
   "cell_type": "code",
   "execution_count": 119,
   "metadata": {
    "colab": {
     "base_uri": "https://localhost:8080/"
    },
    "id": "d90ztd-V17kg",
    "outputId": "cf026a2f-4a0a-4cdf-e29c-e347f014421a"
   },
   "outputs": [
    {
     "name": "stdout",
     "output_type": "stream",
     "text": [
      "0.4932 0.7686 0.8555 0.9136 0.9346 0.9482 0.957 0.9634 0.9658 0.9678 0.9697 0.9717 0.9736 0.9746 0.9761 0.9771 0.9775 0.9775 0.978 0.9785 "
     ]
    }
   ],
   "source": [
    "# same results as before\n",
    "train_model(linear_model, 20)"
   ]
  },
  {
   "cell_type": "markdown",
   "metadata": {
    "id": "GLdh1-Ew2GXZ"
   },
   "source": [
    "* The good thing is all of this is provided by `Fastai`:"
   ]
  },
  {
   "cell_type": "code",
   "execution_count": 120,
   "metadata": {
    "colab": {
     "base_uri": "https://localhost:8080/"
    },
    "id": "3hNyd1pc2BjJ",
    "outputId": "2afa89d2-18b8-4c88-f49f-e7334bf40a41"
   },
   "outputs": [
    {
     "name": "stdout",
     "output_type": "stream",
     "text": [
      "0.4932 0.8179 0.8496 0.9141 0.9346 0.9482 0.957 0.9619 0.9658 0.9673 0.9692 0.9712 0.9741 0.9751 0.9761 0.9775 0.9775 0.978 0.9785 0.979 "
     ]
    }
   ],
   "source": [
    "linear_model = nn.Linear(28*28,1)\n",
    "opt = SGD(linear_model.parameters(), lr)\n",
    "train_model(linear_model, 20)"
   ]
  },
  {
   "cell_type": "markdown",
   "metadata": {
    "id": "PpmXzoAQ2wFS"
   },
   "source": [
    "* Fastai also provides `Learner.fit`, which we can use instead of `train_model`. To create a `Learner` we first need to create a `DataLoaders`, by passing in our training and validation `DataLoader`s:"
   ]
  },
  {
   "cell_type": "code",
   "execution_count": 121,
   "metadata": {
    "id": "r6mcTsio2UgH"
   },
   "outputs": [],
   "source": [
    "dls = DataLoaders(dl, valid_dl)"
   ]
  },
  {
   "cell_type": "markdown",
   "metadata": {
    "id": "TXTn3O3526aT"
   },
   "source": [
    "* To create a `Learner` we need to pass in all the elements that we've created in this chapter: the `DataLoaders`, the model, the optimization function (which will be passed the parameters), the loss function, and optionally any metrics to print:"
   ]
  },
  {
   "cell_type": "code",
   "execution_count": 122,
   "metadata": {
    "id": "0Vd1sosl24YD"
   },
   "outputs": [],
   "source": [
    "learn = Learner(dls, nn.Linear(28*28,1), opt_func=SGD,\n",
    "                loss_func=mnist_loss, metrics=batch_accuracy)"
   ]
  },
  {
   "cell_type": "markdown",
   "metadata": {
    "id": "HCzYO-qX3HtY"
   },
   "source": [
    "Now we can call `fit`:"
   ]
  },
  {
   "cell_type": "code",
   "execution_count": 123,
   "metadata": {
    "colab": {
     "base_uri": "https://localhost:8080/",
     "height": 363
    },
    "id": "pnLqXbFe3Ecv",
    "outputId": "7e2697a3-3d78-48fb-ab1d-004ce359e422"
   },
   "outputs": [
    {
     "data": {
      "text/html": [
       "\n",
       "<style>\n",
       "    /* Turns off some styling */\n",
       "    progress {\n",
       "        /* gets rid of default border in Firefox and Opera. */\n",
       "        border: none;\n",
       "        /* Needs to be in here for Safari polyfill so background images work as expected. */\n",
       "        background-size: auto;\n",
       "    }\n",
       "    progress:not([value]), progress:not([value])::-webkit-progress-bar {\n",
       "        background: repeating-linear-gradient(45deg, #7e7e7e, #7e7e7e 10px, #5c5c5c 10px, #5c5c5c 20px);\n",
       "    }\n",
       "    .progress-bar-interrupted, .progress-bar-interrupted::-webkit-progress-bar {\n",
       "        background: #F44336;\n",
       "    }\n",
       "</style>\n"
      ],
      "text/plain": [
       "<IPython.core.display.HTML object>"
      ]
     },
     "metadata": {},
     "output_type": "display_data"
    },
    {
     "data": {
      "text/html": [
       "<table border=\"1\" class=\"dataframe\">\n",
       "  <thead>\n",
       "    <tr style=\"text-align: left;\">\n",
       "      <th>epoch</th>\n",
       "      <th>train_loss</th>\n",
       "      <th>valid_loss</th>\n",
       "      <th>batch_accuracy</th>\n",
       "      <th>time</th>\n",
       "    </tr>\n",
       "  </thead>\n",
       "  <tbody>\n",
       "    <tr>\n",
       "      <td>0</td>\n",
       "      <td>0.636709</td>\n",
       "      <td>0.503144</td>\n",
       "      <td>0.495584</td>\n",
       "      <td>00:00</td>\n",
       "    </tr>\n",
       "    <tr>\n",
       "      <td>1</td>\n",
       "      <td>0.429828</td>\n",
       "      <td>0.248517</td>\n",
       "      <td>0.777233</td>\n",
       "      <td>00:00</td>\n",
       "    </tr>\n",
       "    <tr>\n",
       "      <td>2</td>\n",
       "      <td>0.161680</td>\n",
       "      <td>0.155361</td>\n",
       "      <td>0.861629</td>\n",
       "      <td>00:00</td>\n",
       "    </tr>\n",
       "    <tr>\n",
       "      <td>3</td>\n",
       "      <td>0.072948</td>\n",
       "      <td>0.097721</td>\n",
       "      <td>0.917566</td>\n",
       "      <td>00:00</td>\n",
       "    </tr>\n",
       "    <tr>\n",
       "      <td>4</td>\n",
       "      <td>0.040128</td>\n",
       "      <td>0.073205</td>\n",
       "      <td>0.936212</td>\n",
       "      <td>00:00</td>\n",
       "    </tr>\n",
       "    <tr>\n",
       "      <td>5</td>\n",
       "      <td>0.027210</td>\n",
       "      <td>0.059466</td>\n",
       "      <td>0.950442</td>\n",
       "      <td>00:00</td>\n",
       "    </tr>\n",
       "    <tr>\n",
       "      <td>6</td>\n",
       "      <td>0.021837</td>\n",
       "      <td>0.050799</td>\n",
       "      <td>0.957802</td>\n",
       "      <td>00:00</td>\n",
       "    </tr>\n",
       "    <tr>\n",
       "      <td>7</td>\n",
       "      <td>0.019398</td>\n",
       "      <td>0.044980</td>\n",
       "      <td>0.964181</td>\n",
       "      <td>00:00</td>\n",
       "    </tr>\n",
       "    <tr>\n",
       "      <td>8</td>\n",
       "      <td>0.018122</td>\n",
       "      <td>0.040853</td>\n",
       "      <td>0.966143</td>\n",
       "      <td>00:00</td>\n",
       "    </tr>\n",
       "    <tr>\n",
       "      <td>9</td>\n",
       "      <td>0.017330</td>\n",
       "      <td>0.037788</td>\n",
       "      <td>0.968106</td>\n",
       "      <td>00:00</td>\n",
       "    </tr>\n",
       "  </tbody>\n",
       "</table>"
      ],
      "text/plain": [
       "<IPython.core.display.HTML object>"
      ]
     },
     "metadata": {},
     "output_type": "display_data"
    }
   ],
   "source": [
    "learn.fit(10, lr=lr)"
   ]
  },
  {
   "cell_type": "markdown",
   "metadata": {
    "id": "Bj09riio0LgK"
   },
   "source": [
    "### Adding a Nonlinearity"
   ]
  },
  {
   "cell_type": "markdown",
   "metadata": {
    "id": "U5UufWyo0XAw"
   },
   "source": [
    "* So far we managed to create a linear function that can predict hand written digit with high performance. \n",
    "* But still, it's just a simple linear classifier, with very constraint abilities. \n",
    "* To make it more complex and capable handle complex tasks, we need to add something non-linear between two linear classifiers.\n",
    "    - **This is gives us a Neural network**\n",
    "* Here a basic architecture of a neural network:    "
   ]
  },
  {
   "cell_type": "code",
   "execution_count": 124,
   "metadata": {
    "id": "wRO7muYR14Yx"
   },
   "outputs": [],
   "source": [
    "def simple_net(xb): \n",
    "    res = xb@w1 + b1 # first linear function\n",
    "    res = res.max(tensor(0.0)) # non linear function\n",
    "    res = res@w2 + b2  # 2nd linear function\n",
    "    return res"
   ]
  },
  {
   "cell_type": "code",
   "execution_count": 125,
   "metadata": {
    "id": "HofZIJaNAs2Q"
   },
   "outputs": [],
   "source": [
    "w1 = init_params((28*28,30))\n",
    "b1 = init_params(30)\n",
    "w2 = init_params((30,1))\n",
    "b2 = init_params(1)"
   ]
  },
  {
   "cell_type": "code",
   "execution_count": 126,
   "metadata": {
    "colab": {
     "base_uri": "https://localhost:8080/"
    },
    "id": "NFSbIKhlB1HP",
    "outputId": "3a2ccdf2-273c-4953-9eb4-b13af5a7867a"
   },
   "outputs": [
    {
     "data": {
      "text/plain": [
       "(torch.Size([784, 30]), torch.Size([30]))"
      ]
     },
     "execution_count": 126,
     "metadata": {},
     "output_type": "execute_result"
    }
   ],
   "source": [
    "w1.shape, b1.shape"
   ]
  },
  {
   "cell_type": "markdown",
   "metadata": {
    "id": "DeT5qcq52Crt"
   },
   "source": [
    "* the lines: `res = xb@w1 + b1 ` and `res@w2 + b2` are two classifier, basic linear function similar to the `nn.Linear` we use previously\n",
    "* While the line `res = res.max(tensor(0.0))` is a non linear function\n",
    "    - this function called *rectified linear unit* **ReLu** which return every negative number with `0`\n",
    "* So if we think about this architecture we have here:\n",
    "  - first we have a linear function that does the matrix multiplication between dataset tensors and initialzed weights + bias and output 30 (we can chose any number) features, which represent for each a different mix of pixels\n",
    "  - these outputs are taken by the `ReLU` and converted to `0` if they are negativem and `x==y` if it not, then output also 30 features to the next linear layer, which will do the sam computaion as the first and output the results"
   ]
  },
  {
   "cell_type": "markdown",
   "metadata": {
    "id": "cR_zcefLIxBh"
   },
   "source": [
    "* In pythorch there's a modul that fit our neural nets here:  `nn.Sequential()`. \n",
    "   - take results from a layer to another\n",
    "* we also replace the linear function we built by `nn.Linear` and `max((0.0))` with `nn.ReLU()`   "
   ]
  },
  {
   "cell_type": "code",
   "execution_count": 127,
   "metadata": {
    "id": "gf5V8bLbIlMZ"
   },
   "outputs": [],
   "source": [
    "simple_net = nn.Sequential(\n",
    "    nn.Linear(28*28,30),\n",
    "    nn.ReLU(),\n",
    "    nn.Linear(30,1)\n",
    ")"
   ]
  },
  {
   "cell_type": "code",
   "execution_count": 128,
   "metadata": {
    "id": "yxMiGOKpJ36D"
   },
   "outputs": [],
   "source": [
    "#lets try the model again but now with 2 layers\n",
    "learn = Learner(dls, simple_net, opt_func=SGD,\n",
    "                loss_func=mnist_loss, metrics=batch_accuracy)"
   ]
  },
  {
   "cell_type": "code",
   "execution_count": 129,
   "metadata": {
    "colab": {
     "base_uri": "https://localhost:8080/",
     "height": 1000
    },
    "id": "BJsUG_P0KAMc",
    "outputId": "97cf12cb-b3ab-4862-9419-137a91e2dacc"
   },
   "outputs": [
    {
     "data": {
      "text/html": [
       "\n",
       "<style>\n",
       "    /* Turns off some styling */\n",
       "    progress {\n",
       "        /* gets rid of default border in Firefox and Opera. */\n",
       "        border: none;\n",
       "        /* Needs to be in here for Safari polyfill so background images work as expected. */\n",
       "        background-size: auto;\n",
       "    }\n",
       "    progress:not([value]), progress:not([value])::-webkit-progress-bar {\n",
       "        background: repeating-linear-gradient(45deg, #7e7e7e, #7e7e7e 10px, #5c5c5c 10px, #5c5c5c 20px);\n",
       "    }\n",
       "    .progress-bar-interrupted, .progress-bar-interrupted::-webkit-progress-bar {\n",
       "        background: #F44336;\n",
       "    }\n",
       "</style>\n"
      ],
      "text/plain": [
       "<IPython.core.display.HTML object>"
      ]
     },
     "metadata": {},
     "output_type": "display_data"
    },
    {
     "data": {
      "text/html": [
       "<table border=\"1\" class=\"dataframe\">\n",
       "  <thead>\n",
       "    <tr style=\"text-align: left;\">\n",
       "      <th>epoch</th>\n",
       "      <th>train_loss</th>\n",
       "      <th>valid_loss</th>\n",
       "      <th>batch_accuracy</th>\n",
       "      <th>time</th>\n",
       "    </tr>\n",
       "  </thead>\n",
       "  <tbody>\n",
       "    <tr>\n",
       "      <td>0</td>\n",
       "      <td>0.333021</td>\n",
       "      <td>0.396112</td>\n",
       "      <td>0.512267</td>\n",
       "      <td>00:00</td>\n",
       "    </tr>\n",
       "    <tr>\n",
       "      <td>1</td>\n",
       "      <td>0.152461</td>\n",
       "      <td>0.235238</td>\n",
       "      <td>0.797350</td>\n",
       "      <td>00:00</td>\n",
       "    </tr>\n",
       "    <tr>\n",
       "      <td>2</td>\n",
       "      <td>0.083573</td>\n",
       "      <td>0.117471</td>\n",
       "      <td>0.911678</td>\n",
       "      <td>00:00</td>\n",
       "    </tr>\n",
       "    <tr>\n",
       "      <td>3</td>\n",
       "      <td>0.054309</td>\n",
       "      <td>0.078720</td>\n",
       "      <td>0.940628</td>\n",
       "      <td>00:00</td>\n",
       "    </tr>\n",
       "    <tr>\n",
       "      <td>4</td>\n",
       "      <td>0.040829</td>\n",
       "      <td>0.061228</td>\n",
       "      <td>0.956330</td>\n",
       "      <td>00:00</td>\n",
       "    </tr>\n",
       "    <tr>\n",
       "      <td>5</td>\n",
       "      <td>0.034006</td>\n",
       "      <td>0.051490</td>\n",
       "      <td>0.963690</td>\n",
       "      <td>00:00</td>\n",
       "    </tr>\n",
       "    <tr>\n",
       "      <td>6</td>\n",
       "      <td>0.030123</td>\n",
       "      <td>0.045381</td>\n",
       "      <td>0.966634</td>\n",
       "      <td>00:00</td>\n",
       "    </tr>\n",
       "    <tr>\n",
       "      <td>7</td>\n",
       "      <td>0.027619</td>\n",
       "      <td>0.041218</td>\n",
       "      <td>0.968106</td>\n",
       "      <td>00:00</td>\n",
       "    </tr>\n",
       "    <tr>\n",
       "      <td>8</td>\n",
       "      <td>0.025825</td>\n",
       "      <td>0.038200</td>\n",
       "      <td>0.969087</td>\n",
       "      <td>00:00</td>\n",
       "    </tr>\n",
       "    <tr>\n",
       "      <td>9</td>\n",
       "      <td>0.024441</td>\n",
       "      <td>0.035901</td>\n",
       "      <td>0.969578</td>\n",
       "      <td>00:00</td>\n",
       "    </tr>\n",
       "    <tr>\n",
       "      <td>10</td>\n",
       "      <td>0.023321</td>\n",
       "      <td>0.034082</td>\n",
       "      <td>0.971541</td>\n",
       "      <td>00:00</td>\n",
       "    </tr>\n",
       "    <tr>\n",
       "      <td>11</td>\n",
       "      <td>0.022387</td>\n",
       "      <td>0.032598</td>\n",
       "      <td>0.972031</td>\n",
       "      <td>00:00</td>\n",
       "    </tr>\n",
       "    <tr>\n",
       "      <td>12</td>\n",
       "      <td>0.021592</td>\n",
       "      <td>0.031353</td>\n",
       "      <td>0.974485</td>\n",
       "      <td>00:00</td>\n",
       "    </tr>\n",
       "    <tr>\n",
       "      <td>13</td>\n",
       "      <td>0.020904</td>\n",
       "      <td>0.030284</td>\n",
       "      <td>0.975466</td>\n",
       "      <td>00:00</td>\n",
       "    </tr>\n",
       "    <tr>\n",
       "      <td>14</td>\n",
       "      <td>0.020300</td>\n",
       "      <td>0.029352</td>\n",
       "      <td>0.975466</td>\n",
       "      <td>00:00</td>\n",
       "    </tr>\n",
       "    <tr>\n",
       "      <td>15</td>\n",
       "      <td>0.019766</td>\n",
       "      <td>0.028526</td>\n",
       "      <td>0.975466</td>\n",
       "      <td>00:00</td>\n",
       "    </tr>\n",
       "    <tr>\n",
       "      <td>16</td>\n",
       "      <td>0.019288</td>\n",
       "      <td>0.027788</td>\n",
       "      <td>0.976448</td>\n",
       "      <td>00:00</td>\n",
       "    </tr>\n",
       "    <tr>\n",
       "      <td>17</td>\n",
       "      <td>0.018857</td>\n",
       "      <td>0.027124</td>\n",
       "      <td>0.977429</td>\n",
       "      <td>00:00</td>\n",
       "    </tr>\n",
       "    <tr>\n",
       "      <td>18</td>\n",
       "      <td>0.018465</td>\n",
       "      <td>0.026523</td>\n",
       "      <td>0.978410</td>\n",
       "      <td>00:00</td>\n",
       "    </tr>\n",
       "    <tr>\n",
       "      <td>19</td>\n",
       "      <td>0.018107</td>\n",
       "      <td>0.025977</td>\n",
       "      <td>0.978901</td>\n",
       "      <td>00:00</td>\n",
       "    </tr>\n",
       "    <tr>\n",
       "      <td>20</td>\n",
       "      <td>0.017777</td>\n",
       "      <td>0.025479</td>\n",
       "      <td>0.978901</td>\n",
       "      <td>00:00</td>\n",
       "    </tr>\n",
       "    <tr>\n",
       "      <td>21</td>\n",
       "      <td>0.017473</td>\n",
       "      <td>0.025022</td>\n",
       "      <td>0.979392</td>\n",
       "      <td>00:00</td>\n",
       "    </tr>\n",
       "    <tr>\n",
       "      <td>22</td>\n",
       "      <td>0.017191</td>\n",
       "      <td>0.024601</td>\n",
       "      <td>0.980373</td>\n",
       "      <td>00:00</td>\n",
       "    </tr>\n",
       "    <tr>\n",
       "      <td>23</td>\n",
       "      <td>0.016927</td>\n",
       "      <td>0.024213</td>\n",
       "      <td>0.980373</td>\n",
       "      <td>00:00</td>\n",
       "    </tr>\n",
       "    <tr>\n",
       "      <td>24</td>\n",
       "      <td>0.016680</td>\n",
       "      <td>0.023855</td>\n",
       "      <td>0.981354</td>\n",
       "      <td>00:00</td>\n",
       "    </tr>\n",
       "    <tr>\n",
       "      <td>25</td>\n",
       "      <td>0.016449</td>\n",
       "      <td>0.023521</td>\n",
       "      <td>0.981354</td>\n",
       "      <td>00:00</td>\n",
       "    </tr>\n",
       "    <tr>\n",
       "      <td>26</td>\n",
       "      <td>0.016230</td>\n",
       "      <td>0.023211</td>\n",
       "      <td>0.981354</td>\n",
       "      <td>00:00</td>\n",
       "    </tr>\n",
       "    <tr>\n",
       "      <td>27</td>\n",
       "      <td>0.016023</td>\n",
       "      <td>0.022922</td>\n",
       "      <td>0.981354</td>\n",
       "      <td>00:00</td>\n",
       "    </tr>\n",
       "    <tr>\n",
       "      <td>28</td>\n",
       "      <td>0.015827</td>\n",
       "      <td>0.022653</td>\n",
       "      <td>0.981845</td>\n",
       "      <td>00:00</td>\n",
       "    </tr>\n",
       "    <tr>\n",
       "      <td>29</td>\n",
       "      <td>0.015641</td>\n",
       "      <td>0.022401</td>\n",
       "      <td>0.981845</td>\n",
       "      <td>00:00</td>\n",
       "    </tr>\n",
       "    <tr>\n",
       "      <td>30</td>\n",
       "      <td>0.015463</td>\n",
       "      <td>0.022165</td>\n",
       "      <td>0.981845</td>\n",
       "      <td>00:00</td>\n",
       "    </tr>\n",
       "    <tr>\n",
       "      <td>31</td>\n",
       "      <td>0.015294</td>\n",
       "      <td>0.021944</td>\n",
       "      <td>0.983317</td>\n",
       "      <td>00:00</td>\n",
       "    </tr>\n",
       "    <tr>\n",
       "      <td>32</td>\n",
       "      <td>0.015132</td>\n",
       "      <td>0.021736</td>\n",
       "      <td>0.982826</td>\n",
       "      <td>00:00</td>\n",
       "    </tr>\n",
       "    <tr>\n",
       "      <td>33</td>\n",
       "      <td>0.014977</td>\n",
       "      <td>0.021541</td>\n",
       "      <td>0.982826</td>\n",
       "      <td>00:00</td>\n",
       "    </tr>\n",
       "    <tr>\n",
       "      <td>34</td>\n",
       "      <td>0.014828</td>\n",
       "      <td>0.021357</td>\n",
       "      <td>0.982336</td>\n",
       "      <td>00:00</td>\n",
       "    </tr>\n",
       "    <tr>\n",
       "      <td>35</td>\n",
       "      <td>0.014686</td>\n",
       "      <td>0.021184</td>\n",
       "      <td>0.982336</td>\n",
       "      <td>00:00</td>\n",
       "    </tr>\n",
       "    <tr>\n",
       "      <td>36</td>\n",
       "      <td>0.014549</td>\n",
       "      <td>0.021019</td>\n",
       "      <td>0.982336</td>\n",
       "      <td>00:00</td>\n",
       "    </tr>\n",
       "    <tr>\n",
       "      <td>37</td>\n",
       "      <td>0.014417</td>\n",
       "      <td>0.020864</td>\n",
       "      <td>0.982336</td>\n",
       "      <td>00:00</td>\n",
       "    </tr>\n",
       "    <tr>\n",
       "      <td>38</td>\n",
       "      <td>0.014290</td>\n",
       "      <td>0.020716</td>\n",
       "      <td>0.982336</td>\n",
       "      <td>00:00</td>\n",
       "    </tr>\n",
       "    <tr>\n",
       "      <td>39</td>\n",
       "      <td>0.014168</td>\n",
       "      <td>0.020576</td>\n",
       "      <td>0.982336</td>\n",
       "      <td>00:00</td>\n",
       "    </tr>\n",
       "  </tbody>\n",
       "</table>"
      ],
      "text/plain": [
       "<IPython.core.display.HTML object>"
      ]
     },
     "metadata": {},
     "output_type": "display_data"
    }
   ],
   "source": [
    "learn.fit(40, 0.1)"
   ]
  },
  {
   "cell_type": "markdown",
   "metadata": {
    "id": "6jqgPhVtLG-t"
   },
   "source": [
    "* At this point we did everything we can to improve the model performane, and we got an accuracy of `982826`, which is very solid number.\n",
    "* from here on, all we can do is looking inside our model and understand the mechanic of it in each steps"
   ]
  },
  {
   "cell_type": "code",
   "execution_count": 130,
   "metadata": {
    "id": "eqnobirIKCPL"
   },
   "outputs": [],
   "source": [
    "# we can see the architecture of the model\n",
    "m =learn.model"
   ]
  },
  {
   "cell_type": "markdown",
   "metadata": {
    "id": "IZt8sno2GV07"
   },
   "source": [
    "* As expected the model architecture contains 2 layers and a non-linear function in-between."
   ]
  },
  {
   "cell_type": "code",
   "execution_count": 131,
   "metadata": {
    "colab": {
     "base_uri": "https://localhost:8080/"
    },
    "id": "ZvjDCyaRLn-C",
    "outputId": "f1ac4c80-b0e1-4c0b-c4f6-70c257cfd28e"
   },
   "outputs": [
    {
     "data": {
      "text/plain": [
       "Sequential(\n",
       "  (0): Linear(in_features=784, out_features=30, bias=True)\n",
       "  (1): ReLU()\n",
       "  (2): Linear(in_features=30, out_features=1, bias=True)\n",
       ")"
      ]
     },
     "execution_count": 131,
     "metadata": {},
     "output_type": "execute_result"
    }
   ],
   "source": [
    "m"
   ]
  },
  {
   "cell_type": "markdown",
   "metadata": {
    "id": "Xb6H_GJiGo2t"
   },
   "source": [
    "* We could also see what did the model learn in each layer"
   ]
  },
  {
   "cell_type": "code",
   "execution_count": 133,
   "metadata": {
    "id": "QWIp2iGkV-wN"
   },
   "outputs": [],
   "source": [
    "w, b= m[0].parameters()"
   ]
  },
  {
   "cell_type": "code",
   "execution_count": 137,
   "metadata": {
    "colab": {
     "base_uri": "https://localhost:8080/",
     "height": 102
    },
    "id": "3EvV66vY8cNh",
    "outputId": "1f7116c4-6d7a-4bdc-8d84-abe7339cae33"
   },
   "outputs": [
    {
     "data": {
      "text/plain": [
       "<matplotlib.axes._subplots.AxesSubplot at 0x7eff5bce6210>"
      ]
     },
     "execution_count": 137,
     "metadata": {},
     "output_type": "execute_result"
    },
    {
     "data": {
      "image/png": "[encoded data removed]",
      "text/plain": [
       "<Figure size 72x72 with 1 Axes>"
      ]
     },
     "metadata": {
      "needs_background": "light"
     },
     "output_type": "display_data"
    }
   ],
   "source": [
    "show_image(w[22].view(28,28))"
   ]
  },
  {
   "cell_type": "code",
   "execution_count": null,
   "metadata": {
    "id": "fLevsOpGF7Zr"
   },
   "outputs": [],
   "source": []
  }
 ],
 "metadata": {
  "colab": {
   "collapsed_sections": [],
   "provenance": []
  },
  "gpuClass": "standard",
  "kernelspec": {
   "display_name": "Python 3 (ipykernel)",
   "language": "python",
   "name": "python3"
  },
  "language_info": {
   "codemirror_mode": {
    "name": "ipython",
    "version": 3
   },
   "file_extension": ".py",
   "mimetype": "text/x-python",
   "name": "python",
   "nbconvert_exporter": "python",
   "pygments_lexer": "ipython3",
   "version": "3.10.6"
  }
 },
 "nbformat": 4,
 "nbformat_minor": 1
}

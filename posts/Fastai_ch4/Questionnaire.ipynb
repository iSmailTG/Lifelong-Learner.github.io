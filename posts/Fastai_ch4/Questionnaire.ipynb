{
 "cells": [
  {
   "cell_type": "raw",
   "id": "b5f7b1e6-696b-4e70-bcb4-22545c23335c",
   "metadata": {},
   "source": [
    "---\n",
    "title: \"Chapter 4: Questionnaire \"\n",
    "author: \"Ismail TG\"\n",
    "date: \"10/26/2022\"\n",
    "categories: [Fastai, Pytorch, Deep Learning]\n",
    "image: \"fastai-book-2.jpg\"\n",
    "---"
   ]
  },
  {
   "cell_type": "markdown",
   "id": "50f783a2-9912-412e-b3ec-23cb2361bedc",
   "metadata": {},
   "source": [
    "## Questionnaire"
   ]
  },
  {
   "cell_type": "markdown",
   "id": "54fd79a5-2b57-433c-8648-d9cf612c2910",
   "metadata": {},
   "source": [
    "Q1:  \n",
    "**How is a grayscale image represented on a computer? How about a color image?**\n",
    "___\n",
    "* Grayscale image is way of turning an array/tensor to grayscale value on each pixel of that image, the values went from 0 to 256, the darker the pixel the closer to 256."
   ]
  },
  {
   "cell_type": "markdown",
   "id": "53ce03f9-aa3c-4ef5-b2b5-285d0d278941",
   "metadata": {},
   "source": [
    "Q2:  \n",
    "**How are the files and folders in the MNIST_SAMPLE dataset structured? Why?**  \n",
    "___  \n",
    "* `MNIST_SAMPLE` contains two folders `Train` and `Valid`.  \n",
    "* This method of structuring dataset help the community to compare the results between models by setting the same framework.\n"
   ]
  },
  {
   "cell_type": "markdown",
   "id": "f6f7e2e8-9bee-4f98-b12f-b7e343f4ae3c",
   "metadata": {},
   "source": [
    "Q3:  \n",
    "**Explain how the “pixel similarity” approach to classifying digits works.**  \n",
    "___   \n",
    "* First we turn images in tensor, then we stack them together.\n",
    "* we take the mean value of each pixel for all images, this will give us an image that each pixel of it represent the mean of all datset.\n",
    "* Then we classify images by comparing the mean absolute error between that image and the ideal3/ideal7 and see which return low distance."
   ]
  },
  {
   "cell_type": "markdown",
   "id": "ba39f769-8b0a-4340-bf04-933f0f992e3f",
   "metadata": {},
   "source": [
    "Q4:  \n",
    "**What is a list comprehension? Create one now that selects odd numbers from a list and doubles them.**  \n",
    "___  \n"
   ]
  },
  {
   "cell_type": "code",
   "execution_count": 1,
   "id": "0d692ecf-dec3-4e29-bafd-25b6b3850f4e",
   "metadata": {},
   "outputs": [
    {
     "data": {
      "text/plain": [
       "[2, 6, 10, 62, 34]"
      ]
     },
     "execution_count": 1,
     "metadata": {},
     "output_type": "execute_result"
    }
   ],
   "source": [
    "# list with odd and even numbers\n",
    "lisst =  [1, 2, 3, 4, 5, 31, 17, 70]\n",
    "# using list-comprehension to select only odd numbers\n",
    "double_odd = [2*i for i in lisst if i%2==1]\n",
    "double_odd"
   ]
  },
  {
   "cell_type": "markdown",
   "id": "66905a5a-1b53-4203-8125-0b418769101b",
   "metadata": {},
   "source": [
    "Q5:  \n",
    "**What is a \"rank-3 tensor\"?**  \n",
    "___\n",
    "* It's a tensor with 3 dimensions, each can be represented as an array (array of array of array), it's basically a cube.\n"
   ]
  },
  {
   "cell_type": "markdown",
   "id": "7d48520e-64ef-4693-81e2-2596d4eafb21",
   "metadata": {},
   "source": [
    "Q6:  \n",
    "**What is the difference between tensor rank and shape? How do you get the rank from the shape?**  \n",
    "____  \n",
    "* Rank represent the dimesion of the tensorm while shape tells how many elemen there's in each dimension."
   ]
  },
  {
   "cell_type": "markdown",
   "id": "cb28b490-fa60-4e3b-881d-340ad98015e0",
   "metadata": {},
   "source": [
    "Q7:  \n",
    "**What are RMSE and L1 norm?**  \n",
    "___  \n",
    "* `RMSE` also called L2 stands dor Root Mean Square Error, while `L1` is Least Absolute Error.\n",
    "* This functions are basically the same, we used them to measure distance."
   ]
  },
  {
   "cell_type": "markdown",
   "id": "07ac04c7-d38a-4789-805d-967aef682333",
   "metadata": {},
   "source": [
    "Q9:  \n",
    "**Create a 3x3 tensor or array containing the numbers from 1 to 9. Double it. Select the bottom right 4 numbers.**  \n",
    "___   \n",
    "\n"
   ]
  },
  {
   "cell_type": "code",
   "execution_count": 2,
   "id": "c0515928-929d-4d01-88d6-0273d4548b83",
   "metadata": {},
   "outputs": [],
   "source": [
    "import torch"
   ]
  },
  {
   "cell_type": "code",
   "execution_count": 3,
   "id": "b55b0167-7fa0-4eca-ae43-bdd6eaebefdb",
   "metadata": {},
   "outputs": [
    {
     "data": {
      "text/plain": [
       "tensor([[1., 2., 3.],\n",
       "        [4., 5., 6.],\n",
       "        [7., 8., 9.]])"
      ]
     },
     "execution_count": 3,
     "metadata": {},
     "output_type": "execute_result"
    }
   ],
   "source": [
    "r3_tens = torch.Tensor(list(range(1,10))).view(3,3)\n",
    "r3_tens"
   ]
  },
  {
   "cell_type": "code",
   "execution_count": 4,
   "id": "47b5b3e2-97ef-4492-a8b5-35276ef5b307",
   "metadata": {},
   "outputs": [
    {
     "data": {
      "text/plain": [
       "tensor([[ 2.,  4.,  6.],\n",
       "        [ 8., 10., 12.],\n",
       "        [14., 16., 18.]])"
      ]
     },
     "execution_count": 4,
     "metadata": {},
     "output_type": "execute_result"
    }
   ],
   "source": [
    "double_tens= 2*r3_tens\n",
    "double_tens\n"
   ]
  },
  {
   "cell_type": "code",
   "execution_count": 5,
   "id": "faf9c1d8-e523-4b17-b90c-6fc778605359",
   "metadata": {},
   "outputs": [
    {
     "data": {
      "text/plain": [
       "tensor([[10., 12.],\n",
       "        [16., 18.]])"
      ]
     },
     "execution_count": 5,
     "metadata": {},
     "output_type": "execute_result"
    }
   ],
   "source": [
    "double_tens[1:, 1:]"
   ]
  },
  {
   "cell_type": "markdown",
   "id": "44be0dbc-e254-4367-96b7-3a6af132940f",
   "metadata": {},
   "source": [
    "Q10:  \n",
    "**What is broadcasting?**  \n",
    "___   \n",
    "* It refers to mathematical operation between different dimensions arrays and tensors."
   ]
  },
  {
   "cell_type": "markdown",
   "id": "205059a2-5651-4a04-8c44-360bdab0eff2",
   "metadata": {},
   "source": [
    "Q11:  \n",
    "**Are metrics generally calculated using the training set, or the validation set? Why?**   \n",
    "_____\n",
    "* Metrics are calculated on validation set, so we have good measure of the model performance.\n"
   ]
  },
  {
   "cell_type": "markdown",
   "id": "76166df9-223c-4375-b915-b5c787f0c898",
   "metadata": {},
   "source": [
    "Q12&13:  \n",
    "\n",
    "**What is SGD?**  \n",
    "**Why does SGD use mini-batches?**  \n",
    "____\n",
    "* SGD or Stochastic Gradient Descent is an optimization function that help us to update weights and minimize the loss.\n",
    "* SGD updates gradients after each mini batch, otherwise it will take a lot of time if we decide to update the gradients after going through all the dataset, or the model won't learn much if we decide to updates the gradients after each data point.\n"
   ]
  },
  {
   "cell_type": "markdown",
   "id": "6a9cec55-338f-437d-b1ec-080a292bd556",
   "metadata": {},
   "source": [
    "Q14:  \n",
    "**What are the seven steps in SGD for machine learning?**  \n",
    "___  \n",
    "* Initialize the parameters\n",
    "* Calculate the predictions\n",
    "* Calculate the loss\n",
    "* Calculate the gradients\n",
    "* Step the weights\n",
    "* Redo the whole process from step 2\n",
    "* Stop"
   ]
  },
  {
   "cell_type": "markdown",
   "id": "8ec36aa2-f686-4258-8e7d-c2a4230b2d42",
   "metadata": {},
   "source": [
    "Q15:  \n",
    "**How do we initialize the weights in a model?**  \n",
    "___  \n",
    "* Usually we initialize weights by picking random values"
   ]
  },
  {
   "cell_type": "markdown",
   "id": "b053c217-5e7b-4483-afcb-4cf5b4d42d5e",
   "metadata": {},
   "source": [
    "Q16:  \n",
    "**What is \"loss\"?**  \n",
    "___   \n",
    "* The loss is function that uses the model in order to optimizes it's predictions"
   ]
  },
  {
   "cell_type": "markdown",
   "id": "3c7f28b2-5ef0-4c1d-87ff-8050822ef706",
   "metadata": {},
   "source": [
    "Q17:  \n",
    "**What's the gradients?**  \n",
    "___   \n",
    "* The gradients are values that dictate how much should we change the weights in order to minimize the loss"
   ]
  },
  {
   "cell_type": "markdown",
   "id": "08eac055-9ca6-4cd0-9996-cbb368693661",
   "metadata": {},
   "source": [
    "Q18:  \n",
    "**Why can't we always use a high learning rate?**  \n",
    "___  \n",
    "* Picking a large learning rate will get the loss worse."
   ]
  },
  {
   "cell_type": "markdown",
   "id": "6ca10841-2a89-4254-b50f-ae105e20a283",
   "metadata": {},
   "source": [
    "Q19:  \n",
    "**Do you need to know how to calculate gradients yourself?**\n",
    "___  \n",
    "* It's important to understand the math behind each concept in Deep Learning, but we don't need to do everything by ourself, we could use frameworks like pytorch and fastai."
   ]
  },
  {
   "cell_type": "markdown",
   "id": "d5fceeba-87ef-4efc-8a26-cd28a1128bf4",
   "metadata": {},
   "source": [
    "Q20:  \n",
    "**Why can't we use accuracy as a loss function?**  \n",
    "___  \n",
    "* Loss function changes as the weights changes, but the accuracy only changes when the predictions change."
   ]
  },
  {
   "cell_type": "markdown",
   "id": "f170c161-97e5-417d-a011-084ec2791296",
   "metadata": {},
   "source": [
    "Q21:  \n",
    "**Draw the sigmoid function. What is special about its shape?**  \n",
    "___  \n",
    "* Sigmoid takes an input and return a number always between 0 and 1."
   ]
  },
  {
   "cell_type": "code",
   "execution_count": 6,
   "id": "2052eff3-7e75-443d-9d02-b40315b2242f",
   "metadata": {},
   "outputs": [],
   "source": [
    "def sigmoid(x): return 1/(1+torch.exp(-x))"
   ]
  },
  {
   "cell_type": "code",
   "execution_count": 7,
   "id": "78013ca9-d9c5-4bb2-bec3-f98730f64033",
   "metadata": {},
   "outputs": [],
   "source": [
    "from fastbook import *\n",
    "from fastai.vision.widgets import *\n"
   ]
  },
  {
   "cell_type": "code",
   "execution_count": 8,
   "id": "4a5e4911-d298-4a6b-9479-a3f9dbdfe8a0",
   "metadata": {},
   "outputs": [
    {
     "data": {
      "image/png": "[encoded data removed]",
      "text/plain": [
       "<Figure size 600x400 with 1 Axes>"
      ]
     },
     "metadata": {},
     "output_type": "display_data"
    }
   ],
   "source": [
    "plot_function(torch.sigmoid, title='Sigmoid', min=-4, max=4)"
   ]
  },
  {
   "cell_type": "markdown",
   "id": "2cd0eb91-cd60-43fb-9d5b-b9a08980076e",
   "metadata": {},
   "source": [
    "Q22:  \n",
    "**What is the difference between a loss function and a metric?**  \n",
    "___  \n",
    "* Loss is what model uses to optimize the predidictions, while metrics is what we (the ML practitioner) use to understand the performance of the model."
   ]
  },
  {
   "cell_type": "markdown",
   "id": "e2226482-42bf-4fdc-a890-1bc22ada911b",
   "metadata": {},
   "source": [
    "Q23:  \n",
    "**What is the function to calculate new weights using a learning rate?**  \n",
    "___  \n",
    "* The optimizer function"
   ]
  },
  {
   "cell_type": "markdown",
   "id": "b8e8b4f7-0aed-44f0-85d6-edcb86a7dd64",
   "metadata": {},
   "source": [
    "Q24:  \n",
    "**What does the `DataLoader` class do?**  \n",
    "___\n",
    "* Can be used to iterate through data, create batches, transform data.."
   ]
  },
  {
   "cell_type": "markdown",
   "id": "9d21fee0-f1f5-47f6-9dfa-fc98e7020e3c",
   "metadata": {},
   "source": [
    "Q25:  \n",
    "**Write pseudocode showing the basic steps taken in each epoch for SGD.**  \n",
    "____  \n",
    "\n",
    "```\n",
    "\n",
    "predictions = linear_model(x)\n",
    "loss = mnist_loss(predictions, y)\n",
    "loss.backward()\n",
    "for parameter in parameters:\n",
    "    parameter.data -= parameter.grad.data * learning_rate\n",
    "    parameter.grad = None\n",
    "```\n",
    "\n"
   ]
  },
  {
   "cell_type": "markdown",
   "id": "bd387972-6621-449c-9d56-34f108c68c79",
   "metadata": {},
   "source": [
    "Q26:  \n",
    "**Create a function which, if passed two arguments [1,2,3,4] and ‘abcd’ , returns [(1, ‘a’), (2, ‘b’), (3, ‘c’), (4, ‘d’)] . What is special about that output data structure?**  \n",
    "___   \n",
    "\n",
    "* This kind of datascructure is convinient for machine learning where we need to iterate through dataset.\n"
   ]
  },
  {
   "cell_type": "code",
   "execution_count": 9,
   "id": "889ce404-2e2f-4517-b59d-147010fbee42",
   "metadata": {},
   "outputs": [
    {
     "data": {
      "text/plain": [
       "[(1, 'a'), (2, 'b'), (3, 'c'), (4, 'd')]"
      ]
     },
     "execution_count": 9,
     "metadata": {},
     "output_type": "execute_result"
    }
   ],
   "source": [
    "inputs = [1, 2, 3, 4]\n",
    "labels = ['a', 'b', 'c', 'd']\n",
    "def data_func(xb, yb):\n",
    "    return list(zip(xb, yb))\n",
    "data_func(inputs, labels)\n"
   ]
  },
  {
   "cell_type": "markdown",
   "id": "a419e20c-7aa6-441c-aa5b-22acf425e3f2",
   "metadata": {},
   "source": [
    "Q27:  \n",
    "**What does view in Pytorch do?**\n",
    "____  \n",
    "* It changes the shape of the tensor without changing it content."
   ]
  },
  {
   "cell_type": "markdown",
   "id": "1e8fbd62-4f4e-4071-bcc0-1245d35985f4",
   "metadata": {},
   "source": [
    "Q28:  \n",
    "**What are the \"bias\" parameters in a neural network? Why do we need them?**  \n",
    "___  \n",
    "* Bias allow us to all kind of multiplications without thinking if the inputs are zero in some cases."
   ]
  },
  {
   "cell_type": "markdown",
   "id": "d8555116-c900-4108-9364-635d4096c66c",
   "metadata": {},
   "source": [
    "Q29:  \n",
    "**What does the `@` operator do in Python?**  \n",
    "___  \n",
    "* In python `@` is used to do matrix multiplication."
   ]
  },
  {
   "cell_type": "markdown",
   "id": "a647eac0-63ef-443f-b527-495c8076641b",
   "metadata": {},
   "source": [
    "Q30:  \n",
    "**What does the `backward` method do?**  \n",
    "___\n",
    "* Backward tells pytorch to calculate the change in the gradients at that point"
   ]
  },
  {
   "cell_type": "markdown",
   "id": "27ff9b6a-dc3f-41f6-abbe-6b0a3876451c",
   "metadata": {},
   "source": [
    "Q31:  \n",
    "**Why do we have to zero the gradients?**  \n",
    "___\n",
    "* zero gradients tell pytorch to not track the changes in gradients while we updates the weights."
   ]
  },
  {
   "cell_type": "markdown",
   "id": "da38df9e-d84c-4f7b-9ab7-2958dfdeeb56",
   "metadata": {},
   "source": [
    "Q32:  \n",
    "**What information do we have to pass to `Learner`?**  \n",
    "___\n",
    "* things we pass to `Learner` :\n",
    "  - DataLoaders\n",
    "  - architecture\n",
    "  - loss_func\n",
    "  - metrics"
   ]
  },
  {
   "cell_type": "markdown",
   "id": "657daf6e-9892-47db-98df-1b1d4698ff48",
   "metadata": {},
   "source": [
    "Q33:  \n",
    "**Show Python or pseudocode for the basic steps of a training loop.**  \n",
    "____\n",
    "```\n",
    "\n",
    "\n",
    "    def train_epoch(model, lr, params):\n",
    "        for xb,yb in dl:\n",
    "            calc_grad(xb, yb, model)\n",
    "            for p in params:\n",
    "                p.data -= p.grad*lr\n",
    "                p.grad.zero_()\n",
    "    for i in range(5):\n",
    "        train_epoch(model, lr, params)\n",
    "\n",
    "\n",
    "```"
   ]
  },
  {
   "cell_type": "markdown",
   "id": "a20c91e3-a28c-4396-8112-eb3e1d9e7a05",
   "metadata": {},
   "source": [
    "Q34:  \n",
    "**What is \"ReLU\"? Draw a plot of it for values from `-2` to `+2`.**  \n",
    "___\n",
    "* ReLU stands from Rectified Linear Unit. This non-linear finction return any negative activations into zero.\n",
    "![relu](q1.png)"
   ]
  },
  {
   "cell_type": "code",
   "execution_count": null,
   "id": "4bf7404c-83fe-46e8-a588-224d3511d3cb",
   "metadata": {},
   "outputs": [],
   "source": []
  },
  {
   "cell_type": "markdown",
   "id": "5aa1e181-d4d4-40ec-a000-3d2a35a110fa",
   "metadata": {},
   "source": [
    "Q35:  \n",
    "**What is an \"activation function\"?**  \n",
    "___\n",
    "* An activation function is a non-linear function that takes the outputs activations fron one layer of the neural network as inputs and output it after some kind of computation to another layer o NN."
   ]
  },
  {
   "cell_type": "code",
   "execution_count": null,
   "id": "6ab9064e-79f1-49c0-8df3-d8e0cdb48e12",
   "metadata": {},
   "outputs": [],
   "source": []
  }
 ],
 "metadata": {
  "kernelspec": {
   "display_name": "Python 3 (ipykernel)",
   "language": "python",
   "name": "python3"
  },
  "language_info": {
   "codemirror_mode": {
    "name": "ipython",
    "version": 3
   },
   "file_extension": ".py",
   "mimetype": "text/x-python",
   "name": "python",
   "nbconvert_exporter": "python",
   "pygments_lexer": "ipython3",
   "version": "3.10.6"
  }
 },
 "nbformat": 4,
 "nbformat_minor": 5
}

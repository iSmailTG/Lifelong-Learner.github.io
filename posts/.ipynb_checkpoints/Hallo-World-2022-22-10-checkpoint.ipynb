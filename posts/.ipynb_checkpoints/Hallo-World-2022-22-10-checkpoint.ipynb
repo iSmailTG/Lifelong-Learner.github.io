{
 "cells": [
  {
   "cell_type": "markdown",
   "id": "a9ad7248-0739-4f51-addb-0da6871aa1e3",
   "metadata": {},
   "source": [
    "---\n",
    "title: \"Hello World\"  \n",
    "author: \"Your Name\"  \n",
    "date: \"2022-10-22\"  \n",
    "---"
   ]
  },
  {
   "cell_type": "markdown",
   "id": "aa4ee12a-8345-4db9-911e-37fe42a4cddd",
   "metadata": {},
   "source": [
    "print('hallo world!')"
   ]
  },
  {
   "cell_type": "code",
   "execution_count": 2,
   "id": "0badec05-c176-40ea-88a5-90e6eb08f9d1",
   "metadata": {},
   "outputs": [
    {
     "data": {
      "text/plain": [
       "24"
      ]
     },
     "execution_count": 2,
     "metadata": {},
     "output_type": "execute_result"
    }
   ],
   "source": [
    "22+2"
   ]
  },
  {
   "cell_type": "code",
   "execution_count": null,
   "id": "d221535e-bfb1-4d88-bc06-fb77b166f9fe",
   "metadata": {},
   "outputs": [],
   "source": []
  }
 ],
 "metadata": {
  "kernelspec": {
   "display_name": "Python 3 (ipykernel)",
   "language": "python",
   "name": "python3"
  },
  "language_info": {
   "codemirror_mode": {
    "name": "ipython",
    "version": 3
   },
   "file_extension": ".py",
   "mimetype": "text/x-python",
   "name": "python",
   "nbconvert_exporter": "python",
   "pygments_lexer": "ipython3",
   "version": "3.10.6"
  }
 },
 "nbformat": 4,
 "nbformat_minor": 5
}
